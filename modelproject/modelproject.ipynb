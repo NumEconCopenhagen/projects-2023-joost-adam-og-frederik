{
 "cells": [
  {
   "attachments": {},
   "cell_type": "markdown",
   "metadata": {},
   "source": [
    "# Modeling the IS/LM economic model"
   ]
  },
  {
   "attachments": {},
   "cell_type": "markdown",
   "metadata": {},
   "source": [
    "> **Note the following:** \n",
    "> 1. This is *not* meant to be an example of an actual **model analysis project**, just an example of how to structure such a project.\n",
    "> 1. Remember the general advice on structuring and commenting your code\n",
    "> 1. The `modelproject.py` file includes a function which could be used multiple times in this notebook."
   ]
  },
  {
   "attachments": {},
   "cell_type": "markdown",
   "metadata": {},
   "source": [
    "Imports and set magics:"
   ]
  },
  {
   "cell_type": "code",
   "execution_count": 1,
   "metadata": {},
   "outputs": [],
   "source": [
    "import numpy as np\n",
    "from scipy import optimize\n",
    "import sympy as sm\n",
    "import ipywidgets as widgets\n",
    "import matplotlib.pyplot as plt\n",
    "from types import SimpleNamespace\n",
    "\n",
    "# autoreload modules when code is run\n",
    "%load_ext autoreload\n",
    "%autoreload 2\n",
    "\n",
    "# local modules\n",
    "import modelproject\n",
    "from modelproject import OLG_Model"
   ]
  },
  {
   "attachments": {},
   "cell_type": "markdown",
   "metadata": {},
   "source": [
    "# Model description"
   ]
  },
  {
   "attachments": {},
   "cell_type": "markdown",
   "metadata": {},
   "source": [
    "**Write out the model in equations here.** \n",
    "\n",
    "Make sure you explain well the purpose of the model and comment so that other students who may not have seen it before can follow. \n",
    "\n",
    "We have chosen to work with an OLG model with a Pay-As-You-Go (PAYG) system, where the agents live for two periods. \n",
    "\n",
    "We assume time $t$ to be discrete. That is, $t \\in\\{0, 1, 2,\\dots\\}$\n",
    "\n",
    "Further, we assume the population $N$ to be constant\n",
    "\n",
    "In period $t$ the agents work and save income, while they live off of their savings in period $t+1$ \n",
    "\n",
    "Consumption when young is given as: $C_{1t}$\n",
    "\n",
    "Consumption when old is given as: $C_{2t+1}$\n",
    "\n",
    "Identical competitive firms maximize their profit function: $\\pi_t = AK_{t}^{\\alpha}L_{t}^{1-\\alpha}-\\omega_tL_t-r_tK_t$\n",
    "\n",
    "$r_t$ is the interest rate for borrowing capital, $\\omega_t$ is the wage rate, and $K_t$ and $L_t$ are capital and labor employed by the firms. $A>0$ denotes productivity. It is assumed that capital fully depreciates, and that $\\alpha \\in(0,1)$.\n",
    "\n",
    "Young agents work one unit of time so their labor income is equal to the wage rate. Old agents provide consumption through private savings $s_t$ and social security benefits.\n",
    "\n",
    "Each household contributes a fraction $0<\\tau<1$ of their income, which is transfered to the old. Thus, $\\tau\\omega_{t}$ denotes the benefits received by the old in period $t$\n",
    "\n",
    "The utility function for the agents is given as: $U_t=\\ln c_{1t}+\\beta\\ln c_{2t+1}$\n",
    "\n",
    "Budget constraints are given as:\n",
    "\n",
    "$c_{1t}+s_{t}=(1-\\tau)\\omega_{t}$\n",
    "\n",
    "$c_{2t+1}=s_{t}r_{t+1}+\\tau\\omega_{t+1}$\n",
    "\n",
    "The maximization problem of the young agent in period $t$ becomes:\n",
    "\n",
    "\\begin{align}\n",
    "\\max_{c_{1t}, c_{2t+1}} U_t(c_{1t},c_{2t+1}) & = \\log(c_{1t})+ \\beta \\log(c_{2t+1})\\\\\n",
    "\\text{s.t.} \\quad c_{1t} & = (1-\\tau)w_t -s_t \\\\\n",
    "c_{2t+1} & = s_t r_{t+1}+\\tau\\omega_{t+1}.\\\\\n",
    "\\end{align}"
   ]
  },
  {
   "attachments": {},
   "cell_type": "markdown",
   "metadata": {},
   "source": [
    "## Analytical solution"
   ]
  },
  {
   "attachments": {},
   "cell_type": "markdown",
   "metadata": {},
   "source": [
    "If your model allows for an analytical solution, you should provide here.\n",
    "\n",
    "You may use Sympy for this. Then you can characterize the solution as a function of a parameter of the model.\n",
    "\n",
    "To characterize the solution, first derive a steady state equation as a function of a parameter using Sympy.solve and then turn it into a python function by Sympy.lambdify. See the lecture notes for details. "
   ]
  },
  {
   "attachments": {},
   "cell_type": "markdown",
   "metadata": {},
   "source": [
    "## Numerical solution"
   ]
  },
  {
   "cell_type": "code",
   "execution_count": 2,
   "metadata": {},
   "outputs": [
    {
     "ename": "NameError",
     "evalue": "name 'OLGModelClass' is not defined",
     "output_type": "error",
     "traceback": [
      "\u001b[0;31m---------------------------------------------------------------------------\u001b[0m",
      "\u001b[0;31mNameError\u001b[0m                                 Traceback (most recent call last)",
      "\u001b[0;32m/var/folders/qn/m3hbpy256cs_8mfcpffzgvzr0000gn/T/ipykernel_2915/1500111253.py\u001b[0m in \u001b[0;36m<module>\u001b[0;34m\u001b[0m\n\u001b[0;32m----> 1\u001b[0;31m \u001b[0mmodel\u001b[0m \u001b[0;34m=\u001b[0m \u001b[0mOLGModelClass\u001b[0m\u001b[0;34m(\u001b[0m\u001b[0;34m)\u001b[0m\u001b[0;34m\u001b[0m\u001b[0;34m\u001b[0m\u001b[0m\n\u001b[0m\u001b[1;32m      2\u001b[0m \u001b[0mpar\u001b[0m \u001b[0;34m=\u001b[0m \u001b[0mmodel\u001b[0m\u001b[0;34m.\u001b[0m\u001b[0mpar\u001b[0m \u001b[0;31m# SimpeNamespace\u001b[0m\u001b[0;34m\u001b[0m\u001b[0;34m\u001b[0m\u001b[0m\n\u001b[1;32m      3\u001b[0m \u001b[0msim\u001b[0m \u001b[0;34m=\u001b[0m \u001b[0mmodel\u001b[0m\u001b[0;34m.\u001b[0m\u001b[0msim\u001b[0m \u001b[0;31m# SimpeNamespace\u001b[0m\u001b[0;34m\u001b[0m\u001b[0;34m\u001b[0m\u001b[0m\n\u001b[1;32m      4\u001b[0m \u001b[0;34m\u001b[0m\u001b[0m\n\u001b[1;32m      5\u001b[0m \u001b[0;31m# a. production\u001b[0m\u001b[0;34m\u001b[0m\u001b[0;34m\u001b[0m\u001b[0m\n",
      "\u001b[0;31mNameError\u001b[0m: name 'OLGModelClass' is not defined"
     ]
    }
   ],
   "source": [
    "model = OLGModelClass()\n",
    "par = model.par # SimpeNamespace\n",
    "sim = model.sim # SimpeNamespace\n",
    "\n",
    "# a. production\n",
    "par.production_function = 'cobb-douglas'\n",
    "par.theta = 0.0\n",
    "\n",
    "# c. government\n",
    "par.tau_w = 0.0\n",
    "par.tau_r = 0.0\n",
    "\n",
    "# d. initial values\n",
    "K_ss = ((1-par.alpha)/((1+1.0/par.beta)))**(1/(1-par.alpha))\n",
    "par.K_lag_ini = K_ss"
   ]
  },
  {
   "attachments": {},
   "cell_type": "markdown",
   "metadata": {},
   "source": [
    "You can always solve a model numerically. \n",
    "\n",
    "Define first the set of parameters you need. \n",
    "\n",
    "Then choose one of the optimization algorithms that we have gone through in the lectures based on what you think is most fitting for your model.\n",
    "\n",
    "Are there any problems with convergence? Does the model converge for all starting values? Make a lot of testing to figure these things out. "
   ]
  },
  {
   "cell_type": "code",
   "execution_count": null,
   "metadata": {},
   "outputs": [],
   "source": [
    "# a. plotting figure\n",
    "fig = plt.figure(figsize=(6,6/1.5))\n",
    "ax = fig.add_subplot(1,1,1)\n",
    "\n",
    "# b. model without tax\n",
    "par.tau_w=0.0\n",
    "par.K_lag_ini = 0.172\n",
    "model.simulate(shock=True)\n",
    "baseline = model.sim\n",
    "ax.plot(baseline.K,label='No tax K')\n",
    "\n",
    "# c. specification of figure\n",
    "ax.legend(frameon=True)\n",
    "plt.ylim([0.05, 0.3])\n",
    "plt.xlim([0,10])\n",
    "fig.tight_layout()"
   ]
  },
  {
   "attachments": {},
   "cell_type": "markdown",
   "metadata": {},
   "source": [
    "# Further analysis"
   ]
  },
  {
   "attachments": {},
   "cell_type": "markdown",
   "metadata": {},
   "source": [
    "Make detailed vizualizations of how your model changes with parameter values. \n",
    "\n",
    "Try to make an extension of the model. "
   ]
  },
  {
   "attachments": {},
   "cell_type": "markdown",
   "metadata": {},
   "source": [
    "# Conclusion"
   ]
  },
  {
   "attachments": {},
   "cell_type": "markdown",
   "metadata": {},
   "source": [
    "Add concise conclusion. "
   ]
  }
 ],
 "metadata": {
  "kernelspec": {
   "display_name": "base",
   "language": "python",
   "name": "python3"
  },
  "language_info": {
   "codemirror_mode": {
    "name": "ipython",
    "version": 3
   },
   "file_extension": ".py",
   "mimetype": "text/x-python",
   "name": "python",
   "nbconvert_exporter": "python",
   "pygments_lexer": "ipython3",
   "version": "3.9.13"
  },
  "toc-autonumbering": true,
  "vscode": {
   "interpreter": {
    "hash": "bf9ec1e79c80caa0642abbab8a4c5603f6d3099ed0ddfbaecc490b9c20566038"
   }
  }
 },
 "nbformat": 4,
 "nbformat_minor": 4
}
