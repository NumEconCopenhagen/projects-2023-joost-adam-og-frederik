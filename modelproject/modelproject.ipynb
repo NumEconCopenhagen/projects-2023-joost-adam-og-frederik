{
 "cells": [
  {
   "attachments": {},
   "cell_type": "markdown",
   "metadata": {},
   "source": [
    "# Modelling the OLG Model"
   ]
  },
  {
   "attachments": {},
   "cell_type": "markdown",
   "metadata": {},
   "source": [
    "# Introduction"
   ]
  },
  {
   "attachments": {},
   "cell_type": "markdown",
   "metadata": {},
   "source": [
    "We have chosen to analyze an Overlapping Generations model (**OLG**) in a Pay-As-You-Go (**PAYG**) and Fully Funded system. The OLG-model is widely used to study macroeconomic dynamics and economic growth in an economy.\n",
    "\n",
    "In contrast to e.g., a Ramsey-Cass-Koopman growth model where individuals are infinitely lived, an OLG-model assumes the agents in the economy to be finitely lived. That is, agents live for two \"periods\", first period when they are young and second period, when they are old. This makes the model a bit more realistic from our point of view, and therefore also more interesting to analyze.\n",
    "\n",
    "We employ the OLG-model to find the capital per. capita accumulation and capital per. capita in steady state, as well as the agents' intertemporal substitution elasticity expressed throught the Euler-equation.\n",
    "\n",
    "We will first look at the difference in the capital per. capita accumulation and capital per. capita in steady state between a PAYG and FF system in a simple OLG model. Further we will then make an extension to the simple OLG model, so it includes population growth, to see how the capital per. capita accumulation and capital per. capita in steady state for the PAYG and FF system differentiate from the simple OLG model. Finally, we will look at how the values of the parameters influence the accumulation of capital per. capita and capital per. capita in steady state for the PAYG and FF system."
   ]
  },
  {
   "attachments": {},
   "cell_type": "markdown",
   "metadata": {},
   "source": [
    "Imports and set magics:"
   ]
  },
  {
   "cell_type": "code",
   "execution_count": 310,
   "metadata": {},
   "outputs": [
    {
     "name": "stdout",
     "output_type": "stream",
     "text": [
      "The autoreload extension is already loaded. To reload it, use:\n",
      "  %reload_ext autoreload\n"
     ]
    }
   ],
   "source": [
    "from types import SimpleNamespace\n",
    "from scipy import optimize\n",
    "import numpy as np\n",
    "import sympy as sm\n",
    "import matplotlib.pyplot as plt\n",
    "import ipywidgets as widgets\n",
    "from OLGmodel import OLG_Class\n",
    "\n",
    "\n",
    "# autoreload modules when code is run\n",
    "%load_ext autoreload\n",
    "%autoreload 2\n",
    "\n"
   ]
  },
  {
   "attachments": {},
   "cell_type": "markdown",
   "metadata": {},
   "source": [
    "# Model description"
   ]
  },
  {
   "attachments": {},
   "cell_type": "markdown",
   "metadata": {},
   "source": [
    "**Firms**: In our OLG model the competitive firms are identical and maximize their profits:"
   ]
  },
  {
   "attachments": {},
   "cell_type": "markdown",
   "metadata": {},
   "source": [
    "$$\n",
    "\\begin{aligned}\n",
    "\\pi_t & =\\max_{K_{t},L_t} AK_t^\\alpha L_t^{1-\\alpha}-r_tK_t-w_tL_t\\\\\n",
    "\\end{aligned}\n",
    "$$\n",
    ", where $K_{t}$ is the capital used in production, $L_t$ is the labor employed in the production and $A$ is the technology level (constant). We use a Cobb-Douglas production-function, where $\\alpha$ represents the share of capital used in production, $\\alpha \\in (0, 1)$.\n",
    "\n",
    "We use, that \n",
    "$$\n",
    "\\begin{aligned}\n",
    "\\text{Capital per capita}: k_t & =\\frac{K_t}{L_t} \\\\\n",
    "\\text{Rent}:  r_t & = \\alpha A k_t^{\\alpha-1} \\\\\n",
    "\\text{Wage}: w_t & = (1-\\alpha) A k_t^{\\alpha}\n",
    "\\end{aligned}\n",
    "$$\n",
    "\n",
    "The wage and rent are equal to their respective marginal product "
   ]
  },
  {
   "attachments": {},
   "cell_type": "markdown",
   "metadata": {},
   "source": [
    "**Demographics:** In our OLG model life consists of two periods, $t$ and $t+1$. The households can either be young or old. When they are young they work, and when they are old they do not work. The young households therefore save some share of their wage for them to have when they are old. The population is also constant, so $L_t=L_{t+1}$."
   ]
  },
  {
   "attachments": {},
   "cell_type": "markdown",
   "metadata": {},
   "source": [
    "**Households:** Utility for the young households is:\n",
    "    \n",
    "$$\n",
    "\\begin{aligned}\n",
    "U_t & = \\log(c_{1t})+\\frac{1}{1+\\rho} \\log(c_{2t+1})\\\\\n",
    "\\end{aligned}\n",
    "$$\n",
    ", where $\\rho$ represents the patience of young households between consumption in the first period (when young) and second period (when old). The higher $\\rho$ is the more impatient the young households is, $\\rho \\in (0,1)$."
   ]
  },
  {
   "attachments": {},
   "cell_type": "markdown",
   "metadata": {},
   "source": [
    "**Pension systems:** We implement two different pension systems, PAYG and FF, which affect the budget constraints.\n",
    "\n",
    "In the PAYG system the young households must contribute a share of their wage/income, $\\tau \\in (0,1)$, to the old households, in the same period as them. \n",
    "The following budget constraints is for the Pay As You Go (PAYG) system:\n",
    "$$\n",
    "\\begin{aligned}\n",
    "c_{1t} & = (1-\\tau)w_t-s_t\n",
    "\\\\\n",
    "c_{2t+1} & = (1+r_{t+1})s_t+w_{t+1}\\tau\n",
    "\\end{aligned}\n",
    "$$\n",
    ", where $c_{1t}$ is consumption in the first period (when young) and $c_{2t+1}$ is consumption in the second period (when old). $s_t$ is the savings the young households make, which they will recieve when they are old in the next period. They invest their savings in capital, so they get an interest, $r_{t+1}$, on their savings. \n",
    "\n",
    "In the FF system the young households must contribute a share of their wage/income, $\\tau \\in (0,1)$, but now it is for themselves when they are old in the next period. \n",
    "The following budget constraints is for a Fully Funded (FF) system:\n",
    "$$\n",
    "\\begin{aligned}\n",
    "c_{1t} & = (1-\\tau)w_t-s_t\n",
    "\\\\\n",
    "c_{2t+1} & = (1+r_{t+1})(s_t+w_{t+1}\\tau)\n",
    "\\end{aligned}\n",
    "$$\n",
    ", because the contribution from the young households functions as the saving, they invest the their contribution in capital and receive an interest in the next period, when they are old, just like their savings. We assume the interest for the saving and contribution to be the same.\n"
   ]
  },
  {
   "attachments": {},
   "cell_type": "markdown",
   "metadata": {},
   "source": [
    "**Capital:** We assume that the old spend their entrie savings, so $\\delta = 1 $."
   ]
  },
  {
   "attachments": {},
   "cell_type": "markdown",
   "metadata": {},
   "source": [
    "**Steady state:**\n",
    "\n",
    "1. Find Euler equation\n",
    "2. Find $s_t$ in the Euler equation by inserting the budget constraints, then $r_{t}, r_{t+1}, w_t, w_{t+1}$ and at last isolate $s_t$\n",
    "3. Find capital per. capita accumulation: $k_{t+1}=(1-\\delta)k_t+s_t$ in PAYG and $k_{t+1}=(1-\\delta)k_t+s_t+\\tau w_t$ in FF.\n",
    "4. In steady state $k_{t+1}=k_{t}=k^{*}$"
   ]
  },
  {
   "attachments": {},
   "cell_type": "markdown",
   "metadata": {},
   "source": [
    "## Analytical solutions for PAYG and FF system"
   ]
  },
  {
   "cell_type": "code",
   "execution_count": 311,
   "metadata": {},
   "outputs": [],
   "source": [
    "#define symbols \n",
    "alpha = sm.symbols('alpha')\n",
    "k_t = sm.symbols('k_t')\n",
    "k_t1 = sm.symbols('k_{t+1}')\n",
    "k_ss = sm.symbols('k^*')\n",
    "A = sm.symbols('A')\n",
    "w_t = sm.symbols('w_t')\n",
    "w_t1 = sm.symbols('w_{t+1}') \n",
    "r_t = sm.symbols('r_{t+1}')\n",
    "r_t1 = sm.symbols('r_{t+1}')\n",
    "s_t = sm.symbols('s_t') \n",
    "tau = sm.symbols('tau')\n",
    "c_1t = sm.symbols('c_1t') \n",
    "c_2t = sm.symbols('c_{2t+1}') \n",
    "rho = sm.symbols('rho') \n",
    "lambdaa = sm.symbols('lambda')\n",
    "U_t = sm.symbols('U_t')\n",
    "\n",
    "#define rent and wage in period t and t+1\n",
    "rent_t = alpha*A*k_t**(alpha-1)\n",
    "rent_t1 = alpha*A*k_t1**(alpha-1)\n",
    "wage_t = (1-alpha)*A*k_t**alpha\n",
    "wage_t1 = (1-alpha)*A*k_t1**alpha"
   ]
  },
  {
   "attachments": {},
   "cell_type": "markdown",
   "metadata": {},
   "source": [
    "**Euler equation:**"
   ]
  },
  {
   "cell_type": "code",
   "execution_count": 312,
   "metadata": {},
   "outputs": [
    {
     "name": "stdout",
     "output_type": "stream",
     "text": [
      "Euler equation in the PAYG system:\n"
     ]
    },
    {
     "data": {
      "text/latex": [
       "$\\displaystyle c_{1t} = \\frac{c_{2t+1} \\left(\\rho + 1\\right)}{r_{t+1} + 1}$"
      ],
      "text/plain": [
       "Eq(c_1t, c_{2t+1}*(rho + 1)/(r_{t+1} + 1))"
      ]
     },
     "metadata": {},
     "output_type": "display_data"
    },
    {
     "name": "stdout",
     "output_type": "stream",
     "text": [
      "\n",
      "Euler equation in the FF system:\n"
     ]
    },
    {
     "data": {
      "text/latex": [
       "$\\displaystyle c_{1t} = \\frac{c_{2t+1} \\left(\\rho + 1\\right)}{r_{t+1} + 1}$"
      ],
      "text/plain": [
       "Eq(c_1t, c_{2t+1}*(rho + 1)/(r_{t+1} + 1))"
      ]
     },
     "metadata": {},
     "output_type": "display_data"
    }
   ],
   "source": [
    "#define utility function and budget constraints for PAYG and FF systems\n",
    "u = sm.log(c_1t) + 1/(1+rho)*sm.log(c_2t)\n",
    "con1 = sm.Eq(c_1t+s_t, (1-tau)*w_t)\n",
    "con2_payg = sm.Eq(c_2t, (1+r_t1)*s_t+tau*w_t1)\n",
    "con2_FF = sm.Eq(c_2t, (1+r_t1)*s_t+(1+r_t1)*tau*w_t)\n",
    "\n",
    "#isolate s_t in con2 and substitute it into con1, so we end up with one budget constraint for both systems\n",
    "st_con2_PAYG = sm.solve(con2_payg, s_t)\n",
    "st_con2_FF = sm.solve(con2_FF, s_t)\n",
    "con1_sub_PAYG = con1.subs(s_t, st_con2_PAYG[0])\n",
    "con1_sub_FF = con1.subs(s_t, st_con2_FF[0])\n",
    "\n",
    "# Move right side of budget constraint to the left side for both systems\n",
    "con_final_PAYG = sm.solve(con1_sub_PAYG, (1-tau)*w_t)[0] - (1-tau)*w_t\n",
    "con_final_FF = sm.solve(con1_sub_FF, (1-tau)*w_t)[0] - (1-tau)*w_t\n",
    "\n",
    "\n",
    "#Define lagrangian function with u and con_final for both systems\n",
    "lagrangian_func_PAYG = u - lambdaa*con_final_PAYG\n",
    "lagrangian_func_FF = u - lambdaa*con_final_FF\n",
    "\n",
    "#Take the derivative wrt. c_1t and c_2t for both lagrangian function\n",
    "foc1_PAYG = sm.diff(lagrangian_func_PAYG, c_1t)\n",
    "foc2_PAYG = sm.diff(lagrangian_func_PAYG, c_2t)\n",
    "foc1_FF = sm.diff(lagrangian_func_FF, c_1t)\n",
    "foc2_FF = sm.diff(lagrangian_func_FF, c_2t)\n",
    "\n",
    "#isolate lambda in the derivatives\n",
    "iso_foc1_PAYG = sm.solve(foc1_PAYG,lambdaa)[0]\n",
    "iso_foc2_PAYG = sm.solve(foc2_PAYG,lambdaa)[0]\n",
    "iso_foc1_FF = sm.solve(foc1_FF,lambdaa)[0]\n",
    "iso_foc2_FF = sm.solve(foc2_FF,lambdaa)[0]\n",
    "\n",
    "#set the two isolate lamdaa equal to each other for both systems, so we get two Euler equation\n",
    "euler_PAYG = sm.Eq(iso_foc1_PAYG,iso_foc2_PAYG)\n",
    "final_euler_PAYG = sm.Eq(c_1t,sm.solve(euler_PAYG,c_1t)[0])\n",
    "euler_FF = sm.Eq(iso_foc1_FF,iso_foc2_FF)\n",
    "final_euler_FF = sm.Eq(c_1t,sm.solve(euler_FF,c_1t)[0])\n",
    "\n",
    "print('Euler equation in the PAYG system:')\n",
    "display(final_euler_PAYG)\n",
    "print('')\n",
    "print('Euler equation in the FF system:')\n",
    "display(final_euler_FF)"
   ]
  },
  {
   "attachments": {},
   "cell_type": "markdown",
   "metadata": {},
   "source": [
    "We see that the Euler equation is the same for both the PAYG and FF system"
   ]
  },
  {
   "attachments": {},
   "cell_type": "markdown",
   "metadata": {},
   "source": [
    "**Savings $(s_t)$**: From Euler equation\n"
   ]
  },
  {
   "cell_type": "code",
   "execution_count": 313,
   "metadata": {},
   "outputs": [
    {
     "name": "stdout",
     "output_type": "stream",
     "text": [
      "Savings in the PAYG system:\n"
     ]
    },
    {
     "data": {
      "text/latex": [
       "$\\displaystyle s_{t} = \\frac{- r_{t+1} \\tau w_{t} + r_{t+1} w_{t} - \\rho \\tau w_{t+1} - \\tau w_{t} - \\tau w_{t+1} + w_{t}}{r_{t+1} \\rho + 2 r_{t+1} + \\rho + 2}$"
      ],
      "text/plain": [
       "Eq(s_t, (-r_{t+1}*tau*w_t + r_{t+1}*w_t - rho*tau*w_{t+1} - tau*w_t - tau*w_{t+1} + w_t)/(r_{t+1}*rho + 2*r_{t+1} + rho + 2))"
      ]
     },
     "metadata": {},
     "output_type": "display_data"
    },
    {
     "name": "stdout",
     "output_type": "stream",
     "text": [
      "\n",
      "Savings in the FF system:\n"
     ]
    },
    {
     "data": {
      "text/latex": [
       "$\\displaystyle s_{t} = \\frac{w_{t} \\left(- \\rho \\tau - 2 \\tau + 1\\right)}{\\rho + 2}$"
      ],
      "text/plain": [
       "Eq(s_t, w_t*(-rho*tau - 2*tau + 1)/(rho + 2))"
      ]
     },
     "metadata": {},
     "output_type": "display_data"
    }
   ],
   "source": [
    "#isolate c_1t and c_2t in budget constraints for both systems and substitute it into Euler equation \n",
    "iso_con1 = sm.solve(con1,c_1t)[0]\n",
    "iso_con2_payg = sm.solve(con2_payg,c_2t)[0]\n",
    "iso_con2_FF = sm.solve(con2_FF,c_2t)[0]\n",
    "savings_PAYG = final_euler_PAYG.subs(c_1t,iso_con1).subs(c_2t, iso_con2_payg)\n",
    "savings_FF = final_euler_FF.subs(c_1t,iso_con1).subs(c_2t, iso_con2_FF)\n",
    "\n",
    "#isolate s_t in savings for both systems\n",
    "final_savings_PAYG = sm.Eq(s_t, sm.solve(savings_PAYG,s_t)[0])\n",
    "final_savings_FF = sm.Eq(s_t, sm.solve(savings_FF,s_t)[0])\n",
    "print('Savings in the PAYG system:')\n",
    "display(final_savings_PAYG)\n",
    "print('')\n",
    "print('Savings in the FF system:')\n",
    "display(final_savings_FF)"
   ]
  },
  {
   "attachments": {},
   "cell_type": "markdown",
   "metadata": {},
   "source": [
    "We would liked to have a more simplified equation for $s_t$ in the PAYG system, as for example: \n",
    "$$\n",
    "\\begin{aligned}\n",
    "s_t = \\frac{1-\\rho}{2+\\rho}w_t - \\tau \\frac{1+\\rho}{(2+\\rho)(1+r_{t+1})}w_{t+1}\n",
    "\\end{aligned}\n",
    "$$\n",
    ", but Sympy/Python cannot do that for us. They are still the same, one is just more simplified.\n",
    "\n",
    "We would again like to have a more simplified equation for $s_t$ in the FF system, as for example:\n",
    "$$\n",
    "\\begin{aligned}\n",
    "s_t = (\\frac{1}{2+\\rho}-\\tau)w_t\n",
    "\\end{aligned}\n",
    "$$\n",
    ", but Sympy/Python cannot do that for us. They are still the same, one is just more simplified. "
   ]
  },
  {
   "attachments": {},
   "cell_type": "markdown",
   "metadata": {},
   "source": [
    "**Capital accumulation**: from savings as $k_{t+1}=s_t$ in PAYG and $k_{t+1}=s_t+w_t\\tau$ in FF"
   ]
  },
  {
   "cell_type": "code",
   "execution_count": 314,
   "metadata": {},
   "outputs": [
    {
     "name": "stdout",
     "output_type": "stream",
     "text": [
      "almost capital accumulation in the PAYG system:\n"
     ]
    },
    {
     "data": {
      "text/latex": [
       "$\\displaystyle k_{t+1} = \\frac{- A^{2} \\alpha k_{t}^{\\alpha} k_{t+1}^{\\alpha - 1} \\tau \\left(1 - \\alpha\\right) + A^{2} \\alpha k_{t}^{\\alpha} k_{t+1}^{\\alpha - 1} \\cdot \\left(1 - \\alpha\\right) - A k_{t}^{\\alpha} \\tau \\left(1 - \\alpha\\right) + A k_{t}^{\\alpha} \\left(1 - \\alpha\\right) - A k_{t+1}^{\\alpha} \\rho \\tau \\left(1 - \\alpha\\right) - A k_{t+1}^{\\alpha} \\tau \\left(1 - \\alpha\\right)}{A \\alpha k_{t+1}^{\\alpha - 1} \\rho + 2 A \\alpha k_{t+1}^{\\alpha - 1} + \\rho + 2}$"
      ],
      "text/plain": [
       "Eq(k_{t+1}, (-A**2*alpha*k_t**alpha*k_{t+1}**(alpha - 1)*tau*(1 - alpha) + A**2*alpha*k_t**alpha*k_{t+1}**(alpha - 1)*(1 - alpha) - A*k_t**alpha*tau*(1 - alpha) + A*k_t**alpha*(1 - alpha) - A*k_{t+1}**alpha*rho*tau*(1 - alpha) - A*k_{t+1}**alpha*tau*(1 - alpha))/(A*alpha*k_{t+1}**(alpha - 1)*rho + 2*A*alpha*k_{t+1}**(alpha - 1) + rho + 2))"
      ]
     },
     "metadata": {},
     "output_type": "display_data"
    }
   ],
   "source": [
    "#substitute s_t with k_t1 in both savings equations\n",
    "cap_acc_PAYG = sm.Eq(k_t1, sm.solve(savings_PAYG,s_t)[0])\n",
    "cap_acc_FF = sm.Eq(k_t1, sm.solve(savings_FF,s_t)[0] + tau*w_t)\n",
    "\n",
    "#substitute w_t, w_t1 and r_t1 with wage_t, wage_t1 and rent_t1 in both of the above equations\n",
    "sub_cap_acc_PAYG = (((cap_acc_PAYG.subs(w_t,wage_t)).subs(w_t1,wage_t1)).subs(r_t1,rent_t1)).subs(s_t,k_t1)\n",
    "final_cap_acc_FF = cap_acc_FF.subs(w_t,wage_t)\n",
    "\n",
    "#isolate k_t1 in sub_cap_acc_PAYG, but sympy can't do it since it did not simplifed final_savings (too complex)\n",
    "\"final_cap_acc_PAYG = sm.solve(sub_cap_acc_PAYG,k_t1)\"\n",
    "\n",
    "#Instead we show\n",
    "print('almost capital accumulation in the PAYG system:')\n",
    "display(sub_cap_acc_PAYG)\n",
    "\n"
   ]
  },
  {
   "attachments": {},
   "cell_type": "markdown",
   "metadata": {},
   "source": [
    "If sympy could have isolated $k_t1$ in sub_cap_acc, then we would have gotten a very complex edition of \n",
    "$$\n",
    "\\begin{aligned}\n",
    "k_{t+1} = \\frac{(1-\\alpha)(1-\\tau)\\alpha}{(2+\\rho)\\alpha+(1+\\rho)(1-\\alpha)\\tau}A k_t^\\alpha \n",
    "\\end{aligned}\n",
    "$$\n",
    ", but they would still be the same.\n",
    "\n",
    "We will go by the simplified capital accumulation above for the rest of the project"
   ]
  },
  {
   "cell_type": "code",
   "execution_count": 315,
   "metadata": {},
   "outputs": [
    {
     "name": "stdout",
     "output_type": "stream",
     "text": [
      "Capital accumulation in the PAYG system:\n"
     ]
    },
    {
     "data": {
      "text/latex": [
       "$\\displaystyle k_{t+1} = \\frac{A \\alpha k_{t}^{\\alpha} \\left(1 - \\alpha\\right) \\left(1 - \\tau\\right)}{\\alpha \\left(\\rho + 2\\right) + \\tau \\left(1 - \\alpha\\right) \\left(\\rho + 1\\right)}$"
      ],
      "text/plain": [
       "Eq(k_{t+1}, A*alpha*k_t**alpha*(1 - alpha)*(1 - tau)/(alpha*(rho + 2) + tau*(1 - alpha)*(rho + 1)))"
      ]
     },
     "metadata": {},
     "output_type": "display_data"
    },
    {
     "name": "stdout",
     "output_type": "stream",
     "text": [
      "\n",
      "Capital accumulation in the FF system:\n"
     ]
    },
    {
     "data": {
      "text/latex": [
       "$\\displaystyle k_{t+1} = A k_{t}^{\\alpha} \\tau \\left(1 - \\alpha\\right) + \\frac{A k_{t}^{\\alpha} \\left(1 - \\alpha\\right) \\left(- \\rho \\tau - 2 \\tau + 1\\right)}{\\rho + 2}$"
      ],
      "text/plain": [
       "Eq(k_{t+1}, A*k_t**alpha*tau*(1 - alpha) + A*k_t**alpha*(1 - alpha)*(-rho*tau - 2*tau + 1)/(rho + 2))"
      ]
     },
     "metadata": {},
     "output_type": "display_data"
    }
   ],
   "source": [
    "final_cap_acc_PAYG = sm.Eq(k_t1, (1-alpha)*(1-tau)*alpha/((2+rho)*alpha+(1+rho)*(1-alpha)*tau)*A*k_t**alpha)\n",
    "print('Capital accumulation in the PAYG system:')\n",
    "display(final_cap_acc_PAYG)\n",
    "print('')\n",
    "print('Capital accumulation in the FF system:')\n",
    "display(final_cap_acc_FF)"
   ]
  },
  {
   "attachments": {},
   "cell_type": "markdown",
   "metadata": {},
   "source": [
    "**Steady State**: From capital accumulation as $k_{t+1}=k_t=k^*$"
   ]
  },
  {
   "cell_type": "code",
   "execution_count": 316,
   "metadata": {},
   "outputs": [
    {
     "name": "stdout",
     "output_type": "stream",
     "text": [
      "Steady state in the PAYG system:\n"
     ]
    },
    {
     "data": {
      "text/latex": [
       "$\\displaystyle k^{*} = \\left(\\frac{- \\alpha \\rho \\tau + \\alpha \\rho - \\alpha \\tau + 2 \\alpha + \\rho \\tau + \\tau}{A \\alpha \\left(\\alpha \\tau - \\alpha - \\tau + 1\\right)}\\right)^{\\frac{1}{\\alpha - 1}}$"
      ],
      "text/plain": [
       "Eq(k^*, ((-alpha*rho*tau + alpha*rho - alpha*tau + 2*alpha + rho*tau + tau)/(A*alpha*(alpha*tau - alpha - tau + 1)))**(1/(alpha - 1)))"
      ]
     },
     "metadata": {},
     "output_type": "display_data"
    },
    {
     "name": "stdout",
     "output_type": "stream",
     "text": [
      "\n",
      "Steady state in the FF system:\n"
     ]
    },
    {
     "data": {
      "text/latex": [
       "$\\displaystyle k^{*} = \\left(A \\left(1 - \\alpha\\right) \\left(\\tau + \\frac{- \\rho \\tau - 2 \\tau + 1}{\\rho + 2}\\right)\\right)^{\\frac{1}{1 - \\alpha}}$"
      ],
      "text/plain": [
       "Eq(k^*, (A*(1 - alpha)*(tau + (-rho*tau - 2*tau + 1)/(rho + 2)))**(1/(1 - alpha)))"
      ]
     },
     "metadata": {},
     "output_type": "display_data"
    }
   ],
   "source": [
    "#substitute k_t1 and k_t with k_ss in both of the capial accumulations\n",
    "ss_PAYG = (final_cap_acc_PAYG.subs(k_t1,k_ss)).subs(k_t,k_ss)\n",
    "ss_FF = (final_cap_acc_FF.subs(k_t1,k_ss)).subs(k_t,k_ss)\n",
    "\n",
    "#isolate k_ss in both of the capial accumulations after the substitution\n",
    "final_ss_PAYG = sm.Eq(k_ss, sm.solve(ss_PAYG,k_ss)[0])\n",
    "'final_ss_FF = sm.Eq(k_ss, sm.solve(ss_FF,k_ss)[0])' #No algorithms are implemented to solve the equation, so we do it by hand\n",
    "final_ss_FF = sm.Eq(k_ss, (((-rho*tau - 2*tau + 1)/(rho + 2)+tau)*(1-alpha)*A)**(1/(1-alpha)))\n",
    "print('Steady state in the PAYG system:')\n",
    "display(final_ss_PAYG)\n",
    "print('')\n",
    "print('Steady state in the FF system:')\n",
    "display(final_ss_FF)"
   ]
  },
  {
   "attachments": {},
   "cell_type": "markdown",
   "metadata": {},
   "source": [
    "## Numerical solution"
   ]
  },
  {
   "cell_type": "code",
   "execution_count": 317,
   "metadata": {},
   "outputs": [
    {
     "name": "stdout",
     "output_type": "stream",
     "text": [
      "initializing the model:\n",
      "calling .setup()\n",
      "calling .allocate()\n"
     ]
    }
   ],
   "source": [
    "model = OLG_Class()\n",
    "par = model.par # SimpeNamespace\n",
    "sim = model.sim # SimpeNamespace\n",
    "k_ss = 2\n",
    "par.k_lag_ini = 0.1*k_ss"
   ]
  },
  {
   "cell_type": "code",
   "execution_count": 318,
   "metadata": {},
   "outputs": [],
   "source": [
    "from OLGmodel import simulate_before_s, simulate_after_s, find_s_bracket, calc_euler_error"
   ]
  },
  {
   "cell_type": "code",
   "execution_count": 319,
   "metadata": {},
   "outputs": [],
   "source": [
    "s_guess = 0.41"
   ]
  },
  {
   "cell_type": "code",
   "execution_count": 320,
   "metadata": {},
   "outputs": [
    {
     "name": "stdout",
     "output_type": "stream",
     "text": [
      "sim.C2[0] =  0.8759\n",
      "sim.C1[0] = -0.0645\n",
      "sim.C2[1] =  0.6656\n",
      "sim.r[1] =  0.2611\n",
      "euler-error = -0.72424435\n"
     ]
    }
   ],
   "source": [
    "# a. initialize\n",
    "sim.k_lag[0] = par.k_lag_ini\n",
    "\n",
    "simulate_before_s(par,sim,t=0,s=s_guess)\n",
    "print(f'{sim.C2[0] = : .4f}')\n",
    "\n",
    "simulate_after_s(par,sim,s=s_guess,t=0)\n",
    "print(f'{sim.C1[0] = : .4f}')\n",
    "\n",
    "simulate_before_s(par,sim,t=1,s=s_guess)\n",
    "print(f'{sim.C2[1] = : .4f}')\n",
    "print(f'{sim.r[1] = : .4f}')\n",
    "\n",
    "LHS_Euler = sim.C1[0]\n",
    "RHS_Euler = (1+par.rho)*sim.C2[1]/(sim.r[1]+1)\n",
    "print(f'euler-error = {LHS_Euler-RHS_Euler:.8f}')"
   ]
  },
  {
   "cell_type": "code",
   "execution_count": 321,
   "metadata": {},
   "outputs": [
    {
     "name": "stdout",
     "output_type": "stream",
     "text": [
      "euler-error = -0.72424435\n"
     ]
    }
   ],
   "source": [
    "euler_error = calc_euler_error(s_guess,par,sim,t=0)\n",
    "print(f'euler-error = {euler_error:.8f}')"
   ]
  },
  {
   "cell_type": "code",
   "execution_count": 322,
   "metadata": {},
   "outputs": [
    {
     "name": "stdout",
     "output_type": "stream",
     "text": [
      "euler-error for s =   0.99999999 =  -2.05174433\n",
      "euler-error for s =   0.50000000 =  -0.92674435\n",
      "euler-error for s =   0.25000001 =  -0.36424436\n",
      "euler-error for s =   0.12500001 =  -0.08299437\n",
      "euler-error for s =   0.06250001 =   0.05763063\n",
      "bracket to search in with opposite signed errors:\n",
      "[  0.06250001-  0.12500001]\n"
     ]
    }
   ],
   "source": [
    "s_min,s_max = find_s_bracket(par,sim,t=0,do_print=True);"
   ]
  },
  {
   "cell_type": "code",
   "execution_count": 323,
   "metadata": {},
   "outputs": [
    {
     "name": "stdout",
     "output_type": "stream",
     "text": [
      "      converged: True\n",
      "           flag: 'converged'\n",
      " function_calls: 37\n",
      "     iterations: 35\n",
      "           root: 0.08811362304138803\n"
     ]
    }
   ],
   "source": [
    "obj = lambda s: calc_euler_error(s,par,sim,t=0)\n",
    "result = optimize.root_scalar(obj,bracket=(s_min,s_max),method='bisect')\n",
    "print(result)"
   ]
  },
  {
   "cell_type": "code",
   "execution_count": 324,
   "metadata": {},
   "outputs": [
    {
     "name": "stdout",
     "output_type": "stream",
     "text": [
      "euler-error = 0.00000000\n"
     ]
    }
   ],
   "source": [
    "euler_error = calc_euler_error(result.root,par,sim,t=0)\n",
    "print(f'euler-error = {euler_error:.8f}')"
   ]
  },
  {
   "cell_type": "code",
   "execution_count": 325,
   "metadata": {},
   "outputs": [
    {
     "ename": "TypeError",
     "evalue": "'>' not supported between instances of 'types.SimpleNamespace' and 'int'",
     "output_type": "error",
     "traceback": [
      "\u001b[0;31m---------------------------------------------------------------------------\u001b[0m",
      "\u001b[0;31mTypeError\u001b[0m                                 Traceback (most recent call last)",
      "\u001b[0;32m/var/folders/qn/m3hbpy256cs_8mfcpffzgvzr0000gn/T/ipykernel_7873/3908132593.py\u001b[0m in \u001b[0;36m<module>\u001b[0;34m\u001b[0m\n\u001b[0;32m----> 1\u001b[0;31m \u001b[0mmodel\u001b[0m\u001b[0;34m.\u001b[0m\u001b[0msimulate\u001b[0m\u001b[0;34m(\u001b[0m\u001b[0;34m)\u001b[0m\u001b[0;34m\u001b[0m\u001b[0;34m\u001b[0m\u001b[0m\n\u001b[0m",
      "\u001b[0;32m~/projects-2023-joost-adam-og-frederik-1/modelproject/OLGmodel.py\u001b[0m in \u001b[0;36msimulate\u001b[0;34m(self, do_print)\u001b[0m\n\u001b[1;32m     69\u001b[0m \u001b[0;34m\u001b[0m\u001b[0m\n\u001b[1;32m     70\u001b[0m             \u001b[0;31m# i. simulate before s\u001b[0m\u001b[0;34m\u001b[0m\u001b[0;34m\u001b[0m\u001b[0m\n\u001b[0;32m---> 71\u001b[0;31m             \u001b[0msimulate_before_s\u001b[0m\u001b[0;34m(\u001b[0m\u001b[0ms\u001b[0m\u001b[0;34m,\u001b[0m \u001b[0mpar\u001b[0m\u001b[0;34m,\u001b[0m \u001b[0msim\u001b[0m\u001b[0;34m,\u001b[0m \u001b[0mt\u001b[0m\u001b[0;34m)\u001b[0m\u001b[0;34m\u001b[0m\u001b[0;34m\u001b[0m\u001b[0m\n\u001b[0m\u001b[1;32m     72\u001b[0m \u001b[0;34m\u001b[0m\u001b[0m\n\u001b[1;32m     73\u001b[0m             \u001b[0;32mif\u001b[0m \u001b[0mt\u001b[0m \u001b[0;34m==\u001b[0m \u001b[0mpar\u001b[0m\u001b[0;34m.\u001b[0m\u001b[0msimT\u001b[0m\u001b[0;34m-\u001b[0m\u001b[0;36m1\u001b[0m\u001b[0;34m:\u001b[0m \u001b[0;32mcontinue\u001b[0m\u001b[0;34m\u001b[0m\u001b[0;34m\u001b[0m\u001b[0m\n",
      "\u001b[0;32m~/projects-2023-joost-adam-og-frederik-1/modelproject/OLGmodel.py\u001b[0m in \u001b[0;36msimulate_before_s\u001b[0;34m(par, sim, t, s)\u001b[0m\n\u001b[1;32m    149\u001b[0m     \u001b[0;34m\"\"\" simulate forward \"\"\"\u001b[0m\u001b[0;34m\u001b[0m\u001b[0;34m\u001b[0m\u001b[0m\n\u001b[1;32m    150\u001b[0m \u001b[0;34m\u001b[0m\u001b[0m\n\u001b[0;32m--> 151\u001b[0;31m     \u001b[0;32mif\u001b[0m \u001b[0mt\u001b[0m \u001b[0;34m>\u001b[0m \u001b[0;36m0\u001b[0m\u001b[0;34m:\u001b[0m\u001b[0;34m\u001b[0m\u001b[0;34m\u001b[0m\u001b[0m\n\u001b[0m\u001b[1;32m    152\u001b[0m         \u001b[0msim\u001b[0m\u001b[0;34m.\u001b[0m\u001b[0mk_lag\u001b[0m\u001b[0;34m[\u001b[0m\u001b[0mt\u001b[0m\u001b[0;34m]\u001b[0m \u001b[0;34m=\u001b[0m \u001b[0msim\u001b[0m\u001b[0;34m.\u001b[0m\u001b[0mk\u001b[0m\u001b[0;34m[\u001b[0m\u001b[0mt\u001b[0m\u001b[0;34m-\u001b[0m\u001b[0;36m1\u001b[0m\u001b[0;34m]\u001b[0m\u001b[0;34m\u001b[0m\u001b[0;34m\u001b[0m\u001b[0m\n\u001b[1;32m    153\u001b[0m \u001b[0;34m\u001b[0m\u001b[0m\n",
      "\u001b[0;31mTypeError\u001b[0m: '>' not supported between instances of 'types.SimpleNamespace' and 'int'"
     ]
    }
   ],
   "source": [
    "model.simulate()"
   ]
  },
  {
   "cell_type": "code",
   "execution_count": null,
   "metadata": {},
   "outputs": [],
   "source": [
    "for t in range(5):\n",
    "    LHS_Euler = sim.C1[t]**(-par.sigma)\n",
    "    RHS_Euler = (1+sim.rt[t+1])*par.beta * sim.C2[t+1]**(-par.sigma)\n",
    "    print(f't = {t:2d}: euler-error = {LHS_Euler-RHS_Euler:.8f}')"
   ]
  },
  {
   "cell_type": "code",
   "execution_count": null,
   "metadata": {},
   "outputs": [],
   "source": [
    "#Define some baseline parameters\n",
    "alpha = 0.3\n",
    "rho = 0.25\n",
    "tau = 0.2\n",
    "n = 0.02\n",
    "A = 10\n",
    "\n",
    "#we let $k_t$ be in [0,50]\n",
    "k_t = np.linspace(0,10, 1000)\n",
    "\n",
    "#We define the two capital accumulations from our analytical solutions\n",
    "k_t1_PAYG = ((1-alpha)*(1-tau)*alpha)/((2+rho)*alpha+(1+rho)*(1-alpha)*tau)*A*k_t**alpha\n",
    "k_t1_FF = ((1-rho*tau-2*tau)/(2+rho))*(1-alpha)*A*k_t**alpha+tau*(1-alpha)*A*k_t**alpha\n",
    "\n",
    "#We use a root-finder to find the numerical steady state for both pension systems by using the the capital accumulations\n",
    "obj_ss_PAYG = lambda ss_k_PAYG: ss_k_PAYG - ((1-alpha)*(1-tau)*alpha)/((2+rho)*alpha+(1+rho)*(1-alpha)*tau)*A*ss_k_PAYG**alpha\n",
    "res_PAYG = optimize.root_scalar(obj_ss_PAYG,bracket=[0.1,100],method='brentq')\n",
    "\n",
    "obj_ss_FF = lambda ss_k_FF: ss_k_FF - (((1-rho*tau-2*tau)/(2+rho))*(1-alpha)*A*ss_k_FF**alpha+tau*(1-alpha)*A*ss_k_FF**alpha)\n",
    "res_FF = optimize.root_scalar(obj_ss_FF,bracket=[0.1,100],method='brentq')\n",
    "\n",
    "\n",
    "#We create plot of two capital accumulations\n",
    "plt.plot(k_t,k_t1_PAYG, label='PAYG')\n",
    "plt.plot(k_t,k_t, label='45 degree line')\n",
    "plt.plot(k_t,k_t1_FF, label='FF')\n",
    "plt.title('Capital accumulation')\n",
    "plt.ylabel('k_t+1')\n",
    "plt.xlabel('k_t')\n",
    "plt.legend()\n",
    "plt.grid(True)\n",
    "plt.show()\n",
    "\n",
    "print(f'Steady state for capital per capita in the PAYG system = {res_PAYG.root:.3f}')\n",
    "print(f'Steady state for capital per capita in the FF system = {res_FF.root:.3f}')\n"
   ]
  },
  {
   "attachments": {},
   "cell_type": "markdown",
   "metadata": {},
   "source": [
    "We see that there is a larger amount of capital accumulation per capita in the Fully Funded system than in the PAY-AS-YOU-GO system, which results in a higher capital per capita in steady state in the Fully Funded system than in a the PAY-AS-YOU-GO system. This happens because in the Fully Funded system, contributions from the young households are invested in capital in period $t$, and then in period t+1, when the young from period $t$ now are the old households, they receive their contribution with interest. In contrast to the PAY-AS-YOU-GO system, where the contributions from the young households are not involved with capital/investing, but instead are given directly to the old households in the same period."
   ]
  },
  {
   "cell_type": "code",
   "execution_count": null,
   "metadata": {},
   "outputs": [],
   "source": [
    "#Define the stedy state for rent, wage and savings in both pension systems by using the found steady state for capital per capita\n",
    "r_ss_PAYG = alpha*A*res_PAYG.root**(alpha-1)\n",
    "w_ss_PAYG = (1-alpha)*A*res_PAYG.root**alpha\n",
    "s_ss_PAYG = (1-rho)/(2+rho)*w_ss_PAYG-tau*(1+rho)/((2+rho)*(1+r_ss_PAYG))*w_ss_PAYG\n",
    "\n",
    "obj_ss_PAYG = lambda c: - (np.log(c[0]) + 1/(1+rho)*np.log(c[1]))\n",
    "\n",
    "budget_constraint_1 = lambda c_1t: c_1t - ((1-tau)*w_ss_PAYG-s_ss_PAYG)\n",
    "budget_constraint_2 = lambda c_2t_1: c_2t_1 - ((1+r_ss_PAYG)*s_ss_PAYG+w_ss_PAYG*tau)\n",
    "euler_constraint = lambda c_1t, c_2t_1: c_1t - (c_2t_1*(1+rho)/r_ss_PAYG+1)\n",
    "constraint_1 = ({'type': 'eq', 'fun': budget_constraint_1})\n",
    "constraint_2 = ({'type': 'eq', 'fun': budget_constraint_2})\n",
    "#constraint_3 = ({'type': 'eq', 'fun': euler_constraint})\n",
    "bounds = ((1e-8, 10), (1e-8, 10))\n",
    "\n",
    "c0 = [2,2]\n",
    "\n",
    "res = optimize.minimize(obj_ss_PAYG, c0, method='SLSQP', bounds=bounds, constraints=[constraint_1, constraint_2])\n",
    "\n",
    "solve_c1 = res.x[0]\n",
    "solve_c2 = res.x[1]\n",
    "\n",
    "print('c1', solve_c1)\n",
    "print('c2', solve_c2)\n",
    "\n",
    "def obj_func(c1,c2,rho):\n",
    "    return np.log(c1) + 1/(1+rho)*np.log(c2)\n",
    "\n",
    "def obj(c, rho):\n",
    "    return obj_func(c[0],c[1])\n",
    "\n",
    "def ineq1(c, rho, tau, w_ss_PAYG, s_ss_PAYG):\n",
    "    return c[0] - ((1-tau)*w_ss_PAYG-s_ss_PAYG)\n",
    "\n",
    "def ineq2(c, tau, r_ss_PAYG, w_ss_PAYG, s_ss_PAYG):\n",
    "    return c[1] - ((1+r_ss_PAYG)*s_ss_PAYG+w_ss_PAYG*tau)\n",
    "\n",
    "ineq1_con = ({'type': 'ineq', 'fun': ineq1, 'args': (rho, tau, w_ss_PAYG, s_ss_PAYG)})\n",
    "ineq2_con = ({'type': 'ineq', 'fun': ineq2, 'args': (tau, r_ss_PAYG, w_ss_PAYG, s_ss_PAYG)})\n",
    "bounds = ((1e-8, 10), (1e-8, 10))\n",
    "result = optimize.minimize(obj,c0,method='SLSQP',bounds=bounds,constraints=[ineq1_con, ineq2_con])\n",
    "\n"
   ]
  },
  {
   "attachments": {},
   "cell_type": "markdown",
   "metadata": {},
   "source": [
    "# Further analysis"
   ]
  },
  {
   "attachments": {},
   "cell_type": "markdown",
   "metadata": {},
   "source": [
    "**Extension of the OLG model: Population growth**\n",
    "\n",
    "We now perform an extension to our OLG model, so population is no longer constant, but instead growing. The population grows constant with $n$ for every period, so $L_{t+1}=(1+n)L_t$.\n",
    "\n",
    "Capital accumulation with population growth is in\n",
    "\n",
    "PAYG system: $k_{t+1}(1+n)=(1-\\delta)k_t+s_t$ \n",
    "\n",
    "FF system: $k_{t+1}(1+n)=(1-\\delta)k_t+s_t+w_t\\tau$\n",
    "\n",
    ",but we do still assume that the old spend their entrie savings, so $\\delta = 1 $."
   ]
  },
  {
   "cell_type": "code",
   "execution_count": null,
   "metadata": {},
   "outputs": [],
   "source": [
    "#We define the capital accumulation after the extension in both systems, by multiple both with 1/(1+n)\n",
    "ex_k_t1_PAYG = (1/(1+n))*(((1-alpha)*(1-tau)*alpha)/((2+rho)*alpha+(1+rho)*(1-alpha)*tau)*A*k_t**alpha)\n",
    "ex_k_t1_FF = (1/(1+n))*(((1-rho*tau-2*tau)/(2+rho))*(1-alpha)*A*k_t**alpha+tau*(1-alpha)*A*k_t**alpha)\n",
    "\n",
    "#We use a root-finder to find the numerical steady state for both pension systems by using the the capital accumulations\n",
    "obj_ss_ex_PAYG = lambda ss_k_ex_PAYG: ss_k_ex_PAYG - (1/(1+n))*(((1-alpha)*(1-tau)*alpha)/((2+rho)*alpha+(1+rho)*(1-alpha)*tau)*A*ss_k_ex_PAYG**alpha)\n",
    "res_ex_PAYG = optimize.root_scalar(obj_ss_ex_PAYG,bracket=[0.1,100],method='brentq')\n",
    "\n",
    "obj_ss_ex_FF = lambda ss_k_ex_FF: ss_k_ex_FF - ((1/(1+n))*(((1-rho*tau-2*tau)/(2+rho))*(1-alpha)*A*ss_k_ex_FF**alpha+tau*(1-alpha)*A*ss_k_ex_FF**alpha))\n",
    "res_ex_FF = optimize.root_scalar(obj_ss_ex_FF,bracket=[0.1,100],method='brentq')\n",
    "\n",
    "plt.plot(k_t,ex_k_t1_PAYG, label='PAYG with pop. growth')\n",
    "plt.plot(k_t,k_t, label='45 degree line')\n",
    "plt.plot(k_t,ex_k_t1_FF, label='FF with pop. growth')\n",
    "plt.plot(k_t,k_t1_PAYG, label='PAYG')\n",
    "plt.plot(k_t,k_t1_FF, label='FF')\n",
    "plt.title('Capital accumulation')\n",
    "plt.ylabel('k_t+1')\n",
    "plt.xlabel('k_t')\n",
    "plt.legend()\n",
    "plt.grid(True)\n",
    "plt.show()\n",
    "\n",
    "print(f'Steady state for capital per capita in the PAYG system without population growth = {res_PAYG.root:.3f}')\n",
    "print(f'Steady state for capital per capita in the PAYG system with population growth = {res_ex_PAYG.root:.3f}')\n",
    "\n",
    "print(f'Steady state for capital per capita in the FF system without population growth = {res_FF.root:.3f}')\n",
    "print(f'Steady state for capital per capita in the FF system with population growth = {res_ex_FF.root:.3f}')"
   ]
  },
  {
   "attachments": {},
   "cell_type": "markdown",
   "metadata": {},
   "source": [
    "We can see that after we extend our OLG model with population growth the accumulation of capital per capita becomes lower in both systems, which results in a lower capital per capita in steady state in both systems. This happens because a bigger population hollows out the total capital, which results in a lower level of capital per capita."
   ]
  },
  {
   "attachments": {},
   "cell_type": "markdown",
   "metadata": {},
   "source": [
    "**Capital accumulation and steady state with different parameter-values (focus on tau)**"
   ]
  },
  {
   "cell_type": "code",
   "execution_count": null,
   "metadata": {},
   "outputs": [],
   "source": [
    "#Create a interactive figure \n",
    "def plot(alpha=0.3, tau = 0.2, rho = 0.25, A = 10, n=0.02):  \n",
    "    alpha = alpha\n",
    "    tau = tau\n",
    "    rho = rho\n",
    "    n = n\n",
    "    k_t = np.linspace(0,50, 1000)\n",
    "    k_t1_PAYG = ((1-alpha)*(1-tau)*alpha)/((2+rho)*alpha+(1+rho)*(1-alpha)*tau)*A*k_t**alpha\n",
    "    k_t1_FF = ((1-rho*tau-2*tau)/(2+rho))*(1-alpha)*A*k_t**alpha+tau*(1-alpha)*A*k_t**alpha\n",
    "    ex_k_t1_PAYG = (1/(1+n))*(((1-alpha)*(1-tau)*alpha)/((2+rho)*alpha+(1+rho)*(1-alpha)*tau)*A*k_t**alpha)\n",
    "    ex_k_t1_FF = (1/(1+n))*(((1-rho*tau-2*tau)/(2+rho))*(1-alpha)*A*k_t**alpha+tau*(1-alpha)*A*k_t**alpha)\n",
    "    fig = plt.figure()\n",
    "    ax1 = fig.add_subplot(1,1,1)\n",
    "    ax1.plot(k_t,ex_k_t1_PAYG, label='PAYG with pop. growth')\n",
    "    ax1.plot(k_t,ex_k_t1_FF, label='FF with pop. growth')\n",
    "    ax1.plot(k_t,k_t, label='45 degree line')\n",
    "    plt.title('Capital accumulation for different parameter-values')\n",
    "    ax1.set_xlabel(\"$k_t$\")\n",
    "    ax1.set_ylabel(\"$k_{t+1}$\")\n",
    "    ax1.legend()\n",
    "    ax1.set_xlim(0, 10)\n",
    "    ax1.set_ylim(0, 10)\n",
    "    plt.grid(True)\n",
    "    plt.show()\n",
    "    \n",
    "def plot_interact():\n",
    "    widgets.interact(plot,\n",
    "                \n",
    "                 alpha=widgets.FloatSlider(\n",
    "                     description=\"alpha\", min=0.1, max=1, step=0.05, value=0.3),\n",
    "                 tau=widgets.FloatSlider(\n",
    "                     description=\"tau\", min=0.1, max=1, step=0.05, value=0.2),\n",
    "                 rho=widgets.FloatSlider(\n",
    "                     description=\"rho\", min=0.1, max=1, step=0.05, value=0.25),\n",
    "                 A=widgets.FloatSlider(\n",
    "                     description=\"A\", min=0, max=20, step=1, value=10),\n",
    "                 n=widgets.FloatSlider(\n",
    "                     description=\"n\", min=0.001, max=0.5, step=0.005, value=0.02)\n",
    "\n",
    "                    \n",
    "    );\n",
    "\n",
    "plot_interact()"
   ]
  },
  {
   "attachments": {},
   "cell_type": "markdown",
   "metadata": {},
   "source": [
    "When $A$ increases then accumulation of capital per capita and capital per capita in steady state increases in both systems and vice versa. The intuition behind this is, that a higher technology level increases the marginal product of capital and labor and therefore the rent and wage, which leads to higher savings and contribution, which results in increased accumulation of capital per capita and capital per capita in steady state, ceteris paribus.\n",
    "\n",
    "When $\\rho$ increases then accumulation of capital per capita and capital per capita in steady state decreases in both systems and vice versa. The intuition behind this is, that a higher level of impatience for the young households lead to higher consumption when they are young, and lower consumption, when they are old, ceteris paribus. For that to happen the young households must reduce their savings, which decreases the accumulation of capital per capita and capital per capita in steady state, ceteris paribus.\n",
    "\n",
    "When $n$ increases then accumulation of capital per capita and capital per capita in steady state decreases in both systems and vice versa. The intuition behind this is, that a higher level population growth lead a higher population level and therefore a greater hollow out of total capital, which results in a lower level of capital per capita. \n",
    "\n",
    "When $\\tau$ increases then the accumulation of capital per capita and capital per capita in steady state decreases in the PAYG systems and vice versa, but has not effect in the FF system. The intuition behind is that, $\\tau$ increases the contribution from the young households, which reduces the saving, which leads to a decreased accumulation of capital per capita and capital per capita in steady state, in the PAYG system, ceteris paribus. In the FF system $\\tau$ also increases the contribution from the young households, which reduces the saving ceteris paribus. In contrast to the PAYG the contribution functions just like the the saving (same interest) ceteris paribus, and therefore the level of investing in capital is the same no matter $\\tau$. \n",
    "\n",
    "The smaller $\\alpha$ is the smaller the accumulation of capital per capita and capital per capita in steady state in both systems are ceteris paribus. The intution is a small $\\alpha$ means, that the share of capital used in production is small (not important), which results in lowered accumulation of capital per capita and capital per capita in steady state.\n",
    "When $\\alpha$ is around 0.35-0.4 the accumulation of capital per capita and capital per capita in steady state are at their highest level in both systems ceteris paribus. \n",
    "If $\\alpha$ increases from 0.4 then the accumulation of capital per capita and capital per capita in steady state decrease in both systems and if $\\alpha$ is high enough, then there will not even be steady state for capital per capita in both systems ceteris paribus.\n",
    "The difference between capital per capita in steady state in the two systems also decrease, when $\\alpha$ increases ceteris paribus. "
   ]
  },
  {
   "attachments": {},
   "cell_type": "markdown",
   "metadata": {},
   "source": [
    "# Conclusion"
   ]
  },
  {
   "attachments": {},
   "cell_type": "markdown",
   "metadata": {},
   "source": [
    "We can conclude that the accumulation of capital per capita and capital per capita in steady state are higher in **Fully Funded** pension system than in a **Pay-As-You-Go** pension system with constant population and population growth ceteris paribus. \n",
    "\n",
    "If there is population growth, then the accumulation of capital per capita and capital per capita in steady state in both systems decrease ceteris paribus. \n",
    "\n",
    "The technology level has a positive effect on the accumulation of capital per capita and capital per capita in steady state in both systems with population growth ceteris paribus. The impatience level has a negative effect on the accumulation of capital per capita and capital per capita in steady state in both systems with population growth ceteris paribus.\n",
    "\n",
    "The contribution share has a negative effect on the accumulation of capital per capita and capital per capita in steady state in the **PAYG** system with population growth, but no effect in **FF** system with population growth ceteris paribus.\n",
    "\n",
    "The accumulation of capital per capita and capital per capita in steady state in both systems are at the highest level, when the share capital used in production is around 0.35-0.4 ceteris paribus. "
   ]
  }
 ],
 "metadata": {
  "kernelspec": {
   "display_name": "base",
   "language": "python",
   "name": "python3"
  },
  "language_info": {
   "codemirror_mode": {
    "name": "ipython",
    "version": 3
   },
   "file_extension": ".py",
   "mimetype": "text/x-python",
   "name": "python",
   "nbconvert_exporter": "python",
   "pygments_lexer": "ipython3",
   "version": "3.9.13"
  },
  "toc-autonumbering": true,
  "vscode": {
   "interpreter": {
    "hash": "bf9ec1e79c80caa0642abbab8a4c5603f6d3099ed0ddfbaecc490b9c20566038"
   }
  }
 },
 "nbformat": 4,
 "nbformat_minor": 4
}
