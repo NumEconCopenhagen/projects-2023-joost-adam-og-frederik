{
 "cells": [
  {
   "attachments": {},
   "cell_type": "markdown",
   "metadata": {},
   "source": [
    "# Modeling the IS/LM economic model"
   ]
  },
  {
   "attachments": {},
   "cell_type": "markdown",
   "metadata": {},
   "source": [
    "> **Note the following:** \n",
    "> 1. This is *not* meant to be an example of an actual **model analysis project**, just an example of how to structure such a project.\n",
    "> 1. Remember the general advice on structuring and commenting your code\n",
    "> 1. The `modelproject.py` file includes a function which could be used multiple times in this notebook."
   ]
  },
  {
   "attachments": {},
   "cell_type": "markdown",
   "metadata": {},
   "source": [
    "Imports and set magics:"
   ]
  },
  {
   "cell_type": "code",
   "execution_count": 5,
   "metadata": {},
   "outputs": [
    {
     "name": "stdout",
     "output_type": "stream",
     "text": [
      "The autoreload extension is already loaded. To reload it, use:\n",
      "  %reload_ext autoreload\n"
     ]
    }
   ],
   "source": [
    "import numpy as np\n",
    "from scipy import optimize\n",
    "import sympy as sm\n",
    "import ipywidgets as widgets\n",
    "import matplotlib.pyplot as plt\n",
    "from types import SimpleNamespace\n",
    "\n",
    "# autoreload modules when code is run\n",
    "%load_ext autoreload\n",
    "%autoreload 2\n",
    "\n",
    "# local modules\n",
    "import modelproject\n",
    "from modelproject import OLG_Model"
   ]
  },
  {
   "attachments": {},
   "cell_type": "markdown",
   "metadata": {},
   "source": [
    "# Model description"
   ]
  },
  {
   "attachments": {},
   "cell_type": "markdown",
   "metadata": {},
   "source": [
    "**Write out the model in equations here.** \n",
    "\n",
    "Make sure you explain well the purpose of the model and comment so that other students who may not have seen it before can follow. \n",
    "\n",
    "We have chosen to work with an OLG model with a Pay-As-You-Go (PAYG) system, where the agents live for two periods. \n",
    "\n",
    "We assume time $t$ to be discrete. That is, $t \\in\\{0, 1, 2,\\dots\\}$\n",
    "\n",
    "Further, we assume the population $N$ to be constant\n",
    "\n",
    "In period $t$ the agents work and save income, while they live off of their savings in period $t+1$ \n",
    "\n",
    "Consumption when young is given as: $C_{1t}$\n",
    "\n",
    "Consumption when old is given as: $C_{2t+1}$\n",
    "\n",
    "Identical competitive firms maximize their profit function: $\\pi_t = AK_{t}^{\\alpha}L_{t}^{1-\\alpha}-\\omega_tL_t-r_tK_t$\n",
    "\n",
    "$r_t$ is the interest rate for borrowing capital, $\\omega_t$ is the wage rate, and $K_t$ and $L_t$ are capital and labor employed by the firms. $A>0$ denotes productivity. It is assumed that capital fully depreciates, and that $\\alpha \\in(0,1)$.\n",
    "\n",
    "Young agents work one unit of time so their labor income is equal to the wage rate. Old agents provide consumption through private savings $s_t$ and social security benefits.\n",
    "\n",
    "Each household contributes a fraction $0<\\tau<1$ of their income, which is transfered to the old. Thus, $\\tau\\omega_{t}$ denotes the benefits received by the old in period $t$\n",
    "\n",
    "The utility function for the agents is given as: $U_t=\\ln c_{1t}+\\beta\\ln c_{2t+1}$\n",
    "\n",
    "Budget constraints are given as:\n",
    "\n",
    "$c_{1t}+s_{t}=(1-\\tau)\\omega_{t}$\n",
    "\n",
    "$c_{2t+1}=s_{t}r_{t+1}+\\tau\\omega_{t+1}$\n",
    "\n",
    "The maximization problem of the young agent in period $t$ becomes:\n",
    "\n",
    "\\begin{align}\n",
    "\\max_{c_{1t}, c_{2t+1}} U_t(c_{1t},c_{2t+1}) & = \\log(c_{1t})+ \\beta \\log(c_{2t+1})\\\\\n",
    "\\text{s.t.} \\quad c_{1t} & = (1-\\tau)w_t -s_t \\\\\n",
    "c_{2t+1} & = s_t r_{t+1}+\\tau\\omega_{t+1}.\\\\\n",
    "\\end{align}"
   ]
  },
  {
   "attachments": {},
   "cell_type": "markdown",
   "metadata": {},
   "source": [
    "## Analytical solution"
   ]
  },
  {
   "attachments": {},
   "cell_type": "markdown",
   "metadata": {},
   "source": [
    "If your model allows for an analytical solution, you should provide here.\n",
    "\n",
    "You may use Sympy for this. Then you can characterize the solution as a function of a parameter of the model.\n",
    "\n",
    "To characterize the solution, first derive a steady state equation as a function of a parameter using Sympy.solve and then turn it into a python function by Sympy.lambdify. See the lecture notes for details. "
   ]
  },
  {
   "attachments": {},
   "cell_type": "markdown",
   "metadata": {},
   "source": [
    "## Numerical solution"
   ]
  },
  {
   "attachments": {},
   "cell_type": "markdown",
   "metadata": {},
   "source": [
    "You can always solve a model numerically. \n",
    "\n",
    "Define first the set of parameters you need. \n",
    "\n",
    "Then choose one of the optimization algorithms that we have gone through in the lectures based on what you think is most fitting for your model.\n",
    "\n",
    "Are there any problems with convergence? Does the model converge for all starting values? Make a lot of testing to figure these things out. "
   ]
  },
  {
   "attachments": {},
   "cell_type": "markdown",
   "metadata": {},
   "source": [
    "# Further analysis"
   ]
  },
  {
   "attachments": {},
   "cell_type": "markdown",
   "metadata": {},
   "source": [
    "Make detailed vizualizations of how your model changes with parameter values. \n",
    "\n",
    "Try to make an extension of the model. "
   ]
  },
  {
   "attachments": {},
   "cell_type": "markdown",
   "metadata": {},
   "source": [
    "# Conclusion"
   ]
  },
  {
   "attachments": {},
   "cell_type": "markdown",
   "metadata": {},
   "source": [
    "Add concise conclusion. "
   ]
  }
 ],
 "metadata": {
  "kernelspec": {
   "display_name": "base",
   "language": "python",
   "name": "python3"
  },
  "language_info": {
   "codemirror_mode": {
    "name": "ipython",
    "version": 3
   },
   "file_extension": ".py",
   "mimetype": "text/x-python",
   "name": "python",
   "nbconvert_exporter": "python",
   "pygments_lexer": "ipython3",
   "version": "3.9.16"
  },
  "toc-autonumbering": true,
  "vscode": {
   "interpreter": {
    "hash": "47ef90cdf3004d3f859f1fb202523c65c07ba7c22eefd261b181f4744e2d0403"
   }
  }
 },
 "nbformat": 4,
 "nbformat_minor": 4
}
