{
 "cells": [
  {
   "cell_type": "markdown",
   "metadata": {},
   "source": [
    "# YOUR PROJECT TITLE"
   ]
  },
  {
   "attachments": {},
   "cell_type": "markdown",
   "metadata": {},
   "source": [
    "> **Note the following:** \n",
    "> 1. This is *not* meant to be an example of an actual **model analysis project**, just an example of how to structure such a project.\n",
    "> 1. Remember the general advice on structuring and commenting your code\n",
    "> 1. The `modelproject.py` file includes a function which could be used multiple times in this notebook."
   ]
  },
  {
   "cell_type": "markdown",
   "metadata": {},
   "source": [
    "Imports and set magics:"
   ]
  },
  {
   "cell_type": "code",
   "execution_count": 28,
   "metadata": {},
   "outputs": [
    {
     "name": "stdout",
     "output_type": "stream",
     "text": [
      "The autoreload extension is already loaded. To reload it, use:\n",
      "  %reload_ext autoreload\n"
     ]
    }
   ],
   "source": [
    "import numpy as np\n",
    "from scipy import optimize\n",
    "import sympy as sm\n",
    "\n",
    "# autoreload modules when code is run\n",
    "%load_ext autoreload\n",
    "%autoreload 2\n",
    "\n",
    "# local modules\n",
    "import modelproject"
   ]
  },
  {
   "cell_type": "markdown",
   "metadata": {},
   "source": [
    "# Model description"
   ]
  },
  {
   "attachments": {},
   "cell_type": "markdown",
   "metadata": {},
   "source": [
    "**Write out the model in equations here.** \n",
    "\n",
    "Make sure you explain well the purpose of the model and comment so that other students who may not have seen it before can follow. \n",
    "\n",
    "We have chosen to work with the IS/LM model for analyzing the relationship between the money markets and the market for economic goods. We will therefore be able to analyze and describe how the aggregate market for real goods and financial markets interact in order to balance the interest rate.\n",
    "\n",
    "We have set up our IS/LM model below:"
   ]
  },
  {
   "cell_type": "code",
   "execution_count": 29,
   "metadata": {},
   "outputs": [
    {
     "name": "stdout",
     "output_type": "stream",
     "text": [
      "Result of IS equation: 877.5\n",
      "Result of LM equation: 4599.0\n"
     ]
    }
   ],
   "source": [
    "def IS_equation(Y, r, C, T, I, G):\n",
    "    \"\"\"IS curve equation\"\"\"\n",
    "    return Y - C(Y - T) - I(r) - G\n",
    "\n",
    "def LM_equation(Y, r, L):\n",
    "    \"\"\"LM curve equation\"\"\"\n",
    "    return L(Y, r) - M/P\n",
    "\n",
    "# Define other relevant functions and variables as needed\n",
    "\n",
    "# Example usage\n",
    "Y = 10000  # Initial guess for output\n",
    "r = 0.05  # Initial guess for interest rate, current rate from FED\n",
    "C = lambda Y: 500 + 0.75 * Y  # Consumption function\n",
    "T = 500  # Taxes\n",
    "I = lambda r: 1000 - 50 * r  # Investment function\n",
    "G = 500  # Government spending\n",
    "L = lambda Y, r: 0.5 * Y - 20 * r  # Money demand function\n",
    "M = 2000  # Money supply\n",
    "P = 5  # Price level\n",
    "\n",
    "result = IS_equation(Y, r, C, T, I, G)  # Evaluate IS equation at initial values\n",
    "print(\"Result of IS equation:\", result)\n",
    "\n",
    "result = LM_equation(Y, r, L)  # Evaluate LM equation at initial values\n",
    "print(\"Result of LM equation:\", result)\n"
   ]
  },
  {
   "cell_type": "markdown",
   "metadata": {},
   "source": [
    "## Analytical solution"
   ]
  },
  {
   "cell_type": "markdown",
   "metadata": {},
   "source": [
    "If your model allows for an analytical solution, you should provide here.\n",
    "\n",
    "You may use Sympy for this. Then you can characterize the solution as a function of a parameter of the model.\n",
    "\n",
    "To characterize the solution, first derive a steady state equation as a function of a parameter using Sympy.solve and then turn it into a python function by Sympy.lambdify. See the lecture notes for details. "
   ]
  },
  {
   "cell_type": "markdown",
   "metadata": {},
   "source": [
    "## Numerical solution"
   ]
  },
  {
   "cell_type": "markdown",
   "metadata": {},
   "source": [
    "You can always solve a model numerically. \n",
    "\n",
    "Define first the set of parameters you need. \n",
    "\n",
    "Then choose one of the optimization algorithms that we have gone through in the lectures based on what you think is most fitting for your model.\n",
    "\n",
    "Are there any problems with convergence? Does the model converge for all starting values? Make a lot of testing to figure these things out. "
   ]
  },
  {
   "cell_type": "code",
   "execution_count": 30,
   "metadata": {},
   "outputs": [
    {
     "ename": "IndentationError",
     "evalue": "expected an indented block (702664674.py, line 61)",
     "output_type": "error",
     "traceback": [
      "\u001b[1;36m  File \u001b[1;32m\"C:\\Users\\adamk\\AppData\\Local\\Temp\\ipykernel_12924\\702664674.py\"\u001b[1;36m, line \u001b[1;32m61\u001b[0m\n\u001b[1;33m    print(\"Equilibrium output:\", Y_solution)\u001b[0m\n\u001b[1;37m    ^\u001b[0m\n\u001b[1;31mIndentationError\u001b[0m\u001b[1;31m:\u001b[0m expected an indented block\n"
     ]
    }
   ],
   "source": [
    "def solve_IS_LM_model(Y_guess, r_guess, tol=1e-6, max_iter=100):\n",
    "    # Define the IS and LM equations and other necessary functions and variables\n",
    "    def IS_equation(Y, r, C, T, I, G):\n",
    "        # Implement the IS equation here\n",
    "        return Y - C(Y - T) - I(r) - G\n",
    "    def LM_equation(Y, r, L):\n",
    "        # Implement the LM equation here\n",
    "        return L(Y, r) - M/P\n",
    "    def I_prime(r):\n",
    "        # Implement the derivative of the investment function here\n",
    "        return -50\n",
    "    def L_prime_Y(Y, r):\n",
    "        # Implement the partial derivative of the money demand function with respect to output here\n",
    "        return 0.5\n",
    "    def L_prime_r(Y, r):\n",
    "        # Implement the partial derivative of the money demand function with respect to interest rate here\n",
    "        return -20\n",
    "    # Implement the solve_IS_LM function using the Newton-Raphson method\n",
    "    def solve_IS_LM(Y_guess, r_guess):\n",
    "        # Implement the Newton-Raphson method here\n",
    "        Y = Y_guess\n",
    "        r = r_guess\n",
    "        max_iter = 100\n",
    "        tolerance = 1e-6\n",
    "\n",
    "        for i in range(max_iter):\n",
    "            # Calculate the values of the IS and LM equations and their derivatives\n",
    "            IS = IS_equation(Y, r, C, T, I, G)\n",
    "            LM = LM_equation(Y, r, L)\n",
    "            IS_prime_Y = IS_prime_Y(Y, r, C, T)\n",
    "            IS_prime_r = IS_prime_r(Y, r, C)\n",
    "            LM_prime_Y = LM_prime_Y(Y, r, L)\n",
    "            LM_prime_r = LM_prime_r(Y, r, L)\n",
    "\n",
    "            # Calculate the Jacobian matrix\n",
    "            J = np.array([[IS_prime_Y, IS_prime_r], [LM_prime_Y, LM_prime_r]])\n",
    "\n",
    "            # Calculate the residuals\n",
    "            residuals = np.array([IS, LM])\n",
    "\n",
    "            # Solve the linear system J * delta = -residuals for delta\n",
    "            delta = np.linalg.solve(J, -residuals)\n",
    "\n",
    "            # Update the values of Y and r\n",
    "            Y += delta[0]\n",
    "            r += delta[1]\n",
    "\n",
    "            # Check convergence\n",
    "            if np.linalg.norm(delta) < tolerance:\n",
    "                return Y, r\n",
    "\n",
    "        # If the iteration does not converge within the maximum number of iterations, return None\n",
    "        return None, None\n",
    "\n",
    "    # Call the solve_IS_LM function to get the equilibrium values\n",
    "    Y_solution = solve_IS_LM(Y_guess)\n",
    "    r_solution = solve_IS_LM(r_guess)\n",
    "    return Y_solution, r_solution\n",
    "\n",
    "if Y_solution is not None:\n",
    "    print(\"Equilibrium output:\", Y_solution)\n",
    "    print(\"Equilibrium interest rate:\", r_solution)\n"
   ]
  },
  {
   "cell_type": "markdown",
   "metadata": {},
   "source": [
    "# Further analysis"
   ]
  },
  {
   "cell_type": "markdown",
   "metadata": {},
   "source": [
    "Make detailed vizualizations of how your model changes with parameter values. \n",
    "\n",
    "Try to make an extension of the model. "
   ]
  },
  {
   "cell_type": "markdown",
   "metadata": {},
   "source": [
    "# Conclusion"
   ]
  },
  {
   "cell_type": "markdown",
   "metadata": {},
   "source": [
    "Add concise conclusion. "
   ]
  }
 ],
 "metadata": {
  "kernelspec": {
   "display_name": "base",
   "language": "python",
   "name": "python3"
  },
  "language_info": {
   "codemirror_mode": {
    "name": "ipython",
    "version": 3
   },
   "file_extension": ".py",
   "mimetype": "text/x-python",
   "name": "python",
   "nbconvert_exporter": "python",
   "pygments_lexer": "ipython3",
   "version": "3.9.16"
  },
  "toc-autonumbering": true,
  "vscode": {
   "interpreter": {
    "hash": "47ef90cdf3004d3f859f1fb202523c65c07ba7c22eefd261b181f4744e2d0403"
   }
  }
 },
 "nbformat": 4,
 "nbformat_minor": 4
}
