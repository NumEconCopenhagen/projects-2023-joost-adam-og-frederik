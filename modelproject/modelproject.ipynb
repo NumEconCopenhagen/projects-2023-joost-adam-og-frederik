{
 "cells": [
  {
   "attachments": {},
   "cell_type": "markdown",
   "metadata": {},
   "source": [
    "# Modelling the OLG Model"
   ]
  },
  {
   "attachments": {},
   "cell_type": "markdown",
   "metadata": {},
   "source": [
    "> **Note the following:** \n",
    "> 1. This is *not* meant to be an example of an actual **model analysis project**, just an example of how to structure such a project.\n",
    "> 1. Remember the general advice on structuring and commenting your code\n",
    "> 1. The `modelproject.py` file includes a function which could be used multiple times in this notebook."
   ]
  },
  {
   "attachments": {},
   "cell_type": "markdown",
   "metadata": {},
   "source": [
    "Imports and set magics:"
   ]
  },
  {
   "cell_type": "code",
   "execution_count": 8,
   "metadata": {},
   "outputs": [
    {
     "name": "stdout",
     "output_type": "stream",
     "text": [
      "The autoreload extension is already loaded. To reload it, use:\n",
      "  %reload_ext autoreload\n"
     ]
    }
   ],
   "source": [
    "from types import SimpleNamespace\n",
    "from scipy import optimize\n",
    "import numpy as np\n",
    "import sympy as sm\n",
    "import matplotlib.pyplot as plt\n",
    "import ipywidgets as widgets\n",
    "\n",
    "# autoreload modules when code is run\n",
    "%load_ext autoreload\n",
    "%autoreload 2\n",
    "\n",
    "# local modules\n",
    "import OLGmodel"
   ]
  },
  {
   "attachments": {},
   "cell_type": "markdown",
   "metadata": {},
   "source": [
    "# Model description"
   ]
  },
  {
   "attachments": {},
   "cell_type": "markdown",
   "metadata": {},
   "source": [
    "We consider an OLG economy where identical competitive firms maximize their profits:"
   ]
  },
  {
   "attachments": {},
   "cell_type": "markdown",
   "metadata": {},
   "source": [
    "$$\n",
    "\\begin{aligned}\n",
    "\\pi_t & =\\max_{K_{t},L_t} AK_t^\\alpha L_t^{1-\\alpha}-r_tK_t-w_tL_t\\\\\n",
    "k_t=\\frac{K_t}{L_t} \n",
    "\\end{aligned}\n",
    "$$"
   ]
  },
  {
   "attachments": {},
   "cell_type": "markdown",
   "metadata": {},
   "source": [
    "**Demographics:** Population is constant, so $L_t=L_{t+1}$. A life consists of\n",
    "two periods, *young* and *old*."
   ]
  },
  {
   "attachments": {},
   "cell_type": "markdown",
   "metadata": {},
   "source": [
    "**Households:** Utility for the young households is:\n",
    "    \n",
    "$$\n",
    "\\begin{aligned}\n",
    "U_t & = \\log(c_{1t})+\\frac{1}{1+\\rho} \\log(c_{2t+1})\\\\\n",
    "\\end{aligned}\n",
    "$$\n",
    "\n",
    "With the following budget constraints for a Pay As You Go (PAYG) system:\n",
    "$$\n",
    "\\begin{aligned}\n",
    "c_{1t} = (1-\\tau)w_t-s_t\n",
    "\\\\\n",
    "c_{2t+1} = (1+r_{t+1})s_t+w_{t+1}\\tau\n",
    "\\end{aligned}\n",
    "$$"
   ]
  },
  {
   "attachments": {},
   "cell_type": "markdown",
   "metadata": {},
   "source": [
    "Budget constraints for fully funded (FF) system:\n",
    "$$\n",
    "\\begin{aligned}\n",
    "C_{1t} = (1-\\tau)w_t-s_t\n",
    "\\\\\n",
    "C_{2t+1} = (1+r_{t+1})(s_t+w_t\\tau)\n",
    "\\end{aligned}\n",
    "$$"
   ]
  },
  {
   "attachments": {},
   "cell_type": "markdown",
   "metadata": {},
   "source": [
    "**Steady state:**\n",
    "\n",
    "1. Firms maximize profits\n",
    "2. Finds Euler equation\n",
    "3. Insert budget constraints in Euler equation and isolate $s_t$\n",
    "3. Find capital per. capita accumulation: $k_{t+1}=(1-\\delta)k_t+s_t$\n",
    "4. In steady state $k_{t+1}=k_{t}=k^{*}$"
   ]
  },
  {
   "attachments": {},
   "cell_type": "markdown",
   "metadata": {},
   "source": [
    "**Capital:** We assume that the old spend their entrie savings, so $\\delta = 1 $."
   ]
  },
  {
   "attachments": {},
   "cell_type": "markdown",
   "metadata": {},
   "source": [
    "## Analytical solution"
   ]
  },
  {
   "attachments": {},
   "cell_type": "markdown",
   "metadata": {},
   "source": [
    "If your model allows for an analytical solution, you should provide here.\n",
    "\n",
    "You may use Sympy for this. Then you can characterize the solution as a function of a parameter of the model.\n",
    "\n",
    "To characterize the solution, first derive a steady state equation as a function of a parameter using Sympy.solve and then turn it into a python function by Sympy.lambdify. See the lecture notes for details. "
   ]
  },
  {
   "attachments": {},
   "cell_type": "markdown",
   "metadata": {},
   "source": [
    "**Implication of profit maximization:** From FOCs\n",
    "\n",
    "$$\n",
    "\\begin{aligned}\n",
    "r_t = \\alpha A k_t^{\\alpha-1} \\\\\n",
    "w_t = (1-\\alpha) A k_t^{\\alpha}\n",
    "\\end{aligned}\n",
    "$$\n"
   ]
  },
  {
   "attachments": {},
   "cell_type": "markdown",
   "metadata": {},
   "source": [
    "**Euler equation**: From budget constraints and utility function\n",
    "$$\n",
    "\\begin{aligned}\n",
    "c_{1t} = \\frac{1+\\rho}{1+r_{t+1}}c_{2t+1}\\\\\n",
    "\\leftrightarrow \\\\\n",
    "(1-\\tau)w_t-s_t = \\frac{1+\\rho}{1+r_{t+1}}((1+r_{t+1})s_t+w_{t+1}\\tau)\n",
    "\\end{aligned}\n",
    "$$"
   ]
  },
  {
   "attachments": {},
   "cell_type": "markdown",
   "metadata": {},
   "source": [
    "**Savings**: From the Euler equation\n",
    "$$\n",
    "\\begin{aligned}\n",
    "s_t = \\frac{1-\\rho}{2+\\rho}w_t - \\tau \\frac{1+\\rho}{(2+\\rho)(1+r_{t+1})}w_{t+1}\n",
    "\\end{aligned}\n",
    "$$"
   ]
  },
  {
   "attachments": {},
   "cell_type": "markdown",
   "metadata": {},
   "source": [
    "**Capital accumulation**:\n",
    "$$\n",
    "\\begin{aligned}\n",
    "k_{t+1} = s_t = \\frac{1-\\rho}{2+\\rho}w_t - \\tau \\frac{1+\\rho}{(2+\\rho)(1+r_{t+1})}w_{t+1}\\\\\n",
    "k_{t+1} = \\frac{(1-\\alpha)(1-\\tau)\\alpha}{(2+\\rho)\\alpha+(1+\\rho)(1-\\alpha)\\tau}A k_t^\\alpha \n",
    "\\end{aligned}\n",
    "$$"
   ]
  },
  {
   "attachments": {},
   "cell_type": "markdown",
   "metadata": {},
   "source": [
    "**Steady State**: From capital accumulation\n",
    "$$\n",
    "\\begin{aligned}\n",
    "k^* = (\\frac{(1-\\alpha)(1-\\tau)\\alpha}{(2+\\rho)\\alpha+(1+\\rho)(1-\\alpha)\\tau}A)^{\\frac{1}{1-\\alpha}}\n",
    "\\end{aligned}\n",
    "$$"
   ]
  },
  {
   "attachments": {},
   "cell_type": "markdown",
   "metadata": {},
   "source": [
    "## Numerical solution"
   ]
  },
  {
   "cell_type": "code",
   "execution_count": 15,
   "metadata": {},
   "outputs": [],
   "source": [
    "#Define parameters\n",
    "alpha = 0.3\n",
    "rho = 0.25\n",
    "tau = 0.2\n",
    "A = 8\n",
    "\n",
    "#let $k_t$ be in [0,50]\n",
    "k_t = np.linspace(0,100)\n",
    "\n",
    "#Defines capital accumulation and SS\n",
    "k_t1 = ((1-alpha)*(1-tau)*alpha)/((2+rho)*alpha+(1+rho)*(1-alpha)*tau)*A*k_t**alpha\n",
    "\n",
    "Kss = (((1-alpha)*(1-tau)*alpha)/((2+rho)*alpha+(1+rho)*(1-alpha)*tau)*A)**(1/(1-alpha))"
   ]
  },
  {
   "cell_type": "code",
   "execution_count": 14,
   "metadata": {},
   "outputs": [
    {
     "data": {
      "text/plain": [
       "<function matplotlib.pyplot.show(close=None, block=None)>"
      ]
     },
     "execution_count": 14,
     "metadata": {},
     "output_type": "execute_result"
    },
    {
     "data": {
      "image/png": "[encoded data removed]",
      "text/plain": [
       "<Figure size 640x480 with 1 Axes>"
      ]
     },
     "metadata": {},
     "output_type": "display_data"
    }
   ],
   "source": [
    "#Create plot\n",
    "plt.plot(k_t1)\n",
    "plt.title('Capital accumulation')\n",
    "plt.ylabel('k_t+1')\n",
    "plt.xlabel('k_t')\n",
    "plt.show"
   ]
  },
  {
   "cell_type": "code",
   "execution_count": 19,
   "metadata": {},
   "outputs": [
    {
     "name": "stdout",
     "output_type": "stream",
     "text": [
      "steady state:\n",
      "1.9242328868855298\n"
     ]
    }
   ],
   "source": [
    "#calulate steady state\n",
    "print('steady state:')\n",
    "print(Kss)"
   ]
  },
  {
   "attachments": {},
   "cell_type": "markdown",
   "metadata": {},
   "source": [
    "You can always solve a model numerically. \n",
    "\n",
    "Define first the set of parameters you need. \n",
    "\n",
    "Then choose one of the optimization algorithms that we have gone through in the lectures based on what you think is most fitting for your model.\n",
    "\n",
    "Are there any problems with convergence? Does the model converge for all starting values? Make a lot of testing to figure these things out. "
   ]
  },
  {
   "attachments": {},
   "cell_type": "markdown",
   "metadata": {},
   "source": [
    "# Further analysis"
   ]
  },
  {
   "attachments": {},
   "cell_type": "markdown",
   "metadata": {},
   "source": [
    "We would like to also have done it with fully funded system, but we did not have time"
   ]
  },
  {
   "attachments": {},
   "cell_type": "markdown",
   "metadata": {},
   "source": [
    "# Conclusion"
   ]
  },
  {
   "attachments": {},
   "cell_type": "markdown",
   "metadata": {},
   "source": [
    "Add concise conclusion. "
   ]
  }
 ],
 "metadata": {
  "kernelspec": {
   "display_name": "base",
   "language": "python",
   "name": "python3"
  },
  "language_info": {
   "codemirror_mode": {
    "name": "ipython",
    "version": 3
   },
   "file_extension": ".py",
   "mimetype": "text/x-python",
   "name": "python",
   "nbconvert_exporter": "python",
   "pygments_lexer": "ipython3",
   "version": "3.9.13"
  },
  "toc-autonumbering": true,
  "vscode": {
   "interpreter": {
    "hash": "af1f2526e3629d58cd9c41e625886bc09b4f7d726f91454e7dad230fb7861f03"
   }
  }
 },
 "nbformat": 4,
 "nbformat_minor": 4
}
