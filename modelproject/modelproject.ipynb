{
 "cells": [
  {
   "attachments": {},
   "cell_type": "markdown",
   "metadata": {},
   "source": [
    "# Modelling the OLG Model"
   ]
  },
  {
   "attachments": {},
   "cell_type": "markdown",
   "metadata": {},
   "source": [
    "# Introduction"
   ]
  },
  {
   "attachments": {},
   "cell_type": "markdown",
   "metadata": {},
   "source": [
    "We have chosen to analyze an Overlapping Generations model (**OLG**) in a Pay-As-You-Go (**PAYG**) and Fully Funded system. The OLG-model is widely used to study macroeconomic dynamics and economic growth in an economy.\n",
    "\n",
    "In contrast to e.g., a Ramsey-Cass-Koopman growth model where individuals are infinitely lived, an OLG-model assumes the agents in the economy to be finitely lived. That is, agents live for two \"periods\", first period when they are young and second period, when they are old. This makes the model a bit more realistic from our point of view, and therefore also more interesting to analyze.\n",
    "\n",
    "We employ the OLG-model to find the capital per. capita accumulation and capital per. capita in steady state, as well as the agents' intertemporal substitution elasticity expressed throught the Euler-equation.\n",
    "\n",
    "We will first look at the difference in the capital per. capita accumulation and capital per. capita in steady state between a PAYG and FF system in a simple OLG model. Further we will then make an extension to the simple OLG model, so it includes population growth, to see how the capital per. capita accumulation and capital per. capita in steady state for the PAYG and FF system differentiate from the simple OLG model. Finally, we will look at how the values of the parameters influence the accumulation of capital per. capita and capital per. capita in steady state for the PAYG and FF system."
   ]
  },
  {
   "attachments": {},
   "cell_type": "markdown",
   "metadata": {},
   "source": [
    "Imports and set magics:"
   ]
  },
  {
   "cell_type": "code",
   "execution_count": 15,
   "metadata": {},
   "outputs": [
    {
     "name": "stdout",
     "output_type": "stream",
     "text": [
      "The autoreload extension is already loaded. To reload it, use:\n",
      "  %reload_ext autoreload\n"
     ]
    }
   ],
   "source": [
    "from types import SimpleNamespace\n",
    "from scipy import optimize\n",
    "import numpy as np\n",
    "import sympy as sm\n",
    "import matplotlib.pyplot as plt\n",
    "import ipywidgets as widgets\n",
    "\n",
    "# autoreload modules when code is run\n",
    "%load_ext autoreload\n",
    "%autoreload 2\n",
    "\n"
   ]
  },
  {
   "attachments": {},
   "cell_type": "markdown",
   "metadata": {},
   "source": [
    "# Model description"
   ]
  },
  {
   "attachments": {},
   "cell_type": "markdown",
   "metadata": {},
   "source": [
    "**Firms**: In our OLG model the competitive firms are identical and maximize their profits:"
   ]
  },
  {
   "attachments": {},
   "cell_type": "markdown",
   "metadata": {},
   "source": [
    "$$\n",
    "\\begin{aligned}\n",
    "\\pi_t & =\\max_{K_{t},L_t} AK_t^\\alpha L_t^{1-\\alpha}-r_tK_t-w_tL_t\\\\\n",
    "\\end{aligned}\n",
    "$$\n",
    ", where $K_{t}$ is the capital used in production, $L_t$ is the labor employed in the production and $A$ is the technology level (constant). We use a Cobb-Douglas production-function, where $\\alpha$ represents the share of capital used in production, $\\alpha \\in (0, 1)$.\n",
    "\n",
    "We use, that \n",
    "$$\n",
    "\\begin{aligned}\n",
    "\\text{Capital per capita}: k_t & =\\frac{K_t}{L_t} \\\\\n",
    "\\text{Rent}:  r_t & = \\alpha A k_t^{\\alpha-1} \\\\\n",
    "\\text{Wage}: w_t & = (1-\\alpha) A k_t^{\\alpha}\n",
    "\\end{aligned}\n",
    "$$\n",
    "\n",
    "The wage and rent are equal to their respective marginal product "
   ]
  },
  {
   "attachments": {},
   "cell_type": "markdown",
   "metadata": {},
   "source": [
    "**Demographics:** In our OLG model life consists of two periods, $t$ and $t+1$. The households can either be young or old. When they are young they work, and when they are old they do not work. The young households therefore save some share of their wage for them to have when they are old. The population is also constant, so $L_t=L_{t+1}$."
   ]
  },
  {
   "attachments": {},
   "cell_type": "markdown",
   "metadata": {},
   "source": [
    "**Households:** Utility for the young households is:\n",
    "    \n",
    "$$\n",
    "\\begin{aligned}\n",
    "U_t & = \\log(c_{1t})+\\frac{1}{1+\\rho} \\log(c_{2t+1})\\\\\n",
    "\\end{aligned}\n",
    "$$\n",
    ", where $\\rho$ represents the patience of young households between consumption in the first period (when young) and second period (when old). The higher $\\rho$ is the more impatient the young households is, $\\rho \\in (0,1)$."
   ]
  },
  {
   "attachments": {},
   "cell_type": "markdown",
   "metadata": {},
   "source": [
    "**Pension systems:** We implement two different pension systems, PAYG and FF, which affect the budget constraints.\n",
    "\n",
    "In the PAYG system the young households must contribute a share of their wage/income, $\\tau \\in (0,1)$, to the old households, in the same period as them. \n",
    "The following budget constraints is for the Pay As You Go (PAYG) system:\n",
    "$$\n",
    "\\begin{aligned}\n",
    "c_{1t} & = (1-\\tau)w_t-s_t\n",
    "\\\\\n",
    "c_{2t+1} & = (1+r_{t+1})s_t+w_{t+1}\\tau\n",
    "\\end{aligned}\n",
    "$$\n",
    ", where $c_{1t}$ is consumption in the first period (when young) and $c_{2t+1}$ is consumption in the second period (when old). $s_t$ is the savings the young households make, which they will recieve when they are old in the next period. They invest their savings in capital, so they get an interest, $r_{t+1}$, on their savings. \n",
    "\n",
    "In the FF system the young households must contribute a share of their wage/income, $\\tau \\in (0,1)$, but now it is for themselves when they are old in the next period. \n",
    "The following budget constraints is for a Fully Funded (FF) system:\n",
    "$$\n",
    "\\begin{aligned}\n",
    "c_{1t} & = (1-\\tau)w_t-s_t\n",
    "\\\\\n",
    "c_{2t+1} & = (1+r_{t+1})(s_t+w_{t+1}\\tau)\n",
    "\\end{aligned}\n",
    "$$\n",
    ", because the contribution from the young households functions as the saving, they invest the their contribution in capital and receive an interest in the next period, when they are old, just like their savings. We assume the interest for the saving and contribution to be the same.\n"
   ]
  },
  {
   "attachments": {},
   "cell_type": "markdown",
   "metadata": {},
   "source": [
    "**Capital:** We assume that the old spend their entrie savings, so $\\delta = 1 $."
   ]
  },
  {
   "attachments": {},
   "cell_type": "markdown",
   "metadata": {},
   "source": [
    "**Steady state:**\n",
    "\n",
    "1. Find Euler equation\n",
    "2. Find $s_t$ in the Euler equation by inserting the budget constraints, then $r_{t}, r_{t+1}, w_t, w_{t+1}$ and at last isolate $s_t$\n",
    "3. Find capital per. capita accumulation: $k_{t+1}=(1-\\delta)k_t+s_t$ in PAYG and $k_{t+1}=(1-\\delta)k_t+s_t+\\tau w_t$ in FF.\n",
    "4. In steady state $k_{t+1}=k_{t}=k^{*}$"
   ]
  },
  {
   "attachments": {},
   "cell_type": "markdown",
   "metadata": {},
   "source": [
    "## Analytical solutions for PAYG and FF system"
   ]
  },
  {
   "cell_type": "code",
   "execution_count": 16,
   "metadata": {},
   "outputs": [],
   "source": [
    "#define symbols \n",
    "alpha = sm.symbols('alpha')\n",
    "k_t = sm.symbols('k_t')\n",
    "k_t1 = sm.symbols('k_{t+1}')\n",
    "k_ss = sm.symbols('k^*')\n",
    "A = sm.symbols('A')\n",
    "w_t = sm.symbols('w_t')\n",
    "w_t1 = sm.symbols('w_{t+1}') \n",
    "r_t = sm.symbols('r_{t+1}')\n",
    "r_t1 = sm.symbols('r_{t+1}')\n",
    "s_t = sm.symbols('s_t') \n",
    "tau = sm.symbols('tau')\n",
    "c_1t = sm.symbols('c_1t') \n",
    "c_2t = sm.symbols('c_{2t+1}') \n",
    "rho = sm.symbols('rho') \n",
    "lambdaa = sm.symbols('lambda')\n",
    "U_t = sm.symbols('U_t')\n",
    "\n",
    "#define rent and wage in period t and t+1\n",
    "rent_t = alpha*A*k_t**(alpha-1)\n",
    "rent_t1 = alpha*A*k_t1**(alpha-1)\n",
    "wage_t = (1-alpha)*A*k_t**alpha\n",
    "wage_t1 = (1-alpha)*A*k_t1**alpha"
   ]
  },
  {
   "attachments": {},
   "cell_type": "markdown",
   "metadata": {},
   "source": [
    "**Euler equation:**"
   ]
  },
  {
   "cell_type": "code",
   "execution_count": 17,
   "metadata": {},
   "outputs": [
    {
     "name": "stdout",
     "output_type": "stream",
     "text": [
      "Euler equation in the PAYG system:\n"
     ]
    },
    {
     "data": {
      "text/latex": [
       "$\\displaystyle c_{1t} = \\frac{c_{2t+1} \\left(\\rho + 1\\right)}{r_{t+1} + 1}$"
      ],
      "text/plain": [
       "Eq(c_1t, c_{2t+1}*(rho + 1)/(r_{t+1} + 1))"
      ]
     },
     "metadata": {},
     "output_type": "display_data"
    },
    {
     "name": "stdout",
     "output_type": "stream",
     "text": [
      "\n",
      "Euler equation in the FF system:\n"
     ]
    },
    {
     "data": {
      "text/latex": [
       "$\\displaystyle c_{1t} = \\frac{c_{2t+1} \\left(\\rho + 1\\right)}{r_{t+1} + 1}$"
      ],
      "text/plain": [
       "Eq(c_1t, c_{2t+1}*(rho + 1)/(r_{t+1} + 1))"
      ]
     },
     "metadata": {},
     "output_type": "display_data"
    }
   ],
   "source": [
    "#define utility function and budget constraints for PAYG and FF systems\n",
    "u = sm.log(c_1t) + 1/(1+rho)*sm.log(c_2t)\n",
    "con1 = sm.Eq(c_1t+s_t, (1-tau)*w_t)\n",
    "con2_payg = sm.Eq(c_2t, (1+r_t1)*s_t+tau*w_t1)\n",
    "con2_FF = sm.Eq(c_2t, (1+r_t1)*s_t+(1+r_t1)*tau*w_t)\n",
    "\n",
    "#isolate s_t in con2 and substitute it into con1, so we end up with one budget constraint for both systems\n",
    "st_con2_PAYG = sm.solve(con2_payg, s_t)\n",
    "st_con2_FF = sm.solve(con2_FF, s_t)\n",
    "con1_sub_PAYG = con1.subs(s_t, st_con2_PAYG[0])\n",
    "con1_sub_FF = con1.subs(s_t, st_con2_FF[0])\n",
    "\n",
    "# Move right side of budget constraint to the left side for both systems\n",
    "con_final_PAYG = sm.solve(con1_sub_PAYG, (1-tau)*w_t)[0] - (1-tau)*w_t\n",
    "con_final_FF = sm.solve(con1_sub_FF, (1-tau)*w_t)[0] - (1-tau)*w_t\n",
    "\n",
    "\n",
    "#Define lagrangian function with u and con_final for both systems\n",
    "lagrangian_func_PAYG = u - lambdaa*con_final_PAYG\n",
    "lagrangian_func_FF = u - lambdaa*con_final_FF\n",
    "\n",
    "#Take the derivative wrt. c_1t and c_2t for both lagrangian function\n",
    "foc1_PAYG = sm.diff(lagrangian_func_PAYG, c_1t)\n",
    "foc2_PAYG = sm.diff(lagrangian_func_PAYG, c_2t)\n",
    "foc1_FF = sm.diff(lagrangian_func_FF, c_1t)\n",
    "foc2_FF = sm.diff(lagrangian_func_FF, c_2t)\n",
    "\n",
    "#isolate lambda in the derivatives\n",
    "iso_foc1_PAYG = sm.solve(foc1_PAYG,lambdaa)[0]\n",
    "iso_foc2_PAYG = sm.solve(foc2_PAYG,lambdaa)[0]\n",
    "iso_foc1_FF = sm.solve(foc1_FF,lambdaa)[0]\n",
    "iso_foc2_FF = sm.solve(foc2_FF,lambdaa)[0]\n",
    "\n",
    "#set the two isolate lamdaa equal to each other for both systems, so we get two Euler equation\n",
    "euler_PAYG = sm.Eq(iso_foc1_PAYG,iso_foc2_PAYG)\n",
    "final_euler_PAYG = sm.Eq(c_1t,sm.solve(euler_PAYG,c_1t)[0])\n",
    "euler_FF = sm.Eq(iso_foc1_FF,iso_foc2_FF)\n",
    "final_euler_FF = sm.Eq(c_1t,sm.solve(euler_FF,c_1t)[0])\n",
    "\n",
    "print('Euler equation in the PAYG system:')\n",
    "display(final_euler_PAYG)\n",
    "print('')\n",
    "print('Euler equation in the FF system:')\n",
    "display(final_euler_FF)"
   ]
  },
  {
   "attachments": {},
   "cell_type": "markdown",
   "metadata": {},
   "source": [
    "We see that the Euler equation is the same for both the PAYG and FF system"
   ]
  },
  {
   "attachments": {},
   "cell_type": "markdown",
   "metadata": {},
   "source": [
    "**Savings $(s_t)$**: From Euler equation\n"
   ]
  },
  {
   "cell_type": "code",
   "execution_count": 18,
   "metadata": {},
   "outputs": [
    {
     "name": "stdout",
     "output_type": "stream",
     "text": [
      "Savings in the PAYG system:\n"
     ]
    },
    {
     "data": {
      "text/latex": [
       "$\\displaystyle s_{t} = \\frac{- r_{t+1} \\tau w_{t} + r_{t+1} w_{t} - \\rho \\tau w_{t+1} - \\tau w_{t} - \\tau w_{t+1} + w_{t}}{r_{t+1} \\rho + 2 r_{t+1} + \\rho + 2}$"
      ],
      "text/plain": [
       "Eq(s_t, (-r_{t+1}*tau*w_t + r_{t+1}*w_t - rho*tau*w_{t+1} - tau*w_t - tau*w_{t+1} + w_t)/(r_{t+1}*rho + 2*r_{t+1} + rho + 2))"
      ]
     },
     "metadata": {},
     "output_type": "display_data"
    },
    {
     "name": "stdout",
     "output_type": "stream",
     "text": [
      "\n",
      "Savings in the FF system:\n"
     ]
    },
    {
     "data": {
      "text/latex": [
       "$\\displaystyle s_{t} = \\frac{w_{t} \\left(- \\rho \\tau - 2 \\tau + 1\\right)}{\\rho + 2}$"
      ],
      "text/plain": [
       "Eq(s_t, w_t*(-rho*tau - 2*tau + 1)/(rho + 2))"
      ]
     },
     "metadata": {},
     "output_type": "display_data"
    }
   ],
   "source": [
    "#isolate c_1t and c_2t in budget constraints for both systems and substitute it into Euler equation \n",
    "iso_con1 = sm.solve(con1,c_1t)[0]\n",
    "iso_con2_payg = sm.solve(con2_payg,c_2t)[0]\n",
    "iso_con2_FF = sm.solve(con2_FF,c_2t)[0]\n",
    "savings_PAYG = final_euler_PAYG.subs(c_1t,iso_con1).subs(c_2t, iso_con2_payg)\n",
    "savings_FF = final_euler_FF.subs(c_1t,iso_con1).subs(c_2t, iso_con2_FF)\n",
    "\n",
    "#isolate s_t in savings for both systems\n",
    "final_savings_PAYG = sm.Eq(s_t, sm.solve(savings_PAYG,s_t)[0])\n",
    "final_savings_FF = sm.Eq(s_t, sm.solve(savings_FF,s_t)[0])\n",
    "print('Savings in the PAYG system:')\n",
    "display(final_savings_PAYG)\n",
    "print('')\n",
    "print('Savings in the FF system:')\n",
    "display(final_savings_FF)"
   ]
  },
  {
   "attachments": {},
   "cell_type": "markdown",
   "metadata": {},
   "source": [
    "We would liked to have a more simplified equation for $s_t$ in the PAYG system, as for example: \n",
    "$$\n",
    "\\begin{aligned}\n",
    "s_t = \\frac{1-\\rho}{2+\\rho}w_t - \\tau \\frac{1+\\rho}{(2+\\rho)(1+r_{t+1})}w_{t+1}\n",
    "\\end{aligned}\n",
    "$$\n",
    ", but Sympy/Python cannot do that for us. They are still the same, one is just more simplified.\n",
    "\n",
    "We would again like to have a more simplified equation for $s_t$ in the FF system, as for example:\n",
    "$$\n",
    "\\begin{aligned}\n",
    "s_t = (\\frac{1}{2+\\rho}-\\tau)w_t\n",
    "\\end{aligned}\n",
    "$$\n",
    ", but Sympy/Python cannot do that for us. They are still the same, one is just more simplified. "
   ]
  },
  {
   "attachments": {},
   "cell_type": "markdown",
   "metadata": {},
   "source": [
    "**Capital accumulation**: from savings as $k_{t+1}=s_t$ in PAYG and $k_{t+1}=s_t+w_t\\tau$ in FF"
   ]
  },
  {
   "cell_type": "code",
   "execution_count": 19,
   "metadata": {},
   "outputs": [
    {
     "name": "stdout",
     "output_type": "stream",
     "text": [
      "almost capital accumulation in the PAYG system:\n"
     ]
    },
    {
     "data": {
      "text/latex": [
       "$\\displaystyle k_{t+1} = \\frac{- A^{2} \\alpha k_{t}^{\\alpha} k_{t+1}^{\\alpha - 1} \\tau \\left(1 - \\alpha\\right) + A^{2} \\alpha k_{t}^{\\alpha} k_{t+1}^{\\alpha - 1} \\cdot \\left(1 - \\alpha\\right) - A k_{t}^{\\alpha} \\tau \\left(1 - \\alpha\\right) + A k_{t}^{\\alpha} \\left(1 - \\alpha\\right) - A k_{t+1}^{\\alpha} \\rho \\tau \\left(1 - \\alpha\\right) - A k_{t+1}^{\\alpha} \\tau \\left(1 - \\alpha\\right)}{A \\alpha k_{t+1}^{\\alpha - 1} \\rho + 2 A \\alpha k_{t+1}^{\\alpha - 1} + \\rho + 2}$"
      ],
      "text/plain": [
       "Eq(k_{t+1}, (-A**2*alpha*k_t**alpha*k_{t+1}**(alpha - 1)*tau*(1 - alpha) + A**2*alpha*k_t**alpha*k_{t+1}**(alpha - 1)*(1 - alpha) - A*k_t**alpha*tau*(1 - alpha) + A*k_t**alpha*(1 - alpha) - A*k_{t+1}**alpha*rho*tau*(1 - alpha) - A*k_{t+1}**alpha*tau*(1 - alpha))/(A*alpha*k_{t+1}**(alpha - 1)*rho + 2*A*alpha*k_{t+1}**(alpha - 1) + rho + 2))"
      ]
     },
     "metadata": {},
     "output_type": "display_data"
    }
   ],
   "source": [
    "#substitute s_t with k_t1 in both savings equations\n",
    "cap_acc_PAYG = sm.Eq(k_t1, sm.solve(savings_PAYG,s_t)[0])\n",
    "cap_acc_FF = sm.Eq(k_t1, sm.solve(savings_FF,s_t)[0] + tau*w_t)\n",
    "\n",
    "#substitute w_t, w_t1 and r_t1 with wage_t, wage_t1 and rent_t1 in both of the above equations\n",
    "sub_cap_acc_PAYG = (((cap_acc_PAYG.subs(w_t,wage_t)).subs(w_t1,wage_t1)).subs(r_t1,rent_t1)).subs(s_t,k_t1)\n",
    "final_cap_acc_FF = cap_acc_FF.subs(w_t,wage_t)\n",
    "\n",
    "#isolate k_t1 in sub_cap_acc_PAYG, but sympy can't do it since it did not simplifed final_savings (too complex)\n",
    "\"final_cap_acc_PAYG = sm.solve(sub_cap_acc_PAYG,k_t1)\"\n",
    "\n",
    "#Instead we show\n",
    "print('almost capital accumulation in the PAYG system:')\n",
    "display(sub_cap_acc_PAYG)\n",
    "\n"
   ]
  },
  {
   "attachments": {},
   "cell_type": "markdown",
   "metadata": {},
   "source": [
    "If sympy could have isolated $k_t1$ in sub_cap_acc, then we would have gotten a very complex edition of \n",
    "$$\n",
    "\\begin{aligned}\n",
    "k_{t+1} = \\frac{(1-\\alpha)(1-\\tau)\\alpha}{(2+\\rho)\\alpha+(1+\\rho)(1-\\alpha)\\tau}A k_t^\\alpha \n",
    "\\end{aligned}\n",
    "$$\n",
    ", but they would still be the same.\n",
    "\n",
    "We will go by the simplified capital accumulation above for the rest of the project"
   ]
  },
  {
   "cell_type": "code",
   "execution_count": 20,
   "metadata": {},
   "outputs": [
    {
     "name": "stdout",
     "output_type": "stream",
     "text": [
      "Capital accumulation in the PAYG system:\n"
     ]
    },
    {
     "data": {
      "text/latex": [
       "$\\displaystyle k_{t+1} = \\frac{A \\alpha k_{t}^{\\alpha} \\left(1 - \\alpha\\right) \\left(1 - \\tau\\right)}{\\alpha \\left(\\rho + 2\\right) + \\tau \\left(1 - \\alpha\\right) \\left(\\rho + 1\\right)}$"
      ],
      "text/plain": [
       "Eq(k_{t+1}, A*alpha*k_t**alpha*(1 - alpha)*(1 - tau)/(alpha*(rho + 2) + tau*(1 - alpha)*(rho + 1)))"
      ]
     },
     "metadata": {},
     "output_type": "display_data"
    },
    {
     "name": "stdout",
     "output_type": "stream",
     "text": [
      "\n",
      "Capital accumulation in the FF system:\n"
     ]
    },
    {
     "data": {
      "text/latex": [
       "$\\displaystyle k_{t+1} = A k_{t}^{\\alpha} \\tau \\left(1 - \\alpha\\right) + \\frac{A k_{t}^{\\alpha} \\left(1 - \\alpha\\right) \\left(- \\rho \\tau - 2 \\tau + 1\\right)}{\\rho + 2}$"
      ],
      "text/plain": [
       "Eq(k_{t+1}, A*k_t**alpha*tau*(1 - alpha) + A*k_t**alpha*(1 - alpha)*(-rho*tau - 2*tau + 1)/(rho + 2))"
      ]
     },
     "metadata": {},
     "output_type": "display_data"
    }
   ],
   "source": [
    "final_cap_acc_PAYG = sm.Eq(k_t1, (1-alpha)*(1-tau)*alpha/((2+rho)*alpha+(1+rho)*(1-alpha)*tau)*A*k_t**alpha)\n",
    "print('Capital accumulation in the PAYG system:')\n",
    "display(final_cap_acc_PAYG)\n",
    "print('')\n",
    "print('Capital accumulation in the FF system:')\n",
    "display(final_cap_acc_FF)"
   ]
  },
  {
   "attachments": {},
   "cell_type": "markdown",
   "metadata": {},
   "source": [
    "**Steady State**: From capital accumulation as $k_{t+1}=k_t=k^*$"
   ]
  },
  {
   "cell_type": "code",
   "execution_count": 21,
   "metadata": {},
   "outputs": [
    {
     "name": "stdout",
     "output_type": "stream",
     "text": [
      "Steady state in the PAYG system:\n"
     ]
    },
    {
     "data": {
      "text/latex": [
       "$\\displaystyle k^{*} = \\left(\\frac{- \\alpha \\rho \\tau + \\alpha \\rho - \\alpha \\tau + 2 \\alpha + \\rho \\tau + \\tau}{A \\alpha \\left(\\alpha \\tau - \\alpha - \\tau + 1\\right)}\\right)^{\\frac{1}{\\alpha - 1}}$"
      ],
      "text/plain": [
       "Eq(k^*, ((-alpha*rho*tau + alpha*rho - alpha*tau + 2*alpha + rho*tau + tau)/(A*alpha*(alpha*tau - alpha - tau + 1)))**(1/(alpha - 1)))"
      ]
     },
     "metadata": {},
     "output_type": "display_data"
    },
    {
     "name": "stdout",
     "output_type": "stream",
     "text": [
      "\n",
      "Steady state in the FF system:\n"
     ]
    },
    {
     "data": {
      "text/latex": [
       "$\\displaystyle k^{*} = \\left(A \\left(1 - \\alpha\\right) \\left(\\tau + \\frac{- \\rho \\tau - 2 \\tau + 1}{\\rho + 2}\\right)\\right)^{\\frac{1}{1 - \\alpha}}$"
      ],
      "text/plain": [
       "Eq(k^*, (A*(1 - alpha)*(tau + (-rho*tau - 2*tau + 1)/(rho + 2)))**(1/(1 - alpha)))"
      ]
     },
     "metadata": {},
     "output_type": "display_data"
    }
   ],
   "source": [
    "#substitute k_t1 and k_t with k_ss in both of the capial accumulations\n",
    "ss_PAYG = (final_cap_acc_PAYG.subs(k_t1,k_ss)).subs(k_t,k_ss)\n",
    "ss_FF = (final_cap_acc_FF.subs(k_t1,k_ss)).subs(k_t,k_ss)\n",
    "\n",
    "#isolate k_ss in both of the capial accumulations after the substitution\n",
    "final_ss_PAYG = sm.Eq(k_ss, sm.solve(ss_PAYG,k_ss)[0])\n",
    "'final_ss_FF = sm.Eq(k_ss, sm.solve(ss_FF,k_ss)[0])' #No algorithms are implemented to solve the equation, so we do it by hand\n",
    "final_ss_FF = sm.Eq(k_ss, (((-rho*tau - 2*tau + 1)/(rho + 2)+tau)*(1-alpha)*A)**(1/(1-alpha)))\n",
    "print('Steady state in the PAYG system:')\n",
    "display(final_ss_PAYG)\n",
    "print('')\n",
    "print('Steady state in the FF system:')\n",
    "display(final_ss_FF)"
   ]
  },
  {
   "attachments": {},
   "cell_type": "markdown",
   "metadata": {},
   "source": [
    "## Numerical solution"
   ]
  },
  {
   "cell_type": "code",
   "execution_count": 22,
   "metadata": {},
   "outputs": [
    {
     "data": {
      "image/png": "[encoded data removed]",
      "text/plain": [
       "<Figure size 640x480 with 1 Axes>"
      ]
     },
     "metadata": {},
     "output_type": "display_data"
    },
    {
     "name": "stdout",
     "output_type": "stream",
     "text": [
      "steady state in the PAYG system = 2.647\n",
      "steady state in the FF system = 5.060\n"
     ]
    }
   ],
   "source": [
    "#Define some baseline parameters\n",
    "alpha = 0.3\n",
    "rho = 0.25\n",
    "tau = 0.2\n",
    "n = 0.02\n",
    "A = 10\n",
    "\n",
    "#we let $k_t$ be in [0,50]\n",
    "k_t = np.linspace(0,10, 1000)\n",
    "\n",
    "#We define the two capital accumulations and steady states from our analytical solutions\n",
    "k_t1_PAYG = ((1-alpha)*(1-tau)*alpha)/((2+rho)*alpha+(1+rho)*(1-alpha)*tau)*A*k_t**alpha\n",
    "ss_k_PAYG = ((-alpha*rho*tau+alpha*rho-alpha*tau+2*alpha+rho*tau+tau)/(A*alpha*(alpha*tau-alpha-tau+1)))**(1/(alpha-1))\n",
    "k_t1_FF = ((1-rho*tau-2*tau)/(2+rho))*(1-alpha)*A*k_t**alpha+tau*(1-alpha)*A*k_t**alpha\n",
    "ss_k_FF = (((-rho*tau - 2*tau + 1)/(rho + 2)+tau)*(1-alpha)*A)**(1/(1-alpha))\n",
    "\n",
    "#Create plot\n",
    "plt.plot(k_t,k_t1_PAYG, label='PAYG')\n",
    "plt.plot(k_t,k_t, label='45 degree line')\n",
    "plt.plot(k_t,k_t1_FF, label='FF')\n",
    "plt.title('Capital accumulation')\n",
    "plt.ylabel('k_t+1')\n",
    "plt.xlabel('k_t')\n",
    "plt.legend()\n",
    "plt.grid(True)\n",
    "plt.show()\n",
    "\n",
    "#calulate the two steady states\n",
    "print(f'steady state in the PAYG system = {ss_k_PAYG:.3f}')\n",
    "print(f'steady state in the FF system = {ss_k_FF:.3f}')"
   ]
  },
  {
   "attachments": {},
   "cell_type": "markdown",
   "metadata": {},
   "source": [
    "We see that there is a larger amount of capital accumulation per capita in the Fully Funded system than in the PAY-AS-YOU-GO system, which results in a higher capital per capita in steady state in the Fully Funded system than in a the PAY-AS-YOU-GO system. This happens because in the Fully Funded system, contributions from the young households are invested in capital in period $t$, and then in period t+1, when the young from period $t$ now are the old households, they receive their contribution with interest. In contrast to the PAY-AS-YOU-GO system, where the contributions from the young households are not involved with capital/investing, but instead are given directly to the old households in the same period."
   ]
  },
  {
   "attachments": {},
   "cell_type": "markdown",
   "metadata": {},
   "source": [
    "# Further analysis"
   ]
  },
  {
   "attachments": {},
   "cell_type": "markdown",
   "metadata": {},
   "source": [
    "**Extension of the OLG model: Population growth**\n",
    "\n",
    "We now perform an extension to our OLG model, so population is no longer constant, but instead growing. The population grows constant with $n$ for every period, so $L_{t+1}=(1+n)L_t$.\n",
    "\n",
    "Capital accumulation with population growth is in\n",
    "\n",
    "PAYG system: $k_{t+1}(1+n)=(1-\\delta)k_t+s_t$ \n",
    "\n",
    "FF system: $k_{t+1}(1+n)=(1-\\delta)k_t+s_t+w_t\\tau$\n",
    "\n",
    ",but we do still assume that the old spend their entrie savings, so $\\delta = 1 $."
   ]
  },
  {
   "cell_type": "code",
   "execution_count": 23,
   "metadata": {},
   "outputs": [
    {
     "data": {
      "image/png": "[encoded data removed]",
      "text/plain": [
       "<Figure size 640x480 with 1 Axes>"
      ]
     },
     "metadata": {},
     "output_type": "display_data"
    }
   ],
   "source": [
    "#We define the capital accumulation after the extension in both systems, by multiple both with 1/(1+n)\n",
    "ex_k_t1_PAYG = (1/(1+n))*(((1-alpha)*(1-tau)*alpha)/((2+rho)*alpha+(1+rho)*(1-alpha)*tau)*A*k_t**alpha)\n",
    "ex_k_t1_FF = (1/(1+n))*(((1-rho*tau-2*tau)/(2+rho))*(1-alpha)*A*k_t**alpha+tau*(1-alpha)*A*k_t**alpha)\n",
    "\n",
    "plt.plot(k_t,ex_k_t1_PAYG, label='PAYG with pop. growth')\n",
    "plt.plot(k_t,k_t, label='45 degree line')\n",
    "plt.plot(k_t,ex_k_t1_FF, label='FF with pop. growth')\n",
    "plt.plot(k_t,k_t1_PAYG, label='PAYG')\n",
    "plt.plot(k_t,k_t1_FF, label='FF')\n",
    "plt.title('Capital accumulation')\n",
    "plt.ylabel('k_t+1')\n",
    "plt.xlabel('k_t')\n",
    "plt.legend()\n",
    "plt.grid(True)\n",
    "plt.show()"
   ]
  },
  {
   "attachments": {},
   "cell_type": "markdown",
   "metadata": {},
   "source": [
    "We can see that after we extend our OLG model with population growth the accumulation of capital per capita becomes lower in both systems, which results in a lower capital per capita in steady state in both systems. This happens because a bigger population hollows out the total capital, which results in a lower level of capital per capita."
   ]
  },
  {
   "attachments": {},
   "cell_type": "markdown",
   "metadata": {},
   "source": [
    "**Capital accumulation and steady state with different parameter-values (focus on tau)**"
   ]
  },
  {
   "cell_type": "code",
   "execution_count": 24,
   "metadata": {},
   "outputs": [
    {
     "data": {
      "application/vnd.jupyter.widget-view+json": {
       "model_id": "b71c30e44c5e4b08a7bbb99e076d0b19",
       "version_major": 2,
       "version_minor": 0
      },
      "text/plain": [
       "interactive(children=(FloatSlider(value=0.3, description='alpha', max=1.0, min=0.1, step=0.05), FloatSlider(va…"
      ]
     },
     "metadata": {},
     "output_type": "display_data"
    }
   ],
   "source": [
    "#Create a interactive figure \n",
    "def plot(alpha=0.3, tau = 0.2, rho = 0.25, A = 10, n=0.02):  \n",
    "    alpha = alpha\n",
    "    tau = tau\n",
    "    rho = rho\n",
    "    n = n\n",
    "    k_t = np.linspace(0,50, 1000)\n",
    "    k_t1_PAYG = ((1-alpha)*(1-tau)*alpha)/((2+rho)*alpha+(1+rho)*(1-alpha)*tau)*A*k_t**alpha\n",
    "    k_t1_FF = ((1-rho*tau-2*tau)/(2+rho))*(1-alpha)*A*k_t**alpha+tau*(1-alpha)*A*k_t**alpha\n",
    "    ex_k_t1_PAYG = (1/(1+n))*(((1-alpha)*(1-tau)*alpha)/((2+rho)*alpha+(1+rho)*(1-alpha)*tau)*A*k_t**alpha)\n",
    "    ex_k_t1_FF = (1/(1+n))*(((1-rho*tau-2*tau)/(2+rho))*(1-alpha)*A*k_t**alpha+tau*(1-alpha)*A*k_t**alpha)\n",
    "    fig = plt.figure()\n",
    "    ax1 = fig.add_subplot(1,1,1)\n",
    "    ax1.plot(k_t,ex_k_t1_PAYG, label='PAYG with pop. growth')\n",
    "    ax1.plot(k_t,ex_k_t1_FF, label='FF with pop. growth')\n",
    "    ax1.plot(k_t,k_t, label='45 degree line')\n",
    "    plt.title('Capital accumulation for different parameter-values')\n",
    "    ax1.set_xlabel(\"$k_t$\")\n",
    "    ax1.set_ylabel(\"$k_{t+1}$\")\n",
    "    ax1.legend()\n",
    "    ax1.set_xlim(0, 10)\n",
    "    ax1.set_ylim(0, 10)\n",
    "    plt.grid(True)\n",
    "    plt.show()\n",
    "    \n",
    "def plot_interact():\n",
    "    widgets.interact(plot,\n",
    "                \n",
    "                 alpha=widgets.FloatSlider(\n",
    "                     description=\"alpha\", min=0.1, max=1, step=0.05, value=0.3),\n",
    "                 tau=widgets.FloatSlider(\n",
    "                     description=\"tau\", min=0.1, max=1, step=0.05, value=0.2),\n",
    "                 rho=widgets.FloatSlider(\n",
    "                     description=\"rho\", min=0.1, max=1, step=0.05, value=0.25),\n",
    "                 A=widgets.FloatSlider(\n",
    "                     description=\"A\", min=0, max=20, step=1, value=10),\n",
    "                 n=widgets.FloatSlider(\n",
    "                     description=\"n\", min=0.001, max=0.5, step=0.005, value=0.02)\n",
    "\n",
    "                    \n",
    "    );\n",
    "\n",
    "plot_interact()"
   ]
  },
  {
   "attachments": {},
   "cell_type": "markdown",
   "metadata": {},
   "source": [
    "When $A$ increases then accumulation of capital per capita and capital per capita in steady state increases in both systems and vice versa. The intuition behind this is, that a higher technology level increases the marginal product of capital and labor and therefore the rent and wage, which leads to higher savings and contribution, which results in increased accumulation of capital per capita and capital per capita in steady state, ceteris paribus.\n",
    "\n",
    "When $\\rho$ increases then accumulation of capital per capita and capital per capita in steady state decreases in both systems and vice versa. The intuition behind this is, that a higher level of impatience for the young households lead to higher consumption when they are young, and lower consumption, when they are old, ceteris paribus. For that to happen the young households must reduce their savings, which decreases the accumulation of capital per capita and capital per capita in steady state, ceteris paribus.\n",
    "\n",
    "When $n$ increases then accumulation of capital per capita and capital per capita in steady state decreases in both systems and vice versa. The intuition behind this is, that a higher level population growth lead a higher population level and therefore a greater hollow out of total capital, which results in a lower level of capital per capita. \n",
    "\n",
    "When $\\tau$ increases then the accumulation of capital per capita and capital per capita in steady state decreases in the PAYG systems and vice versa, but has not effect in the FF system. The intuition behind is that, $\\tau$ increases the contribution from the young households, which reduces the saving, which leads to a decreased accumulation of capital per capita and capital per capita in steady state, in the PAYG system, ceteris paribus. In the FF system $\\tau$ also increases the contribution from the young households, which reduces the saving ceteris paribus. In contrast to the PAYG the contribution functions just like the the saving (same interest) ceteris paribus, and therefore the level of investing in capital is the same no matter $\\tau$. \n",
    "\n",
    "The smaller $\\alpha$ is the smaller the accumulation of capital per capita and capital per capita in steady state in both systems are ceteris paribus. The intution is a small $\\alpha$ means, that the share of capital used in production is small (not important), which results in lowered accumulation of capital per capita and capital per capita in steady state.\n",
    "When $\\alpha$ is around 0.35-0.4 the accumulation of capital per capita and capital per capita in steady state are at their highest level in both systems ceteris paribus. \n",
    "If $\\alpha$ increases from 0.4 then the accumulation of capital per capita and capital per capita in steady state decrease in both systems and if $\\alpha$ is high enough, then there will not even be steady state for capital per capita in both systems ceteris paribus.\n",
    "The difference between capital per capita in steady state in the two systems also decrease, when $\\alpha$ increases ceteris paribus. "
   ]
  },
  {
   "attachments": {},
   "cell_type": "markdown",
   "metadata": {},
   "source": [
    "# Conclusion"
   ]
  },
  {
   "attachments": {},
   "cell_type": "markdown",
   "metadata": {},
   "source": [
    "We can conclude that the accumulation of capital per capita and capital per capita in steady state are higher in **Fully Funded** pension system than in a **Pay-As-You-Go** pension system with constant population and population growth ceteris paribus. \n",
    "\n",
    "If there is population growth, then the accumulation of capital per capita and capital per capita in steady state in both systems decrease ceteris paribus. \n",
    "\n",
    "The technology level has a positive effect on the accumulation of capital per capita and capital per capita in steady state in both systems with population growth ceteris paribus. The impatience level has a negative effect on the accumulation of capital per capita and capital per capita in steady state in both systems with population growth ceteris paribus.\n",
    "\n",
    "The contribution share has a negative effect on the accumulation of capital per capita and capital per capita in steady state in the **PAYG** system with population growth, but no effect in **FF** system with population growth ceteris paribus.\n",
    "\n",
    "The accumulation of capital per capita and capital per capita in steady state in both systems are at the highest level, when the share capital used in production is around 0.35-0.4 ceteris paribus. "
   ]
  }
 ],
 "metadata": {
  "kernelspec": {
   "display_name": "base",
   "language": "python",
   "name": "python3"
  },
  "language_info": {
   "codemirror_mode": {
    "name": "ipython",
    "version": 3
   },
   "file_extension": ".py",
   "mimetype": "text/x-python",
   "name": "python",
   "nbconvert_exporter": "python",
   "pygments_lexer": "ipython3",
   "version": "3.9.13"
  },
  "toc-autonumbering": true,
  "vscode": {
   "interpreter": {
    "hash": "af1f2526e3629d58cd9c41e625886bc09b4f7d726f91454e7dad230fb7861f03"
   }
  }
 },
 "nbformat": 4,
 "nbformat_minor": 4
}
