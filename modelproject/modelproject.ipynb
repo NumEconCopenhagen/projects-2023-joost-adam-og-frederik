{
 "cells": [
  {
   "attachments": {},
   "cell_type": "markdown",
   "metadata": {},
   "source": [
    "# Modelling the OLG Model"
   ]
  },
  {
   "attachments": {},
   "cell_type": "markdown",
   "metadata": {},
   "source": [
    "Imports and set magics:"
   ]
  },
  {
   "cell_type": "code",
   "execution_count": 1,
   "metadata": {},
   "outputs": [],
   "source": [
    "from types import SimpleNamespace\n",
    "from scipy import optimize\n",
    "import numpy as np\n",
    "import sympy as sm\n",
    "import matplotlib.pyplot as plt\n",
    "import ipywidgets as widgets\n",
    "\n",
    "# autoreload modules when code is run\n",
    "%load_ext autoreload\n",
    "%autoreload 2\n",
    "\n"
   ]
  },
  {
   "attachments": {},
   "cell_type": "markdown",
   "metadata": {},
   "source": [
    "# Model description"
   ]
  },
  {
   "attachments": {},
   "cell_type": "markdown",
   "metadata": {},
   "source": [
    "We consider an OLG economy where identical competitive firms maximize their profits:"
   ]
  },
  {
   "attachments": {},
   "cell_type": "markdown",
   "metadata": {},
   "source": [
    "$$\n",
    "\\begin{aligned}\n",
    "\\pi_t & =\\max_{K_{t},L_t} AK_t^\\alpha L_t^{1-\\alpha}-r_tK_t-w_tL_t\\\\\n",
    "k_t & =\\frac{K_t}{L_t} \n",
    "\\end{aligned}\n",
    "$$\n",
    "\n",
    "We use, that \n",
    "$$\n",
    "\\begin{aligned}\n",
    "r_t & = \\alpha A k_t^{\\alpha-1} \\\\\n",
    "w_t & = (1-\\alpha) A k_t^{\\alpha}\n",
    "\\end{aligned}\n",
    "$$"
   ]
  },
  {
   "attachments": {},
   "cell_type": "markdown",
   "metadata": {},
   "source": [
    "**Demographics:** Population is constant, so $L_t=L_{t+1}$. A life consists of\n",
    "two periods, *young* and *old*."
   ]
  },
  {
   "attachments": {},
   "cell_type": "markdown",
   "metadata": {},
   "source": [
    "**Households:** Utility for the young households is:\n",
    "    \n",
    "$$\n",
    "\\begin{aligned}\n",
    "U_t & = \\log(c_{1t})+\\frac{1}{1+\\rho} \\log(c_{2t+1})\\\\\n",
    "\\end{aligned}\n",
    "$$\n",
    "\n",
    "With the following budget constraints for a Pay As You Go (PAYG) system:\n",
    "$$\n",
    "\\begin{aligned}\n",
    "c_{1t} & = (1-\\tau)w_t-s_t\n",
    "\\\\\n",
    "c_{2t+1} & = (1+r_{t+1})s_t+w_{t+1}\\tau\n",
    "\\end{aligned}\n",
    "$$"
   ]
  },
  {
   "attachments": {},
   "cell_type": "markdown",
   "metadata": {},
   "source": [
    "Budget constraints for fully funded (FF) system:\n",
    "$$\n",
    "\\begin{aligned}\n",
    "C_{1t} & = (1-\\tau)w_t-s_t\n",
    "\\\\\n",
    "C_{2t+1} & = (1+r_{t+1})(s_t+w_t\\tau)\n",
    "\\end{aligned}\n",
    "$$"
   ]
  },
  {
   "attachments": {},
   "cell_type": "markdown",
   "metadata": {},
   "source": [
    "**Steady state:**\n",
    "\n",
    "1. Find Euler equation\n",
    "2. Find $s_t$ in the Euler equation by inserting the budget constraints, then $r_{t}, r_{t+1}, w_t, w_{t+1}$ and at last isolate $s_t$\n",
    "3. Find capital per. capita accumulation: $k_{t+1}=(1-\\delta)k_t+s_t$\n",
    "4. In steady state $k_{t+1}=k_{t}=k^{*}$"
   ]
  },
  {
   "attachments": {},
   "cell_type": "markdown",
   "metadata": {},
   "source": [
    "**Capital:** We assume that the old spend their entrie savings, so $\\delta = 1 $."
   ]
  },
  {
   "attachments": {},
   "cell_type": "markdown",
   "metadata": {},
   "source": [
    "## Analytical solution for PAYG and FF system"
   ]
  },
  {
   "attachments": {},
   "cell_type": "markdown",
   "metadata": {},
   "source": [
    "If your model allows for an analytical solution, you should provide here.\n",
    "\n",
    "You may use Sympy for this. Then you can characterize the solution as a function of a parameter of the model.\n",
    "\n",
    "To characterize the solution, first derive a steady state equation as a function of a parameter using Sympy.solve and then turn it into a python function by Sympy.lambdify. See the lecture notes for details. "
   ]
  },
  {
   "cell_type": "code",
   "execution_count": 62,
   "metadata": {},
   "outputs": [],
   "source": [
    "#define symbols \n",
    "alpha = sm.symbols('alpha')\n",
    "k_t = sm.symbols('k_t')\n",
    "k_t1 = sm.symbols('k_{t+1}')\n",
    "k_ss = sm.symbols('k^*')\n",
    "A = sm.symbols('A')\n",
    "w_t = sm.symbols('w_t')\n",
    "w_t1 = sm.symbols('w_{t+1}') \n",
    "r_t = sm.symbols('r_{t+1}')\n",
    "r_t1 = sm.symbols('r_{t+1}')\n",
    "s_t = sm.symbols('s_t') \n",
    "tau = sm.symbols('tau')\n",
    "c_1t = sm.symbols('c_1t') \n",
    "c_2t = sm.symbols('c_{2t+1}') \n",
    "rho = sm.symbols('rho') \n",
    "lambdaa = sm.symbols('lambda')\n",
    "U_t = sm.symbols('U_t')\n",
    "\n",
    "#define rent and wage in period t and t+1\n",
    "rent_t = alpha*A*k_t**(alpha-1)\n",
    "rent_t1 = alpha*A*k_t1**(alpha-1)\n",
    "wage_t = (1-alpha)*A*k_t**alpha\n",
    "wage_t1 = (1-alpha)*A*k_t1**alpha"
   ]
  },
  {
   "attachments": {},
   "cell_type": "markdown",
   "metadata": {},
   "source": [
    "**Euler equation:**"
   ]
  },
  {
   "cell_type": "code",
   "execution_count": 63,
   "metadata": {},
   "outputs": [
    {
     "name": "stdout",
     "output_type": "stream",
     "text": [
      "Euler Equation:\n"
     ]
    },
    {
     "data": {
      "text/latex": [
       "$\\displaystyle c_{1t} = \\frac{c_{2t+1} \\left(\\rho + 1\\right)}{r_{t+1} + 1}$"
      ],
      "text/plain": [
       "Eq(c_1t, c_{2t+1}*(rho + 1)/(r_{t+1} + 1))"
      ]
     },
     "execution_count": 63,
     "metadata": {},
     "output_type": "execute_result"
    }
   ],
   "source": [
    "#define utility function and budget constraints\n",
    "u = sm.log(c_1t) + 1/(1+rho)*sm.log(c_2t)\n",
    "con1 = sm.Eq(c_1t+s_t, (1-tau)*w_t)\n",
    "con2_payg = sm.Eq(c_2t, (1+r_t1)*s_t+tau*w_t1)\n",
    "\n",
    "#isolate s_t in con2 and substitute it into con1, so we end up with one budget constraint\n",
    "st_con2 = sm.solve(con2_payg, s_t)\n",
    "con1_sub = con1.subs(s_t, st_con2[0])\n",
    "\n",
    "# Move right side of budget constraint to the left side\n",
    "con_final = sm.solve(con1_sub, (1-tau)*w_t)[0] - (1-tau)*w_t\n",
    "\n",
    "#Define lagrangian function with u and con_final\n",
    "lagrangian_func = u - lambdaa*con_final\n",
    "\n",
    "#Take the derivative wrt. c_1t and c_2t\n",
    "foc1 = sm.diff(lagrangian_func, c_1t)\n",
    "foc2 = sm.diff(lagrangian_func, c_2t)\n",
    "\n",
    "#isolate lambda in foc1 and in foc2\n",
    "iso_foc1 = sm.solve(foc1,lambdaa)[0]\n",
    "iso_foc2 = sm.solve(foc2,lambdaa)[0]\n",
    "\n",
    "#set the two isolate lamdaa equal to each other, so we get the Euler equation\n",
    "euler = sm.Eq(iso_foc1,iso_foc2)\n",
    "final_euler = sm.Eq(c_1t,sm.solve(euler,c_1t)[0])\n",
    "print('Euler Equation:')\n",
    "final_euler\n"
   ]
  },
  {
   "attachments": {},
   "cell_type": "markdown",
   "metadata": {},
   "source": [
    "**Savings $(s_t)$**: From Euler equation\n"
   ]
  },
  {
   "cell_type": "code",
   "execution_count": 64,
   "metadata": {},
   "outputs": [
    {
     "name": "stdout",
     "output_type": "stream",
     "text": [
      "Savings:\n"
     ]
    },
    {
     "data": {
      "text/latex": [
       "$\\displaystyle s_{t} = \\frac{- r_{t+1} \\tau w_{t} + r_{t+1} w_{t} - \\rho \\tau w_{t+1} - \\tau w_{t} - \\tau w_{t+1} + w_{t}}{r_{t+1} \\rho + 2 r_{t+1} + \\rho + 2}$"
      ],
      "text/plain": [
       "Eq(s_t, (-r_{t+1}*tau*w_t + r_{t+1}*w_t - rho*tau*w_{t+1} - tau*w_t - tau*w_{t+1} + w_t)/(r_{t+1}*rho + 2*r_{t+1} + rho + 2))"
      ]
     },
     "execution_count": 64,
     "metadata": {},
     "output_type": "execute_result"
    }
   ],
   "source": [
    "#isolate c_1t and c_2t in budget constraints and substitute it into Euler equation \n",
    "iso_con1 = sm.solve(con1,c_1t)[0]\n",
    "iso_con2_payg = sm.solve(con2_payg,c_2t)[0]\n",
    "savings = final_euler.subs(c_1t,iso_con1).subs(c_2t, iso_con2_payg)\n",
    "\n",
    "#isolate s_t in savings\n",
    "final_savings = sm.Eq(s_t, sm.solve(savings,s_t)[0])\n",
    "print('Savings:')\n",
    "final_savings"
   ]
  },
  {
   "attachments": {},
   "cell_type": "markdown",
   "metadata": {},
   "source": [
    "We would liked to have a more simplified $s_t$ like \n",
    "$$\n",
    "\\begin{aligned}\n",
    "s_t = \\frac{1-\\rho}{2+\\rho}w_t - \\tau \\frac{1+\\rho}{(2+\\rho)(1+r_{t+1})}w_{t+1}\n",
    "\\end{aligned}\n",
    "$$\n",
    "but sympy dont do that. They are still the same tho, one is just more simplified."
   ]
  },
  {
   "attachments": {},
   "cell_type": "markdown",
   "metadata": {},
   "source": [
    "**Capital accumulation**: from savings as $s_t=k_{t+1}$"
   ]
  },
  {
   "cell_type": "code",
   "execution_count": 73,
   "metadata": {},
   "outputs": [
    {
     "name": "stdout",
     "output_type": "stream",
     "text": [
      "almost capital accumulation:\n"
     ]
    },
    {
     "data": {
      "text/latex": [
       "$\\displaystyle k_{t+1} = \\frac{- A^{2} \\alpha k_{t}^{\\alpha} k_{t+1}^{\\alpha - 1} \\tau \\left(1 - \\alpha\\right) + A^{2} \\alpha k_{t}^{\\alpha} k_{t+1}^{\\alpha - 1} \\cdot \\left(1 - \\alpha\\right) - A k_{t}^{\\alpha} \\tau \\left(1 - \\alpha\\right) + A k_{t}^{\\alpha} \\left(1 - \\alpha\\right) - A k_{t+1}^{\\alpha} \\rho \\tau \\left(1 - \\alpha\\right) - A k_{t+1}^{\\alpha} \\tau \\left(1 - \\alpha\\right)}{A \\alpha k_{t+1}^{\\alpha - 1} \\rho + 2 A \\alpha k_{t+1}^{\\alpha - 1} + \\rho + 2}$"
      ],
      "text/plain": [
       "Eq(k_{t+1}, (-A**2*alpha*k_t**alpha*k_{t+1}**(alpha - 1)*tau*(1 - alpha) + A**2*alpha*k_t**alpha*k_{t+1}**(alpha - 1)*(1 - alpha) - A*k_t**alpha*tau*(1 - alpha) + A*k_t**alpha*(1 - alpha) - A*k_{t+1}**alpha*rho*tau*(1 - alpha) - A*k_{t+1}**alpha*tau*(1 - alpha))/(A*alpha*k_{t+1}**(alpha - 1)*rho + 2*A*alpha*k_{t+1}**(alpha - 1) + rho + 2))"
      ]
     },
     "execution_count": 73,
     "metadata": {},
     "output_type": "execute_result"
    }
   ],
   "source": [
    "#substitute s_t with k_t1\n",
    "cap_acc = sm.Eq(k_t1, sm.solve(savings,s_t)[0])\n",
    "\n",
    "\n",
    "#substitute w_t, w_t1 and r_t1 with wage_t, wage_t1 and rent_t1\n",
    "sub_cap_acc = (((cap_acc.subs(w_t,wage_t)).subs(w_t1,wage_t1)).subs(r_t1,rent_t1)).subs(s_t,k_t1)\n",
    "\n",
    "#isolate k_t1, but sympy can't do it since it did not simplifed final_savings\n",
    "\"final_cap_acc = sm.solve(sub_cap_acc,k_t1)\"\n",
    "\n",
    "#Instead we show\n",
    "print('almost capital accumulation:')\n",
    "sub_cap_acc\n",
    "\n"
   ]
  },
  {
   "attachments": {},
   "cell_type": "markdown",
   "metadata": {},
   "source": [
    "If sympy could have isolated k_t1 in sub_cap_acc, then we would have gotten a very complex edition of \n",
    "$$\n",
    "\\begin{aligned}\n",
    "k_{t+1} = \\frac{(1-\\alpha)(1-\\tau)\\alpha}{(2+\\rho)\\alpha+(1+\\rho)(1-\\alpha)\\tau}A k_t^\\alpha \n",
    "\\end{aligned}\n",
    "$$\n",
    ", but they would still be the same.\n",
    "\n",
    "We will go by the simplified capital accumulation above for the rest of the project"
   ]
  },
  {
   "cell_type": "code",
   "execution_count": 6,
   "metadata": {},
   "outputs": [
    {
     "name": "stdout",
     "output_type": "stream",
     "text": [
      "Capital accumulation:\n"
     ]
    },
    {
     "data": {
      "text/latex": [
       "$\\displaystyle k_{t+1} = \\frac{A \\alpha k_{t}^{\\alpha} \\left(1 - \\alpha\\right) \\left(1 - \\tau\\right)}{\\alpha \\left(\\rho + 2\\right) + \\tau \\left(1 - \\alpha\\right) \\left(\\rho + 1\\right)}$"
      ],
      "text/plain": [
       "Eq(k_{t+1}, A*alpha*k_t**alpha*(1 - alpha)*(1 - tau)/(alpha*(rho + 2) + tau*(1 - alpha)*(rho + 1)))"
      ]
     },
     "execution_count": 6,
     "metadata": {},
     "output_type": "execute_result"
    }
   ],
   "source": [
    "final_cap_acc = sm.Eq(k_t1, (1-alpha)*(1-tau)*alpha/((2+rho)*alpha+(1+rho)*(1-alpha)*tau)*A*k_t**alpha)\n",
    "print('Capital accumulation:')\n",
    "final_cap_acc"
   ]
  },
  {
   "attachments": {},
   "cell_type": "markdown",
   "metadata": {},
   "source": [
    "**Steady State**: From capital accumulation as $k_{t+1}=k_t=k^*$"
   ]
  },
  {
   "cell_type": "code",
   "execution_count": 7,
   "metadata": {},
   "outputs": [
    {
     "name": "stdout",
     "output_type": "stream",
     "text": [
      "Steady state:\n"
     ]
    },
    {
     "data": {
      "text/latex": [
       "$\\displaystyle k^{*} = \\left(\\frac{- \\alpha \\rho \\tau + \\alpha \\rho - \\alpha \\tau + 2 \\alpha + \\rho \\tau + \\tau}{A \\alpha \\left(\\alpha \\tau - \\alpha - \\tau + 1\\right)}\\right)^{\\frac{1}{\\alpha - 1}}$"
      ],
      "text/plain": [
       "Eq(k^*, ((-alpha*rho*tau + alpha*rho - alpha*tau + 2*alpha + rho*tau + tau)/(A*alpha*(alpha*tau - alpha - tau + 1)))**(1/(alpha - 1)))"
      ]
     },
     "execution_count": 7,
     "metadata": {},
     "output_type": "execute_result"
    }
   ],
   "source": [
    "#substitute k_t1 and k_t with k_ss\n",
    "ss = (final_cap_acc.subs(k_t1,k_ss)).subs(k_t,k_ss)\n",
    "\n",
    "#isolate k_ss\n",
    "final_ss = sm.Eq(k_ss, sm.solve(ss,k_ss)[0])\n",
    "print('Steady state:')\n",
    "final_ss"
   ]
  },
  {
   "attachments": {},
   "cell_type": "markdown",
   "metadata": {},
   "source": [
    "## Numerical solution"
   ]
  },
  {
   "attachments": {},
   "cell_type": "markdown",
   "metadata": {},
   "source": [
    "lav capital akk. & beregn SS uden befolkningsvækst for FF og PAYG\n",
    "\n",
    "Lav exentionsion med befolkningsvækst\n",
    "\n",
    "Lav interactive figur med exentiosion for FF og PAYG"
   ]
  },
  {
   "cell_type": "code",
   "execution_count": 8,
   "metadata": {},
   "outputs": [],
   "source": [
    "#Define parameters\n",
    "alpha = 0.3\n",
    "rho = 0.25\n",
    "tau = 0.2\n",
    "A = 10\n",
    "\n",
    "#we let $k_t$ be in [0,50]\n",
    "k_t = np.linspace(0,10, 1000)\n",
    "\n",
    "#We define capital accumulation and steady state\n",
    "k_t1 = ((1-alpha)*(1-tau)*alpha)/((2+rho)*alpha+(1+rho)*(1-alpha)*tau)*A*k_t**alpha\n",
    "\n",
    "ss_k = ((-alpha*rho*tau+alpha*rho-alpha*tau+2*alpha+rho*tau+tau)/(A*alpha*(alpha*tau-alpha-tau+1)))**(1/(alpha-1))\n",
    "\n"
   ]
  },
  {
   "cell_type": "code",
   "execution_count": 9,
   "metadata": {},
   "outputs": [
    {
     "data": {
      "image/png": "[encoded data removed]",
      "text/plain": [
       "<Figure size 640x480 with 1 Axes>"
      ]
     },
     "metadata": {},
     "output_type": "display_data"
    }
   ],
   "source": [
    "#Create plot\n",
    "plt.plot(k_t,k_t1)\n",
    "plt.plot(k_t,k_t)\n",
    "plt.title('Capital accumulation')\n",
    "plt.ylabel('k_t+1')\n",
    "plt.xlabel('k_t')\n",
    "plt.show()"
   ]
  },
  {
   "cell_type": "code",
   "execution_count": 10,
   "metadata": {},
   "outputs": [
    {
     "name": "stdout",
     "output_type": "stream",
     "text": [
      "steady state = 2.65\n"
     ]
    }
   ],
   "source": [
    "#calulate steady state\n",
    "print(f'steady state = {ss_k:.2f}')\n"
   ]
  },
  {
   "attachments": {},
   "cell_type": "markdown",
   "metadata": {},
   "source": [
    "**Capital accumulation and steady state with different tau-values**"
   ]
  },
  {
   "cell_type": "code",
   "execution_count": 11,
   "metadata": {},
   "outputs": [
    {
     "data": {
      "image/png": "[encoded data removed]",
      "text/plain": [
       "<Figure size 640x480 with 1 Axes>"
      ]
     },
     "metadata": {},
     "output_type": "display_data"
    }
   ],
   "source": [
    "#define parameter values with multiple values of tau\n",
    "\n",
    "alpha = 1/3\n",
    "tau1 = 0.2\n",
    "tau2 = 0.4\n",
    "tau3 = 0.5\n",
    "tau4 = 0.6\n",
    "rho = 0.25\n",
    "A = 10\n",
    "k_t = np.linspace(0,50)\n",
    "\n",
    "#define capital accumulation with different values of tau\n",
    "k_t1_1 = ((1-alpha)*(1-tau1)*alpha)/((2+rho)*alpha+(1+rho)*(1-alpha)*tau1)*A*k_t**alpha\n",
    "k_t1_2 = ((1-alpha)*(1-tau2)*alpha)/((2+rho)*alpha+(1+rho)*(1-alpha)*tau2)*A*k_t**alpha\n",
    "k_t1_3 = ((1-alpha)*(1-tau3)*alpha)/((2+rho)*alpha+(1+rho)*(1-alpha)*tau3)*A*k_t**alpha\n",
    "k_t1_4 = ((1-alpha)*(1-tau4)*alpha)/((2+rho)*alpha+(1+rho)*(1-alpha)*tau4)*A*k_t**alpha\n",
    "\n",
    "#define steady state with different values of tau\n",
    "ss_k_2 = ((-alpha*rho*tau2+alpha*rho-alpha*tau2+2*alpha+rho*tau2+tau2)/(A*alpha*(alpha*tau2-alpha-tau2+1)))**(1/(alpha-1))\n",
    "ss_k_3 = ((-alpha*rho*tau3+alpha*rho-alpha*tau3+2*alpha+rho*tau3+tau3)/(A*alpha*(alpha*tau3-alpha-tau3+1)))**(1/(alpha-1))\n",
    "ss_k_4 = ((-alpha*rho*tau4+alpha*rho-alpha*tau4+2*alpha+rho*tau4+tau4)/(A*alpha*(alpha*tau4-alpha-tau4+1)))**(1/(alpha-1))\n",
    "\n",
    "#Create plot with the four different capital accumulation\n",
    "plt.plot(k_t1_1, label='tau=0.2')\n",
    "plt.plot(k_t1_2, label='tau=0.4')\n",
    "plt.plot(k_t1_3, label='tau=0.5')\n",
    "plt.plot(k_t1_4, label='tau=0.6')\n",
    "plt.title('Capital accumulation for different values of tau')\n",
    "plt.xlabel(\"k_t\")\n",
    "plt.ylabel(\"k_t+1\")\n",
    "plt.legend()\n",
    "plt.show()"
   ]
  },
  {
   "cell_type": "code",
   "execution_count": 97,
   "metadata": {},
   "outputs": [],
   "source": [
    "alpha = 1/3\n",
    "tau1 = 0.2\n",
    "tau2 = 0.4\n",
    "tau3 = 0.5\n",
    "tau4 = 0.6\n",
    "tau= 0.2\n",
    "rho = 0.25\n",
    "A = 10\n",
    "k_t = np.linspace(0,50)\n",
    "k_t1 = ((1-alpha)*(1-tau)*alpha)/((2+rho)*alpha+(1+rho)*(1-alpha)*tau)*A*k_t**alpha\n",
    "ss_k = ((-alpha*rho*tau+alpha*rho-alpha*tau+2*alpha+rho*tau+tau)/(A*alpha*(alpha*tau-alpha-tau+1)))**(1/(alpha-1))\n",
    "\n",
    "\n",
    "def plot(alpha=1/3, tau = 0.2, rho = 0.25, A = 10):  \n",
    "    alpha = alpha\n",
    "    tau = tau\n",
    "    rho = rho\n",
    "    k_t = np.linspace(0,50, 1000)\n",
    "    k_t1 = ((1-alpha)*(1-tau)*alpha)/((2+rho)*alpha+(1+rho)*(1-alpha)*tau)*A*k_t**alpha\n",
    "    ss_k = ((-alpha*rho*tau+alpha*rho-alpha*tau+2*alpha+rho*tau+tau)/(A*alpha*(alpha*tau-alpha-tau+1)))**(1/(alpha-1))\n",
    "    diff_arr = np.absolute(k_t - ss_k)\n",
    "    index = diff_arr.argmin()\n",
    "    x_val = k_t[index]\n",
    "    fig = plt.figure()\n",
    "    ax1 = fig.add_subplot(1,1,1)\n",
    "    ax1.scatter(x_val, ss_k)\n",
    "    ax1.plot(k_t,k_t1, label='PAYG')\n",
    "    ax1.plot(k_t,k_t, label='45 degree line')\n",
    "    plt.title('Capital accumulation for different values of tau')\n",
    "    ax1.set_xlabel(\"$k_t$\")\n",
    "    ax1.set_ylabel(\"$k_{t+1}$\")\n",
    "    ax1.legend()\n",
    "    ax1.set_xlim(0, 8)\n",
    "    ax1.set_ylim(0, 8)\n",
    "    plt.show()\n",
    "    \n",
    "def plot_interact():\n",
    "    widgets.interact(plot,\n",
    "                \n",
    "                 alpha=widgets.FloatSlider(\n",
    "                     description=\"alpha\", min=0.1, max=1, step=0.10, value=1/3),\n",
    "                 tau=widgets.FloatSlider(\n",
    "                     description=\"tau\", min=0.1, max=1, step=0.1, value=0.2),\n",
    "                 rho=widgets.FloatSlider(\n",
    "                     description=\"rho\", min=0.1, max=1, step=0.1, value=0.25),\n",
    "                 A=widgets.FloatSlider(\n",
    "                     description=\"A\", min=0, max=20, step=2, value=10)\n",
    "\n",
    "    );\n",
    "\n"
   ]
  },
  {
   "cell_type": "code",
   "execution_count": 98,
   "metadata": {},
   "outputs": [
    {
     "data": {
      "application/vnd.jupyter.widget-view+json": {
       "model_id": "d028e7dbc53c4a0e822f559884849743",
       "version_major": 2,
       "version_minor": 0
      },
      "text/plain": [
       "interactive(children=(FloatSlider(value=0.3333333333333333, description='alpha', max=1.0, min=0.1), FloatSlide…"
      ]
     },
     "metadata": {},
     "output_type": "display_data"
    }
   ],
   "source": [
    "plot_interact()"
   ]
  },
  {
   "attachments": {},
   "cell_type": "markdown",
   "metadata": {},
   "source": [
    "Steady state with different tau values"
   ]
  },
  {
   "cell_type": "code",
   "execution_count": 89,
   "metadata": {},
   "outputs": [
    {
     "data": {
      "text/plain": [
       "2.7008412075550683"
      ]
     },
     "execution_count": 89,
     "metadata": {},
     "output_type": "execute_result"
    }
   ],
   "source": [
    "ss_k"
   ]
  },
  {
   "cell_type": "code",
   "execution_count": 91,
   "metadata": {},
   "outputs": [
    {
     "data": {
      "text/plain": [
       "array([0.        , 1.95249835, 2.45999377, 2.81598991, 3.09939793,\n",
       "       3.33872521, 3.54792496, 3.73499498, 3.9049967 , 4.06136023,\n",
       "       4.20653018, 4.34231746, 4.47010534, 4.5909771 , 4.70579879,\n",
       "       4.81527501, 4.91998754, 5.02042306, 5.11699325, 5.21004982,\n",
       "       5.29989592, 5.3867949 , 5.47097717, 5.55264559, 5.63197981,\n",
       "       5.70913981, 5.78426869, 5.85749505, 5.92893496, 5.99869353,\n",
       "       6.06686634, 6.13354054, 6.19879587, 6.26270549, 6.3253367 ,\n",
       "       6.38675157, 6.44700751, 6.50615767, 6.56425143, 6.62133475,\n",
       "       6.67745043, 6.73263847, 6.78693629, 6.84037893, 6.8929993 ,\n",
       "       6.94482831, 6.99589506, 7.04622697, 7.09584992, 7.14478836])"
      ]
     },
     "execution_count": 91,
     "metadata": {},
     "output_type": "execute_result"
    }
   ],
   "source": [
    "k_t1 "
   ]
  },
  {
   "cell_type": "code",
   "execution_count": null,
   "metadata": {},
   "outputs": [],
   "source": []
  },
  {
   "cell_type": "code",
   "execution_count": null,
   "metadata": {},
   "outputs": [],
   "source": []
  },
  {
   "cell_type": "code",
   "execution_count": null,
   "metadata": {},
   "outputs": [],
   "source": []
  },
  {
   "cell_type": "code",
   "execution_count": null,
   "metadata": {},
   "outputs": [],
   "source": []
  },
  {
   "cell_type": "code",
   "execution_count": 14,
   "metadata": {},
   "outputs": [
    {
     "name": "stdout",
     "output_type": "stream",
     "text": [
      "steady state where tau is 0.2:\n",
      "2.7008412075550683\n",
      "steady state where tau is 0.4:\n",
      "1.3654158676313333\n",
      "steady state where tau is 0.5:\n",
      "0.9294286409033652\n",
      "steady state where tau is 0.6:\n",
      "0.5996615414837816\n"
     ]
    }
   ],
   "source": [
    "print('steady state where tau is 0.2:')\n",
    "print(ss_k)\n",
    "\n",
    "print('steady state where tau is 0.4:')\n",
    "print(ss_k_2)\n",
    "print('steady state where tau is 0.5:')\n",
    "print(ss_k_3)\n",
    "print('steady state where tau is 0.6:')\n",
    "print(ss_k_4)"
   ]
  },
  {
   "attachments": {},
   "cell_type": "markdown",
   "metadata": {},
   "source": [
    "You can always solve a model numerically. \n",
    "\n",
    "Define first the set of parameters you need. \n",
    "\n",
    "Then choose one of the optimization algorithms that we have gone through in the lectures based on what you think is most fitting for your model.\n",
    "\n",
    "Are there any problems with convergence? Does the model converge for all starting values? Make a lot of testing to figure these things out. "
   ]
  },
  {
   "attachments": {},
   "cell_type": "markdown",
   "metadata": {},
   "source": [
    "# Further analysis"
   ]
  },
  {
   "attachments": {},
   "cell_type": "markdown",
   "metadata": {},
   "source": [
    "We would like to also have done it with fully funded system, but we did not have time"
   ]
  },
  {
   "attachments": {},
   "cell_type": "markdown",
   "metadata": {},
   "source": [
    "# Conclusion"
   ]
  },
  {
   "attachments": {},
   "cell_type": "markdown",
   "metadata": {},
   "source": [
    "When the contribution, $\\tau$ from the young households increase, then capital per. capita in steady state will decrease.\n",
    "It happens because the increased contribution makes the young households save less and then capital decreses. "
   ]
  }
 ],
 "metadata": {
  "kernelspec": {
   "display_name": "base",
   "language": "python",
   "name": "python3"
  },
  "language_info": {
   "codemirror_mode": {
    "name": "ipython",
    "version": 3
   },
   "file_extension": ".py",
   "mimetype": "text/x-python",
   "name": "python",
   "nbconvert_exporter": "python",
   "pygments_lexer": "ipython3",
   "version": "3.9.13"
  },
  "toc-autonumbering": true,
  "vscode": {
   "interpreter": {
    "hash": "af1f2526e3629d58cd9c41e625886bc09b4f7d726f91454e7dad230fb7861f03"
   }
  }
 },
 "nbformat": 4,
 "nbformat_minor": 4
}
