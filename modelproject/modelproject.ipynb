{
 "cells": [
  {
   "attachments": {},
   "cell_type": "markdown",
   "metadata": {},
   "source": [
    "# Modelling the OLG Model"
   ]
  },
  {
   "attachments": {},
   "cell_type": "markdown",
   "metadata": {},
   "source": [
    "# Introduction"
   ]
  },
  {
   "attachments": {},
   "cell_type": "markdown",
   "metadata": {},
   "source": [
    "We have chosen to analyze an Overlapping Generations model (**OLG**) with a Pay-As-You-Go (**PAYG**) system. The OLG-model is widely used to study macroeconomic dynamics and economic growth in an economy.\n",
    "\n",
    "In contrast to e.g., a Ramsey-Cass-Koopman growth model where individuals are infinitely lived, an OLG-model assumes the agents in the economy to be finitely lived. That is, agents live for two \"periods\". This makes the model a bit more realistic from our point of view, and therefore also more interesting to analyze.\n",
    "\n",
    "We employ the OLG-model to find the steady-state values of savings and capital accumulation, as well as the agents' intertemporal substitution elasticity expressed throught the Euler-equation "
   ]
  },
  {
   "attachments": {},
   "cell_type": "markdown",
   "metadata": {},
   "source": [
    "Imports and set magics:"
   ]
  },
  {
   "cell_type": "code",
   "execution_count": 1,
   "metadata": {},
   "outputs": [],
   "source": [
    "from types import SimpleNamespace\n",
    "from scipy import optimize\n",
    "import numpy as np\n",
    "import sympy as sm\n",
    "import matplotlib.pyplot as plt\n",
    "import ipywidgets as widgets\n",
    "\n",
    "# autoreload modules when code is run\n",
    "%load_ext autoreload\n",
    "%autoreload 2\n",
    "\n"
   ]
  },
  {
   "attachments": {},
   "cell_type": "markdown",
   "metadata": {},
   "source": [
    "# Model description"
   ]
  },
  {
   "attachments": {},
   "cell_type": "markdown",
   "metadata": {},
   "source": [
    "We consider an OLG economy where identical competitive firms maximize their profits:"
   ]
  },
  {
   "attachments": {},
   "cell_type": "markdown",
   "metadata": {},
   "source": [
    "$$\n",
    "\\begin{aligned}\n",
    "\\pi_t & =\\max_{K_{t},L_t} AK_t^\\alpha L_t^{1-\\alpha}-r_tK_t-w_tL_t\\\\\n",
    "k_t & =\\frac{K_t}{L_t} \n",
    "\\end{aligned}\n",
    "$$\n",
    "\n",
    "We use, that \n",
    "$$\n",
    "\\begin{aligned}\n",
    "r_t & = \\alpha A k_t^{\\alpha-1} \\\\\n",
    "w_t & = (1-\\alpha) A k_t^{\\alpha}\n",
    "\\end{aligned}\n",
    "$$"
   ]
  },
  {
   "attachments": {},
   "cell_type": "markdown",
   "metadata": {},
   "source": [
    "**Demographics:** Population is constant, so $L_t=L_{t+1}$. A life consists of\n",
    "two periods, *young* and *old*."
   ]
  },
  {
   "attachments": {},
   "cell_type": "markdown",
   "metadata": {},
   "source": [
    "**Households:** Utility for the young households is:\n",
    "    \n",
    "$$\n",
    "\\begin{aligned}\n",
    "U_t & = \\log(c_{1t})+\\frac{1}{1+\\rho} \\log(c_{2t+1})\\\\\n",
    "\\end{aligned}\n",
    "$$\n",
    "\n",
    "With the following budget constraints for a Pay As You Go (PAYG) system:\n",
    "$$\n",
    "\\begin{aligned}\n",
    "c_{1t} & = (1-\\tau)w_t-s_t\n",
    "\\\\\n",
    "c_{2t+1} & = (1+r_{t+1})s_t+w_{t+1}\\tau\n",
    "\\end{aligned}\n",
    "$$"
   ]
  },
  {
   "attachments": {},
   "cell_type": "markdown",
   "metadata": {},
   "source": [
    "Budget constraints for fully funded (FF) system:\n",
    "$$\n",
    "\\begin{aligned}\n",
    "c_{1t} & = (1-\\tau)w_t-s_t\n",
    "\\\\\n",
    "c_{2t+1} & = (1+r_{t+1})(s_t+w_t\\tau)\n",
    "\\end{aligned}\n",
    "$$"
   ]
  },
  {
   "attachments": {},
   "cell_type": "markdown",
   "metadata": {},
   "source": [
    "**Steady state:**\n",
    "\n",
    "1. Find Euler equation\n",
    "2. Find $s_t$ in the Euler equation by inserting the budget constraints, then $r_{t}, r_{t+1}, w_t, w_{t+1}$ and at last isolate $s_t$\n",
    "3. Find capital per. capita accumulation: $k_{t+1}=(1-\\delta)k_t+s_t$\n",
    "4. In steady state $k_{t+1}=k_{t}=k^{*}$"
   ]
  },
  {
   "attachments": {},
   "cell_type": "markdown",
   "metadata": {},
   "source": [
    "**Capital:** We assume that the old spend their entrie savings, so $\\delta = 1 $."
   ]
  },
  {
   "attachments": {},
   "cell_type": "markdown",
   "metadata": {},
   "source": [
    "## Analytical solution for PAYG and FF system"
   ]
  },
  {
   "attachments": {},
   "cell_type": "markdown",
   "metadata": {},
   "source": [
    "If your model allows for an analytical solution, you should provide here.\n",
    "\n",
    "You may use Sympy for this. Then you can characterize the solution as a function of a parameter of the model.\n",
    "\n",
    "To characterize the solution, first derive a steady state equation as a function of a parameter using Sympy.solve and then turn it into a python function by Sympy.lambdify. See the lecture notes for details. "
   ]
  },
  {
   "cell_type": "code",
   "execution_count": 2,
   "metadata": {},
   "outputs": [],
   "source": [
    "#define symbols \n",
    "alpha = sm.symbols('alpha')\n",
    "k_t = sm.symbols('k_t')\n",
    "k_t1 = sm.symbols('k_{t+1}')\n",
    "k_ss = sm.symbols('k^*')\n",
    "A = sm.symbols('A')\n",
    "w_t = sm.symbols('w_t')\n",
    "w_t1 = sm.symbols('w_{t+1}') \n",
    "r_t = sm.symbols('r_{t+1}')\n",
    "r_t1 = sm.symbols('r_{t+1}')\n",
    "s_t = sm.symbols('s_t') \n",
    "tau = sm.symbols('tau')\n",
    "c_1t = sm.symbols('c_1t') \n",
    "c_2t = sm.symbols('c_{2t+1}') \n",
    "rho = sm.symbols('rho') \n",
    "lambdaa = sm.symbols('lambda')\n",
    "U_t = sm.symbols('U_t')\n",
    "\n",
    "#define rent and wage in period t and t+1\n",
    "rent_t = alpha*A*k_t**(alpha-1)\n",
    "rent_t1 = alpha*A*k_t1**(alpha-1)\n",
    "wage_t = (1-alpha)*A*k_t**alpha\n",
    "wage_t1 = (1-alpha)*A*k_t1**alpha"
   ]
  },
  {
   "attachments": {},
   "cell_type": "markdown",
   "metadata": {},
   "source": [
    "**Euler equation:**"
   ]
  },
  {
   "cell_type": "code",
   "execution_count": 3,
   "metadata": {},
   "outputs": [
    {
     "name": "stdout",
     "output_type": "stream",
     "text": [
      "Euler equation in the PAYG system:\n"
     ]
    },
    {
     "data": {
      "text/latex": [
       "$\\displaystyle c_{1t} = \\frac{c_{2t+1} \\left(\\rho + 1\\right)}{r_{t+1} + 1}$"
      ],
      "text/plain": [
       "Eq(c_1t, c_{2t+1}*(rho + 1)/(r_{t+1} + 1))"
      ]
     },
     "execution_count": 3,
     "metadata": {},
     "output_type": "execute_result"
    }
   ],
   "source": [
    "#define utility function and budget constraints for PAYG and FF systems\n",
    "u = sm.log(c_1t) + 1/(1+rho)*sm.log(c_2t)\n",
    "con1 = sm.Eq(c_1t+s_t, (1-tau)*w_t)\n",
    "con2_payg = sm.Eq(c_2t, (1+r_t1)*s_t+tau*w_t1)\n",
    "con2_FF = sm.Eq(c_2t, (1+r_t1)*s_t+(1+r_t1)*tau*w_t)\n",
    "\n",
    "#isolate s_t in con2 and substitute it into con1, so we end up with one budget constraint for both systems\n",
    "st_con2_PAYG = sm.solve(con2_payg, s_t)\n",
    "st_con2_FF = sm.solve(con2_FF, s_t)\n",
    "con1_sub_PAYG = con1.subs(s_t, st_con2_PAYG[0])\n",
    "con1_sub_FF = con1.subs(s_t, st_con2_FF[0])\n",
    "\n",
    "# Move right side of budget constraint to the left side for both systems\n",
    "con_final_PAYG = sm.solve(con1_sub_PAYG, (1-tau)*w_t)[0] - (1-tau)*w_t\n",
    "con_final_FF = sm.solve(con1_sub_FF, (1-tau)*w_t)[0] - (1-tau)*w_t\n",
    "\n",
    "\n",
    "#Define lagrangian function with u and con_final for both systems\n",
    "lagrangian_func_PAYG = u - lambdaa*con_final_PAYG\n",
    "lagrangian_func_FF = u - lambdaa*con_final_FF\n",
    "\n",
    "#Take the derivative wrt. c_1t and c_2t for both lagrangian function\n",
    "foc1_PAYG = sm.diff(lagrangian_func_PAYG, c_1t)\n",
    "foc2_PAYG = sm.diff(lagrangian_func_PAYG, c_2t)\n",
    "foc1_FF = sm.diff(lagrangian_func_FF, c_1t)\n",
    "foc2_FF = sm.diff(lagrangian_func_FF, c_2t)\n",
    "\n",
    "#isolate lambda in the derivatives\n",
    "iso_foc1_PAYG = sm.solve(foc1_PAYG,lambdaa)[0]\n",
    "iso_foc2_PAYG = sm.solve(foc2_PAYG,lambdaa)[0]\n",
    "iso_foc1_FF = sm.solve(foc1_FF,lambdaa)[0]\n",
    "iso_foc2_FF = sm.solve(foc2_FF,lambdaa)[0]\n",
    "\n",
    "#set the two isolate lamdaa equal to each other for both systems, so we get two Euler equation\n",
    "euler_PAYG = sm.Eq(iso_foc1_PAYG,iso_foc2_PAYG)\n",
    "final_euler_PAYG = sm.Eq(c_1t,sm.solve(euler_PAYG,c_1t)[0])\n",
    "euler_FF = sm.Eq(iso_foc1_FF,iso_foc2_FF)\n",
    "final_euler_FF = sm.Eq(c_1t,sm.solve(euler_FF,c_1t)[0])\n",
    "\n",
    "print('Euler equation in the PAYG system:')\n",
    "final_euler_PAYG"
   ]
  },
  {
   "cell_type": "code",
   "execution_count": 4,
   "metadata": {},
   "outputs": [
    {
     "name": "stdout",
     "output_type": "stream",
     "text": [
      "Euler equation in the FF system:\n"
     ]
    },
    {
     "data": {
      "text/latex": [
       "$\\displaystyle c_{1t} = \\frac{c_{2t+1} \\left(\\rho + 1\\right)}{r_{t+1} + 1}$"
      ],
      "text/plain": [
       "Eq(c_1t, c_{2t+1}*(rho + 1)/(r_{t+1} + 1))"
      ]
     },
     "execution_count": 4,
     "metadata": {},
     "output_type": "execute_result"
    }
   ],
   "source": [
    "print('Euler equation in the FF system:')\n",
    "final_euler_FF"
   ]
  },
  {
   "cell_type": "markdown",
   "metadata": {},
   "source": [
    "We see that the Euler equation is the same for both the PAYG and FF system"
   ]
  },
  {
   "attachments": {},
   "cell_type": "markdown",
   "metadata": {},
   "source": [
    "**Savings $(s_t)$**: From Euler equation\n"
   ]
  },
  {
   "cell_type": "code",
   "execution_count": 5,
   "metadata": {},
   "outputs": [
    {
     "name": "stdout",
     "output_type": "stream",
     "text": [
      "Savings in the PAYG system:\n"
     ]
    },
    {
     "data": {
      "text/latex": [
       "$\\displaystyle s_{t} = \\frac{- r_{t+1} \\tau w_{t} + r_{t+1} w_{t} - \\rho \\tau w_{t+1} - \\tau w_{t} - \\tau w_{t+1} + w_{t}}{r_{t+1} \\rho + 2 r_{t+1} + \\rho + 2}$"
      ],
      "text/plain": [
       "Eq(s_t, (-r_{t+1}*tau*w_t + r_{t+1}*w_t - rho*tau*w_{t+1} - tau*w_t - tau*w_{t+1} + w_t)/(r_{t+1}*rho + 2*r_{t+1} + rho + 2))"
      ]
     },
     "execution_count": 5,
     "metadata": {},
     "output_type": "execute_result"
    }
   ],
   "source": [
    "#isolate c_1t and c_2t in budget constraints for both systems and substitute it into Euler equation \n",
    "iso_con1 = sm.solve(con1,c_1t)[0]\n",
    "iso_con2_payg = sm.solve(con2_payg,c_2t)[0]\n",
    "iso_con2_FF = sm.solve(con2_FF,c_2t)[0]\n",
    "savings_PAYG = final_euler_PAYG.subs(c_1t,iso_con1).subs(c_2t, iso_con2_payg)\n",
    "savings_FF = final_euler_FF.subs(c_1t,iso_con1).subs(c_2t, iso_con2_FF)\n",
    "\n",
    "#isolate s_t in savings for both systems\n",
    "final_savings_PAYG = sm.Eq(s_t, sm.solve(savings_PAYG,s_t)[0])\n",
    "final_savings_FF = sm.Eq(s_t, sm.solve(savings_FF,s_t)[0])\n",
    "print('Savings in the PAYG system:')\n",
    "final_savings_PAYG"
   ]
  },
  {
   "attachments": {},
   "cell_type": "markdown",
   "metadata": {},
   "source": [
    "We would liked to have a more simplified equation for $s_t$ like \n",
    "$$\n",
    "\\begin{aligned}\n",
    "s_t = \\frac{1-\\rho}{2+\\rho}w_t - \\tau \\frac{1+\\rho}{(2+\\rho)(1+r_{t+1})}w_{t+1}\n",
    "\\end{aligned}\n",
    "$$\n",
    ", but sympy/python dont do that for us. They are still the same tho, one is just more simplified."
   ]
  },
  {
   "cell_type": "code",
   "execution_count": 6,
   "metadata": {},
   "outputs": [
    {
     "name": "stdout",
     "output_type": "stream",
     "text": [
      "Savings in the FF system:\n"
     ]
    },
    {
     "data": {
      "text/latex": [
       "$\\displaystyle s_{t} = \\frac{w_{t} \\left(- \\rho \\tau - 2 \\tau + 1\\right)}{\\rho + 2}$"
      ],
      "text/plain": [
       "Eq(s_t, w_t*(-rho*tau - 2*tau + 1)/(rho + 2))"
      ]
     },
     "execution_count": 6,
     "metadata": {},
     "output_type": "execute_result"
    }
   ],
   "source": [
    "print('Savings in the FF system:')\n",
    "final_savings_FF"
   ]
  },
  {
   "attachments": {},
   "cell_type": "markdown",
   "metadata": {},
   "source": [
    "We would again like to have a more simplified equation for $s_t$ like\n",
    "$$\n",
    "\\begin{aligned}\n",
    "s_t = (\\frac{1}{2+\\rho}-\\tau)w_t\n",
    "\\end{aligned}\n",
    "$$\n",
    ", but sympy/python dont do that for us. They are still the same tho, one is just more simplified. "
   ]
  },
  {
   "attachments": {},
   "cell_type": "markdown",
   "metadata": {},
   "source": [
    "**Capital accumulation**: from savings as $k_{t+1}=s_t$ in PAYG and $k_{t+1}=s_t+w_t\\tau$ in FF"
   ]
  },
  {
   "cell_type": "code",
   "execution_count": 7,
   "metadata": {},
   "outputs": [
    {
     "name": "stdout",
     "output_type": "stream",
     "text": [
      "almost capital accumulation:\n"
     ]
    },
    {
     "data": {
      "text/latex": [
       "$\\displaystyle k_{t+1} = \\frac{- A^{2} \\alpha k_{t}^{\\alpha} k_{t+1}^{\\alpha - 1} \\tau \\left(1 - \\alpha\\right) + A^{2} \\alpha k_{t}^{\\alpha} k_{t+1}^{\\alpha - 1} \\cdot \\left(1 - \\alpha\\right) - A k_{t}^{\\alpha} \\tau \\left(1 - \\alpha\\right) + A k_{t}^{\\alpha} \\left(1 - \\alpha\\right) - A k_{t+1}^{\\alpha} \\rho \\tau \\left(1 - \\alpha\\right) - A k_{t+1}^{\\alpha} \\tau \\left(1 - \\alpha\\right)}{A \\alpha k_{t+1}^{\\alpha - 1} \\rho + 2 A \\alpha k_{t+1}^{\\alpha - 1} + \\rho + 2}$"
      ],
      "text/plain": [
       "Eq(k_{t+1}, (-A**2*alpha*k_t**alpha*k_{t+1}**(alpha - 1)*tau*(1 - alpha) + A**2*alpha*k_t**alpha*k_{t+1}**(alpha - 1)*(1 - alpha) - A*k_t**alpha*tau*(1 - alpha) + A*k_t**alpha*(1 - alpha) - A*k_{t+1}**alpha*rho*tau*(1 - alpha) - A*k_{t+1}**alpha*tau*(1 - alpha))/(A*alpha*k_{t+1}**(alpha - 1)*rho + 2*A*alpha*k_{t+1}**(alpha - 1) + rho + 2))"
      ]
     },
     "execution_count": 7,
     "metadata": {},
     "output_type": "execute_result"
    }
   ],
   "source": [
    "#substitute s_t with k_t1 in both savings equations\n",
    "cap_acc_PAYG = sm.Eq(k_t1, sm.solve(savings_PAYG,s_t)[0])\n",
    "cap_acc_FF = sm.Eq(k_t1, sm.solve(savings_FF,s_t)[0] + tau*w_t)\n",
    "\n",
    "#substitute w_t, w_t1 and r_t1 with wage_t, wage_t1 and rent_t1 in both of the above equations\n",
    "sub_cap_acc_PAYG = (((cap_acc_PAYG.subs(w_t,wage_t)).subs(w_t1,wage_t1)).subs(r_t1,rent_t1)).subs(s_t,k_t1)\n",
    "final_cap_acc_FF = cap_acc_FF.subs(w_t,wage_t)\n",
    "\n",
    "#isolate k_t1 in sub_cap_acc_PAYG, but sympy can't do it since it did not simplifed final_savings (too complex)\n",
    "\"final_cap_acc_PAYG = sm.solve(sub_cap_acc_PAYG,k_t1)\"\n",
    "\n",
    "#Instead we show\n",
    "print('almost capital accumulation:')\n",
    "sub_cap_acc_PAYG\n",
    "\n"
   ]
  },
  {
   "attachments": {},
   "cell_type": "markdown",
   "metadata": {},
   "source": [
    "If sympy could have isolated k_t1 in sub_cap_acc, then we would have gotten a very complex edition of \n",
    "$$\n",
    "\\begin{aligned}\n",
    "k_{t+1} = \\frac{(1-\\alpha)(1-\\tau)\\alpha}{(2+\\rho)\\alpha+(1+\\rho)(1-\\alpha)\\tau}A k_t^\\alpha \n",
    "\\end{aligned}\n",
    "$$\n",
    ", but they would still be the same.\n",
    "\n",
    "We will go by the simplified capital accumulation above for the rest of the project"
   ]
  },
  {
   "cell_type": "code",
   "execution_count": 8,
   "metadata": {},
   "outputs": [
    {
     "name": "stdout",
     "output_type": "stream",
     "text": [
      "Capital accumulation in the PAYG system:\n"
     ]
    },
    {
     "data": {
      "text/latex": [
       "$\\displaystyle k_{t+1} = \\frac{A \\alpha k_{t}^{\\alpha} \\left(1 - \\alpha\\right) \\left(1 - \\tau\\right)}{\\alpha \\left(\\rho + 2\\right) + \\tau \\left(1 - \\alpha\\right) \\left(\\rho + 1\\right)}$"
      ],
      "text/plain": [
       "Eq(k_{t+1}, A*alpha*k_t**alpha*(1 - alpha)*(1 - tau)/(alpha*(rho + 2) + tau*(1 - alpha)*(rho + 1)))"
      ]
     },
     "execution_count": 8,
     "metadata": {},
     "output_type": "execute_result"
    }
   ],
   "source": [
    "final_cap_acc_PAYG = sm.Eq(k_t1, (1-alpha)*(1-tau)*alpha/((2+rho)*alpha+(1+rho)*(1-alpha)*tau)*A*k_t**alpha)\n",
    "print('Capital accumulation in the PAYG system:')\n",
    "final_cap_acc_PAYG"
   ]
  },
  {
   "cell_type": "code",
   "execution_count": 9,
   "metadata": {},
   "outputs": [
    {
     "name": "stdout",
     "output_type": "stream",
     "text": [
      "Capital accumulation in the FF system:\n"
     ]
    },
    {
     "data": {
      "text/latex": [
       "$\\displaystyle k_{t+1} = A k_{t}^{\\alpha} \\tau \\left(1 - \\alpha\\right) + \\frac{A k_{t}^{\\alpha} \\left(1 - \\alpha\\right) \\left(- \\rho \\tau - 2 \\tau + 1\\right)}{\\rho + 2}$"
      ],
      "text/plain": [
       "Eq(k_{t+1}, A*k_t**alpha*tau*(1 - alpha) + A*k_t**alpha*(1 - alpha)*(-rho*tau - 2*tau + 1)/(rho + 2))"
      ]
     },
     "execution_count": 9,
     "metadata": {},
     "output_type": "execute_result"
    }
   ],
   "source": [
    "print('Capital accumulation in the FF system:')\n",
    "final_cap_acc_FF"
   ]
  },
  {
   "attachments": {},
   "cell_type": "markdown",
   "metadata": {},
   "source": [
    "**Steady State**: From capital accumulation as $k_{t+1}=k_t=k^*$"
   ]
  },
  {
   "cell_type": "code",
   "execution_count": 10,
   "metadata": {},
   "outputs": [
    {
     "name": "stdout",
     "output_type": "stream",
     "text": [
      "Steady state in the PAYG system:\n"
     ]
    },
    {
     "data": {
      "text/latex": [
       "$\\displaystyle k^{*} = \\left(\\frac{- \\alpha \\rho \\tau + \\alpha \\rho - \\alpha \\tau + 2 \\alpha + \\rho \\tau + \\tau}{A \\alpha \\left(\\alpha \\tau - \\alpha - \\tau + 1\\right)}\\right)^{\\frac{1}{\\alpha - 1}}$"
      ],
      "text/plain": [
       "Eq(k^*, ((-alpha*rho*tau + alpha*rho - alpha*tau + 2*alpha + rho*tau + tau)/(A*alpha*(alpha*tau - alpha - tau + 1)))**(1/(alpha - 1)))"
      ]
     },
     "execution_count": 10,
     "metadata": {},
     "output_type": "execute_result"
    }
   ],
   "source": [
    "#substitute k_t1 and k_t with k_ss in both of the capial accumulations\n",
    "ss_PAYG = (final_cap_acc_PAYG.subs(k_t1,k_ss)).subs(k_t,k_ss)\n",
    "ss_FF = (final_cap_acc_FF.subs(k_t1,k_ss)).subs(k_t,k_ss)\n",
    "\n",
    "#isolate k_ss in both of the capial accumulations after the substitution\n",
    "final_ss_PAYG = sm.Eq(k_ss, sm.solve(ss_PAYG,k_ss)[0])\n",
    "'final_ss_FF = sm.Eq(k_ss, sm.solve(ss_FF,k_ss)[0])' #No algorithms are implemented to solve equation, so do it in hand\n",
    "final_ss_FF = sm.Eq(k_ss, (((-rho*tau - 2*tau + 1)/(rho + 2)+tau)*(1-alpha)*A)**(1/(1-alpha)))\n",
    "print('Steady state in the PAYG system:')\n",
    "final_ss_PAYG"
   ]
  },
  {
   "cell_type": "code",
   "execution_count": 11,
   "metadata": {},
   "outputs": [
    {
     "name": "stdout",
     "output_type": "stream",
     "text": [
      "Steady state in the FF system:\n"
     ]
    },
    {
     "data": {
      "text/latex": [
       "$\\displaystyle k^{*} = \\left(A \\left(1 - \\alpha\\right) \\left(\\tau + \\frac{- \\rho \\tau - 2 \\tau + 1}{\\rho + 2}\\right)\\right)^{\\frac{1}{1 - \\alpha}}$"
      ],
      "text/plain": [
       "Eq(k^*, (A*(1 - alpha)*(tau + (-rho*tau - 2*tau + 1)/(rho + 2)))**(1/(1 - alpha)))"
      ]
     },
     "execution_count": 11,
     "metadata": {},
     "output_type": "execute_result"
    }
   ],
   "source": [
    "print('Steady state in the FF system:')\n",
    "final_ss_FF"
   ]
  },
  {
   "attachments": {},
   "cell_type": "markdown",
   "metadata": {},
   "source": [
    "## Numerical solution"
   ]
  },
  {
   "cell_type": "code",
   "execution_count": 12,
   "metadata": {},
   "outputs": [
    {
     "data": {
      "image/png": "[encoded data removed]",
      "text/plain": [
       "<Figure size 640x480 with 1 Axes>"
      ]
     },
     "metadata": {},
     "output_type": "display_data"
    },
    {
     "name": "stdout",
     "output_type": "stream",
     "text": [
      "steady state in the PAYG system = 2.647\n",
      "steady state in the FF system = 5.060\n"
     ]
    }
   ],
   "source": [
    "#Define parameters\n",
    "alpha = 0.3\n",
    "rho = 0.25\n",
    "tau = 0.2\n",
    "n = 0.02\n",
    "A = 10\n",
    "\n",
    "#we let $k_t$ be in [0,50]\n",
    "k_t = np.linspace(0,10, 1000)\n",
    "\n",
    "#We define the two capital accumulations and steady states\n",
    "k_t1_PAYG = ((1-alpha)*(1-tau)*alpha)/((2+rho)*alpha+(1+rho)*(1-alpha)*tau)*A*k_t**alpha\n",
    "ss_k_PAYG = ((-alpha*rho*tau+alpha*rho-alpha*tau+2*alpha+rho*tau+tau)/(A*alpha*(alpha*tau-alpha-tau+1)))**(1/(alpha-1))\n",
    "k_t1_FF = ((1-rho*tau-2*tau)/(2+rho))*(1-alpha)*A*k_t**alpha+tau*(1-alpha)*A*k_t**alpha\n",
    "ss_k_FF = (((-rho*tau - 2*tau + 1)/(rho + 2)+tau)*(1-alpha)*A)**(1/(1-alpha))\n",
    "\n",
    "#Create plot\n",
    "plt.plot(k_t,k_t1_PAYG, label='PAYG')\n",
    "plt.plot(k_t,k_t, label='45 degree line')\n",
    "plt.plot(k_t,k_t1_FF, label='FF')\n",
    "plt.title('Capital accumulation')\n",
    "plt.ylabel('k_t+1')\n",
    "plt.xlabel('k_t')\n",
    "plt.legend()\n",
    "plt.show()\n",
    "\n",
    "#calulate the two steady states\n",
    "print(f'steady state in the PAYG system = {ss_k_PAYG:.3f}')\n",
    "print(f'steady state in the FF system = {ss_k_FF:.3f}')"
   ]
  },
  {
   "attachments": {},
   "cell_type": "markdown",
   "metadata": {},
   "source": [
    "We see that there a bigger accumulation of capital per capita in the Fully Funded system then in the PAY-AS-YOU-GO system, which result in a higher steady state per capita in the Fully Funded system then in a the PAY-AS-YOU-GO system. This happends because in the fully funded system contributions from the young households is invested in capital in period t, and then in period t+1, when they are the old households, they receive their contribution with interest. In contrast to the PAY-AS-YOU-GO system, where the contributions from the young households are not involved with capital/investing, but instead are dicretely giving to the old households in the same period."
   ]
  },
  {
   "cell_type": "code",
   "execution_count": 13,
   "metadata": {},
   "outputs": [],
   "source": [
    "\n",
    "def plot(alpha=1/3, tau = 0.2, rho = 0.25, A = 10):  \n",
    "    alpha = alpha\n",
    "    tau = tau\n",
    "    rho = rho\n",
    "    k_t = np.linspace(0,50, 1000)\n",
    "    k_t1 = ((1-alpha)*(1-tau)*alpha)/((2+rho)*alpha+(1+rho)*(1-alpha)*tau)*A*k_t**alpha\n",
    "    \n",
    "    ss_k = ((-alpha*rho*tau+alpha*rho-alpha*tau+2*alpha+rho*tau+tau)/(A*alpha*(alpha*tau-alpha-tau+1)))**(1/(alpha-1))\n",
    "    diff_arr = np.absolute(k_t - ss_k)\n",
    "    index = diff_arr.argmin()\n",
    "    x_val = k_t[index]\n",
    "    fig = plt.figure()\n",
    "    ax1 = fig.add_subplot(1,1,1)\n",
    "    ax1.scatter(x_val, ss_k)\n",
    "    ax1.plot(k_t,k_t1, label='PAYG')\n",
    "    ax1.plot(k_t,k_t, label='45 degree line')\n",
    "    plt.title('Capital accumulation for different values of tau')\n",
    "    ax1.set_xlabel(\"$k_t$\")\n",
    "    ax1.set_ylabel(\"$k_{t+1}$\")\n",
    "    ax1.legend()\n",
    "    ax1.set_xlim(0, 8)\n",
    "    ax1.set_ylim(0, 8)\n",
    "    plt.show()\n",
    "    \n",
    "def plot_interact():\n",
    "    widgets.interact(plot,\n",
    "                \n",
    "                 alpha=widgets.FloatSlider(\n",
    "                     description=\"alpha\", min=0.1, max=1, step=0.10, value=1/3),\n",
    "                 tau=widgets.FloatSlider(\n",
    "                     description=\"tau\", min=0.1, max=1, step=0.1, value=0.2),\n",
    "                 rho=widgets.FloatSlider(\n",
    "                     description=\"rho\", min=0.1, max=1, step=0.1, value=0.25),\n",
    "                 A=widgets.FloatSlider(\n",
    "                     description=\"A\", min=0, max=20, step=2, value=10)\n",
    "\n",
    "    );\n",
    "\n"
   ]
  },
  {
   "attachments": {},
   "cell_type": "markdown",
   "metadata": {},
   "source": [
    "You can always solve a model numerically. \n",
    "\n",
    "Define first the set of parameters you need. \n",
    "\n",
    "Then choose one of the optimization algorithms that we have gone through in the lectures based on what you think is most fitting for your model.\n",
    "\n",
    "Are there any problems with convergence? Does the model converge for all starting values? Make a lot of testing to figure these things out. "
   ]
  },
  {
   "attachments": {},
   "cell_type": "markdown",
   "metadata": {},
   "source": [
    "# Further analysis"
   ]
  },
  {
   "attachments": {},
   "cell_type": "markdown",
   "metadata": {},
   "source": [
    "**Extension of the OLG model: Population growth**\n",
    "\n",
    "We new make a extension to our OLG model, so population is no longer constant, but instead growing. The population grows constant with n for every period, so $L_{t+1}=(1+n)L_t$.\n",
    "\n",
    "Capital accumulation with population growth is in\n",
    "\n",
    "PAYG system: $k_{t+1}(1+n)=(1-\\delta)k_t+s_t$ \n",
    "\n",
    "FF system: $k_{t+1}(1+n)=(1-\\delta)k_t+s_t+w_t\\tau$\n",
    "\n",
    ",but we do still assume that the old spend their entrie savings, so $\\delta = 1 $."
   ]
  },
  {
   "cell_type": "code",
   "execution_count": 14,
   "metadata": {},
   "outputs": [
    {
     "data": {
      "image/png": "[encoded data removed]",
      "text/plain": [
       "<Figure size 640x480 with 1 Axes>"
      ]
     },
     "metadata": {},
     "output_type": "display_data"
    }
   ],
   "source": [
    "#We define the capital accumulation in both systems after the extension\n",
    "ex_k_t1_PAYG = (1/(1+n))*(((1-alpha)*(1-tau)*alpha)/((2+rho)*alpha+(1+rho)*(1-alpha)*tau)*A*k_t**alpha)\n",
    "ex_k_t1_FF = (1/(1+n))*(((1-rho*tau-2*tau)/(2+rho))*(1-alpha)*A*k_t**alpha+tau*(1-alpha)*A*k_t**alpha)\n",
    "\n",
    "plt.plot(k_t,ex_k_t1_PAYG, label='PAYG with population growth')\n",
    "plt.plot(k_t,k_t, label='45 degree line')\n",
    "plt.plot(k_t,ex_k_t1_FF, label='FF with population growth')\n",
    "plt.plot(k_t,k_t1_PAYG, label='PAYG')\n",
    "plt.plot(k_t,k_t1_FF, label='FF')\n",
    "plt.title('Capital accumulation')\n",
    "plt.ylabel('k_t+1')\n",
    "plt.xlabel('k_t')\n",
    "plt.legend()\n",
    "plt.show()"
   ]
  },
  {
   "attachments": {},
   "cell_type": "markdown",
   "metadata": {},
   "source": [
    "We can see that after we extend our OLG model with population growth the accumulation of capital per capita becomes lower in both systems, which results in a lower steady state per capita in both systems. This happends because a bigger population hollows out the total capital, which results in a lower level of capital per capita"
   ]
  },
  {
   "attachments": {},
   "cell_type": "markdown",
   "metadata": {},
   "source": [
    "**Capital accumulation and steady state with different parameter-values (focus on tau)**"
   ]
  },
  {
   "cell_type": "code",
   "execution_count": 17,
   "metadata": {},
   "outputs": [
    {
     "data": {
      "application/vnd.jupyter.widget-view+json": {
       "model_id": "3b3b1865876841cf9f06425518cc71a9",
       "version_major": 2,
       "version_minor": 0
      },
      "text/plain": [
       "interactive(children=(FloatSlider(value=0.3, description='alpha', max=1.0, min=0.1, step=0.05), FloatSlider(va…"
      ]
     },
     "metadata": {},
     "output_type": "display_data"
    }
   ],
   "source": [
    "#Create a interactive figure \n",
    "def plot(alpha=0.3, tau = 0.2, rho = 0.25, A = 10, n=0.02):  \n",
    "    alpha = alpha\n",
    "    tau = tau\n",
    "    rho = rho\n",
    "    n = n\n",
    "    k_t = np.linspace(0,50, 1000)\n",
    "    k_t1_PAYG = ((1-alpha)*(1-tau)*alpha)/((2+rho)*alpha+(1+rho)*(1-alpha)*tau)*A*k_t**alpha\n",
    "    k_t1_FF = ((1-rho*tau-2*tau)/(2+rho))*(1-alpha)*A*k_t**alpha+tau*(1-alpha)*A*k_t**alpha\n",
    "    ex_k_t1_PAYG = (1/(1+n))*(((1-alpha)*(1-tau)*alpha)/((2+rho)*alpha+(1+rho)*(1-alpha)*tau)*A*k_t**alpha)\n",
    "    ex_k_t1_FF = (1/(1+n))*(((1-rho*tau-2*tau)/(2+rho))*(1-alpha)*A*k_t**alpha+tau*(1-alpha)*A*k_t**alpha)\n",
    "    fig = plt.figure()\n",
    "    ax1 = fig.add_subplot(1,1,1)\n",
    "    ax1.plot(k_t,k_t1_PAYG, label='PAYG')\n",
    "    ax1.plot(k_t,ex_k_t1_PAYG, label='PAYG with pop. growth')\n",
    "    ax1.plot(k_t,k_t1_FF, label='FF')\n",
    "    ax1.plot(k_t,ex_k_t1_FF, label='FF with pop. growth')\n",
    "    ax1.plot(k_t,k_t, label='45 degree line')\n",
    "    plt.title('Capital accumulation for different parameter-values')\n",
    "    ax1.set_xlabel(\"$k_t$\")\n",
    "    ax1.set_ylabel(\"$k_{t+1}$\")\n",
    "    ax1.legend()\n",
    "    ax1.set_xlim(0, 10)\n",
    "    ax1.set_ylim(0, 10)\n",
    "    plt.show()\n",
    "    \n",
    "def plot_interact():\n",
    "    widgets.interact(plot,\n",
    "                \n",
    "                 alpha=widgets.FloatSlider(\n",
    "                     description=\"alpha\", min=0.1, max=1, step=0.05, value=0.3),\n",
    "                 tau=widgets.FloatSlider(\n",
    "                     description=\"tau\", min=0.1, max=1, step=0.05, value=0.2),\n",
    "                 rho=widgets.FloatSlider(\n",
    "                     description=\"rho\", min=0.1, max=1, step=0.05, value=0.25),\n",
    "                 A=widgets.FloatSlider(\n",
    "                     description=\"A\", min=0, max=20, step=1, value=10),\n",
    "                 n=widgets.FloatSlider(\n",
    "                     description=\"n\", min=0.001, max=0.5, step=0.005, value=0.02)\n",
    "\n",
    "                    \n",
    "    );\n",
    "\n",
    "plot_interact()"
   ]
  },
  {
   "attachments": {},
   "cell_type": "markdown",
   "metadata": {},
   "source": [
    "# Conclusion"
   ]
  },
  {
   "attachments": {},
   "cell_type": "markdown",
   "metadata": {},
   "source": [
    "When the contribution, $\\tau$ from the young households increase, then capital per. capita in steady state will decrease.\n",
    "It happens because the increased contribution makes the young households save less and then capital decreses. "
   ]
  }
 ],
 "metadata": {
  "kernelspec": {
   "display_name": "base",
   "language": "python",
   "name": "python3"
  },
  "language_info": {
   "codemirror_mode": {
    "name": "ipython",
    "version": 3
   },
   "file_extension": ".py",
   "mimetype": "text/x-python",
   "name": "python",
   "nbconvert_exporter": "python",
   "pygments_lexer": "ipython3",
   "version": "3.9.13"
  },
  "toc-autonumbering": true,
  "vscode": {
   "interpreter": {
    "hash": "af1f2526e3629d58cd9c41e625886bc09b4f7d726f91454e7dad230fb7861f03"
   }
  }
 },
 "nbformat": 4,
 "nbformat_minor": 4
}
