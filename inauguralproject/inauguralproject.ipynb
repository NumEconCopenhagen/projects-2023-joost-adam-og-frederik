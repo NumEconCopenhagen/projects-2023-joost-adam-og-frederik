{
 "cells": [
  {
   "cell_type": "markdown",
   "metadata": {},
   "source": [
    "# Inaugural Project"
   ]
  },
  {
   "attachments": {},
   "cell_type": "markdown",
   "metadata": {},
   "source": [
    "> **Note the following:** \n",
    "> 1. This is an example of how to structure your **inaugural project**.\n",
    "> 1. Remember the general advice on structuring and commenting your code\n",
    "> 1. The `inauguralproject.py` file includes a function which can be used multiple times in this notebook."
   ]
  },
  {
   "cell_type": "markdown",
   "metadata": {},
   "source": [
    "Imports and set magics:"
   ]
  },
  {
   "cell_type": "code",
   "execution_count": 6,
   "metadata": {},
   "outputs": [
    {
     "name": "stdout",
     "output_type": "stream",
     "text": [
      "The autoreload extension is already loaded. To reload it, use:\n",
      "  %reload_ext autoreload\n"
     ]
    }
   ],
   "source": [
    "import numpy as np\n",
    "\n",
    "# autoreload modules when code is run. Otherwise, python will not see recent changes. \n",
    "%load_ext autoreload\n",
    "%autoreload 2\n",
    "\n",
    "# Import your own code\n",
    "from HouseholdSpecializationModel import HouseholdSpecializationModelClass\n",
    "model = HouseholdSpecializationModelClass()\n"
   ]
  },
  {
   "cell_type": "markdown",
   "metadata": {},
   "source": [
    "# Question 1"
   ]
  },
  {
   "cell_type": "markdown",
   "metadata": {},
   "source": [
    "**Explain how you solve the model**"
   ]
  },
  {
   "cell_type": "code",
   "execution_count": 7,
   "metadata": {},
   "outputs": [
    {
     "name": "stdout",
     "output_type": "stream",
     "text": [
      "LM = 4.5000\n",
      "HM = 4.5000\n",
      "LF = 4.5000\n",
      "HF = 4.5000\n",
      "LM: 4.5 for alpha and sigma: (0.5, 1.0)\n",
      "1.0\n"
     ]
    }
   ],
   "source": [
    "# code for solving the model (remember documentation and comments)\n",
    "\n",
    "d_solve = model.solve_discrete(do_print=True)\n",
    "\n",
    "print(f'LM: {d_solve.LM} for alpha and sigma: {model.par.alpha, model.par.sigma}')\n",
    "\n",
    "forhold_HF_HM = d_solve.HF/d_solve.HM\n",
    "\n",
    "print(forhold_HF_HM)\n",
    "\n",
    "alpha_vec = [0.25,0.5,0.75]\n",
    "sigma_vec = [0.5,1.0,1.5]\n",
    "v = np.zeros([3,3])\n",
    "\n",
    "for it, alpha in enumerate(alpha_vec):\n",
    "    model.par.alpha = alpha\n",
    "    for jt, sigma in enumerate(sigma_vec):\n",
    "        model.par.sigma = sigma\n",
    "        out = model.solve_discrete()\n",
    "        v[it,jt] = d_solve.HF/d_solve.HM\n",
    " \n",
    " \n",
    "\n",
    "fig = plt.figure() # create the figure\n",
    "ax = fig.add_subplot(1,1,1,projection='3d') # create a 3d type axis \n",
    "ax.plot_surface(model.,x2_values,u_values);\n",
    "\n"
   ]
  },
  {
   "cell_type": "markdown",
   "metadata": {},
   "source": [
    "# Question 2"
   ]
  },
  {
   "cell_type": "markdown",
   "metadata": {},
   "source": [
    "Explain your code and procedure"
   ]
  },
  {
   "cell_type": "code",
   "execution_count": 8,
   "metadata": {},
   "outputs": [],
   "source": [
    "# code"
   ]
  },
  {
   "cell_type": "markdown",
   "metadata": {},
   "source": [
    "# Question 3"
   ]
  },
  {
   "cell_type": "markdown",
   "metadata": {},
   "source": [
    "Explain your code and procedure"
   ]
  },
  {
   "cell_type": "code",
   "execution_count": 9,
   "metadata": {},
   "outputs": [],
   "source": [
    "# code"
   ]
  },
  {
   "cell_type": "markdown",
   "metadata": {},
   "source": [
    "ADD CONCISE CONLUSION."
   ]
  }
 ],
 "metadata": {
  "kernelspec": {
   "display_name": "base",
   "language": "python",
   "name": "python3"
  },
  "language_info": {
   "codemirror_mode": {
    "name": "ipython",
    "version": 3
   },
   "file_extension": ".py",
   "mimetype": "text/x-python",
   "name": "python",
   "nbconvert_exporter": "python",
   "pygments_lexer": "ipython3",
   "version": "3.9.13"
  },
  "toc-autonumbering": true,
  "vscode": {
   "interpreter": {
    "hash": "bf9ec1e79c80caa0642abbab8a4c5603f6d3099ed0ddfbaecc490b9c20566038"
   }
  }
 },
 "nbformat": 4,
 "nbformat_minor": 4
}
