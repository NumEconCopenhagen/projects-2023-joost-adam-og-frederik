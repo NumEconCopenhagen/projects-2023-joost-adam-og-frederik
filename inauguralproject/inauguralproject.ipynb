{
 "cells": [
  {
   "cell_type": "markdown",
   "metadata": {},
   "source": [
    "# Inaugural Project"
   ]
  },
  {
   "attachments": {},
   "cell_type": "markdown",
   "metadata": {},
   "source": [
    "> **Note the following:** \n",
    "> 1. This is an example of how to structure your **inaugural project**.\n",
    "> 1. Remember the general advice on structuring and commenting your code\n",
    "> 1. The `inauguralproject.py` file includes a function which can be used multiple times in this notebook."
   ]
  },
  {
   "cell_type": "markdown",
   "metadata": {},
   "source": [
    "Imports and set magics:"
   ]
  },
  {
   "cell_type": "code",
   "execution_count": 1,
   "metadata": {},
   "outputs": [],
   "source": [
    "#Import required packages\n",
    "import numpy as np\n",
    "import matplotlib.pyplot as plt\n",
    "\n",
    "# autoreload modules when code is run. Otherwise, python will not see recent changes. \n",
    "%load_ext autoreload\n",
    "%autoreload 2\n",
    "\n",
    "# Import your own code\n",
    "from HouseholdSpecializationModel import HouseholdSpecializationModelClass\n",
    "model = HouseholdSpecializationModelClass()\n"
   ]
  },
  {
   "cell_type": "markdown",
   "metadata": {},
   "source": [
    "# Question 1"
   ]
  },
  {
   "attachments": {},
   "cell_type": "markdown",
   "metadata": {},
   "source": [
    "*We illustrate how the relationship between $H_F$ and $H_M$ changes when $\\alpha$ and $\\sigma$ are different values*"
   ]
  },
  {
   "cell_type": "code",
   "execution_count": null,
   "metadata": {},
   "outputs": [],
   "source": [
    "#We define a $\\alpha$ and $\\sigma$ vector, so they can have different values\n",
    "alpha_vec = [0.25,0.5,0.75]\n",
    "sigma_vec = [0.5,1.0,1.5]\n",
    "v = np.zeros([3,3])\n",
    "\n",
    "#We create a loop where we calulate the relationship between $H_F$ and $H_M$, when $\\alpha$ and $\\sigma$ are the different values in their respective vector.\n",
    "for it, alpha in enumerate(alpha_vec):\n",
    "    model.par.alpha = alpha\n",
    "    for jt, sigma in enumerate(sigma_vec):\n",
    "        model.par.sigma = sigma\n",
    "        out = model.solve_discrete()\n",
    "        #We put all the relationships between $H_F$ and $H_M$ into a 3x3 matrix called v\n",
    "        v[it,jt] = out.HF/out.HM\n",
    "print('The matrix v is shown below:')\n",
    "print(v)\n",
    "print('the alpha values is represent in the row and sigma values is in the column')\n",
    "\n",
    "# Here we set up the code to plot the figure\n",
    "fig = plt.figure() # create the figure\n",
    "ax = fig.add_subplot(1,1,1,projection='3d') # create a 3d type axis \n",
    "alpha_meshgrid, sigma_meshgrid = np.meshgrid(alpha_vec,sigma_vec, indexing='ij')\n",
    "ax.plot_surface(alpha_meshgrid, sigma_meshgrid, v)\n",
    "\n",
    "#We invert the x-axis and set up view angle\n",
    "ax.invert_xaxis()\n",
    "ax.view_init(elev=8, azim=45)\n",
    "\n",
    "#Set labels to the figure\n",
    "ax.set_xlabel('alpha')\n",
    "ax.set_ylabel('sigma')\n",
    "ax.set_zlabel('HF/HM')\n",
    "ax.set_title(\"HF/HM Relationship\")\n",
    "plt.show()"
   ]
  },
  {
   "cell_type": "code",
   "execution_count": null,
   "metadata": {},
   "outputs": [],
   "source": [
    "#v is the 3x3 vector of the HF/HM relationship with the different values of alpha and sigma\n",
    "#Alpha values is the row and sigma values is the column\n",
    "print(v)"
   ]
  },
  {
   "attachments": {},
   "cell_type": "markdown",
   "metadata": {},
   "source": [
    "We see that the relationship is equal to 1 no matter the value of $\\sigma$, when $\\alpha$ = 0.5.\n",
    "The relationship between $H_F$ and $H_M$ is maximized, when both $\\sigma$ and $\\alpha$ are their highest value. The relationship between $H_F$ and $H_M$ is minimized, when $\\alpha$ is it's lowest value given that $\\sigma$ is it's highest value."
   ]
  },
  {
   "cell_type": "markdown",
   "metadata": {},
   "source": [
    "# Question 2"
   ]
  },
  {
   "cell_type": "markdown",
   "metadata": {},
   "source": [
    "Explain your code and procedure"
   ]
  },
  {
   "cell_type": "code",
   "execution_count": null,
   "metadata": {},
   "outputs": [],
   "source": [
    "#We reset the parameters\n",
    "model.par.alpha = 0.5\n",
    "model.par.sigma = 1\n",
    "\n",
    "#We run the model for solving the wF vector in discrete time\n",
    "model.solve_wF_vec(discrete=True)\n",
    "\n",
    "#From there we create the log of the HF/HM relationship\n",
    "log_forhold_HF_HM = np.log(model.sol.HF_vec/model.sol.HM_vec)\n",
    "\n",
    "#Next we create the log of the relationship between the wages, WF and WM\n",
    "log_forhold_WF_WM = np.log(model.par.wF_vec/model.par.wM)\n",
    "\n",
    "#Plot the relationships\n",
    "plt.plot(log_forhold_WF_WM, log_forhold_HF_HM)\n",
    "plt.title(\"log($H_F$/$H_M$) plotted against log($w_F$/$w_M$)\")\n",
    "plt.xlabel(\"log($w_F$/$w_M$)\")\n",
    "plt.ylabel(\"log($H_F$/$H_M$)\")\n",
    "plt.show()"
   ]
  },
  {
   "cell_type": "markdown",
   "metadata": {},
   "source": [
    "# Question 3"
   ]
  },
  {
   "cell_type": "code",
   "execution_count": null,
   "metadata": {},
   "outputs": [],
   "source": [
    "#Run the model for solving the wF vector in continuous time\n",
    "model.solve_wF_vec(discrete=False)\n",
    "\n",
    "#Create Log HF/HM relationship\n",
    "log_forhold_HF_HM = np.log(model.sol.HF_vec/model.sol.HM_vec)\n",
    "\n",
    "#Next we create the log of the relationship between the wages, WF and WM\n",
    "log_forhold_WF_WM = np.log(model.par.wF_vec/model.par.wM)\n",
    "\n",
    "#Plot the relationships\n",
    "plt.plot(log_forhold_WF_WM, log_forhold_HF_HM)\n",
    "plt.title(\"log($H_F$/$H_M$) plotted against log($w_F$/$w_M$)\")\n",
    "plt.xlabel(\"log($w_F$/$w_M$)\")\n",
    "plt.ylabel(\"log($H_F$/$H_M$)\")\n",
    "plt.show()"
   ]
  },
  {
   "attachments": {},
   "cell_type": "markdown",
   "metadata": {},
   "source": [
    "# Question 4"
   ]
  },
  {
   "cell_type": "code",
   "execution_count": 2,
   "metadata": {},
   "outputs": [
    {
     "name": "stdout",
     "output_type": "stream",
     "text": [
      "The squared difference is minimized, when alpha is 0.982 and sigma is 0.100.\n",
      "At these values our beta0 and beta1 coefficients are 0.400 and -0.100.\n"
     ]
    }
   ],
   "source": [
    "#We run the model to question 4, where we let intital values of $\\sigma$ and $\\alpha$ be 0.5 and 1.\n",
    "q4 = model.estimate(alpha=0.5, sigma=1.0)\n",
    "\n",
    "print(f'The squared difference is minimized, when alpha is {model.par.alpha:.3f} and sigma is {model.par.sigma:.3f}.')\n",
    "print(f'At these values our beta0 and beta1 coefficients are {model.sol.beta0:.3f} and {model.sol.beta1:.3f}.') \n",
    "#print(f'With this the minimized difference is then {q4.dif:.3f}.')"
   ]
  },
  {
   "attachments": {},
   "cell_type": "markdown",
   "metadata": {},
   "source": [
    "# Question 5"
   ]
  },
  {
   "attachments": {},
   "cell_type": "markdown",
   "metadata": {},
   "source": [
    "Our suggestion to a extension of the model is that we take sleep into account in the model as we found it pretty unrealistic, that you can work uptil 24 hours. We will suggest that women and men sleep 8 hours, so they can work uptil 16 hours.\n",
    "\n",
    "Sadly couldn't write the right code to do that"
   ]
  },
  {
   "cell_type": "markdown",
   "metadata": {},
   "source": []
  },
  {
   "cell_type": "code",
   "execution_count": 5,
   "metadata": {},
   "outputs": [
    {
     "name": "stderr",
     "output_type": "stream",
     "text": [
      "/Users/joost/Documents/Intro prog/projects-2023-joost-adam-og-frederik/inauguralproject/HouseholdSpecializationModel.py:62: RuntimeWarning: invalid value encountered in double_scalars\n",
      "  H = HM**(1-par.alpha)*HF**par.alpha\n",
      "/Users/joost/Documents/Intro prog/projects-2023-joost-adam-og-frederik/inauguralproject/HouseholdSpecializationModel.py:65: RuntimeWarning: invalid value encountered in double_scalars\n",
      "  (1-par.alpha)*HM**((par.sigma - 1)/par.sigma) \\\n"
     ]
    },
    {
     "data": {
      "text/plain": [
       "namespace(sigma=0.01)"
      ]
     },
     "execution_count": 5,
     "metadata": {},
     "output_type": "execute_result"
    }
   ],
   "source": [
    "model.estimate_q5(sigma=1.0,epsilon_M=1.0,epsilon_F=1.0, extend=False)"
   ]
  },
  {
   "cell_type": "code",
   "execution_count": 6,
   "metadata": {},
   "outputs": [
    {
     "data": {
      "text/plain": [
       "namespace(alpha=0.9819919258703529, sigma=0.10002445861609605)"
      ]
     },
     "execution_count": 6,
     "metadata": {},
     "output_type": "execute_result"
    }
   ],
   "source": [
    "model.estimate(alpha=0.5, sigma=1.0)"
   ]
  }
 ],
 "metadata": {
  "kernelspec": {
   "display_name": "base",
   "language": "python",
   "name": "python3"
  },
  "language_info": {
   "codemirror_mode": {
    "name": "ipython",
    "version": 3
   },
   "file_extension": ".py",
   "mimetype": "text/x-python",
   "name": "python",
   "nbconvert_exporter": "python",
   "pygments_lexer": "ipython3",
   "version": "3.9.13"
  },
  "toc-autonumbering": true,
  "vscode": {
   "interpreter": {
    "hash": "af1f2526e3629d58cd9c41e625886bc09b4f7d726f91454e7dad230fb7861f03"
   }
  }
 },
 "nbformat": 4,
 "nbformat_minor": 4
}
