{
 "cells": [
  {
   "cell_type": "markdown",
   "metadata": {},
   "source": [
    "# YOUR PROJECT TITLE"
   ]
  },
  {
   "attachments": {},
   "cell_type": "markdown",
   "metadata": {},
   "source": [
    "> **Note the following:** \n",
    "> 1. This is *not* meant to be an example of an actual **data analysis project**, just an example of how to structure such a project.\n",
    "> 1. Remember the general advice on structuring and commenting your code\n",
    "> 1. The `dataproject.py` file includes a function which can be used multiple times in this notebook."
   ]
  },
  {
   "cell_type": "markdown",
   "metadata": {},
   "source": [
    "Imports and set magics:"
   ]
  },
  {
   "cell_type": "code",
   "execution_count": 9,
   "metadata": {},
   "outputs": [
    {
     "name": "stdout",
     "output_type": "stream",
     "text": [
      "The autoreload extension is already loaded. To reload it, use:\n",
      "  %reload_ext autoreload\n"
     ]
    },
    {
     "data": {
      "text/html": [
       "<div>\n",
       "<style scoped>\n",
       "    .dataframe tbody tr th:only-of-type {\n",
       "        vertical-align: middle;\n",
       "    }\n",
       "\n",
       "    .dataframe tbody tr th {\n",
       "        vertical-align: top;\n",
       "    }\n",
       "\n",
       "    .dataframe thead th {\n",
       "        text-align: right;\n",
       "    }\n",
       "</style>\n",
       "<table border=\"1\" class=\"dataframe\">\n",
       "  <thead>\n",
       "    <tr style=\"text-align: right;\">\n",
       "      <th></th>\n",
       "      <th>SUBJECT</th>\n",
       "      <th>Subject</th>\n",
       "      <th>LOCATION</th>\n",
       "      <th>Country</th>\n",
       "      <th>FREQUENCY</th>\n",
       "      <th>Frequency</th>\n",
       "      <th>TIME</th>\n",
       "      <th>Time</th>\n",
       "      <th>Unit Code</th>\n",
       "      <th>Unit</th>\n",
       "      <th>PowerCode Code</th>\n",
       "      <th>PowerCode</th>\n",
       "      <th>Reference Period Code</th>\n",
       "      <th>Reference Period</th>\n",
       "      <th>Value</th>\n",
       "      <th>Flag Codes</th>\n",
       "      <th>Flags</th>\n",
       "    </tr>\n",
       "  </thead>\n",
       "  <tbody>\n",
       "    <tr>\n",
       "      <th>0</th>\n",
       "      <td>IRLT</td>\n",
       "      <td>Long-term interest rates, Per cent per annum</td>\n",
       "      <td>CAN</td>\n",
       "      <td>Canada</td>\n",
       "      <td>A</td>\n",
       "      <td>Annual</td>\n",
       "      <td>1974</td>\n",
       "      <td>1974</td>\n",
       "      <td>PC</td>\n",
       "      <td>Percentage</td>\n",
       "      <td>0</td>\n",
       "      <td>Units</td>\n",
       "      <td>NaN</td>\n",
       "      <td>NaN</td>\n",
       "      <td>8.870000</td>\n",
       "      <td>NaN</td>\n",
       "      <td>NaN</td>\n",
       "    </tr>\n",
       "    <tr>\n",
       "      <th>1</th>\n",
       "      <td>IRLT</td>\n",
       "      <td>Long-term interest rates, Per cent per annum</td>\n",
       "      <td>CAN</td>\n",
       "      <td>Canada</td>\n",
       "      <td>A</td>\n",
       "      <td>Annual</td>\n",
       "      <td>1975</td>\n",
       "      <td>1975</td>\n",
       "      <td>PC</td>\n",
       "      <td>Percentage</td>\n",
       "      <td>0</td>\n",
       "      <td>Units</td>\n",
       "      <td>NaN</td>\n",
       "      <td>NaN</td>\n",
       "      <td>8.993333</td>\n",
       "      <td>NaN</td>\n",
       "      <td>NaN</td>\n",
       "    </tr>\n",
       "    <tr>\n",
       "      <th>2</th>\n",
       "      <td>IRLT</td>\n",
       "      <td>Long-term interest rates, Per cent per annum</td>\n",
       "      <td>CAN</td>\n",
       "      <td>Canada</td>\n",
       "      <td>A</td>\n",
       "      <td>Annual</td>\n",
       "      <td>1976</td>\n",
       "      <td>1976</td>\n",
       "      <td>PC</td>\n",
       "      <td>Percentage</td>\n",
       "      <td>0</td>\n",
       "      <td>Units</td>\n",
       "      <td>NaN</td>\n",
       "      <td>NaN</td>\n",
       "      <td>9.229167</td>\n",
       "      <td>NaN</td>\n",
       "      <td>NaN</td>\n",
       "    </tr>\n",
       "    <tr>\n",
       "      <th>3</th>\n",
       "      <td>IRLT</td>\n",
       "      <td>Long-term interest rates, Per cent per annum</td>\n",
       "      <td>CAN</td>\n",
       "      <td>Canada</td>\n",
       "      <td>A</td>\n",
       "      <td>Annual</td>\n",
       "      <td>1977</td>\n",
       "      <td>1977</td>\n",
       "      <td>PC</td>\n",
       "      <td>Percentage</td>\n",
       "      <td>0</td>\n",
       "      <td>Units</td>\n",
       "      <td>NaN</td>\n",
       "      <td>NaN</td>\n",
       "      <td>8.693334</td>\n",
       "      <td>NaN</td>\n",
       "      <td>NaN</td>\n",
       "    </tr>\n",
       "    <tr>\n",
       "      <th>4</th>\n",
       "      <td>IRLT</td>\n",
       "      <td>Long-term interest rates, Per cent per annum</td>\n",
       "      <td>CAN</td>\n",
       "      <td>Canada</td>\n",
       "      <td>A</td>\n",
       "      <td>Annual</td>\n",
       "      <td>1978</td>\n",
       "      <td>1978</td>\n",
       "      <td>PC</td>\n",
       "      <td>Percentage</td>\n",
       "      <td>0</td>\n",
       "      <td>Units</td>\n",
       "      <td>NaN</td>\n",
       "      <td>NaN</td>\n",
       "      <td>9.235833</td>\n",
       "      <td>NaN</td>\n",
       "      <td>NaN</td>\n",
       "    </tr>\n",
       "    <tr>\n",
       "      <th>...</th>\n",
       "      <td>...</td>\n",
       "      <td>...</td>\n",
       "      <td>...</td>\n",
       "      <td>...</td>\n",
       "      <td>...</td>\n",
       "      <td>...</td>\n",
       "      <td>...</td>\n",
       "      <td>...</td>\n",
       "      <td>...</td>\n",
       "      <td>...</td>\n",
       "      <td>...</td>\n",
       "      <td>...</td>\n",
       "      <td>...</td>\n",
       "      <td>...</td>\n",
       "      <td>...</td>\n",
       "      <td>...</td>\n",
       "      <td>...</td>\n",
       "    </tr>\n",
       "    <tr>\n",
       "      <th>271</th>\n",
       "      <td>IRLT</td>\n",
       "      <td>Long-term interest rates, Per cent per annum</td>\n",
       "      <td>CHN</td>\n",
       "      <td>China (People's Republic of)</td>\n",
       "      <td>A</td>\n",
       "      <td>Annual</td>\n",
       "      <td>2018</td>\n",
       "      <td>2018</td>\n",
       "      <td>PC</td>\n",
       "      <td>Percentage</td>\n",
       "      <td>0</td>\n",
       "      <td>Units</td>\n",
       "      <td>NaN</td>\n",
       "      <td>NaN</td>\n",
       "      <td>3.579167</td>\n",
       "      <td>NaN</td>\n",
       "      <td>NaN</td>\n",
       "    </tr>\n",
       "    <tr>\n",
       "      <th>272</th>\n",
       "      <td>IRLT</td>\n",
       "      <td>Long-term interest rates, Per cent per annum</td>\n",
       "      <td>CHN</td>\n",
       "      <td>China (People's Republic of)</td>\n",
       "      <td>A</td>\n",
       "      <td>Annual</td>\n",
       "      <td>2019</td>\n",
       "      <td>2019</td>\n",
       "      <td>PC</td>\n",
       "      <td>Percentage</td>\n",
       "      <td>0</td>\n",
       "      <td>Units</td>\n",
       "      <td>NaN</td>\n",
       "      <td>NaN</td>\n",
       "      <td>3.181300</td>\n",
       "      <td>NaN</td>\n",
       "      <td>NaN</td>\n",
       "    </tr>\n",
       "    <tr>\n",
       "      <th>273</th>\n",
       "      <td>IRLT</td>\n",
       "      <td>Long-term interest rates, Per cent per annum</td>\n",
       "      <td>CHN</td>\n",
       "      <td>China (People's Republic of)</td>\n",
       "      <td>A</td>\n",
       "      <td>Annual</td>\n",
       "      <td>2020</td>\n",
       "      <td>2020</td>\n",
       "      <td>PC</td>\n",
       "      <td>Percentage</td>\n",
       "      <td>0</td>\n",
       "      <td>Units</td>\n",
       "      <td>NaN</td>\n",
       "      <td>NaN</td>\n",
       "      <td>2.924433</td>\n",
       "      <td>NaN</td>\n",
       "      <td>NaN</td>\n",
       "    </tr>\n",
       "    <tr>\n",
       "      <th>274</th>\n",
       "      <td>IRLT</td>\n",
       "      <td>Long-term interest rates, Per cent per annum</td>\n",
       "      <td>CHN</td>\n",
       "      <td>China (People's Republic of)</td>\n",
       "      <td>A</td>\n",
       "      <td>Annual</td>\n",
       "      <td>2021</td>\n",
       "      <td>2021</td>\n",
       "      <td>PC</td>\n",
       "      <td>Percentage</td>\n",
       "      <td>0</td>\n",
       "      <td>Units</td>\n",
       "      <td>NaN</td>\n",
       "      <td>NaN</td>\n",
       "      <td>3.005533</td>\n",
       "      <td>NaN</td>\n",
       "      <td>NaN</td>\n",
       "    </tr>\n",
       "    <tr>\n",
       "      <th>275</th>\n",
       "      <td>IRLT</td>\n",
       "      <td>Long-term interest rates, Per cent per annum</td>\n",
       "      <td>CHN</td>\n",
       "      <td>China (People's Republic of)</td>\n",
       "      <td>A</td>\n",
       "      <td>Annual</td>\n",
       "      <td>2022</td>\n",
       "      <td>2022</td>\n",
       "      <td>PC</td>\n",
       "      <td>Percentage</td>\n",
       "      <td>0</td>\n",
       "      <td>Units</td>\n",
       "      <td>NaN</td>\n",
       "      <td>NaN</td>\n",
       "      <td>2.764183</td>\n",
       "      <td>NaN</td>\n",
       "      <td>NaN</td>\n",
       "    </tr>\n",
       "  </tbody>\n",
       "</table>\n",
       "<p>276 rows × 17 columns</p>\n",
       "</div>"
      ],
      "text/plain": [
       "    SUBJECT                                       Subject LOCATION  \\\n",
       "0      IRLT  Long-term interest rates, Per cent per annum      CAN   \n",
       "1      IRLT  Long-term interest rates, Per cent per annum      CAN   \n",
       "2      IRLT  Long-term interest rates, Per cent per annum      CAN   \n",
       "3      IRLT  Long-term interest rates, Per cent per annum      CAN   \n",
       "4      IRLT  Long-term interest rates, Per cent per annum      CAN   \n",
       "..      ...                                           ...      ...   \n",
       "271    IRLT  Long-term interest rates, Per cent per annum      CHN   \n",
       "272    IRLT  Long-term interest rates, Per cent per annum      CHN   \n",
       "273    IRLT  Long-term interest rates, Per cent per annum      CHN   \n",
       "274    IRLT  Long-term interest rates, Per cent per annum      CHN   \n",
       "275    IRLT  Long-term interest rates, Per cent per annum      CHN   \n",
       "\n",
       "                          Country FREQUENCY Frequency  TIME  Time Unit Code  \\\n",
       "0                          Canada         A    Annual  1974  1974        PC   \n",
       "1                          Canada         A    Annual  1975  1975        PC   \n",
       "2                          Canada         A    Annual  1976  1976        PC   \n",
       "3                          Canada         A    Annual  1977  1977        PC   \n",
       "4                          Canada         A    Annual  1978  1978        PC   \n",
       "..                            ...       ...       ...   ...   ...       ...   \n",
       "271  China (People's Republic of)         A    Annual  2018  2018        PC   \n",
       "272  China (People's Republic of)         A    Annual  2019  2019        PC   \n",
       "273  China (People's Republic of)         A    Annual  2020  2020        PC   \n",
       "274  China (People's Republic of)         A    Annual  2021  2021        PC   \n",
       "275  China (People's Republic of)         A    Annual  2022  2022        PC   \n",
       "\n",
       "           Unit  PowerCode Code PowerCode Reference Period Code  \\\n",
       "0    Percentage               0     Units                   NaN   \n",
       "1    Percentage               0     Units                   NaN   \n",
       "2    Percentage               0     Units                   NaN   \n",
       "3    Percentage               0     Units                   NaN   \n",
       "4    Percentage               0     Units                   NaN   \n",
       "..          ...             ...       ...                   ...   \n",
       "271  Percentage               0     Units                   NaN   \n",
       "272  Percentage               0     Units                   NaN   \n",
       "273  Percentage               0     Units                   NaN   \n",
       "274  Percentage               0     Units                   NaN   \n",
       "275  Percentage               0     Units                   NaN   \n",
       "\n",
       "    Reference Period     Value Flag Codes Flags  \n",
       "0                NaN  8.870000        NaN   NaN  \n",
       "1                NaN  8.993333        NaN   NaN  \n",
       "2                NaN  9.229167        NaN   NaN  \n",
       "3                NaN  8.693334        NaN   NaN  \n",
       "4                NaN  9.235833        NaN   NaN  \n",
       "..               ...       ...        ...   ...  \n",
       "271              NaN  3.579167        NaN   NaN  \n",
       "272              NaN  3.181300        NaN   NaN  \n",
       "273              NaN  2.924433        NaN   NaN  \n",
       "274              NaN  3.005533        NaN   NaN  \n",
       "275              NaN  2.764183        NaN   NaN  \n",
       "\n",
       "[276 rows x 17 columns]"
      ]
     },
     "execution_count": 9,
     "metadata": {},
     "output_type": "execute_result"
    }
   ],
   "source": [
    "import pandas as pd\n",
    "import numpy as np\n",
    "import matplotlib.pyplot as plt\n",
    "import ipywidgets as widgets\n",
    "#from matplotlib_venn import venn2\n",
    "\n",
    "# autoreload modules when code is run\n",
    "%load_ext autoreload\n",
    "%autoreload 2\n",
    "\n",
    "# user written modules\n",
    "import dataproject\n",
    "\n",
    "# importing the csv-file of data on share price index, short-term interest rates, long-term interest rates etc. \n",
    "#interest = pd.read_excel('02024c3c-3d9b-4ea1-a818-c73cf2d0e0c1.xlsx')\n",
    "interest = pd.read_csv('MEI_FIN_05042023142240461.csv')\n",
    "interest.head()\n",
    "\n",
    "# Filtering, so only the long-term interest rates appear\n",
    "df = interest[interest.Subject ==\"Long-term interest rates, Per cent per annum\"]\n",
    "\n",
    "# resetting the index\n",
    "df.index = range(df.shape[0])\n",
    "\n",
    "df"
   ]
  },
  {
   "cell_type": "code",
   "execution_count": 11,
   "metadata": {},
   "outputs": [
    {
     "data": {
      "text/plain": [
       "United States                   196\n",
       "Canada                          195\n",
       "United Kingdom                  180\n",
       "Germany                         147\n",
       "Netherlands                     139\n",
       "Korea                           128\n",
       "China (People's Republic of)     98\n",
       "Name: Country, dtype: int64"
      ]
     },
     "execution_count": 11,
     "metadata": {},
     "output_type": "execute_result"
    }
   ],
   "source": [
    "# counting how many values there is for each country\n",
    "interest.Country.value_counts()\n"
   ]
  },
  {
   "cell_type": "code",
   "execution_count": 12,
   "metadata": {},
   "outputs": [
    {
     "name": "stdout",
     "output_type": "stream",
     "text": [
      "    SUBJECT                       Country  Time     Value\n",
      "0      IRLT                        Canada  1974  8.870000\n",
      "1      IRLT                        Canada  1975  8.993333\n",
      "2      IRLT                        Canada  1976  9.229167\n",
      "3      IRLT                        Canada  1977  8.693334\n",
      "4      IRLT                        Canada  1978  9.235833\n",
      "..      ...                           ...   ...       ...\n",
      "271    IRLT  China (People's Republic of)  2018  3.579167\n",
      "272    IRLT  China (People's Republic of)  2019  3.181300\n",
      "273    IRLT  China (People's Republic of)  2020  2.924433\n",
      "274    IRLT  China (People's Republic of)  2021  3.005533\n",
      "275    IRLT  China (People's Republic of)  2022  2.764183\n",
      "\n",
      "[276 rows x 4 columns]\n"
     ]
    }
   ],
   "source": [
    "# Creating a new dataframe, where we filter out some the values we do not care about. \n",
    "dataframe = pd.DataFrame(df, columns = ['SUBJECT', 'Country', 'Time', 'Value'])\n",
    "print(dataframe)"
   ]
  },
  {
   "cell_type": "code",
   "execution_count": null,
   "metadata": {},
   "outputs": [],
   "source": []
  },
  {
   "cell_type": "markdown",
   "metadata": {},
   "source": [
    "# Read and clean data"
   ]
  },
  {
   "cell_type": "markdown",
   "metadata": {},
   "source": [
    "Import your data, either through an API or manually, and load it. "
   ]
  },
  {
   "cell_type": "markdown",
   "metadata": {},
   "source": [
    "## Explore each data set"
   ]
  },
  {
   "cell_type": "markdown",
   "metadata": {},
   "source": [
    "In order to be able to **explore the raw data**, you may provide **static** and **interactive plots** to show important developments "
   ]
  },
  {
   "cell_type": "markdown",
   "metadata": {},
   "source": [
    "**Interactive plot** :"
   ]
  },
  {
   "cell_type": "code",
   "execution_count": null,
   "metadata": {},
   "outputs": [],
   "source": [
    "def plot_func():\n",
    "    # Function that operates on data set\n",
    "    pass\n",
    "\n",
    "widgets.interact(plot_func, \n",
    "    # Let the widget interact with data through plot_func()    \n",
    "); \n"
   ]
  },
  {
   "cell_type": "markdown",
   "metadata": {},
   "source": [
    "Explain what you see when moving elements of the interactive plot around. "
   ]
  },
  {
   "cell_type": "markdown",
   "metadata": {},
   "source": [
    "# Merge data sets"
   ]
  },
  {
   "cell_type": "markdown",
   "metadata": {},
   "source": [
    "Now you create combinations of your loaded data sets. Remember the illustration of a (inner) **merge**:"
   ]
  },
  {
   "cell_type": "code",
   "execution_count": null,
   "metadata": {},
   "outputs": [],
   "source": [
    "plt.figure(figsize=(15,7))\n",
    "v = venn2(subsets = (4, 4, 10), set_labels = ('Data X', 'Data Y'))\n",
    "v.get_label_by_id('100').set_text('dropped')\n",
    "v.get_label_by_id('010').set_text('dropped' )\n",
    "v.get_label_by_id('110').set_text('included')\n",
    "plt.show()"
   ]
  },
  {
   "cell_type": "markdown",
   "metadata": {},
   "source": [
    "Here we are dropping elements from both data set X and data set Y. A left join would keep all observations in data X intact and subset only from Y. \n",
    "\n",
    "Make sure that your resulting data sets have the correct number of rows and columns. That is, be clear about which observations are thrown away. \n",
    "\n",
    "**Note:** Don't make Venn diagrams in your own data project. It is just for exposition. "
   ]
  },
  {
   "cell_type": "markdown",
   "metadata": {},
   "source": [
    "# Analysis"
   ]
  },
  {
   "cell_type": "markdown",
   "metadata": {},
   "source": [
    "To get a quick overview of the data, we show some **summary statistics** on a meaningful aggregation. "
   ]
  },
  {
   "cell_type": "markdown",
   "metadata": {},
   "source": [
    "MAKE FURTHER ANALYSIS. EXPLAIN THE CODE BRIEFLY AND SUMMARIZE THE RESULTS."
   ]
  },
  {
   "cell_type": "markdown",
   "metadata": {},
   "source": [
    "# Conclusion"
   ]
  },
  {
   "cell_type": "markdown",
   "metadata": {},
   "source": [
    "ADD CONCISE CONLUSION."
   ]
  }
 ],
 "metadata": {
  "kernelspec": {
   "display_name": "base",
   "language": "python",
   "name": "python3"
  },
  "language_info": {
   "codemirror_mode": {
    "name": "ipython",
    "version": 3
   },
   "file_extension": ".py",
   "mimetype": "text/x-python",
   "name": "python",
   "nbconvert_exporter": "python",
   "pygments_lexer": "ipython3",
   "version": "3.9.13"
  },
  "toc-autonumbering": true,
  "vscode": {
   "interpreter": {
    "hash": "bf9ec1e79c80caa0642abbab8a4c5603f6d3099ed0ddfbaecc490b9c20566038"
   }
  }
 },
 "nbformat": 4,
 "nbformat_minor": 4
}
