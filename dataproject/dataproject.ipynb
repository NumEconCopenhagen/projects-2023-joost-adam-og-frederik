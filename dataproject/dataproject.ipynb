{
 "cells": [
  {
   "attachments": {},
   "cell_type": "markdown",
   "metadata": {},
   "source": [
    "# Data Project"
   ]
  },
  {
   "attachments": {},
   "cell_type": "markdown",
   "metadata": {},
   "source": [
    "Imports and set magics:"
   ]
  },
  {
   "cell_type": "code",
   "execution_count": 2,
   "metadata": {},
   "outputs": [
    {
     "ename": "ModuleNotFoundError",
     "evalue": "No module named 'DstApi'",
     "output_type": "error",
     "traceback": [
      "\u001b[1;31m---------------------------------------------------------------------------\u001b[0m",
      "\u001b[1;31mModuleNotFoundError\u001b[0m                       Traceback (most recent call last)",
      "\u001b[1;32m~\\AppData\\Local\\Temp\\ipykernel_14468\\298903033.py\u001b[0m in \u001b[0;36m<module>\u001b[1;34m\u001b[0m\n\u001b[0;32m      3\u001b[0m \u001b[1;32mimport\u001b[0m \u001b[0mmatplotlib\u001b[0m\u001b[1;33m.\u001b[0m\u001b[0mpyplot\u001b[0m \u001b[1;32mas\u001b[0m \u001b[0mplt\u001b[0m\u001b[1;33m\u001b[0m\u001b[1;33m\u001b[0m\u001b[0m\n\u001b[0;32m      4\u001b[0m \u001b[1;32mimport\u001b[0m \u001b[0mipywidgets\u001b[0m \u001b[1;32mas\u001b[0m \u001b[0mwidgets\u001b[0m\u001b[1;33m\u001b[0m\u001b[1;33m\u001b[0m\u001b[0m\n\u001b[1;32m----> 5\u001b[1;33m \u001b[1;32mfrom\u001b[0m \u001b[0mDstApi\u001b[0m \u001b[1;32mimport\u001b[0m \u001b[0mDstApi\u001b[0m \u001b[1;31m# install with `pip install git+https://github.com/alemartinello/dstapi`\u001b[0m\u001b[1;33m\u001b[0m\u001b[1;33m\u001b[0m\u001b[0m\n\u001b[0m\u001b[0;32m      6\u001b[0m \u001b[0mpd\u001b[0m\u001b[1;33m.\u001b[0m\u001b[0mset_option\u001b[0m\u001b[1;33m(\u001b[0m\u001b[1;34m'display.float_format'\u001b[0m\u001b[1;33m,\u001b[0m \u001b[1;32mlambda\u001b[0m \u001b[0mx\u001b[0m\u001b[1;33m:\u001b[0m \u001b[1;34m'%.2f'\u001b[0m \u001b[1;33m%\u001b[0m \u001b[0mx\u001b[0m\u001b[1;33m)\u001b[0m \u001b[1;31m# formating\u001b[0m\u001b[1;33m\u001b[0m\u001b[1;33m\u001b[0m\u001b[0m\n\u001b[0;32m      7\u001b[0m \u001b[1;32mfrom\u001b[0m \u001b[0mmatplotlib\u001b[0m\u001b[1;33m.\u001b[0m\u001b[0mdates\u001b[0m \u001b[1;32mimport\u001b[0m \u001b[0mdate2num\u001b[0m\u001b[1;33m\u001b[0m\u001b[1;33m\u001b[0m\u001b[0m\n",
      "\u001b[1;31mModuleNotFoundError\u001b[0m: No module named 'DstApi'"
     ]
    }
   ],
   "source": [
    "import pandas as pd\n",
    "import numpy as np\n",
    "import matplotlib.pyplot as plt\n",
    "import ipywidgets as widgets\n",
    "from dstapi import DstApi # install with `pip install git+https://github.com/alemartinello/dstapi`\n",
    "pd.set_option('display.float_format', lambda x: '%.2f' % x) # formating\n",
    "from matplotlib.dates import date2num\n",
    "\n",
    "# autoreload modules when code is run\n",
    "%load_ext autoreload\n",
    "%autoreload 2"
   ]
  },
  {
   "attachments": {},
   "cell_type": "markdown",
   "metadata": {},
   "source": [
    "# Introduction\n"
   ]
  },
  {
   "attachments": {},
   "cell_type": "markdown",
   "metadata": {},
   "source": [
    "In the following project, we examine Gross Value Added (**GVA**) in different sectors and in total. We employ data from the Danish Statistical Bank (Statistikbanken), implying that we only analyze data from Denmark.\\\n",
    "Furthermore we examine the construction sector. Here we compare GVA with construction costs and employment in order to analyze whether or not there is a positive or negative correlation between GVA, construction costs and employment. \\\n",
    "Additionally we examine this sector to see if certain industries are more volatile than others and if this seems to be the case, we would like to examine such an industry. "
   ]
  },
  {
   "attachments": {},
   "cell_type": "markdown",
   "metadata": {},
   "source": [
    "# Read and clean data"
   ]
  },
  {
   "attachments": {},
   "cell_type": "markdown",
   "metadata": {},
   "source": [
    "We import three different datasets from **Danmarks Statistikbank**, namely **Gross Value Added**, **Construction Cost** and **Employment for Construction**. "
   ]
  },
  {
   "cell_type": "code",
   "execution_count": 13,
   "metadata": {},
   "outputs": [
    {
     "name": "stdout",
     "output_type": "stream",
     "text": [
      "Table NABP10: 1-2.1.1 Production\n",
      "and  generation of income (10a3-grouping) by transaction, industry, price unit and time\n",
      "Last update: 2023-03-31T08:00:00\n",
      "Table BYG32: Construction cost index for residential buildings by main index, kind, unit and time\n",
      "Last update: 2023-03-08T08:00:00\n",
      "Table NABB10: Employment (10a3-grouping) by socioeconomic status, industry and time\n",
      "Last update: 2023-03-31T08:00:00\n"
     ]
    },
    {
     "data": {
      "text/html": [
       "<div>\n",
       "<style scoped>\n",
       "    .dataframe tbody tr th:only-of-type {\n",
       "        vertical-align: middle;\n",
       "    }\n",
       "\n",
       "    .dataframe tbody tr th {\n",
       "        vertical-align: top;\n",
       "    }\n",
       "\n",
       "    .dataframe thead th {\n",
       "        text-align: right;\n",
       "    }\n",
       "</style>\n",
       "<table border=\"1\" class=\"dataframe\">\n",
       "  <thead>\n",
       "    <tr style=\"text-align: right;\">\n",
       "      <th></th>\n",
       "      <th>variable name</th>\n",
       "      <th># values</th>\n",
       "      <th>First value</th>\n",
       "      <th>First value label</th>\n",
       "      <th>Last value</th>\n",
       "      <th>Last value label</th>\n",
       "      <th>Time variable</th>\n",
       "    </tr>\n",
       "  </thead>\n",
       "  <tbody>\n",
       "    <tr>\n",
       "      <th>0</th>\n",
       "      <td>TRANSAKT</td>\n",
       "      <td>10</td>\n",
       "      <td>P1K</td>\n",
       "      <td>P.1 Output</td>\n",
       "      <td>B1N2D</td>\n",
       "      <td>B.1n Net value added</td>\n",
       "      <td>False</td>\n",
       "    </tr>\n",
       "    <tr>\n",
       "      <th>1</th>\n",
       "      <td>BRANCHE</td>\n",
       "      <td>15</td>\n",
       "      <td>V</td>\n",
       "      <td>Total</td>\n",
       "      <td>VR_S</td>\n",
       "      <td>R_S Arts, entertainment and other services</td>\n",
       "      <td>False</td>\n",
       "    </tr>\n",
       "    <tr>\n",
       "      <th>2</th>\n",
       "      <td>PRISENHED</td>\n",
       "      <td>2</td>\n",
       "      <td>V</td>\n",
       "      <td>Current prices</td>\n",
       "      <td>LAN</td>\n",
       "      <td>2010-prices, chained values</td>\n",
       "      <td>False</td>\n",
       "    </tr>\n",
       "    <tr>\n",
       "      <th>3</th>\n",
       "      <td>Tid</td>\n",
       "      <td>57</td>\n",
       "      <td>1966</td>\n",
       "      <td>1966</td>\n",
       "      <td>2022</td>\n",
       "      <td>2022</td>\n",
       "      <td>True</td>\n",
       "    </tr>\n",
       "  </tbody>\n",
       "</table>\n",
       "</div>"
      ],
      "text/plain": [
       "  variable name  # values First value First value label Last value  \\\n",
       "0      TRANSAKT        10         P1K        P.1 Output      B1N2D   \n",
       "1       BRANCHE        15           V             Total       VR_S   \n",
       "2     PRISENHED         2           V    Current prices        LAN   \n",
       "3           Tid        57        1966              1966       2022   \n",
       "\n",
       "                             Last value label  Time variable  \n",
       "0                        B.1n Net value added          False  \n",
       "1  R_S Arts, entertainment and other services          False  \n",
       "2                 2010-prices, chained values          False  \n",
       "3                                        2022           True  "
      ]
     },
     "metadata": {},
     "output_type": "display_data"
    },
    {
     "data": {
      "text/html": [
       "<div>\n",
       "<style scoped>\n",
       "    .dataframe tbody tr th:only-of-type {\n",
       "        vertical-align: middle;\n",
       "    }\n",
       "\n",
       "    .dataframe tbody tr th {\n",
       "        vertical-align: top;\n",
       "    }\n",
       "\n",
       "    .dataframe thead th {\n",
       "        text-align: right;\n",
       "    }\n",
       "</style>\n",
       "<table border=\"1\" class=\"dataframe\">\n",
       "  <thead>\n",
       "    <tr style=\"text-align: right;\">\n",
       "      <th></th>\n",
       "      <th>variable name</th>\n",
       "      <th># values</th>\n",
       "      <th>First value</th>\n",
       "      <th>First value label</th>\n",
       "      <th>Last value</th>\n",
       "      <th>Last value label</th>\n",
       "      <th>Time variable</th>\n",
       "    </tr>\n",
       "  </thead>\n",
       "  <tbody>\n",
       "    <tr>\n",
       "      <th>0</th>\n",
       "      <td>HINDEKS</td>\n",
       "      <td>2</td>\n",
       "      <td>02</td>\n",
       "      <td>Construction Cost index for one-family houses</td>\n",
       "      <td>03</td>\n",
       "      <td>Construction Cost Index for multi-family houses</td>\n",
       "      <td>False</td>\n",
       "    </tr>\n",
       "    <tr>\n",
       "      <th>1</th>\n",
       "      <td>ART</td>\n",
       "      <td>3</td>\n",
       "      <td>1002</td>\n",
       "      <td>Total</td>\n",
       "      <td>1006</td>\n",
       "      <td>Total labour costs</td>\n",
       "      <td>False</td>\n",
       "    </tr>\n",
       "    <tr>\n",
       "      <th>2</th>\n",
       "      <td>ENHED</td>\n",
       "      <td>2</td>\n",
       "      <td>100</td>\n",
       "      <td>Index</td>\n",
       "      <td>315</td>\n",
       "      <td>Percentage change compared to previous year</td>\n",
       "      <td>False</td>\n",
       "    </tr>\n",
       "    <tr>\n",
       "      <th>3</th>\n",
       "      <td>Tid</td>\n",
       "      <td>83</td>\n",
       "      <td>1940</td>\n",
       "      <td>1940</td>\n",
       "      <td>2022</td>\n",
       "      <td>2022</td>\n",
       "      <td>True</td>\n",
       "    </tr>\n",
       "  </tbody>\n",
       "</table>\n",
       "</div>"
      ],
      "text/plain": [
       "  variable name  # values First value  \\\n",
       "0       HINDEKS         2          02   \n",
       "1           ART         3        1002   \n",
       "2         ENHED         2         100   \n",
       "3           Tid        83        1940   \n",
       "\n",
       "                               First value label Last value  \\\n",
       "0  Construction Cost index for one-family houses         03   \n",
       "1                                          Total       1006   \n",
       "2                                          Index        315   \n",
       "3                                           1940       2022   \n",
       "\n",
       "                                  Last value label  Time variable  \n",
       "0  Construction Cost Index for multi-family houses          False  \n",
       "1                               Total labour costs          False  \n",
       "2      Percentage change compared to previous year          False  \n",
       "3                                             2022           True  "
      ]
     },
     "metadata": {},
     "output_type": "display_data"
    },
    {
     "data": {
      "text/html": [
       "<div>\n",
       "<style scoped>\n",
       "    .dataframe tbody tr th:only-of-type {\n",
       "        vertical-align: middle;\n",
       "    }\n",
       "\n",
       "    .dataframe tbody tr th {\n",
       "        vertical-align: top;\n",
       "    }\n",
       "\n",
       "    .dataframe thead th {\n",
       "        text-align: right;\n",
       "    }\n",
       "</style>\n",
       "<table border=\"1\" class=\"dataframe\">\n",
       "  <thead>\n",
       "    <tr style=\"text-align: right;\">\n",
       "      <th></th>\n",
       "      <th>variable name</th>\n",
       "      <th># values</th>\n",
       "      <th>First value</th>\n",
       "      <th>First value label</th>\n",
       "      <th>Last value</th>\n",
       "      <th>Last value label</th>\n",
       "      <th>Time variable</th>\n",
       "    </tr>\n",
       "  </thead>\n",
       "  <tbody>\n",
       "    <tr>\n",
       "      <th>0</th>\n",
       "      <td>SOCIO</td>\n",
       "      <td>4</td>\n",
       "      <td>EMPH_DC</td>\n",
       "      <td>Hours worked (1,000 hours)</td>\n",
       "      <td>SALM_DC</td>\n",
       "      <td>Employees (number)</td>\n",
       "      <td>False</td>\n",
       "    </tr>\n",
       "    <tr>\n",
       "      <th>1</th>\n",
       "      <td>BRANCHE</td>\n",
       "      <td>15</td>\n",
       "      <td>V</td>\n",
       "      <td>Total</td>\n",
       "      <td>VR_S</td>\n",
       "      <td>R_S Arts, entertainment and other services</td>\n",
       "      <td>False</td>\n",
       "    </tr>\n",
       "    <tr>\n",
       "      <th>2</th>\n",
       "      <td>Tid</td>\n",
       "      <td>57</td>\n",
       "      <td>1966</td>\n",
       "      <td>1966</td>\n",
       "      <td>2022</td>\n",
       "      <td>2022</td>\n",
       "      <td>True</td>\n",
       "    </tr>\n",
       "  </tbody>\n",
       "</table>\n",
       "</div>"
      ],
      "text/plain": [
       "  variable name  # values First value           First value label Last value  \\\n",
       "0         SOCIO         4     EMPH_DC  Hours worked (1,000 hours)    SALM_DC   \n",
       "1       BRANCHE        15           V                       Total       VR_S   \n",
       "2           Tid        57        1966                        1966       2022   \n",
       "\n",
       "                             Last value label  Time variable  \n",
       "0                          Employees (number)          False  \n",
       "1  R_S Arts, entertainment and other services          False  \n",
       "2                                        2022           True  "
      ]
     },
     "metadata": {},
     "output_type": "display_data"
    }
   ],
   "source": [
    "# We import three datasets from DST\n",
    "GVA = DstApi('NABP10') # Gross value added\n",
    "COST = DstApi('BYG32') # Construction Cost\n",
    "EMPLOY = DstApi('NABB10') # Employment\n",
    "\n",
    "# We create tables for each dataset and we display them\n",
    "summary_GVA = GVA.tablesummary(language='en')\n",
    "summary_COST = COST.tablesummary(language='en')\n",
    "summary_EMPLOY = EMPLOY.tablesummary(language='en')\n",
    "display(summary_GVA)\n",
    "display(summary_COST)\n",
    "display(summary_EMPLOY)"
   ]
  },
  {
   "attachments": {},
   "cell_type": "markdown",
   "metadata": {},
   "source": [
    "## Defining parameters, renaming variables, filtering & sorting datasets"
   ]
  },
  {
   "attachments": {},
   "cell_type": "markdown",
   "metadata": {},
   "source": [
    "In the **Gross Value Added** dataset we filter \"*Gross Value Added*\" in **TRANSAKT**, \"*Total*\" \"*Construction*\" and \"*Public administration, education and health*\" in **BRANCHE**, \"*2010-prices, chained values*\" in **PRISENHED** and *1988-2022* in **Tid**. \\\n",
    "In the **Consruction Cost** dataset we filter \"*Construction Cost index for one-family houses*\" in **HINDEKS**, \"*Total*\" in **ART** and \"*Percentage change compared to previous year*\" in **INDEX**. \\\n",
    "In the **Employment** dataset we filter \"*Employment (number)*\" in **SOCIO**, \"*Construction*\" in **BRANCHE** and *1989-2022* in **Tid**. \n",
    "\n",
    "At first we can compare **Gross Value Added** in the **Construction industry** to **Public administration, education and health** and the total **Gross Value Added**. After that we look further into the **Construction industry**. "
   ]
  },
  {
   "cell_type": "code",
   "execution_count": 14,
   "metadata": {},
   "outputs": [
    {
     "name": "stderr",
     "output_type": "stream",
     "text": [
      "/var/folders/qn/m3hbpy256cs_8mfcpffzgvzr0000gn/T/ipykernel_72073/3105687554.py:48: SettingWithCopyWarning: \n",
      "A value is trying to be set on a copy of a slice from a DataFrame.\n",
      "Try using .loc[row_indexer,col_indexer] = value instead\n",
      "\n",
      "See the caveats in the documentation: https://pandas.pydata.org/pandas-docs/stable/user_guide/indexing.html#returning-a-view-versus-a-copy\n",
      "  total_plot['Pct. Change'] = total_plot['GVA'].pct_change(periods=1)*100\n",
      "/var/folders/qn/m3hbpy256cs_8mfcpffzgvzr0000gn/T/ipykernel_72073/3105687554.py:49: SettingWithCopyWarning: \n",
      "A value is trying to be set on a copy of a slice from a DataFrame.\n",
      "Try using .loc[row_indexer,col_indexer] = value instead\n",
      "\n",
      "See the caveats in the documentation: https://pandas.pydata.org/pandas-docs/stable/user_guide/indexing.html#returning-a-view-versus-a-copy\n",
      "  constr_plot['Pct. Change'] = constr_plot['GVA'].pct_change(periods=1)*100\n",
      "/var/folders/qn/m3hbpy256cs_8mfcpffzgvzr0000gn/T/ipykernel_72073/3105687554.py:50: SettingWithCopyWarning: \n",
      "A value is trying to be set on a copy of a slice from a DataFrame.\n",
      "Try using .loc[row_indexer,col_indexer] = value instead\n",
      "\n",
      "See the caveats in the documentation: https://pandas.pydata.org/pandas-docs/stable/user_guide/indexing.html#returning-a-view-versus-a-copy\n",
      "  public_plot['Pct. Change'] = public_plot['GVA'].pct_change(periods=1)*100\n"
     ]
    }
   ],
   "source": [
    "# First we define the parameters\n",
    "pars_GVA = GVA._define_base_params(language='en')\n",
    "pars_COST = COST._define_base_params(language='en')\n",
    "pars_EMPLOY = EMPLOY._define_base_params(language='en')\n",
    "\n",
    "# Next we filter the data into three datasets\n",
    "variables = pars_GVA['variables'] # Returns a view, that we can edit\n",
    "variables[0]['values'] = ['B1GD']\n",
    "variables[1]['values'] =['V','VF', 'VO_Q']\n",
    "variables[2]['values'] = ['LAN']\n",
    "variables[3]['values'] = ['>1988<=2022']\n",
    "\n",
    "variables = pars_COST['variables'] # Returns a view, that we can edit\n",
    "variables[0]['values'] = ['02']\n",
    "variables[1]['values'] =['1002']\n",
    "variables[2]['values'] = ['315']\n",
    "variables[3]['values'] = ['>1989<=2022']\n",
    "\n",
    "variables = pars_EMPLOY['variables'] # Returns a view, that we can edit\n",
    "variables[0]['values'] = ['EMPM_DC']\n",
    "variables[1]['values'] =['VF']\n",
    "variables[2]['values'] = ['>1989<=2022']\n",
    "\n",
    "# Loads the api, creates a new index, renames and sorts the data\n",
    "GVA_api = GVA.get_data(params=pars_GVA)\n",
    "GVA_api.reset_index(inplace = True, drop = True)\n",
    "GVA_api = GVA_api.apply(pd.to_numeric, errors='ignore')\n",
    "GVA_api.rename(columns = {'INDHOLD': 'GVA'}, inplace=True)\n",
    "GVA_api.sort_values(by=['BRANCHE', 'TID'], inplace=True)\n",
    "\n",
    "# Loads the api, creates a new index, renames and sorts the data\n",
    "COST_api = COST.get_data(params=pars_COST)\n",
    "COST_api.reset_index(inplace = True, drop = True)\n",
    "COST_api = COST_api.apply(pd.to_numeric, errors='ignore')\n",
    "COST_api.rename(columns = {'INDHOLD': 'Pct. Change in cost'}, inplace=True)\n",
    "COST_api.sort_values(by=['TID'], inplace=True)\n",
    "\n",
    "# Loads the api, creates a new index, renames and sorts the data\n",
    "EMPLOY_api = EMPLOY.get_data(params=pars_EMPLOY)\n",
    "EMPLOY_api.reset_index(inplace = True, drop = True)\n",
    "EMPLOY_api = EMPLOY_api.apply(pd.to_numeric, errors='ignore')\n",
    "EMPLOY_api.rename(columns = {'INDHOLD': 'Employment'}, inplace=True)\n",
    "EMPLOY_api.sort_values(by=['TID'], inplace=True)\n",
    "\n",
    "# Defines the datasets to specific graphs\n",
    "total_plot = GVA_api[GVA_api.BRANCHE.str.contains('Total') == True]\n",
    "constr_plot = GVA_api[GVA_api.BRANCHE.str.contains('F Construction') == True]\n",
    "public_plot = GVA_api[GVA_api.BRANCHE.str.contains('O_Q Public administration, education and health') == True]\n",
    "\n",
    "# Defines the specifications of the graphs\n",
    "total_plot['Pct. Change'] = total_plot['GVA'].pct_change(periods=1)*100\n",
    "constr_plot['Pct. Change'] = constr_plot['GVA'].pct_change(periods=1)*100\n",
    "public_plot['Pct. Change'] = public_plot['GVA'].pct_change(periods=1)*100\n",
    "\n"
   ]
  },
  {
   "attachments": {},
   "cell_type": "markdown",
   "metadata": {},
   "source": [
    "# Merge datasets to graphs"
   ]
  },
  {
   "cell_type": "code",
   "execution_count": 15,
   "metadata": {},
   "outputs": [
    {
     "data": {
      "text/html": [
       "<div>\n",
       "<style scoped>\n",
       "    .dataframe tbody tr th:only-of-type {\n",
       "        vertical-align: middle;\n",
       "    }\n",
       "\n",
       "    .dataframe tbody tr th {\n",
       "        vertical-align: top;\n",
       "    }\n",
       "\n",
       "    .dataframe thead th {\n",
       "        text-align: right;\n",
       "    }\n",
       "</style>\n",
       "<table border=\"1\" class=\"dataframe\">\n",
       "  <thead>\n",
       "    <tr style=\"text-align: right;\">\n",
       "      <th></th>\n",
       "      <th>TRANSAKT</th>\n",
       "      <th>BRANCHE_x</th>\n",
       "      <th>PRISENHED</th>\n",
       "      <th>TID</th>\n",
       "      <th>GVA</th>\n",
       "      <th>Pct. Change</th>\n",
       "      <th>SOCIO</th>\n",
       "      <th>Employment</th>\n",
       "    </tr>\n",
       "  </thead>\n",
       "  <tbody>\n",
       "    <tr>\n",
       "      <th>0</th>\n",
       "      <td>B.1g Gross value added</td>\n",
       "      <td>F Construction</td>\n",
       "      <td>2010-prices, chained values</td>\n",
       "      <td>1990</td>\n",
       "      <td>71122</td>\n",
       "      <td>-10.17</td>\n",
       "      <td>Employment (number)</td>\n",
       "      <td>167536</td>\n",
       "    </tr>\n",
       "    <tr>\n",
       "      <th>1</th>\n",
       "      <td>B.1g Gross value added</td>\n",
       "      <td>F Construction</td>\n",
       "      <td>2010-prices, chained values</td>\n",
       "      <td>1991</td>\n",
       "      <td>67631</td>\n",
       "      <td>-4.91</td>\n",
       "      <td>Employment (number)</td>\n",
       "      <td>158232</td>\n",
       "    </tr>\n",
       "    <tr>\n",
       "      <th>2</th>\n",
       "      <td>B.1g Gross value added</td>\n",
       "      <td>F Construction</td>\n",
       "      <td>2010-prices, chained values</td>\n",
       "      <td>1992</td>\n",
       "      <td>68059</td>\n",
       "      <td>0.63</td>\n",
       "      <td>Employment (number)</td>\n",
       "      <td>153715</td>\n",
       "    </tr>\n",
       "    <tr>\n",
       "      <th>3</th>\n",
       "      <td>B.1g Gross value added</td>\n",
       "      <td>F Construction</td>\n",
       "      <td>2010-prices, chained values</td>\n",
       "      <td>1993</td>\n",
       "      <td>59842</td>\n",
       "      <td>-12.07</td>\n",
       "      <td>Employment (number)</td>\n",
       "      <td>148435</td>\n",
       "    </tr>\n",
       "    <tr>\n",
       "      <th>4</th>\n",
       "      <td>B.1g Gross value added</td>\n",
       "      <td>F Construction</td>\n",
       "      <td>2010-prices, chained values</td>\n",
       "      <td>1994</td>\n",
       "      <td>63482</td>\n",
       "      <td>6.08</td>\n",
       "      <td>Employment (number)</td>\n",
       "      <td>154387</td>\n",
       "    </tr>\n",
       "  </tbody>\n",
       "</table>\n",
       "</div>"
      ],
      "text/plain": [
       "                 TRANSAKT       BRANCHE_x                    PRISENHED   TID  \\\n",
       "0  B.1g Gross value added  F Construction  2010-prices, chained values  1990   \n",
       "1  B.1g Gross value added  F Construction  2010-prices, chained values  1991   \n",
       "2  B.1g Gross value added  F Construction  2010-prices, chained values  1992   \n",
       "3  B.1g Gross value added  F Construction  2010-prices, chained values  1993   \n",
       "4  B.1g Gross value added  F Construction  2010-prices, chained values  1994   \n",
       "\n",
       "     GVA  Pct. Change                SOCIO  Employment  \n",
       "0  71122       -10.17  Employment (number)      167536  \n",
       "1  67631        -4.91  Employment (number)      158232  \n",
       "2  68059         0.63  Employment (number)      153715  \n",
       "3  59842       -12.07  Employment (number)      148435  \n",
       "4  63482         6.08  Employment (number)      154387  "
      ]
     },
     "execution_count": 15,
     "metadata": {},
     "output_type": "execute_result"
    }
   ],
   "source": [
    "# Here we merge the datasets to the graphs \n",
    "merge_employ = pd.merge(constr_plot, EMPLOY_api, on='TID').drop('BRANCHE_y', axis=1)\n",
    "merge_employ.head(5)"
   ]
  },
  {
   "cell_type": "code",
   "execution_count": 16,
   "metadata": {},
   "outputs": [
    {
     "data": {
      "text/html": [
       "<div>\n",
       "<style scoped>\n",
       "    .dataframe tbody tr th:only-of-type {\n",
       "        vertical-align: middle;\n",
       "    }\n",
       "\n",
       "    .dataframe tbody tr th {\n",
       "        vertical-align: top;\n",
       "    }\n",
       "\n",
       "    .dataframe thead th {\n",
       "        text-align: right;\n",
       "    }\n",
       "</style>\n",
       "<table border=\"1\" class=\"dataframe\">\n",
       "  <thead>\n",
       "    <tr style=\"text-align: right;\">\n",
       "      <th></th>\n",
       "      <th>TRANSAKT</th>\n",
       "      <th>BRANCHE</th>\n",
       "      <th>PRISENHED</th>\n",
       "      <th>TID</th>\n",
       "      <th>GVA</th>\n",
       "      <th>Pct. Change</th>\n",
       "      <th>HINDEKS</th>\n",
       "      <th>ART</th>\n",
       "      <th>ENHED</th>\n",
       "      <th>Pct. Change in cost</th>\n",
       "    </tr>\n",
       "  </thead>\n",
       "  <tbody>\n",
       "    <tr>\n",
       "      <th>0</th>\n",
       "      <td>B.1g Gross value added</td>\n",
       "      <td>F Construction</td>\n",
       "      <td>2010-prices, chained values</td>\n",
       "      <td>1990</td>\n",
       "      <td>71122</td>\n",
       "      <td>-10.17</td>\n",
       "      <td>Construction Cost index for one-family houses</td>\n",
       "      <td>Total</td>\n",
       "      <td>Percentage change compared to previous year</td>\n",
       "      <td>4.90</td>\n",
       "    </tr>\n",
       "    <tr>\n",
       "      <th>1</th>\n",
       "      <td>B.1g Gross value added</td>\n",
       "      <td>F Construction</td>\n",
       "      <td>2010-prices, chained values</td>\n",
       "      <td>1991</td>\n",
       "      <td>67631</td>\n",
       "      <td>-4.91</td>\n",
       "      <td>Construction Cost index for one-family houses</td>\n",
       "      <td>Total</td>\n",
       "      <td>Percentage change compared to previous year</td>\n",
       "      <td>3.50</td>\n",
       "    </tr>\n",
       "    <tr>\n",
       "      <th>2</th>\n",
       "      <td>B.1g Gross value added</td>\n",
       "      <td>F Construction</td>\n",
       "      <td>2010-prices, chained values</td>\n",
       "      <td>1992</td>\n",
       "      <td>68059</td>\n",
       "      <td>0.63</td>\n",
       "      <td>Construction Cost index for one-family houses</td>\n",
       "      <td>Total</td>\n",
       "      <td>Percentage change compared to previous year</td>\n",
       "      <td>2.80</td>\n",
       "    </tr>\n",
       "    <tr>\n",
       "      <th>3</th>\n",
       "      <td>B.1g Gross value added</td>\n",
       "      <td>F Construction</td>\n",
       "      <td>2010-prices, chained values</td>\n",
       "      <td>1993</td>\n",
       "      <td>59842</td>\n",
       "      <td>-12.07</td>\n",
       "      <td>Construction Cost index for one-family houses</td>\n",
       "      <td>Total</td>\n",
       "      <td>Percentage change compared to previous year</td>\n",
       "      <td>1.80</td>\n",
       "    </tr>\n",
       "    <tr>\n",
       "      <th>4</th>\n",
       "      <td>B.1g Gross value added</td>\n",
       "      <td>F Construction</td>\n",
       "      <td>2010-prices, chained values</td>\n",
       "      <td>1994</td>\n",
       "      <td>63482</td>\n",
       "      <td>6.08</td>\n",
       "      <td>Construction Cost index for one-family houses</td>\n",
       "      <td>Total</td>\n",
       "      <td>Percentage change compared to previous year</td>\n",
       "      <td>2.50</td>\n",
       "    </tr>\n",
       "  </tbody>\n",
       "</table>\n",
       "</div>"
      ],
      "text/plain": [
       "                 TRANSAKT         BRANCHE                    PRISENHED   TID  \\\n",
       "0  B.1g Gross value added  F Construction  2010-prices, chained values  1990   \n",
       "1  B.1g Gross value added  F Construction  2010-prices, chained values  1991   \n",
       "2  B.1g Gross value added  F Construction  2010-prices, chained values  1992   \n",
       "3  B.1g Gross value added  F Construction  2010-prices, chained values  1993   \n",
       "4  B.1g Gross value added  F Construction  2010-prices, chained values  1994   \n",
       "\n",
       "     GVA  Pct. Change                                        HINDEKS    ART  \\\n",
       "0  71122       -10.17  Construction Cost index for one-family houses  Total   \n",
       "1  67631        -4.91  Construction Cost index for one-family houses  Total   \n",
       "2  68059         0.63  Construction Cost index for one-family houses  Total   \n",
       "3  59842       -12.07  Construction Cost index for one-family houses  Total   \n",
       "4  63482         6.08  Construction Cost index for one-family houses  Total   \n",
       "\n",
       "                                         ENHED  Pct. Change in cost  \n",
       "0  Percentage change compared to previous year                 4.90  \n",
       "1  Percentage change compared to previous year                 3.50  \n",
       "2  Percentage change compared to previous year                 2.80  \n",
       "3  Percentage change compared to previous year                 1.80  \n",
       "4  Percentage change compared to previous year                 2.50  "
      ]
     },
     "execution_count": 16,
     "metadata": {},
     "output_type": "execute_result"
    }
   ],
   "source": [
    "# Here we merge the datasets to the graphs \n",
    "merge_cost = pd.merge(constr_plot, COST_api, on='TID')\n",
    "merge_cost.head(5)"
   ]
  },
  {
   "attachments": {},
   "cell_type": "markdown",
   "metadata": {},
   "source": [
    "# Analysis"
   ]
  },
  {
   "attachments": {},
   "cell_type": "markdown",
   "metadata": {},
   "source": [
    "To get a quick overview of the data, we show some **summary statistics** on a meaningful aggregation. "
   ]
  },
  {
   "cell_type": "code",
   "execution_count": 17,
   "metadata": {},
   "outputs": [
    {
     "data": {
      "text/html": [
       "<div>\n",
       "<style scoped>\n",
       "    .dataframe tbody tr th:only-of-type {\n",
       "        vertical-align: middle;\n",
       "    }\n",
       "\n",
       "    .dataframe tbody tr th {\n",
       "        vertical-align: top;\n",
       "    }\n",
       "\n",
       "    .dataframe thead th {\n",
       "        text-align: right;\n",
       "    }\n",
       "</style>\n",
       "<table border=\"1\" class=\"dataframe\">\n",
       "  <thead>\n",
       "    <tr style=\"text-align: right;\">\n",
       "      <th></th>\n",
       "      <th>count</th>\n",
       "      <th>mean</th>\n",
       "      <th>std</th>\n",
       "      <th>min</th>\n",
       "      <th>25%</th>\n",
       "      <th>50%</th>\n",
       "      <th>75%</th>\n",
       "      <th>max</th>\n",
       "    </tr>\n",
       "    <tr>\n",
       "      <th>BRANCHE</th>\n",
       "      <th></th>\n",
       "      <th></th>\n",
       "      <th></th>\n",
       "      <th></th>\n",
       "      <th></th>\n",
       "      <th></th>\n",
       "      <th></th>\n",
       "      <th></th>\n",
       "    </tr>\n",
       "  </thead>\n",
       "  <tbody>\n",
       "    <tr>\n",
       "      <th>F Construction</th>\n",
       "      <td>34.00</td>\n",
       "      <td>78884.62</td>\n",
       "      <td>9930.01</td>\n",
       "      <td>59842.00</td>\n",
       "      <td>71181.75</td>\n",
       "      <td>78850.00</td>\n",
       "      <td>86260.00</td>\n",
       "      <td>101002.00</td>\n",
       "    </tr>\n",
       "    <tr>\n",
       "      <th>O_Q Public administration, education and health</th>\n",
       "      <td>34.00</td>\n",
       "      <td>350392.53</td>\n",
       "      <td>35541.33</td>\n",
       "      <td>288214.00</td>\n",
       "      <td>323436.00</td>\n",
       "      <td>350355.00</td>\n",
       "      <td>379946.75</td>\n",
       "      <td>399037.00</td>\n",
       "    </tr>\n",
       "    <tr>\n",
       "      <th>Total</th>\n",
       "      <td>34.00</td>\n",
       "      <td>1505062.59</td>\n",
       "      <td>231774.34</td>\n",
       "      <td>1101580.00</td>\n",
       "      <td>1332590.25</td>\n",
       "      <td>1536286.00</td>\n",
       "      <td>1623845.75</td>\n",
       "      <td>1960651.00</td>\n",
       "    </tr>\n",
       "  </tbody>\n",
       "</table>\n",
       "</div>"
      ],
      "text/plain": [
       "                                                 count       mean       std  \\\n",
       "BRANCHE                                                                       \n",
       "F Construction                                   34.00   78884.62   9930.01   \n",
       "O_Q Public administration, education and health  34.00  350392.53  35541.33   \n",
       "Total                                            34.00 1505062.59 231774.34   \n",
       "\n",
       "                                                       min        25%  \\\n",
       "BRANCHE                                                                 \n",
       "F Construction                                    59842.00   71181.75   \n",
       "O_Q Public administration, education and health  288214.00  323436.00   \n",
       "Total                                           1101580.00 1332590.25   \n",
       "\n",
       "                                                       50%        75%  \\\n",
       "BRANCHE                                                                 \n",
       "F Construction                                    78850.00   86260.00   \n",
       "O_Q Public administration, education and health  350355.00  379946.75   \n",
       "Total                                           1536286.00 1623845.75   \n",
       "\n",
       "                                                       max  \n",
       "BRANCHE                                                     \n",
       "F Construction                                   101002.00  \n",
       "O_Q Public administration, education and health  399037.00  \n",
       "Total                                           1960651.00  "
      ]
     },
     "execution_count": 17,
     "metadata": {},
     "output_type": "execute_result"
    }
   ],
   "source": [
    "# Descriptive statistic of GVA\n",
    "GVA_api.groupby(by=['BRANCHE'])['GVA'].describe()\n"
   ]
  },
  {
   "attachments": {},
   "cell_type": "markdown",
   "metadata": {},
   "source": [
    "Here we see that there is a difference in the level of \"**Construction**\" and \"**Public administration, education and health**\". \\\n",
    "Public administration, education and health is at a significantly higher level than Construction. "
   ]
  },
  {
   "cell_type": "code",
   "execution_count": 18,
   "metadata": {},
   "outputs": [
    {
     "data": {
      "text/html": [
       "<div>\n",
       "<style scoped>\n",
       "    .dataframe tbody tr th:only-of-type {\n",
       "        vertical-align: middle;\n",
       "    }\n",
       "\n",
       "    .dataframe tbody tr th {\n",
       "        vertical-align: top;\n",
       "    }\n",
       "\n",
       "    .dataframe thead th {\n",
       "        text-align: right;\n",
       "    }\n",
       "</style>\n",
       "<table border=\"1\" class=\"dataframe\">\n",
       "  <thead>\n",
       "    <tr style=\"text-align: right;\">\n",
       "      <th></th>\n",
       "      <th>count</th>\n",
       "      <th>mean</th>\n",
       "      <th>std</th>\n",
       "      <th>min</th>\n",
       "      <th>25%</th>\n",
       "      <th>50%</th>\n",
       "      <th>75%</th>\n",
       "      <th>max</th>\n",
       "    </tr>\n",
       "    <tr>\n",
       "      <th>BRANCHE</th>\n",
       "      <th></th>\n",
       "      <th></th>\n",
       "      <th></th>\n",
       "      <th></th>\n",
       "      <th></th>\n",
       "      <th></th>\n",
       "      <th></th>\n",
       "      <th></th>\n",
       "    </tr>\n",
       "  </thead>\n",
       "  <tbody>\n",
       "    <tr>\n",
       "      <th>F Construction</th>\n",
       "      <td>33.00</td>\n",
       "      <td>2.81</td>\n",
       "      <td>1.91</td>\n",
       "      <td>-0.20</td>\n",
       "      <td>1.80</td>\n",
       "      <td>2.60</td>\n",
       "      <td>3.50</td>\n",
       "      <td>10.40</td>\n",
       "    </tr>\n",
       "  </tbody>\n",
       "</table>\n",
       "</div>"
      ],
      "text/plain": [
       "                count  mean  std   min  25%  50%  75%   max\n",
       "BRANCHE                                                    \n",
       "F Construction  33.00  2.81 1.91 -0.20 1.80 2.60 3.50 10.40"
      ]
     },
     "execution_count": 18,
     "metadata": {},
     "output_type": "execute_result"
    }
   ],
   "source": [
    "# Descriptive statistic of pct. change in cost in the construction industry\n",
    "merge_cost.groupby(by=['BRANCHE'])['Pct. Change in cost'].describe()"
   ]
  },
  {
   "attachments": {},
   "cell_type": "markdown",
   "metadata": {},
   "source": [
    "We see that the percentage change in **Construction** costs generally have been positive in the dataset which we cover.\n",
    "In other words, the spending on construction has been steadily increasing in the period 1940-2022 - which is the period covered by our dataset - with a *lower quartile value* of **1.80%**, an *upper quartile value* of **3.50%**, and a *mean value* of **2.81%**"
   ]
  },
  {
   "cell_type": "code",
   "execution_count": 19,
   "metadata": {},
   "outputs": [
    {
     "data": {
      "text/html": [
       "<div>\n",
       "<style scoped>\n",
       "    .dataframe tbody tr th:only-of-type {\n",
       "        vertical-align: middle;\n",
       "    }\n",
       "\n",
       "    .dataframe tbody tr th {\n",
       "        vertical-align: top;\n",
       "    }\n",
       "\n",
       "    .dataframe thead th {\n",
       "        text-align: right;\n",
       "    }\n",
       "</style>\n",
       "<table border=\"1\" class=\"dataframe\">\n",
       "  <thead>\n",
       "    <tr style=\"text-align: right;\">\n",
       "      <th></th>\n",
       "      <th>count</th>\n",
       "      <th>mean</th>\n",
       "      <th>std</th>\n",
       "      <th>min</th>\n",
       "      <th>25%</th>\n",
       "      <th>50%</th>\n",
       "      <th>75%</th>\n",
       "      <th>max</th>\n",
       "    </tr>\n",
       "    <tr>\n",
       "      <th>BRANCHE_x</th>\n",
       "      <th></th>\n",
       "      <th></th>\n",
       "      <th></th>\n",
       "      <th></th>\n",
       "      <th></th>\n",
       "      <th></th>\n",
       "      <th></th>\n",
       "      <th></th>\n",
       "    </tr>\n",
       "  </thead>\n",
       "  <tbody>\n",
       "    <tr>\n",
       "      <th>F Construction</th>\n",
       "      <td>33.00</td>\n",
       "      <td>176389.91</td>\n",
       "      <td>16645.43</td>\n",
       "      <td>148435.00</td>\n",
       "      <td>165344.00</td>\n",
       "      <td>174542.00</td>\n",
       "      <td>186247.00</td>\n",
       "      <td>211078.00</td>\n",
       "    </tr>\n",
       "  </tbody>\n",
       "</table>\n",
       "</div>"
      ],
      "text/plain": [
       "                count      mean      std       min       25%       50%  \\\n",
       "BRANCHE_x                                                                \n",
       "F Construction  33.00 176389.91 16645.43 148435.00 165344.00 174542.00   \n",
       "\n",
       "                     75%       max  \n",
       "BRANCHE_x                           \n",
       "F Construction 186247.00 211078.00  "
      ]
     },
     "execution_count": 19,
     "metadata": {},
     "output_type": "execute_result"
    }
   ],
   "source": [
    "# Descriptive statistic of employment in the construdction industry\n",
    "merge_employ.groupby(by=['BRANCHE_x'])['Employment'].describe()"
   ]
  },
  {
   "attachments": {},
   "cell_type": "markdown",
   "metadata": {},
   "source": [
    "We see that the **Construction** industry has a *mean employment* of approximately 176,000 persons, with a lower quartile value of 165,344 and an upper quartile value of 186,247\n",
    "\n",
    "# Should we show this in percentage changes as well?"
   ]
  },
  {
   "attachments": {},
   "cell_type": "markdown",
   "metadata": {},
   "source": [
    "# Plotting"
   ]
  },
  {
   "cell_type": "code",
   "execution_count": 20,
   "metadata": {},
   "outputs": [
    {
     "data": {
      "image/png": "[encoded data removed]",
      "text/plain": [
       "<Figure size 640x480 with 1 Axes>"
      ]
     },
     "metadata": {},
     "output_type": "display_data"
    }
   ],
   "source": [
    "# Creates a figure with both a plot and a bar\n",
    "fig = plt.figure()\n",
    "ax = fig.add_subplot(1,1,1)\n",
    "ax.plot(total_plot['TID'],total_plot['Pct. Change'],color='r',label='Total')\n",
    "ax.bar(height=constr_plot['Pct. Change'],x=constr_plot['TID']+0.4, width=0.4, label='Construction')\n",
    "ax.bar(height=public_plot['Pct. Change'],x=public_plot['TID']+0.8, width=0.4, label='Public administration, education and health')\n",
    "ax.margins(0,0)\n",
    "ax.legend()\n",
    "plt.ylabel('Pct.')\n",
    "plt.title('Graph 1: GVA pct. change for two industries and the total in Denmark')\n",
    "plt.show()"
   ]
  },
  {
   "attachments": {},
   "cell_type": "markdown",
   "metadata": {},
   "source": [
    "We see that **Construction** as an industry is more volatile than the average of the industries in the dataset. That is, when the **Gross Value Added** fluctuates due to frictions in the economy, **Construction** is far more volatile than other industries, including **Public Administration and Health** which we choose to focus on in this instance. "
   ]
  },
  {
   "cell_type": "code",
   "execution_count": 21,
   "metadata": {},
   "outputs": [
    {
     "data": {
      "image/png": "[encoded data removed]",
      "text/plain": [
       "<Figure size 640x480 with 1 Axes>"
      ]
     },
     "metadata": {},
     "output_type": "display_data"
    }
   ],
   "source": [
    "# Creates a figure with two plots\n",
    "fig = plt.figure()\n",
    "ax = fig.add_subplot(1,1,1)\n",
    "ax.plot(merge_cost['TID'],merge_cost['Pct. Change'],color='r',label='GVA')\n",
    "ax.plot(merge_cost['TID'],merge_cost['Pct. Change in cost'],color='b',label='Construction cost')\n",
    "ax.margins(0,0)\n",
    "ax.legend()\n",
    "plt.ylabel('Pct.')\n",
    "plt.title('Graph 2: Pct. change in construction cost and in GVA for the construction industry')\n",
    "plt.show()"
   ]
  },
  {
   "attachments": {},
   "cell_type": "markdown",
   "metadata": {},
   "source": [
    "Here we see the correlation between the cost of construction, and the added value from construction as an industry to the economy. From the plot we see that the cost of construction have been steadily increasing from 1990 to 2020, with an approximate average percentage change increase of 3-4% per year. Conversely we see that the **Gross Value Added** from the construction industry has been fluctuating substantially in the time period, especially during the financial crisis of 2008-2009. \n",
    "\n",
    "Finally we see that there seems to be a correlation during the Covid-19 pandemic, where we saw an increase in construction costs globally, as both the **Gross Value Added** and the costs of construction percentage wise increase rapidly during this period."
   ]
  },
  {
   "cell_type": "code",
   "execution_count": 22,
   "metadata": {},
   "outputs": [
    {
     "data": {
      "image/png": "[encoded data removed]",
      "text/plain": [
       "<Figure size 640x480 with 2 Axes>"
      ]
     },
     "metadata": {},
     "output_type": "display_data"
    }
   ],
   "source": [
    "# Creates a figure with two plots\n",
    "fig = plt.figure()\n",
    "ax1 = fig.add_subplot(1,1,1)\n",
    "ax2 = ax1.twinx()\n",
    "ax1.plot(merge_employ['TID'],merge_employ['Pct. Change'],color='r',label='GVA')\n",
    "ax2.plot(merge_employ['TID'],merge_employ['Employment'],color='g',label='Employment 2. axis')\n",
    "ax1.margins(0,0.1)\n",
    "ax2.margins(0,0.005)\n",
    "ax1.legend()\n",
    "ax2.legend()\n",
    "ax1.set_ylabel('Pct.')\n",
    "ax2.set_ylabel('Employment in Construction')\n",
    "plt.title('Graph 3: Pct. change in GVA and change in employment for the construction industry')\n",
    "plt.show()"
   ]
  },
  {
   "attachments": {},
   "cell_type": "markdown",
   "metadata": {},
   "source": [
    "From **Graph 3** we see the same development in the percentage change of **GVA** from the construction industry as in **Graph 2**.\n",
    "\n",
    "However, we now see the change in employment in the construction industry plotted besides it. There seems to be no clear correlation of the amount of employed in the industry, and the percentage change in **GVA** for the construction industry.\n",
    "\n",
    "Having said that, there seems to be a small indication of a correlation in the period of the Covid-19 pandemic, possible due to the same reasons as explained for **Graph 2**"
   ]
  },
  {
   "attachments": {},
   "cell_type": "markdown",
   "metadata": {},
   "source": [
    "# Conclusion"
   ]
  },
  {
   "attachments": {},
   "cell_type": "markdown",
   "metadata": {},
   "source": [
    "From **Graph 1** we see that the **Construction** industry is much more volatile than the industry of **Public Administration, Education and Health**. The industry of **Construction** seems to follow the changes in the total GVT more than the industry of **Public Administration, Education and Health**.\n",
    "\n",
    "We look further into the **Construction** industry, more specifically *construction cost* and *employment*, to see if there are any correlations with GVA in the industry. \n",
    "\n",
    "**Graph 2** shows us that the pct. change in *construction cost* is not as volatility as the pct. change in **GVA** for the industry. There is not a clear correlation between the *construction cost* and **GVA** in the period, but you could argue that there is some sort of correlation in some specific years as 2005 to 2011 and specifically 2020 to 2022. \n",
    "\n",
    "**Graph 3** shows us that *employment* in the *construction industry* has increased from 1990 to 2022, but with both increasing and decreasing outliers, e.g., before the financial crisis in 2008 and after. There is no significant correlation between the *employment* and **GVA** in the *construction industry*, which may come as a surprise. We had expected there to be some sort of correlation between the *employment* and **GVA** in the *construction industry*."
   ]
  }
 ],
 "metadata": {
  "kernelspec": {
   "display_name": "base",
   "language": "python",
   "name": "python3"
  },
  "language_info": {
   "codemirror_mode": {
    "name": "ipython",
    "version": 3
   },
   "file_extension": ".py",
   "mimetype": "text/x-python",
   "name": "python",
   "nbconvert_exporter": "python",
   "pygments_lexer": "ipython3",
   "version": "3.9.16"
  },
  "toc-autonumbering": true,
  "vscode": {
   "interpreter": {
    "hash": "bf9ec1e79c80caa0642abbab8a4c5603f6d3099ed0ddfbaecc490b9c20566038"
   }
  }
 },
 "nbformat": 4,
 "nbformat_minor": 4
}
