{
 "cells": [
  {
   "attachments": {},
   "cell_type": "markdown",
   "metadata": {},
   "source": [
    "**Table of contents**<a id='toc0_'></a>    \n",
    "- 1. [Problem 1: Higher order income risk](#toc1_)    \n",
    "- 2. [Problem 2: Inflation in an exchange model](#toc2_)    \n",
    "- 3. [Problem 3: Segregation model](#toc3_)    \n",
    "\n",
    "<!-- vscode-jupyter-toc-config\n",
    "\tnumbering=true\n",
    "\tanchor=true\n",
    "\tflat=false\n",
    "\tminLevel=2\n",
    "\tmaxLevel=6\n",
    "\t/vscode-jupyter-toc-config -->\n",
    "<!-- THIS CELL WILL BE REPLACED ON TOC UPDATE. DO NOT WRITE YOUR TEXT IN THIS CELL -->"
   ]
  },
  {
   "cell_type": "code",
   "execution_count": null,
   "metadata": {},
   "outputs": [],
   "source": [
    "from types import SimpleNamespace\n",
    "import numpy as np\n",
    "import matplotlib.pyplot as plt\n",
    "plt.rcParams.update({\"axes.grid\":True,\"grid.color\":\"black\",\"grid.alpha\":\"0.25\",\"grid.linestyle\":\"--\"})\n",
    "from matplotlib import colors\n",
    "from scipy import optimize\n",
    "from scipy import interpolate\n",
    "\n",
    "%load_ext autoreload \n",
    "%autoreload 2"
   ]
  },
  {
   "attachments": {},
   "cell_type": "markdown",
   "metadata": {},
   "source": [
    "## 1. <a id='toc1_'></a>[Problem 1: Higher order income risk](#toc0_)"
   ]
  },
  {
   "attachments": {},
   "cell_type": "markdown",
   "metadata": {},
   "source": [
    "We consider a consumer living in **two periods**. In the **second period** she behaves as:\n",
    "\n",
    "$$\n",
    "\\begin{align*}\n",
    "v_{2}(m_{2})\t&=\\max_{c_{2}}\\frac{c_{2}^{1-\\rho}}{1-\\rho} \\\\\n",
    "\t&\\text{s.t.} \\\\\n",
    "a_{2}\t&=m_{2}-c_{2} \\\\\n",
    "a_{2}\t&\\geq0 \\\\\n",
    "\\end{align*}\n",
    "$$\n",
    "\n",
    "This implies:\n",
    "\n",
    "$$\n",
    "v_{2}(m_{2})=\\frac{m_{2}^{1-\\rho}}{1-\\rho}\n",
    "$$\n",
    "\n",
    "In the **first period**, the consumer solves:\n",
    "\n",
    "$$\n",
    "\\begin{align*}\n",
    "v_{1}(m_{1})\t&=\\max_{c_{1}}\\frac{c_{1}^{1-\\rho}}{1-\\rho}+\\beta\\mathbb{E}_{1}\\left[v_{2}(m_{2})\\right] \\\\\n",
    "\t&\\text{s.t.} \\\\\n",
    "a_{1}\t&=m_{1}-c_{1} \\\\\n",
    "a_{1}\t&\\geq0 \\\\\n",
    "m_{2}\t&=(1+r)a_{1}+y_{2} \\\\\n",
    "\n",
    "y_{2}\t&= \\begin{cases}\n",
    "1 & \\nu_2 < \\pi\\\\\n",
    "\\exp(\\psi_2) & \\text{else}\n",
    "\\end{cases} \\\\\n",
    "\\psi_2\t&\\sim\\mathcal{N}(-0.5\\sigma_{\\psi}^{2},\\sigma_{\\psi}^{2}) \\\\\n",
    "\\nu_2\t&\\sim\\mathcal{U}(0,1) \\\\\n",
    "\\end{align*}\n",
    "$$\n",
    "\n",
    "The standard random variables $\\psi_2$ and $\\nu_2$ are approximated with $N$ random draws."
   ]
  },
  {
   "attachments": {},
   "cell_type": "markdown",
   "metadata": {},
   "source": [
    "The initial value of cash-on-hand is $m_1 = 1.0$.\n",
    "The baseline parameters are as in the code below."
   ]
  },
  {
   "cell_type": "code",
   "execution_count": null,
   "metadata": {},
   "outputs": [],
   "source": [
    "par = SimpleNamespace()\n",
    "\n",
    "par.beta = 0.90\n",
    "par.rho = 2.0\n",
    "par.r = 0.05    \n",
    "par.pi = 0.50\n",
    "par.sigma_psi = 0.10\n",
    "\n",
    "#OBS: In the model description we are told that the initial value of cash-on-hand is 1.0.\n",
    "#     However, in the baseline parameters given to us, the initial value of cash-on-hand is 2.0.\n",
    "#     We choose to set the initial value of cash-on-hand to 1.0, as this is what we are told from the model description.\n",
    "par.m1 = 1.0 \n",
    "par.N = 100_000"
   ]
  },
  {
   "attachments": {},
   "cell_type": "markdown",
   "metadata": {},
   "source": [
    "**Questions 1:** Plot the distribution of $y_2$."
   ]
  },
  {
   "cell_type": "code",
   "execution_count": null,
   "metadata": {},
   "outputs": [],
   "source": [
    "# We perform a Monte Carlo simulation to generate values for y2\n",
    "psi2_draws = np.random.normal(-0.5 * par.sigma_psi**2, par.sigma_psi**2, par.N) # Draw from the distribution of psi2\n",
    "nu2_draws = np.random.uniform(0, 1, par.N) # Draw from the distribution of nu2\n",
    "y2_values = np.where(nu2_draws < par.pi, 1, np.exp(psi2_draws)) # Calculate y2\n",
    "\n",
    "# We set a random seed to ensure that we get the same results every time we run the code\n",
    "np.random.seed(2023)\n",
    "\n",
    "# Plot the distribution of y2\n",
    "plt.hist(y2_values, bins=20, density=True, alpha=0.7, color='blue')\n",
    "plt.xlabel('$y_2$')\n",
    "plt.ylabel('Density')\n",
    "plt.title('Distribution of $y_2$')\n",
    "\n",
    "# Calculate summary statistics\n",
    "mean_y2 = np.mean(y2_values)\n",
    "median_y2 = np.median(y2_values)\n",
    "std_dev_y2 = np.std(y2_values)\n",
    "\n",
    "# Plot the distribution of y2\n",
    "plt.show()\n",
    "print((f\"Mean of y2: {mean_y2:.2f}\\nMedian of y2: {median_y2:.2f}\\nStd Dev of y2: {std_dev_y2:.2f}\"))\n"
   ]
  },
  {
   "cell_type": "markdown",
   "metadata": {},
   "source": [
    "Here we see that the distribution of $y_2$ is more or less normally distributed around 1, with a standard deviation of 0.01"
   ]
  },
  {
   "attachments": {},
   "cell_type": "markdown",
   "metadata": {},
   "source": [
    "**Question 2:** Find the optimal choice of $c_1$ and the implied $v(m_1)$."
   ]
  },
  {
   "cell_type": "code",
   "execution_count": null,
   "metadata": {},
   "outputs": [],
   "source": [
    "#First we set N = 100 because the loops are very slow\n",
    "par.N = 100\n",
    "\n",
    "# Generate random draws for nu2 and psi2\n",
    "nu2_draws = np.random.uniform(0, 1, par.N)\n",
    "psi2_draws = np.random.normal(-0.5 * par.sigma_psi**2, par.sigma_psi**2, par.N)\n",
    "\n",
    "# Calculate y2_values based on nu2 and psi2\n",
    "y2_values = np.where(nu2_draws < par.pi, 1, np.exp(psi2_draws))\n",
    "\n",
    "# Function to calculate utility\n",
    "def utility(c, par):\n",
    "    if c <= 0:\n",
    "        return -np.inf  # Return negative infinity for invalid values\n",
    "    return (c**(1-par.rho))/(1-par.rho)\n",
    "\n",
    "# Define the value function for period 2\n",
    "def v_last_period(c, m, par):\n",
    "    return utility(c, par)\n",
    "\n",
    "# Define the value function for period 1\n",
    "def v(c, m, par, v_plus_interp):\n",
    "    v_plus = 0.0\n",
    "    for y in y2_values:\n",
    "        a = m - c\n",
    "        m_plus = (1 + par.r) * a + y\n",
    "        v_plus_now = v_plus_interp(m_plus)[0]\n",
    "        v_plus += y * v_plus_now  # Using y directly\n",
    "    return utility(c, par) + par.beta * v_plus\n",
    "\n",
    "def solve_last_period(par):\n",
    "    m_grid = np.linspace(1e-8, par.m1, par.N)\n",
    "    v_func = np.empty(par.N)\n",
    "    c_func = np.empty(par.N)\n",
    "\n",
    "    for i, m in enumerate(m_grid):\n",
    "        obj = lambda c: -v_last_period(c, m, par) # Fix this line\n",
    "        x0 = m / 2  # Initial guess of consumption\n",
    "        result = optimize.minimize(obj, [x0], method='L-BFGS-B', bounds=((1e-8, m),))\n",
    "        v_func[i] = -result.fun\n",
    "        c_func[i] = result.x\n",
    "\n",
    "    return m_grid, v_func, c_func\n",
    "\n",
    "# Call the solve_last_period function\n",
    "m2_grid,v2_func,c2_func = solve_last_period(par)\n",
    "\n",
    "# Setup the plots for the functions\n",
    "fig = plt.figure(figsize=(12,4))\n",
    "ax = fig.add_subplot(1,2,1)\n",
    "ax.plot(m2_grid, c2_func)\n",
    "ax.set_xlabel('$m_2$')\n",
    "ax.set_ylabel('$c_2$')\n",
    "ax.set_title('Consumption function for period 2')\n",
    "\n",
    "ax = fig.add_subplot(1,2,2)\n",
    "ax.plot(m2_grid, v2_func)\n",
    "ax.set_xlabel('$m_2$')\n",
    "ax.set_ylabel('$v_2$')\n",
    "ax.set_title('Value function for period 2')\n",
    "ax.set_ylim([-50, 1])\n",
    "\n",
    "fig.tight_layout(pad=1.0)\n",
    "plt.show()"
   ]
  },
  {
   "cell_type": "markdown",
   "metadata": {},
   "source": [
    "Here we see that the consumer chooses to consume all of her cash-on-hand in period 2. This makes perfectly good sense, as we are not working with a model in which a bequest is added to the maximization problem in the second period. Therefore, the consumer will optimize her utility by spending all of her cash-on-hand in period 2."
   ]
  },
  {
   "cell_type": "code",
   "execution_count": null,
   "metadata": {},
   "outputs": [],
   "source": [
    "#To solve for period 1 we need to create an interpolater\n",
    "v2_func_interp = interpolate.RegularGridInterpolator([m2_grid], v2_func, bounds_error=False, fill_value=None)\n",
    "\n",
    "#Now we solve for Period 1\n",
    "def solve_single_period(par, v_plus_interp):\n",
    "    m_grid = np.linspace(1e-8, par.m1, par.N)\n",
    "    v_func = np.empty(par.N)\n",
    "    c_func = np.empty(par.N)\n",
    "    \n",
    "    for i, m in enumerate(m_grid):\n",
    "        # Define the objective function to maximize\n",
    "        obj = lambda c: -v(c, m, par, v_plus_interp)\n",
    "        x0 = m / 2  # Initial guess of consumption\n",
    "        result = optimize.minimize(obj, [x0], method='L-BFGS-B', bounds=((1e-8, m),))\n",
    "        v_func[i] = -result.fun\n",
    "        c_func[i] = result.x[0]\n",
    "    \n",
    "    return m_grid, v_func, c_func\n",
    "\n",
    "#Create the interpolator for v_plus\n",
    "v2_func_interp = interpolate.RegularGridInterpolator([m2_grid], v2_func, bounds_error=False, fill_value=None)\n",
    "\n",
    "# Solve for period 1\n",
    "m1_grid, v1_func, c1_func = solve_single_period(par, v2_func_interp)\n",
    "\n",
    "# Setup the plots for the functions\n",
    "fig = plt.figure(figsize=(12,4))\n",
    "ax = fig.add_subplot(1,2,1)\n",
    "ax.plot(m1_grid, c1_func)\n",
    "ax.set_xlabel('$m_1$')\n",
    "ax.set_ylabel('$c_1$')\n",
    "ax.set_title('Consumption function for period 1')\n",
    "\n",
    "ax = fig.add_subplot(1,2,2)\n",
    "ax.plot(m1_grid, v1_func)\n",
    "ax.set_xlabel('$m_1$')\n",
    "ax.set_ylabel('$v_1$')\n",
    "ax.set_title('Value function for period 1')\n",
    "ax.set_ylim([-200, 1])\n",
    "\n",
    "fig.tight_layout(pad=1.0)\n",
    "plt.show()"
   ]
  },
  {
   "cell_type": "markdown",
   "metadata": {},
   "source": [
    "Here we see, that the consumer is faced with a problem in period 1. Since there is some uncertainty regarding her future cash-on-hand, which is decided by the standard random variables $\\psi_2$ and $\\nu_2$ that are approximated with $N$ random draws, the consumer knows that she will have to save some of her cash-on-hand for future consumption. This is why we see the so called \"kink\" in the consumption function."
   ]
  },
  {
   "cell_type": "code",
   "execution_count": null,
   "metadata": {},
   "outputs": [],
   "source": [
    "def solve(par):\n",
    "    \n",
    "    #Solver for period 2\n",
    "    m2_grid, v2_func, c2_func = solve_last_period(par)\n",
    "    \n",
    "    #Interpolater construction\n",
    "    v2_func_interp = interpolate.RegularGridInterpolator([m2_grid], v2_func, bounds_error=False, fill_value=None)\n",
    "    \n",
    "    #Solver for period 1\n",
    "    m1_grid, v1_func, c1_func = solve_single_period(par,v2_func_interp)\n",
    "    \n",
    "    return m1_grid, c1_func, m2_grid, c2_func\n"
   ]
  },
  {
   "attachments": {},
   "cell_type": "markdown",
   "metadata": {},
   "source": [
    "**Question 3:** Plot combinations of $(\\pi,\\sigma_{\\psi})$ implying that $v(m_1)$ is unchanged. Comment."
   ]
  },
  {
   "cell_type": "code",
   "execution_count": null,
   "metadata": {},
   "outputs": [],
   "source": [
    "# Create arrays of different values for pi and sigma_psi\n",
    "pi_values = [0.3, 0.5, 0.7]\n",
    "sigma_psi_values = [0.05, 0.1, 0.15]\n",
    "\n",
    "fig = plt.figure()\n",
    "ax = fig.add_subplot(1, 1, 1)\n",
    "\n",
    "# Store the original parameter values\n",
    "_original_pi = par.pi\n",
    "_original_sigma_psi = par.sigma_psi\n",
    "\n",
    "# Loop over different combinations of pi and sigma_psi\n",
    "for pi in pi_values:\n",
    "    for sigma_psi in sigma_psi_values:\n",
    "        par.pi = pi\n",
    "        par.sigma_psi = sigma_psi\n",
    "\n",
    "        m1_grid, c1_func, m2_grid, c2_func = solve(par)\n",
    "        ax.plot(m1_grid, c1_func, label=f'$\\pi = {pi}$, $\\sigma_{{\\psi}} = {sigma_psi}$')\n",
    "\n",
    "# Restore the original parameter values\n",
    "par.pi = _original_pi\n",
    "par.sigma_psi = _original_sigma_psi\n",
    "\n",
    "# Add labels, title, and legend to the plot\n",
    "ax.legend(loc='upper left', facecolor='white', frameon=True)\n",
    "ax.set_xlabel('$m_1$')\n",
    "ax.set_ylabel('$c_1$')\n",
    "ax.set_title('Consumption function in period 1')\n",
    "fig.tight_layout(pad=1.0)\n",
    "plt.show()\n"
   ]
  },
  {
   "attachments": {},
   "cell_type": "markdown",
   "metadata": {},
   "source": [
    "## 2. <a id='toc2_'></a>[Problem 2: Inflation in an exchange model](#toc0_)"
   ]
  },
  {
   "attachments": {},
   "cell_type": "markdown",
   "metadata": {},
   "source": [
    "Consider an exchange economy with two agents, $A$ and $B$ each with their own distinct good. Their endowment are $e_A$ and $e_B$. Agent $A$ is the buyer, she takes the relative price of the two goods, $p$, as given and chooses the amount of agent $B$'s good to exchange for her own. Agent $B$ is the seller, she sets the relative price between the goods, optimally taking into account $A$'s demand."
   ]
  },
  {
   "attachments": {},
   "cell_type": "markdown",
   "metadata": {},
   "source": [
    "**Agent $A$, the buyer, solves:**\n",
    "$$\n",
    "\\begin{align}\n",
    "V_{A}(p) = \\max_{c,c'} u_A(c,c') \\\\ s.t. \\; c+pc'=e_{A} \\\\\n",
    "\\end{align}\n",
    "$$\n",
    "Or simply:\n",
    "$$\n",
    "\\begin{align}\n",
    "V_{A}(p) = \\max_{c'} u_A(e_{A}-pc',c')  \\\\\n",
    "\\end{align}\n",
    "$$\n",
    "Where $c$ is consumption of her own good and $c'$ is consumption of the other good.<br>\n",
    "$u_A$ is her utility function. <br>\n",
    "This optimization yields the optimal demand function:\n",
    "$$\n",
    "\\begin{align}\n",
    "\\Rightarrow c' = D(p)\n",
    "\\end{align}\n",
    "$$"
   ]
  },
  {
   "attachments": {},
   "cell_type": "markdown",
   "metadata": {},
   "source": [
    "**Agent $B$, the seller, solves:**\n",
    "\\begin{align}\n",
    "p^* \\equiv \\arg\\max_p v_B(p) \\\\\n",
    "\\end{align}\n",
    "where\n",
    "\\begin{align}\n",
    "\\;\\,v_B(p) \\equiv u_B(e_B-D(p),pD(p))\n",
    "\\end{align}"
   ]
  },
  {
   "attachments": {},
   "cell_type": "markdown",
   "metadata": {},
   "source": [
    "$u_B$ is her utility function in consumption of her own good (intital endowment, $e_B$, minus what is sold, $D(p)$), and consumption of the other good ($pD(p)$) obtained through trade. $v_B(p)$ is her indirect utility, when the price is $p$, taking into account the optimal demand of the buyer."
   ]
  },
  {
   "attachments": {},
   "cell_type": "markdown",
   "metadata": {},
   "source": [
    "Assume that agents are symmetric with quasi-linear utility functions:\n",
    "\\begin{align}\n",
    "u_A=u_B=u(c,c') = c+ \\frac{(c')^{1-\\frac{1}{\\epsilon}} }{1-\\frac{1}{\\epsilon}}\n",
    "\\end{align}\n",
    "And also have equal endownment $e_A = e_B=10$."
   ]
  },
  {
   "attachments": {},
   "cell_type": "markdown",
   "metadata": {},
   "source": [
    "Assume the following parameter value:\n",
    "- $\\epsilon = 10.$"
   ]
  },
  {
   "attachments": {},
   "cell_type": "markdown",
   "metadata": {},
   "source": [
    "**Question 1:** Nummerically solve, and illustrate optimal demand of the buyer, $A$, in the range $p\\in [1,2]$. Verify that what you find numerically is equal to the analytical solution, $D(p)=p^{-\\epsilon},\\,p\\geq1$ "
   ]
  },
  {
   "cell_type": "code",
   "execution_count": null,
   "metadata": {},
   "outputs": [],
   "source": [
    "from scipy.optimize import *\n",
    "#First we define the parameters\n",
    "eps = 10.0\n",
    "e_A = 10\n",
    "e_B = 10\n",
    "\n",
    "p_vec = np.linspace(1, 2, 1000) #We make 'contionusly' interval from 1 to 2 by letting there be 1000 samples in the interval\n",
    "\n",
    "#We define the utility function\n",
    "def u(c, c_mark):\n",
    "    u = c + (c_mark**(1 - 1/eps)) / (1 - 1/eps)\n",
    "    return u\n",
    "\n",
    "#We nummerically solve the optimal demand of the buyer by maximize the utility function with respect to c_mark for every p in it's range.\n",
    "def optimal_demand():\n",
    "    demand_A = [] #We make a empty list for every optimal c_mark\n",
    "\n",
    "    for p in p_vec: #We make a loop for every value of p in p_vec\n",
    "        obj_func = lambda c_mark: -u(e_A - p*c_mark, c_mark) #We make a new function based on the utility function and insert the contraint\n",
    "        result = minimize_scalar(obj_func, bounds=(0, e_B), method='bounded') #We maximize the function we made above with respect to c_mark\n",
    "        c_mark_optimal = result.x #We call the c_mark, which maximize the utility, c_mark_optimal\n",
    "        demand_A.append(c_mark_optimal) #We save the c_mark_optimal in empty list, we made earlier\n",
    "\n",
    "    return demand_A #We let the list of the optimales c_mark be returned\n",
    "\n",
    "#We create a plot to illustrate the optimal demand\n",
    "plt.plot(p_vec, optimal_demand())\n",
    "plt.title('Optimal demand of buyer A: numerical soultion')\n",
    "plt.xlabel('Value of p')\n",
    "plt.ylabel('Value of c´')\n",
    "plt.show()\n",
    "\n",
    "#We now compare our numerical soultion with the analytical solution\n",
    "analytical_list = []\n",
    "for p in p_vec:\n",
    "    analytical_list.append(p**(-eps))\n",
    "plt.plot(p_vec,analytical_list)\n",
    "plt.title('Optimal demand of buyer A: analytical soultion')\n",
    "plt.xlabel('Value of p')\n",
    "plt.ylabel('Value of c´')\n",
    "plt.show()\n",
    "\n",
    "\n"
   ]
  },
  {
   "attachments": {},
   "cell_type": "markdown",
   "metadata": {},
   "source": [
    "We see that the demand-curves after c' are the same for both the numerical and analytical soultion. We could also print all the values for both soultions and compare, but that would take to much space and be to big for python.\n",
    "\n",
    "From the graphs we can see that demand after c' is negative effected by p (relativ price). In other words the demand after c' increase, when the relativ price decrease, vice versa."
   ]
  },
  {
   "attachments": {},
   "cell_type": "markdown",
   "metadata": {},
   "source": [
    "**Question 2:** Solve the seller's problem numerically, taking into account optimal demand of the buyer. Verify that what you find numerically is equal to the analytical solution: $p^* = \\left(\\frac{\\epsilon}{\\epsilon-1} \\right)^\\frac{\\epsilon}{2\\epsilon-1}$. <br>\n",
    "*Hint:* For this problem you can use the analytical solution to $D(p)$, but it is recomended that you use the numerical solution to $D(p)$ from question 1, and nest that when solving the seller's problem, as you will need to do that in the next question."
   ]
  },
  {
   "cell_type": "code",
   "execution_count": null,
   "metadata": {},
   "outputs": [],
   "source": [
    "def demand_ex(p): #Make the numerical solution for optimal demand of buyer from question 1 to use for question 2.\n",
    "    \n",
    "    objective = lambda c_mark: -u(e_A - p*c_mark, c_mark)\n",
    "    result = minimize_scalar(objective, bounds=(0, e_B), method='bounded')\n",
    "    return result.x\n",
    "\n",
    "\n",
    "def seller_prob(): #We make a \"overall\" function\n",
    "    \n",
    "    def u_seller (p): #We make a new utility function for the seller based on function u, where we insert the endownment and optimal demand of the buyer in it \n",
    "        c_mark_optimal = demand_ex(p)  #We call our optimal demand of the buyer from question 1 for c_mark_optimal.\n",
    "        return -u(e_B - c_mark_optimal, p*c_mark_optimal) #return the new utility function with the endownment and optimal demand of the buyer\n",
    "\n",
    "    result_seller = minimize_scalar(u_seller, bounds=(1, 2), method='bounded') #maximize the new utility function for the seller with respect to p\n",
    "    p_star = result_seller.x #we call the optimal p for p_star_numerical\n",
    "\n",
    "    return p_star\n",
    "\n",
    "#We could also use the analytical soultion to D(p) like this\n",
    "def seller_prob_2():\n",
    "    def u_seller_2 (p): \n",
    "        return -u(e_B - p**(-eps), p*p**(-eps))\n",
    "\n",
    "    result_seller_2 = minimize_scalar(u_seller_2, bounds=(1, 2), method='bounded') #maximize the new utility function for the seller with respect to p\n",
    "    p_star_analytical = result_seller_2.x #we call the optimal p for p_star_numerical\n",
    "\n",
    "    return p_star_analytical\n",
    "\n",
    "#We calulate the correct optimal p, which maxizmize utility of the seller\n",
    "p_star_correct = (eps/(eps-1))**(eps/(2*eps-1))\n",
    "\n",
    "#We print all three optimal p, so see if they are the same\n",
    "print(f'The numerical calulated optimal p, which maxizmize utility of the seller = {seller_prob():.3f}')\n",
    "print(f'The analytical calulated optimal p, which maxizmize utility of the seller = {seller_prob_2():.3f}')\n",
    "print(f'The correct optimal p, which maxizmize utility of the seller = {p_star_correct:.3f}')"
   ]
  },
  {
   "attachments": {},
   "cell_type": "markdown",
   "metadata": {},
   "source": [
    "All three optimal p have the same value. Our numerical and analytical method results in the optimal p having the same value as the correct optimal p. \n",
    "\n",
    "We can therefore conclude that optimal p (relativ price), that maximize the utility of the seller given the optimal demand of buyer for c', is 1.057"
   ]
  },
  {
   "attachments": {},
   "cell_type": "markdown",
   "metadata": {},
   "source": [
    "Now consider a fully non-linear utility function, for both agents:\n",
    "\\begin{align}\n",
    "u_A = u_B = u(c,c') = \\frac{(c)^{1-\\frac{1}{\\eta}} }{1-\\frac{1}{\\eta}}+ \\frac{(c')^{1-\\frac{1}{\\epsilon}} }{1-\\frac{1}{\\epsilon}}\n",
    "\\end{align}"
   ]
  },
  {
   "attachments": {},
   "cell_type": "markdown",
   "metadata": {},
   "source": [
    "**Question 3:** Solve for $p^*$ for the fully non-linear utility function, for $\\eta \\in \\left\\{1000,10\\right\\}$ <br>\n",
    "*Hint:* Note that this requires both solving the buyer's problem and the seller's problem numerically. "
   ]
  },
  {
   "cell_type": "code",
   "execution_count": null,
   "metadata": {},
   "outputs": [],
   "source": [
    "#Define eta\n",
    "etas = [10, 1000]  # Different values for eta\n",
    "\n",
    "#We define the utility function\n",
    "def u_q3(c, c_mark_q3, eta):\n",
    "    u_q3 = (c**(1 - 1/eta)) / (1 - 1/eta) + (c_mark_q3**(1 - 1/eps)) / (1 - 1/eps)\n",
    "    return u_q3\n",
    "\n",
    "#Optimal demand function for the buyer\n",
    "def demand_buyer_q3(p, eta):\n",
    "    \n",
    "    def u_buy_q3(c_mark_q3): #We make a new utility function for the buyer based on u_q3 function, where we insert the constraint\n",
    "        return -u_q3(e_A - p * c_mark_q3, c_mark_q3, eta)\n",
    "    \n",
    "    result_q3 = minimize_scalar(u_buy_q3, bounds=(0, e_A/p), method='bounded') #maximize the new utility function for the buyer with respect to c_mark_q3\n",
    "    return result_q3.x #Return the optimal c_mark_q3\n",
    "\n",
    "#Now we use the optimal demand function for the buyer from above to insert in the utility function of seller\n",
    "def u_seller_q3(p, eta):\n",
    "    c_mark_q3 = demand_buyer_q3(p, eta)\n",
    "    return -u_q3(e_B - c_mark_q3, p * c_mark_q3, eta)\n",
    "\n",
    "#We now maximize the seller's utility function to find the optimal p for both possible values of eta\n",
    "for eta in etas:\n",
    "    optimal_result_q3 = minimize_scalar(u_seller_q3, bounds=(0, e_B), args=(eta), method='bounded') #We maximize the utility function of seller from above with respect to p \n",
    "    optimal_p_q3 = optimal_result_q3.x #We call the optimal p, that maximize the utility function of seller, optimal_p_q3\n",
    "    print(f\"The optimal p, that maximize the utility function of seller, for eta={eta} is {optimal_p_q3:.2f}\") #We print the optimal p for both values of eta"
   ]
  },
  {
   "attachments": {},
   "cell_type": "markdown",
   "metadata": {},
   "source": [
    "We see that the optimal p, that maximize the utility function of seller, when eta=10 is only a little bit higher than the optimal p from question 2. It happens because the first term in the fully non-linear utility function is only a little bit smaller compared to the first term in the utility function from question 1 and 2. \n",
    "\n",
    "In other words the utility of consuming c becomes litlle bit smaller in the fully non-linear utility function compared to the utility function from question 1 and 2, and therefore will the consumers with the fully non-linear utility rather consume c', which increase the demand of c', which results in a higher optimal p. (It is not the fully explained version)\n",
    "\n",
    "This mechanism becomes more clear, when eta=1000 (The utility of consuming c becomes very small) and therefore becomes demand after c' much higher, which results in a much higher optimal p. "
   ]
  },
  {
   "attachments": {},
   "cell_type": "markdown",
   "metadata": {},
   "source": [
    "**Question 4:** Make two plots of $p^*$, both with $\\eta=10$ and $e_{B}=10$: \n",
    "- One of how $p^*$ changes with $\\epsilon\\in \\left[5,30\\right]$ and $e_{A}=10$\n",
    "- One of how $p^*$ changes with $e_{A}\\in \\left[2.5,30\\right]$ and $\\epsilon=10$"
   ]
  },
  {
   "cell_type": "code",
   "execution_count": null,
   "metadata": {},
   "outputs": [],
   "source": [
    "eps_values = np.linspace(5, 30, 500)  #We create a interval for different values of epsilon, that starts with 5 and end with 30 \n",
    "\n",
    "#We create a empty lists to store the values of optimal p for every different value of epsilon\n",
    "optimal_p_eps = []\n",
    "\n",
    "#We calculate the optimal p for every different value of eps by maximizing the utility function of seller from question 3\n",
    "for eps in eps_values:\n",
    "    optimal_result_q3 = minimize_scalar(u_seller_q3, bounds=(0, e_B), args=(eta), method='bounded')\n",
    "    optimal_p_eps.append(optimal_result_q3.x) #We store the optimal p in the empty list created above\n",
    "\n",
    "\n",
    "#We create a plot, that shows how the optimal price, p*, changes for different values of epsilon\n",
    "plt.figure(figsize=(10, 6))\n",
    "plt.plot(eps_values, optimal_p_eps)\n",
    "plt.xlabel('Value of $\\epsilon$')\n",
    "plt.ylabel('Value of optimal Price $p^*$')\n",
    "plt.title('The value of optimal price, p, for different values of $\\epsilon$')\n",
    "plt.grid()\n",
    "plt.show()"
   ]
  },
  {
   "cell_type": "code",
   "execution_count": null,
   "metadata": {},
   "outputs": [],
   "source": [
    "e_A_values = np.linspace(2.5, 30, 500) #We create a interval for different values of e_A, that starts with 2.5 and end with 30 \n",
    "\n",
    "#We create a empty lists to store the values of optimal p for every different value of e_A\n",
    "optimal_p_e_A = []\n",
    "\n",
    "#We calculate the optimal p for every different value of eps by maximizing the utility function of seller from question 3\n",
    "for e_A in e_A_values:\n",
    "    optimal_result_q3 = minimize_scalar(u_seller_q3, bounds=(0, e_B), args=(eta,), method='bounded')\n",
    "    optimal_p_e_A.append(optimal_result_q3.x) #We store the optimal p in the empty list created above\n",
    "\n",
    "##We create a plot, that shows how the optimal price, p*, changes for different values of e_A\n",
    "plt.figure(figsize=(10, 6))\n",
    "plt.plot(e_A_values, optimal_p_e_A)\n",
    "plt.xlabel('Value of $e_A$')\n",
    "plt.ylabel('Value of optimal Price $p^*$')\n",
    "plt.title('The value of optimal price, p, for different values of $e_A$')\n",
    "plt.grid()\n",
    "plt.show()"
   ]
  },
  {
   "attachments": {},
   "cell_type": "markdown",
   "metadata": {},
   "source": [
    "## 3. <a id='toc3_'></a>[Problem 3: Segregation model](#toc0_)"
   ]
  },
  {
   "attachments": {},
   "cell_type": "markdown",
   "metadata": {},
   "source": [
    "**Definitions:**\n",
    "\n",
    "We imagine a world, which can be described by a $30\\times30$ grid of *positions*.\n",
    "\n",
    "Initially, each position is *filled* by a person with a 80 percent probability, and otherwise it is *empty*.\n",
    "\n",
    "If *filled* initially, it is a fifty-fifty chance whether the person belongs to group *red* or group *blue*.\n",
    "\n",
    "We define a *neighborhood* of a position as the up to 8 positions only one step away in either direction (up/down, left/right, corners).\n",
    "\n",
    "A person is *satisfied* if her group is not the minority in her neighborhood,\n",
    "\n",
    "**Each period the following things happen:**\n",
    "\n",
    "1. A random person is given the possibility to move.\n",
    "\n",
    "2. The chosen person search empty positions at random. \n",
    "\n",
    "3. A move happens immediatly when an unsatisfied person finds an empty position where she is satisfied, and the period ends."
   ]
  },
  {
   "attachments": {},
   "cell_type": "markdown",
   "metadata": {},
   "source": [
    "The code below creates the initial map."
   ]
  },
  {
   "cell_type": "code",
   "execution_count": null,
   "metadata": {},
   "outputs": [],
   "source": [
    "np.random.seed(123)\n",
    "dim = 30\n",
    "map = np.random.choice([0,1,2],size=(dim,dim),p=[0.20,0.40,0.40])\n",
    "\n",
    "def display(map):\n",
    "    \n",
    "    cmap = colors.ListedColormap(['white','red', 'blue'])\n",
    "    fig = plt.figure(figsize=(5,5))\n",
    "    ax = fig.add_subplot(1,1,1)\n",
    "    ax.grid(False)\n",
    "    ax.pcolormesh(map,edgecolor='black',cmap=cmap)\n",
    "    plt.show()\n",
    "\n",
    "display(map)"
   ]
  },
  {
   "attachments": {},
   "cell_type": "markdown",
   "metadata": {},
   "source": [
    "**Question:** Simulate forwards for 10,000 periods and show how the world looks. Calculate the initial and final average number of same-group persons in the neighborhood of each person. Comment. <br>*You can use the code below with the functions `neigborhood` and `satisfied` to start from*."
   ]
  },
  {
   "cell_type": "code",
   "execution_count": null,
   "metadata": {},
   "outputs": [],
   "source": [
    "def neighborhood(group,i,j):\n",
    "    \"\"\" find the number of same and different persons as group in the neighborhood of (i,j) \n",
    "\n",
    "    Args:\n",
    "\n",
    "        group (int): group number [1,2]\n",
    "        i (int): row index\n",
    "        j (int): column index\n",
    "\n",
    "    Returns:\n",
    "\n",
    "        same (int): number of persons in same group\n",
    "        different (int): number of persons in different group\n",
    "        \n",
    "    \"\"\"\n",
    "\n",
    "    same = 0\n",
    "    different = 0\n",
    "    for i_ in range(i-1,i+2): # i-1,i,i+1\n",
    "        for j_ in range(j-1,j+2): # j-1,j,j+1\n",
    "            \n",
    "            # outside the map\n",
    "            if i_ < 0 or i_ >= dim or j_ < 0 or j_ >= dim:\n",
    "                continue\n",
    "\n",
    "            # same person\n",
    "            if i_ == i and j_ == j:\n",
    "                continue\n",
    "            \n",
    "            # empty position\n",
    "            if map[i_,j_] == 0:\n",
    "                continue\n",
    "\n",
    "            # same or different group\n",
    "            if map[i_,j_] == group:\n",
    "                same += 1\n",
    "            else:\n",
    "                different += 1   \n",
    "\n",
    "    return same,different"
   ]
  },
  {
   "cell_type": "code",
   "execution_count": null,
   "metadata": {},
   "outputs": [],
   "source": [
    "def satisfied(group,i,j):\n",
    "    \"\"\" check if person from group would be satisfied at (i,j)\n",
    "        \n",
    "    Args:\n",
    "\n",
    "        group (int): group number [1,2]\n",
    "        i (int): row index\n",
    "        j (int): column index\n",
    "\n",
    "    Output:\n",
    "\n",
    "        bool: True if satisfied, False otherwise\n",
    "       \n",
    "    \"\"\"\n",
    "\n",
    "    same,different = neighborhood(group,i,j)        \n",
    "            \n",
    "    if same >= different:\n",
    "        return True\n",
    "    else:\n",
    "        return False\n",
    "    "
   ]
  },
  {
   "attachments": {},
   "cell_type": "markdown",
   "metadata": {},
   "source": [
    "**Finding Initial Average Same-Group Neighbors:**"
   ]
  },
  {
   "cell_type": "code",
   "execution_count": null,
   "metadata": {},
   "outputs": [],
   "source": [
    "# Initialize counters and accumulators for calculating averages\n",
    "neighbor_counts = [0, 0, 0]  # [0] for empty positions, [1] for red, [2] for blue\n",
    "same_group_count = [0, 0, 0]  # [0] for empty positions, [1] for red, [2] for blue\n",
    "\n",
    "# Iterate over each position in the grid\n",
    "for i in range(dim):\n",
    "    for j in range(dim):\n",
    "        group = map[i, j]\n",
    "        same, _ = neighborhood(group, i, j)\n",
    "        neighbor_counts[group] += 1\n",
    "        same_group_count[group] += same\n",
    "\n",
    "# Calculate and print the initial average number of same-group persons in the neighborhood for each group\n",
    "for group in [1, 2]:\n",
    "    average = same_group_count[group] / neighbor_counts[group]\n",
    "    print(f\"Group {group}: Initial Average Same-Group Neighbors = {average:.2f}\")"
   ]
  },
  {
   "attachments": {},
   "cell_type": "markdown",
   "metadata": {},
   "source": [
    "**Simulating and finding Final Average Same-Group Neighbors:**"
   ]
  },
  {
   "cell_type": "code",
   "execution_count": null,
   "metadata": {},
   "outputs": [],
   "source": [
    "# Simulate forward for 10000 periods\n",
    "for period in range(10000):\n",
    "    i, j = np.random.randint(dim), np.random.randint(dim)  # Choose a random person to potentially move\n",
    "\n",
    "    if map[i, j] != 0:  # Skip empty positions\n",
    "        empty_positions = np.argwhere(map == 0)  # Find all empty positions\n",
    "        np.random.shuffle(empty_positions)  # Shuffle empty positions randomly\n",
    "\n",
    "        for empty_i, empty_j in empty_positions:\n",
    "            if satisfied(map[i, j], empty_i, empty_j):\n",
    "                map[empty_i, empty_j] = map[i, j]  # Move the person to the empty position\n",
    "                map[i, j] = 0  # Mark the original position as empty\n",
    "                break  # Move successful, end the period\n",
    "\n",
    "# Display the final state of the world\n",
    "display(map)\n",
    "\n",
    "# Initialize counters and accumulators for calculating final averages\n",
    "final_neighbor_counts = [0, 0, 0]  # [0] for empty positions, [1] for red, [2] for blue\n",
    "final_same_group_count = [0, 0, 0]  # [0] for empty positions, [1] for red, [2] for blue\n",
    "\n",
    "# Iterate over each position in the final grid\n",
    "for i in range(dim):\n",
    "    for j in range(dim):\n",
    "        group = map[i, j]\n",
    "        same, _ = neighborhood(group, i, j)\n",
    "        final_neighbor_counts[group] += 1\n",
    "        final_same_group_count[group] += same\n",
    "\n",
    "# Calculate and print the final average number of same-group persons in the neighborhood for each group\n",
    "for group in [1, 2]:\n",
    "    average = final_same_group_count[group] / final_neighbor_counts[group]\n",
    "    print(f\"Group {group}: Final Average Same-Group Neighbors = {average:.2f}\")"
   ]
  },
  {
   "attachments": {},
   "cell_type": "markdown",
   "metadata": {},
   "source": [
    "We see an increase in the number of Average Same-Group Neighbors. This was expected as people over 10000 simulations should be able to find a neighbor of the same group. The increase is just under double the amount of the initial value as it goes from 3.16 to 5.77 for red and 2.86 to 5.55 for blue. \\\n",
    "If we did the simulation 10000 times more we would see an increase once again. We would not expect the increase to be as large though because there is an upper bound to how many same-group neighbors are possible. \\\n",
    "We could show this by simply repeating the code above."
   ]
  },
  {
   "cell_type": "code",
   "execution_count": null,
   "metadata": {},
   "outputs": [],
   "source": [
    "# Simulate forward for 10000 periods\n",
    "for period in range(10000):\n",
    "    i, j = np.random.randint(dim), np.random.randint(dim)  # Choose a random person to potentially move\n",
    "\n",
    "    if map[i, j] != 0:  # Skip empty positions\n",
    "        empty_positions = np.argwhere(map == 0)  # Find all empty positions\n",
    "        np.random.shuffle(empty_positions)  # Shuffle empty positions randomly\n",
    "\n",
    "        for empty_i, empty_j in empty_positions:\n",
    "            if satisfied(map[i, j], empty_i, empty_j):\n",
    "                map[empty_i, empty_j] = map[i, j]  # Move the person to the empty position\n",
    "                map[i, j] = 0  # Mark the original position as empty\n",
    "                break  # Move successful, end the period\n",
    "\n",
    "# Display the final state of the world\n",
    "display(map)\n",
    "\n",
    "# Initialize counters and accumulators for calculating final averages\n",
    "final_neighbor_counts = [0, 0, 0]  # [0] for empty positions, [1] for red, [2] for blue\n",
    "final_same_group_count = [0, 0, 0]  # [0] for empty positions, [1] for red, [2] for blue\n",
    "\n",
    "# Iterate over each position in the final grid\n",
    "for i in range(dim):\n",
    "    for j in range(dim):\n",
    "        group = map[i, j]\n",
    "        same, _ = neighborhood(group, i, j)\n",
    "        final_neighbor_counts[group] += 1\n",
    "        final_same_group_count[group] += same\n",
    "\n",
    "# Calculate and print the final average number of same-group persons in the neighborhood for each group\n",
    "for group in [1, 2]:\n",
    "    average = final_same_group_count[group] / final_neighbor_counts[group]\n",
    "    print(f\"Group {group}: Final Average Same-Group Neighbors = {average:.2f}\")"
   ]
  }
 ],
 "metadata": {
  "kernelspec": {
   "display_name": "base",
   "language": "python",
   "name": "python3"
  },
  "language_info": {
   "codemirror_mode": {
    "name": "ipython",
    "version": 3
   },
   "file_extension": ".py",
   "mimetype": "text/x-python",
   "name": "python",
   "nbconvert_exporter": "python",
   "pygments_lexer": "ipython3",
   "version": "3.9.13"
  },
  "orig_nbformat": 4,
  "vscode": {
   "interpreter": {
    "hash": "af1f2526e3629d58cd9c41e625886bc09b4f7d726f91454e7dad230fb7861f03"
   }
  }
 },
 "nbformat": 4,
 "nbformat_minor": 2
}
