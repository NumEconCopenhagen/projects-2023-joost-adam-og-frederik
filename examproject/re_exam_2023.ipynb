{
 "cells": [
  {
   "attachments": {},
   "cell_type": "markdown",
   "metadata": {},
   "source": [
    "**Table of contents**<a id='toc0_'></a>    \n",
    "- 1. [Problem 1: Higher order income risk](#toc1_)    \n",
    "- 2. [Problem 2: Inflation in an exchange model](#toc2_)    \n",
    "- 3. [Problem 3: Segregation model](#toc3_)    \n",
    "\n",
    "<!-- vscode-jupyter-toc-config\n",
    "\tnumbering=true\n",
    "\tanchor=true\n",
    "\tflat=false\n",
    "\tminLevel=2\n",
    "\tmaxLevel=6\n",
    "\t/vscode-jupyter-toc-config -->\n",
    "<!-- THIS CELL WILL BE REPLACED ON TOC UPDATE. DO NOT WRITE YOUR TEXT IN THIS CELL -->"
   ]
  },
  {
   "cell_type": "code",
   "execution_count": 3,
   "metadata": {},
   "outputs": [
    {
     "name": "stdout",
     "output_type": "stream",
     "text": [
      "The autoreload extension is already loaded. To reload it, use:\n",
      "  %reload_ext autoreload\n"
     ]
    }
   ],
   "source": [
    "from types import SimpleNamespace\n",
    "import numpy as np\n",
    "import matplotlib.pyplot as plt\n",
    "plt.rcParams.update({\"axes.grid\":True,\"grid.color\":\"black\",\"grid.alpha\":\"0.25\",\"grid.linestyle\":\"--\"})\n",
    "from matplotlib import colors\n",
    "\n",
    "%load_ext autoreload \n",
    "%autoreload 2\n",
    "\n",
    "from opg2 import opg2_class\n",
    "model = opg2_class()\n"
   ]
  },
  {
   "attachments": {},
   "cell_type": "markdown",
   "metadata": {},
   "source": [
    "## 1. <a id='toc1_'></a>[Problem 1: Higher order income risk](#toc0_)"
   ]
  },
  {
   "attachments": {},
   "cell_type": "markdown",
   "metadata": {},
   "source": [
    "We consider a consumer living in **two periods**. In the **second period** she behaves as:\n",
    "\n",
    "$$\n",
    "\\begin{align*}\n",
    "v_{2}(m_{2})\t&=\\max_{c_{2}}\\frac{c_{2}^{1-\\rho}}{1-\\rho} \\\\\n",
    "\t&\\text{s.t.} \\\\\n",
    "a_{2}\t&=m_{2}-c_{2} \\\\\n",
    "a_{2}\t&\\geq0 \\\\\n",
    "\\end{align*}\n",
    "$$\n",
    "\n",
    "This implies:\n",
    "\n",
    "$$\n",
    "v_{2}(m_{2})=\\frac{m_{2}^{1-\\rho}}{1-\\rho}\n",
    "$$\n",
    "\n",
    "In the **first period**, the consumer solves:\n",
    "\n",
    "$$\n",
    "\\begin{align*}\n",
    "v_{1}(m_{1})\t&=\\max_{c_{1}}\\frac{c_{1}^{1-\\rho}}{1-\\rho}+\\beta\\mathbb{E}_{1}\\left[v_{2}(m_{2})\\right] \\\\\n",
    "\t&\\text{s.t.} \\\\\n",
    "a_{1}\t&=m_{1}-c_{1} \\\\\n",
    "a_{1}\t&\\geq0 \\\\\n",
    "m_{2}\t&=(1+r)a_{1}+y_{2} \\\\\n",
    "\n",
    "y_{2}\t&= \\begin{cases}\n",
    "1 & \\nu_2 < \\pi\\\\\n",
    "\\exp(\\psi_2) & \\text{else}\n",
    "\\end{cases} \\\\\n",
    "\\psi_2\t&\\sim\\mathcal{N}(-0.5\\sigma_{\\psi}^{2},\\sigma_{\\psi}^{2}) \\\\\n",
    "\\nu_2\t&\\sim\\mathcal{U}(0,1) \\\\\n",
    "\\end{align*}\n",
    "$$\n",
    "\n",
    "The standard random variables $\\psi_2$ and $\\nu_2$ are approximated with $N$ random draws."
   ]
  },
  {
   "attachments": {},
   "cell_type": "markdown",
   "metadata": {},
   "source": [
    "The initial value of cash-on-hand is $m_1 = 1.0$.\n",
    "The baseline parameters are as in the code below."
   ]
  },
  {
   "cell_type": "code",
   "execution_count": 2,
   "metadata": {},
   "outputs": [],
   "source": [
    "par = SimpleNamespace()\n",
    "\n",
    "par.beta = 0.90\n",
    "par.rho = 2.0\n",
    "par.r = 0.05    \n",
    "par.pi = 0.50\n",
    "par.sigma_psi = 0.10\n",
    "\n",
    "par.m1 = 2.0\n",
    "par.N = 100_000"
   ]
  },
  {
   "attachments": {},
   "cell_type": "markdown",
   "metadata": {},
   "source": [
    "**Questions 1:** Plot the distribution of $y_2$."
   ]
  },
  {
   "cell_type": "code",
   "execution_count": 3,
   "metadata": {},
   "outputs": [],
   "source": [
    "# write your answer here"
   ]
  },
  {
   "attachments": {},
   "cell_type": "markdown",
   "metadata": {},
   "source": [
    "**Question 2:** Find the optimal choice of $c_1$ and the implied $v(m_1)$."
   ]
  },
  {
   "cell_type": "code",
   "execution_count": 4,
   "metadata": {},
   "outputs": [],
   "source": [
    "# write your answer here"
   ]
  },
  {
   "attachments": {},
   "cell_type": "markdown",
   "metadata": {},
   "source": [
    "**Question 3:** Plot combinations of $(\\pi,\\sigma_{\\psi})$ implying that $v(m_1)$ is unchanged. Comment."
   ]
  },
  {
   "cell_type": "code",
   "execution_count": 5,
   "metadata": {},
   "outputs": [],
   "source": [
    "# write your answer here"
   ]
  },
  {
   "attachments": {},
   "cell_type": "markdown",
   "metadata": {},
   "source": [
    "## 2. <a id='toc2_'></a>[Problem 2: Inflation in an exchange model](#toc0_)"
   ]
  },
  {
   "attachments": {},
   "cell_type": "markdown",
   "metadata": {},
   "source": [
    "Consider an exchange economy with two agents, $A$ and $B$ each with their own distinct good. Their endowment are $e_A$ and $e_B$. Agent $A$ is the buyer, she takes the relative price of the two goods, $p$, as given and chooses the amount of agent $B$'s good to exchange for her own. Agent $B$ is the seller, she sets the relative price between the goods, optimally taking into account $A$'s demand."
   ]
  },
  {
   "attachments": {},
   "cell_type": "markdown",
   "metadata": {},
   "source": [
    "**Agent $A$, the buyer, solves:**\n",
    "$$\n",
    "\\begin{align}\n",
    "V_{A}(p) = \\max_{c,c'} u_A(c,c') \\\\ s.t. \\; c+pc'=e_{A} \\\\\n",
    "\\end{align}\n",
    "$$\n",
    "Or simply:\n",
    "$$\n",
    "\\begin{align}\n",
    "V_{A}(p) = \\max_{c'} u_A(e_{A}-pc',c')  \\\\\n",
    "\\end{align}\n",
    "$$\n",
    "Where $c$ is consumption of her own good and $c'$ is consumption of the other good.<br>\n",
    "$u_A$ is her utility function. <br>\n",
    "This optimization yields the optimal demand function:\n",
    "$$\n",
    "\\begin{align}\n",
    "\\Rightarrow c' = D(p)\n",
    "\\end{align}\n",
    "$$"
   ]
  },
  {
   "attachments": {},
   "cell_type": "markdown",
   "metadata": {},
   "source": [
    "**Agent $B$, the seller, solves:**\n",
    "\\begin{align}\n",
    "p^* \\equiv \\arg\\max_p v_B(p) \\\\\n",
    "\\end{align}\n",
    "where\n",
    "\\begin{align}\n",
    "\\;\\,v_B(p) \\equiv u_B(e_B-D(p),pD(p))\n",
    "\\end{align}"
   ]
  },
  {
   "attachments": {},
   "cell_type": "markdown",
   "metadata": {},
   "source": [
    "$u_B$ is her utility function in consumption of her own good (intital endowment, $e_B$, minus what is sold, $D(p)$), and consumption of the other good ($pD(p)$) obtained through trade. $v_B(p)$ is her indirect utility, when the price is $p$, taking into account the optimal demand of the buyer."
   ]
  },
  {
   "attachments": {},
   "cell_type": "markdown",
   "metadata": {},
   "source": [
    "Assume that agents are symmetric with quasi-linear utility functions:\n",
    "\\begin{align}\n",
    "u_A=u_B=u(c,c') = c+ \\frac{(c')^{1-\\frac{1}{\\epsilon}} }{1-\\frac{1}{\\epsilon}}\n",
    "\\end{align}\n",
    "And also have equal endownment $e_A = e_B=10$."
   ]
  },
  {
   "attachments": {},
   "cell_type": "markdown",
   "metadata": {},
   "source": [
    "Assume the following parameter value:\n",
    "- $\\epsilon = 10.$"
   ]
  },
  {
   "attachments": {},
   "cell_type": "markdown",
   "metadata": {},
   "source": [
    "**Question 1:** Nummerically solve, and illustrate optimal demand of the buyer, $A$, in the range $p\\in [1,2]$. Verify that what you find numerically is equal to the analytical solution, $D(p)=p^{-\\epsilon},\\,p\\geq1$ "
   ]
  },
  {
   "cell_type": "code",
   "execution_count": 31,
   "metadata": {},
   "outputs": [
    {
     "data": {
      "image/png": "[encoded data removed]",
      "text/plain": [
       "<Figure size 640x480 with 1 Axes>"
      ]
     },
     "metadata": {},
     "output_type": "display_data"
    },
    {
     "data": {
      "image/png": "[encoded data removed]",
      "text/plain": [
       "<Figure size 640x480 with 1 Axes>"
      ]
     },
     "metadata": {},
     "output_type": "display_data"
    }
   ],
   "source": [
    "model.solve_p_vec()\n",
    "\n",
    "plt.plot(model.par.p_vec, model.sol.c_mark_vec)\n",
    "plt.title('Optimal demand of buyer A')\n",
    "plt.xlabel('Value of p')\n",
    "plt.ylabel('Value of c´')\n",
    "plt.show()\n",
    "\n",
    "analytical_list = []\n",
    "for p in model.par.p_vec:\n",
    "    analytical_list.append(p**(-model.par.epsilon))\n",
    "plt.plot(model.par.p_vec, list)\n",
    "plt.show()\n",
    "\n",
    "\n",
    "\n",
    "\n"
   ]
  },
  {
   "attachments": {},
   "cell_type": "markdown",
   "metadata": {},
   "source": [
    "**Question 2:** Solve the seller's problem numerically, taking into account optimal demand of the buyer. Verify that what you find numerically is equal to the analytical solution: $p^* = \\left(\\frac{\\epsilon}{\\epsilon-1} \\right)^\\frac{\\epsilon}{2\\epsilon-1}$. <br>\n",
    "*Hint:* For this problem you can use the analytical solution to $D(p)$, but it is recomended that you use the numerical solution to $D(p)$ from question 1, and nest that when solving the seller's problem, as you will need to do that in the next question."
   ]
  },
  {
   "cell_type": "code",
   "execution_count": 7,
   "metadata": {},
   "outputs": [],
   "source": [
    "# write your answer here"
   ]
  },
  {
   "attachments": {},
   "cell_type": "markdown",
   "metadata": {},
   "source": [
    "Now consider a fully non-linear utility function, for both agents:\n",
    "\\begin{align}\n",
    "u_A = u_B = u(c,c') = \\frac{(c)^{1-\\frac{1}{\\eta}} }{1-\\frac{1}{\\eta}}+ \\frac{(c')^{1-\\frac{1}{\\epsilon}} }{1-\\frac{1}{\\epsilon}}\n",
    "\\end{align}"
   ]
  },
  {
   "attachments": {},
   "cell_type": "markdown",
   "metadata": {},
   "source": [
    "**Question 3:** Solve for $p^*$ for the fully non-linear utility function, for $\\eta \\in \\left\\{1000,10\\right\\}$ <br>\n",
    "*Hint:* Note that this requires both solving the buyer's problem and the seller's problem numerically. "
   ]
  },
  {
   "cell_type": "code",
   "execution_count": 8,
   "metadata": {},
   "outputs": [],
   "source": [
    "# write your answer here"
   ]
  },
  {
   "attachments": {},
   "cell_type": "markdown",
   "metadata": {},
   "source": [
    "**Question 4:** Make two plots of $p^*$, both with $\\eta=10$ and $e_{B}=10$: \n",
    "- One of how $p^*$ changes with $\\epsilon\\in \\left[5,30\\right]$ and $e_{A}=10$\n",
    "- One of how $p^*$ changes with $e_{A}\\in \\left[2.5,30\\right]$ and $\\epsilon=10$"
   ]
  },
  {
   "cell_type": "code",
   "execution_count": 9,
   "metadata": {},
   "outputs": [],
   "source": [
    "# write your answer here"
   ]
  },
  {
   "attachments": {},
   "cell_type": "markdown",
   "metadata": {},
   "source": [
    "## 3. <a id='toc3_'></a>[Problem 3: Segregation model](#toc0_)"
   ]
  },
  {
   "attachments": {},
   "cell_type": "markdown",
   "metadata": {},
   "source": [
    "**Definitions:**\n",
    "\n",
    "We imagine a world, which can be described by a $30\\times30$ grid of *positions*.\n",
    "\n",
    "Initially, each position is *filled* by a person with a 80 percent probability, and otherwise it is *empty*.\n",
    "\n",
    "If *filled* initially, it is a fifty-fifty chance whether the person belongs to group *red* or group *blue*.\n",
    "\n",
    "We define a *neighborhood* of a position as the up to 8 positions only one step away in either direction (up/down, left/right, corners).\n",
    "\n",
    "A person is *satisfied* if her group is not the minority in her neighborhood,\n",
    "\n",
    "**Each period the following things happen:**\n",
    "\n",
    "1. A random person is given the possibility to move.\n",
    "\n",
    "2. The chosen person search empty positions at random. \n",
    "\n",
    "3. A move happens immediatly when an unsatisfied person finds an empty position where she is satisfied, and the period ends."
   ]
  },
  {
   "attachments": {},
   "cell_type": "markdown",
   "metadata": {},
   "source": [
    "The code below creates the initial map."
   ]
  },
  {
   "cell_type": "code",
   "execution_count": 10,
   "metadata": {},
   "outputs": [
    {
     "data": {
      "image/png": "[encoded data removed]",
      "text/plain": [
       "<Figure size 500x500 with 1 Axes>"
      ]
     },
     "metadata": {},
     "output_type": "display_data"
    }
   ],
   "source": [
    "np.random.seed(123)\n",
    "dim = 30\n",
    "map = np.random.choice([0,1,2],size=(dim,dim),p=[0.20,0.40,0.40])\n",
    "\n",
    "def display(map):\n",
    "    \n",
    "    cmap = colors.ListedColormap(['white','red', 'blue'])\n",
    "    fig = plt.figure(figsize=(5,5))\n",
    "    ax = fig.add_subplot(1,1,1)\n",
    "    ax.grid(False)\n",
    "    ax.pcolormesh(map,edgecolor='black',cmap=cmap)\n",
    "    plt.show()\n",
    "\n",
    "display(map)"
   ]
  },
  {
   "attachments": {},
   "cell_type": "markdown",
   "metadata": {},
   "source": [
    "**Question:** Simulate forwards for 10,000 periods and show how the world looks. Calculate the initial and final average number of same-group persons in the neighborhood of each person. Comment. <br>*You can use the code below with the functions `neigborhood` and `satisfied` to start from*."
   ]
  },
  {
   "cell_type": "code",
   "execution_count": 11,
   "metadata": {},
   "outputs": [],
   "source": [
    "def neighborhood(group,i,j):\n",
    "    \"\"\" find the number of same and different persons as group in the neighborhood of (i,j) \n",
    "\n",
    "    Args:\n",
    "\n",
    "        group (int): group number [1,2]\n",
    "        i (int): row index\n",
    "        j (int): column index\n",
    "\n",
    "    Returns:\n",
    "\n",
    "        same (int): number of persons in same group\n",
    "        different (int): number of persons in different group\n",
    "        \n",
    "    \"\"\"\n",
    "\n",
    "    same = 0\n",
    "    different = 0\n",
    "    for i_ in range(i-1,i+2): # i-1,i,i+1\n",
    "        for j_ in range(j-1,j+2): # j-1,j,j+1\n",
    "            \n",
    "            # outside the map\n",
    "            if i_ < 0 or i_ >= dim or j_ < 0 or j_ >= dim:\n",
    "                continue\n",
    "\n",
    "            # same person\n",
    "            if i_ == i and j_ == j:\n",
    "                continue\n",
    "            \n",
    "            # empty position\n",
    "            if map[i_,j_] == 0:\n",
    "                continue\n",
    "\n",
    "            # same or different group\n",
    "            if map[i_,j_] == group:\n",
    "                same += 1\n",
    "            else:\n",
    "                different += 1   \n",
    "\n",
    "    return same,different"
   ]
  },
  {
   "cell_type": "code",
   "execution_count": 12,
   "metadata": {},
   "outputs": [],
   "source": [
    "def satisfied(group,i,j):\n",
    "    \"\"\" check if person from group would be satisfied at (i,j)\n",
    "        \n",
    "    Args:\n",
    "\n",
    "        group (int): group number [1,2]\n",
    "        i (int): row index\n",
    "        j (int): column index\n",
    "\n",
    "    Output:\n",
    "\n",
    "        bool: True if satisfied, False otherwise\n",
    "       \n",
    "    \"\"\"\n",
    "\n",
    "    same,different = neighborhood(group,i,j)        \n",
    "            \n",
    "    if same >= different:\n",
    "        return True\n",
    "    else:\n",
    "        return False\n",
    "    "
   ]
  },
  {
   "cell_type": "code",
   "execution_count": 13,
   "metadata": {},
   "outputs": [],
   "source": [
    "# Initialize counters and accumulators for calculating averages\n",
    "neighbor_counts = [0, 0, 0]  # [0] for empty positions, [1] for red, [2] for blue\n",
    "same_group_count = [0, 0, 0]  # [0] for empty positions, [1] for red, [2] for blue\n",
    "\n",
    "# Iterate over each position in the grid\n",
    "for i in range(dim):\n",
    "    for j in range(dim):\n",
    "        group = map[i, j]\n",
    "        same, _ = neighborhood(group, i, j)\n",
    "        neighbor_counts[group] += 1\n",
    "        same_group_count[group] += same\n",
    "\n",
    "# Calculate and print the initial average number of same-group persons in the neighborhood for each group\n",
    "for group in [1, 2]:\n",
    "    average = same_group_count[group] / neighbor_counts[group]\n",
    "    print(f\"Group {group}: Initial Average Same-Group Neighbors = {average:.2f}\")"
   ]
  },
  {
   "cell_type": "code",
   "execution_count": null,
   "metadata": {},
   "outputs": [],
   "source": [
    "# Simulate forward for 10000 periods\n",
    "for period in range(10000):\n",
    "    i, j = np.random.randint(dim), np.random.randint(dim)  # Choose a random person to potentially move\n",
    "\n",
    "    if map[i, j] != 0:  # Skip empty positions\n",
    "        empty_positions = np.argwhere(map == 0)  # Find all empty positions\n",
    "        np.random.shuffle(empty_positions)  # Shuffle empty positions randomly\n",
    "\n",
    "        for empty_i, empty_j in empty_positions:\n",
    "            if satisfied(map[i, j], empty_i, empty_j):\n",
    "                map[empty_i, empty_j] = map[i, j]  # Move the person to the empty position\n",
    "                map[i, j] = 0  # Mark the original position as empty\n",
    "                break  # Move successful, end the period\n",
    "\n",
    "# Display the final state of the world\n",
    "display(map)\n",
    "\n",
    "# Initialize counters and accumulators for calculating final averages\n",
    "final_neighbor_counts = [0, 0, 0]  # [0] for empty positions, [1] for red, [2] for blue\n",
    "final_same_group_count = [0, 0, 0]  # [0] for empty positions, [1] for red, [2] for blue\n",
    "\n",
    "# Iterate over each position in the final grid\n",
    "for i in range(dim):\n",
    "    for j in range(dim):\n",
    "        group = map[i, j]\n",
    "        same, _ = neighborhood(group, i, j)\n",
    "        final_neighbor_counts[group] += 1\n",
    "        final_same_group_count[group] += same\n",
    "\n",
    "# Calculate and print the final average number of same-group persons in the neighborhood for each group\n",
    "for group in [1, 2]:\n",
    "    average = final_same_group_count[group] / final_neighbor_counts[group]\n",
    "    print(f\"Group {group}: Final Average Same-Group Neighbors = {average:.2f}\")"
   ]
  }
 ],
 "metadata": {
  "kernelspec": {
   "display_name": "base",
   "language": "python",
   "name": "python3"
  },
  "language_info": {
   "codemirror_mode": {
    "name": "ipython",
    "version": 3
   },
   "file_extension": ".py",
   "mimetype": "text/x-python",
   "name": "python",
   "nbconvert_exporter": "python",
   "pygments_lexer": "ipython3",
   "version": "3.9.13"
  },
  "orig_nbformat": 4,
  "vscode": {
   "interpreter": {
    "hash": "af1f2526e3629d58cd9c41e625886bc09b4f7d726f91454e7dad230fb7861f03"
   }
  }
 },
 "nbformat": 4,
 "nbformat_minor": 2
}
