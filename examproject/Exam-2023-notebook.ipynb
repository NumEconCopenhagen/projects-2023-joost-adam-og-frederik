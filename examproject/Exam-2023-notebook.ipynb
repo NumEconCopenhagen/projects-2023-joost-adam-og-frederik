{
 "cells": [
  {
   "attachments": {},
   "cell_type": "markdown",
   "metadata": {},
   "source": [
    "**Table of contents**<a id='toc0_'></a>    \n",
    "- 1. [Problem 1: Optimal taxation with government consumption](#toc1_)    \n",
    "- 2. [Problem 2: Labor adjustment costs](#toc2_)    \n",
    "- 3. [Problem 3: Global optimizer with refined multi-start](#toc3_)    \n",
    "\n",
    "<!-- vscode-jupyter-toc-config\n",
    "\tnumbering=true\n",
    "\tanchor=true\n",
    "\tflat=false\n",
    "\tminLevel=2\n",
    "\tmaxLevel=6\n",
    "\t/vscode-jupyter-toc-config -->\n",
    "<!-- THIS CELL WILL BE REPLACED ON TOC UPDATE. DO NOT WRITE YOUR TEXT IN THIS CELL -->"
   ]
  },
  {
   "cell_type": "code",
   "execution_count": 23,
   "metadata": {},
   "outputs": [
    {
     "name": "stdout",
     "output_type": "stream",
     "text": [
      "The autoreload extension is already loaded. To reload it, use:\n",
      "  %reload_ext autoreload\n"
     ]
    }
   ],
   "source": [
    "from types import SimpleNamespace\n",
    "from scipy import optimize\n",
    "from scipy import interpolate\n",
    "import numpy as np\n",
    "import sympy as sm\n",
    "import matplotlib.pyplot as plt\n",
    "import ipywidgets as widgets\n",
    "import pandas as pd\n",
    "\n",
    "# autoreload modules when code is run\n",
    "%load_ext autoreload\n",
    "%autoreload 2"
   ]
  },
  {
   "attachments": {},
   "cell_type": "markdown",
   "metadata": {},
   "source": [
    "## 1. <a id='toc1_'></a>[Problem 1: Optimal taxation with government consumption](#toc0_)"
   ]
  },
  {
   "attachments": {},
   "cell_type": "markdown",
   "metadata": {},
   "source": [
    "\n",
    "Consider a worker choosing hours of labor, $L\\in[0,24]$, to maximize utility: \n",
    "\n",
    "$$\n",
    "\\begin{align*}\n",
    "V(w,\\tau,G)&=\\max_{L\\in[0,24]}\\ln\\left(C^{\\alpha}G^{1-\\alpha}\\right)-\\nu\\frac{L^{2}}{2}\\\\&\\text{s.t.}\\\\&C=\\kappa+(1-\\tau)wL\n",
    "\\end{align*}\n",
    "$$\n",
    "\n",
    "where \n",
    "\n",
    "* $C$ is *private* consumption with weight $\\alpha\\in(0,1)$.\n",
    "* $\\kappa > 0$ is the *free private* consumption component.\n",
    "* $(1-\\tau)wL$ is the *costly private* consumption component.\n",
    "* $w > 0 $ is the real wage.\n",
    "* $\\tau \\in (0,1)$ is the labor-income tax rate.\n",
    "* $G > 0 $ is *government* consumption with weight $1-\\alpha$.\n",
    "* $\\nu > 0$ is the disutility of labor scaling factor"
   ]
  },
  {
   "attachments": {},
   "cell_type": "markdown",
   "metadata": {},
   "source": [
    "\n",
    "The baseline parameters are:\n",
    "\n",
    "$$\n",
    "\\begin{align*}\n",
    "\\alpha &= 0.5\\\\\n",
    "\\kappa &= 1.0\\\\\n",
    "\\nu &= \\frac{1}{2\\cdot16^2} \\\\\n",
    "w &= 1.0 \\\\ \n",
    "\\tau &= 0.30 \\\\\n",
    "\\end{align*}\n",
    "$$"
   ]
  },
  {
   "attachments": {},
   "cell_type": "markdown",
   "metadata": {},
   "source": [
    "**Question 1:** Verify that the optimal labor supply choice is $L^{\\star}(\\tilde{w}) =\\frac{-\\kappa+\\sqrt{\\kappa^{2}+4\\frac{\\alpha}{\\nu}\\tilde{w}^2}}{2\\tilde{w}}$, where $\\tilde{w} = (1-\\tau)w$, for $G\\in\\left\\{1.0 , 2.0\\right\\}$."
   ]
  },
  {
   "cell_type": "code",
   "execution_count": 24,
   "metadata": {},
   "outputs": [
    {
     "name": "stdout",
     "output_type": "stream",
     "text": [
      "The optimal labor supply choice is:\n"
     ]
    },
    {
     "data": {
      "text/latex": [
       "$\\displaystyle \\frac{- \\kappa \\nu + \\sqrt{\\nu \\left(4 \\alpha w_{hat}^{2} + \\kappa^{2} \\nu\\right)}}{2 \\nu w_{hat}}$"
      ],
      "text/plain": [
       "(-kappa*nu + sqrt(nu*(4*alpha*w_hat**2 + kappa**2*nu)))/(2*nu*w_hat)"
      ]
     },
     "metadata": {},
     "output_type": "display_data"
    },
    {
     "name": "stdout",
     "output_type": "stream",
     "text": [
      "The numerically optimal labor supply choice is in the exam paper:\n",
      "15.302\n",
      "The numerically optimal labor supply choice analytically is:\n",
      "15.302\n"
     ]
    }
   ],
   "source": [
    "# We define symbols\n",
    "alpha =sm.symbols('alpha')\n",
    "kappa =sm.symbols('kappa')\n",
    "nu =sm.symbols('nu')\n",
    "w_hat =sm.symbols('w_hat')\n",
    "L=sm.symbols('L')\n",
    "G=sm.symbols('G')\n",
    "\n",
    "# We define some parameter values\n",
    "tau = 0.3\n",
    "w = 1\n",
    "\n",
    "# We define the consumption function\n",
    "C = kappa+w_hat*L\n",
    "\n",
    "# We define the utility function\n",
    "V = sm.log(C**alpha*G**(1-alpha))-nu*L**2/2\n",
    "\n",
    "# At first we differentiate the utility function with respect to L and put this expression equal to zero\n",
    "L_diff = sm.diff(V,L)\n",
    "L_diff_eq = sm.Eq(L_diff,0)\n",
    "\n",
    "# We solve the equation for L and display the solution\n",
    "L_solve=sm.solve(L_diff_eq,L)[1]\n",
    "print('The optimal labor supply choice is:')\n",
    "display(L_solve)\n",
    "\n",
    "# Plugging in the baseline parameter values \n",
    "L_solve_num = sm.lambdify(args=(alpha,kappa,nu,w_hat),expr=L_solve)\n",
    "L_solve_num(0.5, 1, 1/(2*16**2), (1-tau)*w)\n",
    "\n",
    "# We also plug in the parameter values in the expression we got in the paper\n",
    "L_test = (-1+(1**2+4*0.5/(1/(2*16**2))*((1-0.3)*1)**2)**0.5)/(2*(1-0.3)*1)\n",
    "print('The numerically optimal labor supply choice is in the exam paper:')\n",
    "print(f'{L_test:.3f}')\n",
    "print('The numerically optimal labor supply choice analytically is:')\n",
    "print(f'{L_solve_num(0.5, 1, 1/(2*16**2), (1-tau)*w):.3f}')\n"
   ]
  },
  {
   "attachments": {},
   "cell_type": "markdown",
   "metadata": {},
   "source": [
    "Since the expression we get is a bit more complicated than the one we got in the paper, we will try to make it clear that it is the same expression by plugging in the baseline parameter values in both expressions. \\\n",
    "From here we can verify that the optimal labor supply choice is $L^{\\star}(\\tilde{w}) =\\frac{-\\kappa+\\sqrt{\\kappa^{2}+4\\frac{\\alpha}{\\nu}\\tilde{w}^2}}{2\\tilde{w}}$. "
   ]
  },
  {
   "attachments": {},
   "cell_type": "markdown",
   "metadata": {},
   "source": [
    "**Question 2:** Illustrate how $L^{\\star}(\\tilde{w})$ depends on $w$."
   ]
  },
  {
   "cell_type": "code",
   "execution_count": 25,
   "metadata": {},
   "outputs": [
    {
     "name": "stderr",
     "output_type": "stream",
     "text": [
      "<lambdifygenerated-1>:2: RuntimeWarning: invalid value encountered in double_scalars\n",
      "  return (1/2)*(-kappa*nu + sqrt(nu*(4*alpha*w_hat**2 + kappa**2*nu)))/(nu*w_hat)\n"
     ]
    },
    {
     "data": {
      "image/png": "[encoded data removed]",
      "text/plain": [
       "<Figure size 640x480 with 1 Axes>"
      ]
     },
     "metadata": {},
     "output_type": "display_data"
    }
   ],
   "source": [
    "# We define the range of w values\n",
    "w_values = np.linspace(0, 10, 100)  # Adjust the range and number of points as needed\n",
    "\n",
    "# We create an empty list to store the optimal labor supply choices\n",
    "L_optimal_values = []\n",
    "\n",
    "# We calculate the optimal labor supply choice for each w value\n",
    "for w_value in w_values:\n",
    "    L_optimal = L_solve_num(0.5, 1, 1/(2*16**2), (1-tau)*w_value)\n",
    "    L_optimal_values.append(L_optimal)\n",
    "\n",
    "# We plot the relationship between L* and w\n",
    "plt.plot(w_values, L_optimal_values)\n",
    "plt.xlabel('w')\n",
    "plt.ylabel('$L^*$')\n",
    "plt.title('Optimal Labor Supply')\n",
    "plt.grid(True)\n",
    "plt.show()"
   ]
  },
  {
   "attachments": {},
   "cell_type": "markdown",
   "metadata": {},
   "source": [
    "From the figure we can note that as w increases $L^*$ also increases. \\\n",
    "Even though $L^*$ increases, $L^*$ also seems to have an upper bound as the increase seems to be stagnant. "
   ]
  },
  {
   "attachments": {},
   "cell_type": "markdown",
   "metadata": {},
   "source": [
    "\n",
    "We now consider a government, who chooses $\\tau$ and spend all of the taxes on government consumption so:\n",
    "\n",
    "$$\n",
    "G = \\tau w L^{\\star}((1-\\tau)w)\n",
    "$$\n",
    "\n",
    "**Question 3:** Plot the implied $L$, $G$ and worker utility for a grid of $\\tau$-values.\n"
   ]
  },
  {
   "cell_type": "code",
   "execution_count": 26,
   "metadata": {},
   "outputs": [
    {
     "name": "stderr",
     "output_type": "stream",
     "text": [
      "/var/folders/91/ftcr9fb12pqdx9qkm1nqh3nc0000gn/T/ipykernel_9290/2916484547.py:21: RuntimeWarning: divide by zero encountered in log\n",
      "  utility = np.log((1+(1-tau)*w*L)**0.5*G**0.5)-(1/(2*16**2))*L**2/2\n"
     ]
    },
    {
     "data": {
      "image/png": "[encoded data removed]",
      "text/plain": [
       "<Figure size 1000x600 with 3 Axes>"
      ]
     },
     "metadata": {},
     "output_type": "display_data"
    }
   ],
   "source": [
    "# We define the grid of tau-values\n",
    "tau_values = np.linspace(0, 1, 100)\n",
    "\n",
    "# We create empty lists to store the values of L, G, and worker utility\n",
    "L_values = []\n",
    "G_values = []\n",
    "utility_values = []\n",
    "\n",
    "# We calculate the values of L, G, and worker utility for each tau-value\n",
    "for tau in tau_values:\n",
    "\n",
    "    # We calculate L\n",
    "    L = L_solve_num(0.5, 1, 1/(2*16**2), (1-tau) * w)\n",
    "    L_values.append(L)\n",
    "\n",
    "    # We calculate G\n",
    "    G = tau * w * L * (1-tau)*w\n",
    "    G_values.append(G)\n",
    "\n",
    "    # We calculate worker utility\n",
    "    utility = np.log((1+(1-tau)*w*L)**0.5*G**0.5)-(1/(2*16**2))*L**2/2\n",
    "    utility_values.append(utility)\n",
    "\n",
    "# We plot the values of L, G, and worker utility against tau\n",
    "plt.figure(figsize=(10, 6))\n",
    "\n",
    "plt.subplot(2, 2, 1)\n",
    "plt.plot(tau_values, L_values)\n",
    "plt.xlabel('tau')\n",
    "plt.ylabel('L')\n",
    "plt.title('Labor Supply')\n",
    "plt. grid(True)\n",
    "\n",
    "plt.subplot(2, 2, 2)\n",
    "plt.plot(tau_values, G_values)\n",
    "plt.xlabel('tau')\n",
    "plt.ylabel('G')\n",
    "plt.title('Government Consumption')\n",
    "plt.grid(True)\n",
    "\n",
    "plt.subplot(2, 2, 3)\n",
    "plt.plot(tau_values, utility_values)\n",
    "plt.xlabel('tau')\n",
    "plt.ylabel('Utility')\n",
    "plt.title('Worker Utility')\n",
    "plt.grid(True)\n",
    "\n",
    "plt.tight_layout()\n",
    "plt.show()\n"
   ]
  },
  {
   "attachments": {},
   "cell_type": "markdown",
   "metadata": {},
   "source": [
    "Here we have plotted Labor Supply, Government Consumption and worker utility for different values of $\\tau$. \\\n",
    "\n",
    "It can be noticed that as tau increases, Labor Supply decreases. \\\n",
    "The intuition behind this result is that you do not want to work if the tax rate is too high. \n",
    "\n",
    "In terms of Government Consumption, it seemes to be at its highest at a $\\tau$-value of 0.5. \\\n",
    "The intuition is ?\n",
    "\n",
    "Worker Utility starts of by increasing and as it reaches a certain point around 0.4 it starts decreasing. We will look further into that in Question 4. \\\n",
    "The intuition is kind of the same is with labor supply, but in this case there comes a point where workers get a negative utility as he tax rate gets too high. The workers do not want to work if they pay too much in tax. "
   ]
  },
  {
   "attachments": {},
   "cell_type": "markdown",
   "metadata": {},
   "source": [
    "**Question 4:** Find the socially optimal tax rate $\\tau^{\\star}\\in(0,1)$ maximizing worker utility. Illustrate your result."
   ]
  },
  {
   "cell_type": "code",
   "execution_count": 27,
   "metadata": {},
   "outputs": [
    {
     "name": "stdout",
     "output_type": "stream",
     "text": [
      "The optimal tau value is: 0.392\n"
     ]
    },
    {
     "name": "stderr",
     "output_type": "stream",
     "text": [
      "/var/folders/91/ftcr9fb12pqdx9qkm1nqh3nc0000gn/T/ipykernel_9290/1233026056.py:28: RuntimeWarning: divide by zero encountered in log\n",
      "  utility_val = np.log((1 + w_val * L_val) ** 0.5 * tau * 1 * L_val ** ((1 - tau) * 1) ** 0.5) - (1 / (2 * 16 ** 2)) * L_val ** 2 / 2\n"
     ]
    },
    {
     "data": {
      "image/png": "[encoded data removed]",
      "text/plain": [
       "<Figure size 640x480 with 1 Axes>"
      ]
     },
     "metadata": {},
     "output_type": "display_data"
    }
   ],
   "source": [
    "# We define the objective function to be maximized\n",
    "def objective_function(tau):\n",
    "    w_val = (1 - tau) * 1\n",
    "    L_val = L_solve_num(0.5, 1, 1 / (2 * 16 ** 2), w_val)\n",
    "    utility_val = np.log((1 + w_val * L_val) ** 0.5 * tau * 1 * L_val ** ((1 - tau) * 1) ** 0.5) - (1 / (2 * 16 ** 2)) * L_val ** 2 / 2\n",
    "    return -utility_val \n",
    "\n",
    "# We set the bounds for tau\n",
    "bounds = (0, 1)\n",
    "\n",
    "# We use the minimize_scalar function to find the optimal tau\n",
    "result = optimize.minimize_scalar(objective_function, bounds=bounds, method='bounded')\n",
    "\n",
    "# We extract the optimal tau value\n",
    "optimal_tau = result.x\n",
    "\n",
    "# We print the optimal tau value\n",
    "print(f'The optimal tau value is: {optimal_tau:.3f}')\n",
    "\n",
    "# We create a grid of tau values for plotting\n",
    "tau_values = np.linspace(0, 1, 100)\n",
    "\n",
    "# We calculate the corresponding worker utility values for each tau value\n",
    "utility_values = []\n",
    "for tau in tau_values:\n",
    "    w_val = (1 - tau) * 1\n",
    "    L_val = L_solve_num(0.5, 1, 1 / (2 * 16 ** 2), w_val)\n",
    "    utility_val = np.log((1 + w_val * L_val) ** 0.5 * tau * 1 * L_val ** ((1 - tau) * 1) ** 0.5) - (1 / (2 * 16 ** 2)) * L_val ** 2 / 2\n",
    "    utility_values.append(utility_val)\n",
    "\n",
    "# We plot the worker utility against tau\n",
    "plt.plot(tau_values, utility_values)\n",
    "plt.xlabel('tau')\n",
    "plt.ylabel('Utility')\n",
    "plt.title('Worker Utility')\n",
    "plt.axvline(x=optimal_tau, color='r', linestyle='--', label='Optimal tau')\n",
    "plt.legend()\n",
    "plt.show()\n"
   ]
  },
  {
   "attachments": {},
   "cell_type": "markdown",
   "metadata": {},
   "source": [
    "As seen in the figure, the socially optimal tax rate is given at $\\tau$ equal to 0.392. \\\n",
    "This is the value of $\\tau$ maximizing worker utility."
   ]
  },
  {
   "attachments": {},
   "cell_type": "markdown",
   "metadata": {},
   "source": [
    "A more general preference formulation for the worker is:\n",
    "\n",
    "$$\n",
    "\\begin{align*}\n",
    "\\mathcal{V}(w,\\tau,G)&=\\max_{L\\in[0,24]}\\frac{\\left[ \\left( \\alpha C^{\\frac{\\sigma-1}{\\sigma}}+(1-\\alpha) G^{\\frac{\\sigma-1}{\\sigma}} \\right)^{\\frac{\\sigma}{1-\\sigma} }\\right]^{1-\\rho}-1}{1-\\rho}- \\nu\\frac{L^{1+\\varepsilon}}{1+\\varepsilon},\\,\\,\\,\\varepsilon,\\rho,\\sigma>0,\\,\\,\\,\\rho,\\sigma\\neq1\\\\&\\text{s.t.}\\\\&C=\\kappa+(1-\\tau)wL\n",
    "\\end{align*}    \n",
    "$$\n",
    "\n",
    "Optimal labor supply is now $L^{\\star}(\\tilde{w},G)$."
   ]
  },
  {
   "attachments": {},
   "cell_type": "markdown",
   "metadata": {},
   "source": [
    "Questions 5 and 6 must be answered with the general formulation, and for 2 different set of parameters:\n",
    "\n",
    "- Set 1:  $\\sigma = 1.001$, $\\rho = 1.001$ and $\\varepsilon = 1.0$.\n",
    "- Set 2:  $\\sigma = 1.5$, $\\rho = 1.5$ and $\\varepsilon = 1.0 $."
   ]
  },
  {
   "attachments": {},
   "cell_type": "markdown",
   "metadata": {},
   "source": [
    "**Question 5:** Find the $G$ that solves $G = \\tau w L^{\\star}((1-\\tau)w,G)$ using the $\\tau$ found in question 4.\n",
    "\n",
    "*Hint: First write code that solves the worker problem for given values of $G$ and $\\tau$. Then find the correct G based on this.*"
   ]
  },
  {
   "cell_type": "code",
   "execution_count": 44,
   "metadata": {},
   "outputs": [
    {
     "name": "stdout",
     "output_type": "stream",
     "text": [
      "Optimal Labor Supply, L, in set 1: 15.19521083845311\n",
      "Optimal G, in set 1: 3.6215657703935604\n",
      " \n",
      "Optimal Labor Supply, L, in set 2: 12.00836109210152\n",
      "Optimal G, in set 2: 2.862024749247108\n"
     ]
    }
   ],
   "source": [
    "#Define the given parameters for set 1\n",
    "kappa = 1\n",
    "alpha = 0.5\n",
    "nu = 1 / (2 * 16 ** 2)\n",
    "w = 1\n",
    "sigma = 1.001\n",
    "rho = 1.001\n",
    "epsilon = 1\n",
    "tau = 0.392\n",
    "w_hat = (1 - tau) * w\n",
    "G = 1.5  #G has to be given intial value to optimize, so we let intial value of G be 1.5\n",
    "\n",
    "#We define the utility function for the worker\n",
    "def utility_function(L, w_hat, G):\n",
    "    C = kappa + w_hat * L\n",
    "    A = ((alpha * C ** ((sigma - 1) / sigma) + (1 - alpha) * G ** ((sigma - 1) / sigma)) ** (sigma / (sigma-1))) ** (1-rho)\n",
    "    B = (1 - rho)\n",
    "    D = nu * (L ** (1 + epsilon) / (1 + epsilon))\n",
    "    return (A - 1) / B - D\n",
    "\n",
    "\n",
    "#We now let the utility function for the worker have a negative sign since we minimize, \n",
    "#We define this new function as obj_func with only L as an args, since we only minimize with respect to L\n",
    "def obj_func(L):\n",
    "    return -utility_function(L, w_hat, G)\n",
    "\n",
    "\n",
    "#We the obj_func with respect to L within the bounds of (0,24) and let our intial guess of L be 8\n",
    "bounds = [(0, 24)]\n",
    "result = optimize.minimize(obj_func, x0=[8.0], bounds=bounds)\n",
    "optimal_L_1 = result.x[0] #We rename our result as optimal_L_1\n",
    "\n",
    "#We can now calculate the true G (the optimal G) with optimal_L_1 we finded above\n",
    "optimal_G_1 = tau * w_hat * optimal_L_1\n",
    "\n",
    "#We define the given parameters for set 2\n",
    "sigma = 1.5\n",
    "rho = 1.5\n",
    "\n",
    "#We now run our optimize code, but now for the set 2 parameters\n",
    "result2 = optimize.minimize(obj_func, x0=[8.0], bounds=bounds)\n",
    "optimal_L_2 = result2.x[0] #We rename our result as optimal_L_2\n",
    "\n",
    "#We can now calculate the true G (the optimal G) with optimal_L_2 we finded above\n",
    "optimal_G_2 = tau * w_hat * optimal_L_2\n",
    "\n",
    "#Print the results\n",
    "print(\"Optimal Labor Supply, L, in set 1:\", optimal_L_1)\n",
    "print(\"Optimal G, in set 1:\", optimal_G_1)\n",
    "print(' ')\n",
    "print(\"Optimal Labor Supply, L, in set 2:\", optimal_L_2)\n",
    "print(\"Optimal G, in set 2:\", optimal_G_2)\n",
    "\n"
   ]
  },
  {
   "attachments": {},
   "cell_type": "markdown",
   "metadata": {},
   "source": [
    "**Question 6:** Find the socially optimal tax rate, $\\tau^{\\star}$, maximizing worker utility, while keeping $G = \\tau w L^{\\star}((1-\\tau)w,G)$."
   ]
  },
  {
   "cell_type": "code",
   "execution_count": null,
   "metadata": {},
   "outputs": [],
   "source": [
    "# write your code here  "
   ]
  },
  {
   "attachments": {},
   "cell_type": "markdown",
   "metadata": {},
   "source": [
    "## 2. <a id='toc2_'></a>[Problem 2: Labor adjustment costs](#toc0_)"
   ]
  },
  {
   "attachments": {},
   "cell_type": "markdown",
   "metadata": {},
   "source": [
    "You own a hair salon. You employ hairdressers, $\\ell_t$, to produce haircuts, $y_t = \\ell_t$.\n",
    "\n",
    "The wage for each haridresser is $w$.\n",
    "\n",
    "The demand for haircuts implies that the price of haircuts you can charge is $p_t = \\kappa_t y_t^{-\\eta}$, where $\\kappa_t$ is a demand-shock and $\\eta \\in (0,1)$ measures the elasticity of demand.\n",
    "\n",
    "Profits are:\n",
    "\n",
    "$$\n",
    "\\Pi_t = p_t y_t - w \\ell_t = \\kappa_t \\ell_t^{1-\\eta} - w \\ell_t\n",
    "$$"
   ]
  },
  {
   "attachments": {},
   "cell_type": "markdown",
   "metadata": {},
   "source": [
    "Baseline parameters are:\n",
    "- $\\eta = 0.5$\n",
    "- $w = 1.0$"
   ]
  },
  {
   "attachments": {},
   "cell_type": "markdown",
   "metadata": {},
   "source": [
    "**Question 1:** Verify numerically that $\\ell_{t}=\\left(\\frac{(1-\\eta)\\kappa_{t}}{w}\\right)^{\\frac{1}{\\eta}}$ maximises profits, for $\\kappa\\in\\left\\{1.0 , 2.0\\right\\}$."
   ]
  },
  {
   "cell_type": "code",
   "execution_count": null,
   "metadata": {},
   "outputs": [],
   "source": [
    "# First we define the parameters of the model using sympy\n",
    "l_t = sm.symbols('l_t')\n",
    "y_t = sm.symbols('y_t')\n",
    "w = sm.symbols('omega')\n",
    "p_t = sm.symbols('p_t')\n",
    "k_t = sm.symbols('kappa_t')\n",
    "k = sm.symbols('kappa')\n",
    "eta = sm.symbols('eta')\n",
    "Pi_t = sm.symbols('Pi_t')\n",
    "\n",
    "# Next we define the production function, the price demand function, and the profit function\n",
    "y_t = l_t\n",
    "p_t = k_t * y_t**-eta\n",
    "Pi_t = p_t * y_t - w * l_t\n",
    "\n",
    "# Now we find the first-order condition of the profit function with respect to labor\n",
    "FOC_l = sm.solve(sm.diff(Pi_t, l_t), l_t)[0]\n",
    "print('The first-order condition with respect to labor is:')\n",
    "display(FOC_l)\n",
    "\n",
    "# Now we want to define the profit function as a Python function\n",
    "def profit_func(l_val, kappa_val, eta_val, w_val):\n",
    "    return kappa_val * l_val**(1 - eta_val) - w_val * l_val\n",
    "\n",
    "# next we define a function for the negative of the profit function in order to minimize it\n",
    "def neg_profit_func(l_val, kappa_val, eta_val, w_val):\n",
    "    return -profit_func(l_val, kappa_val, eta_val, w_val)\n",
    "\n",
    "# We set the baseline parameter values\n",
    "eta_val = 0.5\n",
    "w_val = 1.0\n",
    "\n",
    "# We set the values of kappa_t to evaluate\n",
    "kappa_values = [1.0, 2.0]\n",
    "\n",
    "# Create a loop that finds the optimal l_t and maximum profit for each value of kappa_t\n",
    "for kappa_val in kappa_values:\n",
    "    # Set the bounds for the optimization problem\n",
    "    bounds = (0, 100)  # l_t >= 0\n",
    "\n",
    "    # Find the value of l_t that maximizes profits\n",
    "    result = optimize.minimize_scalar(neg_profit_func, bounds=bounds, args=(kappa_val, eta_val, w_val), method='bounded')\n",
    "\n",
    "    # Retrieve the optimal l_t and maximum profit\n",
    "    optimal_l_t = result.x\n",
    "    max_profit = -result.fun\n",
    "\n",
    "    print(f\"Kappa = {kappa_val:.1f}: Optimal l_t = {optimal_l_t:.3f}, Maximum Profit = {max_profit:.3f}\")\n"
   ]
  },
  {
   "attachments": {},
   "cell_type": "markdown",
   "metadata": {},
   "source": [
    "We now consider a *dynamic* version of the model.\n",
    "\n",
    "* The demand-shock is a so-called AR(1) in logs, \n",
    "\n",
    "$$\n",
    "\\log \\kappa_{t} = \\rho \\log \\kappa_{t-1} + \\epsilon_{t},\\,\\,\\, \\epsilon_{t+1} \\sim \\mathcal{N}(-0.5\\sigma_{\\epsilon}^2,\\sigma_{\\epsilon})\n",
    "$$\n",
    "\n",
    "* Any hiring or firing implies a fixed adjustment cost, $\\iota > 0 $.\n",
    "* Future profits are discounted with a monthly factor of $R \\in (0,1)$.\n",
    "\n",
    "The initial demand shock is $\\kappa_{-1} = 1$ and the planning horizon is 10 years, i.e. 120 months so $t \\in \\{0,1,2,\\dots,119\\}$. Initially you don't have any employees, $\\ell_{-1}=0$"
   ]
  },
  {
   "attachments": {},
   "cell_type": "markdown",
   "metadata": {},
   "source": [
    "\n",
    "The *ex post* value of the salon is *conditional* on the shock series is:\n",
    "\n",
    "$$\n",
    "h(\\epsilon_0,\\epsilon_1,\\dots,\\epsilon_{119}) = \\left[\\sum_{t=0}^{119}R^{-t}\\left[\\kappa_{t}\\ell_{t}^{1-\\eta}-w\\ell_{t}-\\boldsymbol{1}_{\\ell_{t}\\neq\\ell_{t-1}}\\iota\\right]\\right]\n",
    "$$\n",
    "\n",
    "The *ex ante* expected value of the salon can be approximated by\n",
    "\n",
    "$$\n",
    "H = \\mathbb{E}[h(\\epsilon_0,\\epsilon_1,\\dots,\\epsilon_{119})] \\approx \\frac{1}{K}\\sum_{k=0}^{K} h(\\epsilon_0^k,\\epsilon_1^k,\\dots,\\epsilon_{119}^k)\n",
    "$$\n",
    "\n",
    "where each $k\\in\\{0,1,\\dots,K-1\\}$ is a random shock series. Maximizing profitability means maximizing $H$.\n"
   ]
  },
  {
   "attachments": {},
   "cell_type": "markdown",
   "metadata": {},
   "source": [
    "Baseline parameters are: \n",
    "\n",
    "- $\\rho = 0.90$\n",
    "- $\\iota = 0.01$\n",
    "- $\\sigma_{\\epsilon} = 0.10$\n",
    "- $R = \\left(1+0.01\\right)^{1/12}$"
   ]
  },
  {
   "attachments": {},
   "cell_type": "markdown",
   "metadata": {},
   "source": [
    "**Question 2:** Calculate $H$ if the policy  $\\ell_{t}=\\left(\\frac{(1-\\eta)\\kappa_{t}}{w}\\right)^{\\frac{1}{\\eta}}$ from question 1 is followed. Choose $K$ so the approximation is good enough to not affect your results substantially."
   ]
  },
  {
   "cell_type": "code",
   "execution_count": null,
   "metadata": {},
   "outputs": [],
   "source": [
    "# Set the baseline parameter values\n",
    "rho = 0.90\n",
    "iota = 0.01\n",
    "sigma_eps = 0.10\n",
    "R = (1 + 0.01) ** (1 / 12)\n",
    "\n",
    "# Set seed\n",
    "rng = np.random.default_rng(2023)\n",
    "\n",
    "# Define the policy function\n",
    "def policy_function(kappa_t, eta_val, w_val):\n",
    "    return ((1 - eta_val) * kappa_t / w_val) ** (1 / eta_val)\n",
    "\n",
    "# Define the ex-ante expected value function\n",
    "def ex_ante_expected_value(kappa_values, eta_val, w_val, rng):\n",
    "    l_tm1 = 0  # Initial labor input\n",
    "    ex_ante_values = []\n",
    "\n",
    "    for kappa_t in kappa_values:\n",
    "        log_kappa_t = np.zeros(120)  # Create an array to store the log kappa values\n",
    "        log_kappa_t[0] = np.log(kappa_t[0])  # Set the initial log kappa value\n",
    "\n",
    "        for t in range(1, 120):\n",
    "            epsilon_t = rng.normal(-0.5 * sigma_eps ** 2, sigma_eps)  # Generate the demand shock\n",
    "            log_kappa_t[t] = rho * log_kappa_t[t - 1] + epsilon_t  # Update log kappa_t based on AR(1) demand shock\n",
    "        \n",
    "        updated_kappa_t = np.exp(log_kappa_t)  # Convert back to the original kappa scale\n",
    "        l_values = policy_function(updated_kappa_t, eta_val, w_val)  # Calculate labor input based on policy function\n",
    "        \n",
    "        ex_ante_value = sum(R ** -t * (kappa * l_t ** (1 - eta_val) - w_val * l_t - (l_t != l_tm1) * iota) for t, (kappa, l_t, l_tm1) in enumerate(zip(updated_kappa_t, l_values, l_values[:-1])))  # Calculate ex-ante value for each period starting from t=0\n",
    "        ex_ante_values.append(ex_ante_value)\n",
    "\n",
    "    return np.mean(ex_ante_values)  # Calculate the average ex-ante value\n",
    "\n",
    "# Set the number of shock series to simulate\n",
    "K = 120 # 120 implies 1 shock series per month for 10 years\n",
    "\n",
    "# Simulate K random shock series and calculate the expected ex-ante value\n",
    "kappa_values = np.zeros((K, 120))  # Initialize kappa_values array\n",
    "kappa_values[:, 0] = np.exp(rng.normal(0, sigma_eps, size=K))  # Generate initial shock values in logs and convert back to the original kappa scale\n",
    "ex_ante_value = ex_ante_expected_value(kappa_values, eta_val, w_val, rng)\n",
    "\n",
    "print(f\"The ex ante expected value of the salon is, H = {ex_ante_value:.3f}\")\n"
   ]
  },
  {
   "attachments": {},
   "cell_type": "markdown",
   "metadata": {},
   "source": [
    "Next, we consider policies on the form:\n",
    "\n",
    "$$\n",
    "\n",
    "\\ell_{t}=\\begin{cases}\n",
    "\\ell_t^{\\ast}  & \\text{if }\\left|\\ell_{t-1}-\\ell_t^{\\ast} \\right|>\\Delta\\\\\n",
    "\\ell_{t-1} & \\text{else }\n",
    "\\end{cases}\n",
    "\\\\\n",
    "\\text{where}\\,\\,\\ell_t^{\\ast} = \\left(\\frac{(1-\\eta)\\kappa_{t}}{w}\\right)^{\\frac{1}{\\eta}} \\\\\n",
    "\n",
    "$$\n",
    "With $\\Delta \\geq 0$ and $\\Delta = 0$ being the previous policy.\n"
   ]
  },
  {
   "attachments": {},
   "cell_type": "markdown",
   "metadata": {},
   "source": [
    "\n",
    "**Question 3:** Calculate $H$ if the policy above was followed with $\\Delta = 0.05$. Does it improve profitability?"
   ]
  },
  {
   "cell_type": "code",
   "execution_count": null,
   "metadata": {},
   "outputs": [],
   "source": [
    "# Set the baseline parameter values\n",
    "rho = 0.90\n",
    "iota = 0.01\n",
    "sigma_eps = 0.10\n",
    "R = (1 + 0.01) ** (1 / 12)\n",
    "\n",
    "# Set seed\n",
    "rng = np.random.default_rng(2023)\n",
    "\n",
    "# Define the policy function\n",
    "def policy_function(log_kappa_t, eta_val, w_val, delta_val, log_l_tm1):\n",
    "    kappa_t = np.exp(log_kappa_t)  # Convert back to original kappa values\n",
    "    ell_ast = ((1 - eta_val) * kappa_t / w_val) ** (1 / eta_val)  # Calculate the optimal labor input\n",
    "    condition = np.abs(log_l_tm1 - np.log(ell_ast)) > delta_val  # Check if the absolute difference between the previous labor input and the optimal labor input is greater than delta\n",
    "    return np.where(condition, np.log(ell_ast), log_l_tm1)  # If the condition is true, return log(ell_ast), otherwise return log_l_tm1\n",
    "\n",
    "# Define the ex-ante value function\n",
    "def ex_ante_value(log_kappa_values, eta_val, w_val, delta_val, rng):\n",
    "    log_l_tm1 = 0  # Initial log labor input\n",
    "    h_values = []\n",
    "\n",
    "    for log_kappa_t in log_kappa_values:\n",
    "        demand_shocks = rng.normal(-0.5 * sigma_eps ** 2, sigma_eps, size=120)  # Generate demand shocks\n",
    "        log_l_values = [0]  # Initialize the list of log labor inputs with 0\n",
    "        for t in range(1, 121):\n",
    "            log_l_t = policy_function(log_kappa_t, eta_val, w_val, delta_val, log_l_values[t-1])  # Calculate log labor input based on policy function\n",
    "            log_l_values.append(log_l_t)\n",
    "        h_t = sum(R ** (-t) * (np.exp(log_kappa_t) * np.exp(log_l_t) ** (1 - eta_val) - w_val * np.exp(log_l_t) - (np.exp(log_l_t) != np.exp(log_l_tm1)) * iota) for t,\n",
    "                  (log_kappa_t, log_l_t, log_l_tm1) in enumerate(zip(log_kappa_values, log_l_values, [log_l_tm1] + log_l_values[:-1])))  # Calculate ex-ante value for each period starting from t=0\n",
    "        h_values.append(h_t)\n",
    "\n",
    "    return np.mean(h_values)  # Calculate the average ex-ante value\n",
    "\n",
    "# Set the number of shock series to simulate\n",
    "K = 120\n",
    "\n",
    "# Set the policy parameter values\n",
    "eta_val = 0.5\n",
    "w_val = 1.0\n",
    "delta_val = 0.05\n",
    "\n",
    "# Simulate K random shock series and calculate the expected ex-ante value\n",
    "log_kappa_values = rng.normal(0, sigma_eps, size=(K, 120))  # Generate K shock series\n",
    "H = ex_ante_value(log_kappa_values, eta_val, w_val, delta_val, rng)\n",
    "\n",
    "print(f\"The ex ante expected value of the salon is, H = {H:.3f}\")"
   ]
  },
  {
   "attachments": {},
   "cell_type": "markdown",
   "metadata": {},
   "source": [
    "**Question 4:** Find the optimal $\\Delta$ maximizing $H$. Illustrate your result."
   ]
  },
  {
   "cell_type": "code",
   "execution_count": null,
   "metadata": {},
   "outputs": [],
   "source": [
    "# Set the range of delta values to evaluate\n",
    "delta_values = np.linspace(0, 1, 100)\n",
    "\n",
    "# Calculate H for each delta value\n",
    "H_values = []\n",
    "for delta_val in delta_values:\n",
    "    H = ex_ante_value(log_kappa_values, eta_val, w_val, delta_val, rng)\n",
    "    H_values.append(H)\n",
    "\n",
    "# Find the optimal delta that maximizes H\n",
    "optimal_delta = delta_values[np.argmax(H_values)]\n",
    "max_H = np.max(H_values)\n",
    "\n",
    "# Plot the results\n",
    "plt.plot(delta_values, H_values, label='Ex-ante Value')\n",
    "plt.xlabel(\"Delta\")\n",
    "plt.ylabel(\"Ex-ante Value (H)\")\n",
    "plt.title(\"Optimal Delta for Maximizing Ex-ante Value\")\n",
    "plt.axvline(x=optimal_delta, color='r', linestyle='-', label='Optimal Delta')\n",
    "plt.legend()\n",
    "plt.grid(True)\n",
    "plt.show()\n",
    "\n",
    "print(f\"Optimal Delta = {optimal_delta:.3f}, Maximum Ex-ante Value (H) = {max_H:.3f}\")\n"
   ]
  },
  {
   "attachments": {},
   "cell_type": "markdown",
   "metadata": {},
   "source": [
    "\n",
    "**Question 5:** Suggest an alternative policy you believe might improve profitability. Implement and test your policy.\n",
    "\n"
   ]
  },
  {
   "cell_type": "code",
   "execution_count": null,
   "metadata": {},
   "outputs": [],
   "source": [
    "# For Question 5 we have set up an adaptive policy. By using an adaptive policy rule, we seek to adjust labor input based on a target\n",
    "# indicator. Our target indicator is set up as a Boolean, giving the value \"True\" if the salon wants to increase the input of labor,\n",
    "# and \"False\" if it wants to decrease labor input. By implementing this rule, the model should be more realistic in terms of labor\n",
    "# market frictions and layoffs depending on the market situation.\n",
    "\n",
    "\n",
    "# Set the baseline parameter values\n",
    "rho = 0.90\n",
    "iota = 0.01\n",
    "sigma_eps = 0.10\n",
    "R = (1 + 0.01) ** (1 / 12)\n",
    "\n",
    "# Set seed\n",
    "rng = np.random.default_rng(2023)\n",
    "\n",
    "# Define the policy function\n",
    "def policy_function(log_kappa_t, eta_val, w_val, delta_val, l_tm1):\n",
    "    ell_ast = ((1 - eta_val) * np.exp(log_kappa_t) / w_val) ** (1 / eta_val)\n",
    "    if np.abs(l_tm1 - ell_ast) > delta_val:\n",
    "        return ell_ast\n",
    "    else:\n",
    "        return l_tm1\n",
    "\n",
    "# Define the ex-ante value function\n",
    "def ex_ante_value(log_kappa_values, eta_val, w_val, delta_val, rng):\n",
    "    l_tm1 = 0  # Initial labor input\n",
    "    h_values = []\n",
    "\n",
    "    for log_kappa_t in log_kappa_values:\n",
    "        eps_values = rng.normal(-0.5 * sigma_eps ** 2, sigma_eps, size=120)  # Generate shock series\n",
    "        l_values = [policy_function(log_kappa_t[t], eta_val, w_val, delta_val, l_tm1) for t in range(120)]  # Calculate labor input based on policy function\n",
    "        l_tm1 = l_values[-1]  # Update the previous labor input for the next iteration\n",
    "        h_t = sum(R ** -t * (np.exp(log_kappa_t[t]) * l_values[t] ** (1 - eta_val) - w_val * l_values[t] - (l_values[t] != l_tm1) * iota) for t in range(120))  # Calculate ex-ante value for each period\n",
    "        h_values.append(h_t)\n",
    "\n",
    "    return np.mean(h_values)  # Calculate the average ex-ante value\n",
    "\n",
    "# Set the number of shock series to simulate\n",
    "K = 120\n",
    "\n",
    "# Set the value of delta\n",
    "delta_val = 0.05\n",
    "\n",
    "# Define the adaptive policy function\n",
    "def adaptive_policy(log_kappa_values, eta_val, w_val, rng):\n",
    "    H_values = []\n",
    "    delta_values = np.linspace(0, 1, 100) # Set the range of delta values to evaluate\n",
    "\n",
    "    for delta_val in delta_values:\n",
    "        H = ex_ante_value(log_kappa_values, eta_val, w_val, delta_val, rng) # Calculate the ex-ante value for each delta value\n",
    "        H_values.append(H) # Append the ex-ante value to the list\n",
    "\n",
    "    optimal_delta = delta_values[np.argmax(H_values)]\n",
    "    max_H = np.max(H_values)\n",
    "\n",
    "    # Plot the results\n",
    "    plt.plot(delta_values, H_values, label='Ex-ante Value')\n",
    "    plt.xlabel(\"Delta\")\n",
    "    plt.ylabel(\"Ex-ante Value (H)\")\n",
    "    plt.title(\"Optimal Delta for Maximizing Ex-ante Value\")\n",
    "    plt.axvline(x=optimal_delta, color='r', linestyle='-', label='Optimal Delta')\n",
    "    plt.grid(True)\n",
    "    plt.legend()\n",
    "    plt.show()\n",
    "\n",
    "    print(f\"Optimal Delta = {optimal_delta:.3f}, Maximum Ex-ante Value (H) = {max_H:.3f}\")\n",
    "\n",
    "# Simulate K random shock series\n",
    "log_kappa_values = rng.normal(0, sigma_eps, size=(K, 120))\n",
    "\n",
    "# Calculate the optimal delta and maximum ex-post value\n",
    "adaptive_policy(log_kappa_values, eta_val, w_val, rng)\n"
   ]
  },
  {
   "attachments": {},
   "cell_type": "markdown",
   "metadata": {},
   "source": [
    "## 3. <a id='toc3_'></a>[Problem 3: Global optimizer with refined multi-start](#toc0_)"
   ]
  },
  {
   "attachments": {},
   "cell_type": "markdown",
   "metadata": {},
   "source": [
    "We consider the Griewank function:\n",
    "\n",
    "$$ f(\\boldsymbol{x}) = \\sum^n_{i=1} \\frac{x^2_i}{4000}-\\prod^n_{i=1}\\cos\\left(\\frac{x_i}{\\sqrt{i}}\\right)+1$$\n",
    "\n",
    "The **global minimum** of this function is $f(0,0) = 0$ (remember: $\\cos(0)=1$).<br>\n",
    "But the function also have a lot of **local minima**."
   ]
  },
  {
   "cell_type": "code",
   "execution_count": null,
   "metadata": {},
   "outputs": [],
   "source": [
    "def griewank(x):\n",
    "    return griewank_(x[0],x[1])\n",
    "    \n",
    "def griewank_(x1,x2):\n",
    "    A = x1**2/4000 + x2**2/4000\n",
    "    B = np.cos(x1/np.sqrt(1))*np.cos(x2/np.sqrt(2))\n",
    "    return A-B+1"
   ]
  },
  {
   "attachments": {},
   "cell_type": "markdown",
   "metadata": {},
   "source": [
    "A **refined global optimizer with multi-start** is:\n",
    "\n",
    "1. Choose *bounds* for $\\mathbf{x}$ and *tolerance* $\\tau > 0$.\n",
    "2. Choose number of *warm-up iterations*, $\\underline{K} > 0$ and *maximum number of iterations*, $K > \\underline{K}$.\n",
    "3. In each iteration for $k \\in \\{0,1,\\dots,K-1\\}$:\n",
    "\n",
    "    A. Draw random $\\mathbf{x}^k$ uniformly within chosen bounds.\n",
    "\n",
    "    B. If $k < \\underline{K}$ go to step E.\n",
    "\n",
    "    C. Calculate $\\chi^k = 0.50\\cdot\\frac{2}{1+\\exp((k-\\underline{K})/100)}$  \n",
    "\n",
    "    D. Set $\\mathbf{x}^{k0} = \\chi^k \\mathbf{x}^k + (1-\\chi^k)\\mathbf{x}^{\\ast} $\n",
    "\n",
    "    E. Run optimizer with $\\mathbf{x}^{k0}$ as initial guess and $\\mathbf{x}^{k\\ast}$ as result.\n",
    "\n",
    "    F. Set $\\mathbf{x}^{\\ast} = \\mathbf{x}^{k\\ast}$ if $k = 0$ or $f(\\mathbf{x}^{k\\ast}) < f(\\mathbf{x}^{\\ast})$\n",
    "\n",
    "    G. If $f(\\mathbf{x}^{\\ast}) < \\tau$ go to step 4.\n",
    "\n",
    "4. Return the result $\\mathbf{x}^{\\ast}$."
   ]
  },
  {
   "attachments": {},
   "cell_type": "markdown",
   "metadata": {},
   "source": [
    "As settings we choose:\n",
    "\n",
    "* $x_1,x_2 \\in  [-600,600]$\n",
    "* $\\tau = 10^{-8}$\n",
    "* $\\underline{K}=10$\n",
    "* $K=1000$\n",
    "\n",
    "The optimizer in Step 3.E is `BFGS` with a tolerance of $\\tau$."
   ]
  },
  {
   "attachments": {},
   "cell_type": "markdown",
   "metadata": {},
   "source": [
    "**Question 1:** Implement the refined global optimizer with multi-start. Illustrate how the effective initial guesses $\\mathbf{x}^{k0}$ vary with the iteration counter $k$."
   ]
  },
  {
   "cell_type": "code",
   "execution_count": null,
   "metadata": {},
   "outputs": [],
   "source": [
    "def global_optimizer(obj_func, tau, K_warmup, K_max):\n",
    "\n",
    "    #Set the random seed to 420\n",
    "    np.random.seed(seed=420)\n",
    "\n",
    "    #Define x_star at the start to be 0\n",
    "    x_star = 0\n",
    "\n",
    "    # Define a list to store the values of x_k0, the intial guess\n",
    "    x_k0_values = []\n",
    "    \n",
    "    #Define the settings bounds for x1 and x2 \n",
    "    bounds = np.array([[-600, 600], [-600, 600]])\n",
    "\n",
    "    #Define a loop, where k goes from 0 to 499\n",
    "    for k in range(K_max):\n",
    "\n",
    "        #Step A: Make sure that x_k (x1, x2) are drawn random uniformly within the given bounds [-600, 600]\n",
    "        x_k = np.random.uniform(bounds[:, 0], bounds[:, 1])\n",
    "\n",
    "        #Step B, B_2, C, D: \n",
    "        if k < K_warmup: #Step B: Define a if-else condition, that is k lower than K_warmup(10)\n",
    "            x_k0 = x_k #Step B_2: If the condition is true, than the intial guess is the random uniformly drawn x_k \n",
    "        else:\n",
    "            chi_k = 0.5 * (2 / (1 + np.exp((k - K_warmup) / 100))) #Step C: If the condition is not true, than we calulate chi_k \n",
    "            x_k0 = chi_k * x_k + (1 - chi_k) * x_star #Step D: Further if the condition is not true, than we calulate the intial guess\n",
    "\n",
    "        #Step E: We run a optimizer, where we minimize our function by respect to x1 and x2 by using the BFGS method, the intial guess and tolerance\n",
    "        result = optimize.minimize(obj_func, x_k0, method='BFGS', tol=tau)\n",
    "\n",
    "        #Step F: We make a if-condition, so if it is the first iteration (0),\n",
    "        #or the value of our function with the current values of x1 and x2 is lower then value of our function with the previous optimal values of x1 and x2,\n",
    "        #then we let the current values of x1 and x2 be our optimal values so far\n",
    "        if k == 0 or result.fun < obj_func(x_star):\n",
    "            x_star = result.x\n",
    "\n",
    "        #We store the values of x_k0 in the list we made in the begin of the code\n",
    "        x_k0_values.append(x_k0)\n",
    "        \n",
    "        #Step G: We make a if_conditiion, so if the value of our function with the current values of x1 and x2 is lower then our tolerance level (tau),\n",
    "        #then we will break the loop and be satisfied. The current values of x1 and x2 will end up being our definitive optimal values\n",
    "        if result.fun < tau:\n",
    "            break\n",
    "\n",
    "    #We return our definitive optimal values of x1 and x2 and all the intial guess \n",
    "    return x_star, x_k0_values\n",
    "\n",
    "\n",
    "#Define rest of the settings\n",
    "tau = 1e-8\n",
    "K_warmup = 10\n",
    "K_max = 1000 \n",
    "\n",
    "#We call the global optimizer function\n",
    "best_solution, x_k0_values = global_optimizer(griewank, tau, K_warmup, K_max)\n",
    "\n",
    "#We print the results \n",
    "print(f'The optimal x1 is = {best_solution[0]:.3f}')\n",
    "print(f'The optimal x2 is = {best_solution[1]:.3f}')\n",
    "print(f'There by is the optimal f(x) = {griewank(best_solution):.3f}')\n",
    "\n",
    "#Create a list of iteration values. It goes from 0 to the length of values of x_k0 in the list, we stored in our loop (x_k0_values)\n",
    "k_values = range(len(x_k0_values))\n",
    "\n",
    "#Create a list of the x1 values in the list of x_k0 values, we stored in our loop\n",
    "x_k0_1values = [x[0] for x in x_k0_values]\n",
    "\n",
    "#Create a list of the x2 values in the list of x_k0 values, we stored in our loop\n",
    "x_k0_2values = [x[1] for x in x_k0_values]\n",
    "\n",
    "#We create a plot, that illustrate how x_k0 vary with k\n",
    "plt.plot(k_values, x_k0_1values, label='$x_1$: intial guess')\n",
    "plt.plot(k_values, x_k0_2values, label='$x_2$: intial guess')\n",
    "plt.grid(True)\n",
    "plt.legend()\n",
    "plt.xlabel('Iteration counter, k')\n",
    "plt.ylabel('Intial guess')\n",
    "plt.title('Figure A: Illustration of variation between the intial guess and iteration counter')\n",
    "plt.show()"
   ]
  },
  {
   "attachments": {},
   "cell_type": "markdown",
   "metadata": {},
   "source": [
    "By using our implemented refined global optimizer with multi-start we ended up with the optimal values of $x_1^*=x_2^*=0$ and $f(x^*)=0$. When looking at figure A we can see how intial guess vary with the iteration counter. The variation of the intial guess for both $x_1$ and $x_2$ decreases in number of the iterations, especially after the number 10 iteration, where the intial guess no longer are the randomly uniformly drawn, $x^k$. We can also see, that our implemented refined global optimizer with multi-start reachs the optimal values around number 320 of the iterations"
   ]
  },
  {
   "attachments": {},
   "cell_type": "markdown",
   "metadata": {},
   "source": [
    "**Question 2:** Is it a better idea to set $\\underline{K} = 100$? Is the convergence faster?"
   ]
  },
  {
   "cell_type": "code",
   "execution_count": null,
   "metadata": {},
   "outputs": [],
   "source": [
    "#define warm-up iteration to be 100 now\n",
    "K_warmup = 100\n",
    "\n",
    "#We call the global optimizer function\n",
    "best_solution, x_k0_values = global_optimizer(griewank, tau, K_warmup, K_max)\n",
    "\n",
    "#We print the results \n",
    "print(f'The optimal x1 is = {best_solution[0]:.3f}')\n",
    "print(f'The optimal x2 is = {best_solution[1]:.3f}')\n",
    "print(f'There by is the optimal f(x) = {griewank(best_solution):.3f}')\n",
    "\n",
    "#Create a list of iteration values. It goes from 0 to the length of values of x_k0 in the list, we stored in our loop (x_k0_values)\n",
    "k_values = range(len(x_k0_values))\n",
    "\n",
    "#Create a list of the x1 values in the list of x_k0 values, we stored in our loop\n",
    "x_k0_1values = [x[0] for x in x_k0_values]\n",
    "\n",
    "#Create a list of the x2 values in the list of x_k0 values, we stored in our loop\n",
    "x_k0_2values = [x[1] for x in x_k0_values]\n",
    "\n",
    "#We create a plot, that illustrate how x_k0 vary with k\n",
    "plt.plot(k_values, x_k0_1values, label='$x_1$: intial guess')\n",
    "plt.plot(k_values, x_k0_2values, label='$x_2$: intial guess')\n",
    "plt.grid(True)\n",
    "plt.legend()\n",
    "plt.xlabel('Iteration counter, k')\n",
    "plt.ylabel('Intial guess')\n",
    "plt.title('Figure B: Illustration of variation between the intial guess and iteration counter')\n",
    "plt.show()"
   ]
  },
  {
   "attachments": {},
   "cell_type": "markdown",
   "metadata": {},
   "source": [
    "When we set $\\underline{K} = 100$ the optimal values remain the same, $x_1^*=x_2^*=0$ and $f(x^*)=0$. We see the same trend in figure B as in figure A, when $\\underline{K} = 10$. The variation of the intial guess for both $x_1$ and $x_2$ decreases in number of the iterations, but in contrary to figure A the variation first decreases after number 100 of the iterations. This happends because the intial guess now are the randomly uniformly drawn, $x^k$, up to number 100 of the iterations instead of number 10 in figure A. We can also see in figure B, that our implemented refined global optimizer with multi-start, when $\\underline{K} = 100$, reachs the optimal values around number 460 of the iterations. We can therefore conclude thar the convergence becomes slower, when we increase the warm-up iterations, $\\underline{K}$, to 100."
   ]
  }
 ],
 "metadata": {
  "kernelspec": {
   "display_name": "base",
   "language": "python",
   "name": "python3"
  },
  "language_info": {
   "codemirror_mode": {
    "name": "ipython",
    "version": 3
   },
   "file_extension": ".py",
   "mimetype": "text/x-python",
   "name": "python",
   "nbconvert_exporter": "python",
   "pygments_lexer": "ipython3",
   "version": "3.9.13"
  },
  "orig_nbformat": 4,
  "vscode": {
   "interpreter": {
    "hash": "af1f2526e3629d58cd9c41e625886bc09b4f7d726f91454e7dad230fb7861f03"
   }
  }
 },
 "nbformat": 4,
 "nbformat_minor": 2
}
