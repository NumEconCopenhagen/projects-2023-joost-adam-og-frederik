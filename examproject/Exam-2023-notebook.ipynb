{
 "cells": [
  {
   "attachments": {},
   "cell_type": "markdown",
   "metadata": {},
   "source": [
    "**Table of contents**<a id='toc0_'></a>    \n",
    "- 1. [Problem 1: Optimal taxation with government consumption](#toc1_)    \n",
    "- 2. [Problem 2: Labor adjustment costs](#toc2_)    \n",
    "- 3. [Problem 3: Global optimizer with refined multi-start](#toc3_)    \n",
    "\n",
    "<!-- vscode-jupyter-toc-config\n",
    "\tnumbering=true\n",
    "\tanchor=true\n",
    "\tflat=false\n",
    "\tminLevel=2\n",
    "\tmaxLevel=6\n",
    "\t/vscode-jupyter-toc-config -->\n",
    "<!-- THIS CELL WILL BE REPLACED ON TOC UPDATE. DO NOT WRITE YOUR TEXT IN THIS CELL -->"
   ]
  },
  {
   "cell_type": "code",
   "execution_count": 6,
   "metadata": {},
   "outputs": [
    {
     "name": "stdout",
     "output_type": "stream",
     "text": [
      "The autoreload extension is already loaded. To reload it, use:\n",
      "  %reload_ext autoreload\n"
     ]
    }
   ],
   "source": [
    "from types import SimpleNamespace\n",
    "from scipy import optimize\n",
    "from scipy import interpolate\n",
    "import numpy as np\n",
    "import sympy as sm\n",
    "import matplotlib.pyplot as plt\n",
    "import ipywidgets as widgets\n",
    "import pandas as pd\n",
    "\n",
    "# autoreload modules when code is run\n",
    "%load_ext autoreload\n",
    "%autoreload 2"
   ]
  },
  {
   "attachments": {},
   "cell_type": "markdown",
   "metadata": {},
   "source": [
    "## 1. <a id='toc1_'></a>[Problem 1: Optimal taxation with government consumption](#toc0_)"
   ]
  },
  {
   "attachments": {},
   "cell_type": "markdown",
   "metadata": {},
   "source": [
    "\n",
    "Consider a worker choosing hours of labor, $L\\in[0,24]$, to maximize utility: \n",
    "\n",
    "$$\n",
    "\\begin{align*}\n",
    "V(w,\\tau,G)&=\\max_{L\\in[0,24]}\\ln\\left(C^{\\alpha}G^{1-\\alpha}\\right)-\\nu\\frac{L^{2}}{2}\\\\&\\text{s.t.}\\\\&C=\\kappa+(1-\\tau)wL\n",
    "\\end{align*}\n",
    "$$\n",
    "\n",
    "where \n",
    "\n",
    "* $C$ is *private* consumption with weight $\\alpha\\in(0,1)$.\n",
    "* $\\kappa > 0$ is the *free private* consumption component.\n",
    "* $(1-\\tau)wL$ is the *costly private* consumption component.\n",
    "* $w > 0 $ is the real wage.\n",
    "* $\\tau \\in (0,1)$ is the labor-income tax rate.\n",
    "* $G > 0 $ is *government* consumption with weight $1-\\alpha$.\n",
    "* $\\nu > 0$ is the disutility of labor scaling factor"
   ]
  },
  {
   "attachments": {},
   "cell_type": "markdown",
   "metadata": {},
   "source": [
    "\n",
    "The baseline parameters are:\n",
    "\n",
    "$$\n",
    "\\begin{align*}\n",
    "\\alpha &= 0.5\\\\\n",
    "\\kappa &= 1.0\\\\\n",
    "\\nu &= \\frac{1}{2\\cdot16^2} \\\\\n",
    "w &= 1.0 \\\\ \n",
    "\\tau &= 0.30 \\\\\n",
    "\\end{align*}\n",
    "$$"
   ]
  },
  {
   "attachments": {},
   "cell_type": "markdown",
   "metadata": {},
   "source": [
    "**Question 1:** Verify that the optimal labor supply choice is $L^{\\star}(\\tilde{w}) =\\frac{-\\kappa+\\sqrt{\\kappa^{2}+4\\frac{\\alpha}{\\nu}\\tilde{w}^2}}{2\\tilde{w}}$, where $\\tilde{w} = (1-\\tau)w$, for $G\\in\\left\\{1.0 , 2.0\\right\\}$."
   ]
  },
  {
   "cell_type": "code",
   "execution_count": 7,
   "metadata": {},
   "outputs": [
    {
     "name": "stdout",
     "output_type": "stream",
     "text": [
      "The optimal labor supply choice is:\n"
     ]
    },
    {
     "data": {
      "text/latex": [
       "$\\displaystyle \\frac{- \\kappa \\nu + \\sqrt{\\nu \\left(4 \\alpha w_{hat}^{2} + \\kappa^{2} \\nu\\right)}}{2 \\nu w_{hat}}$"
      ],
      "text/plain": [
       "(-kappa*nu + sqrt(nu*(4*alpha*w_hat**2 + kappa**2*nu)))/(2*nu*w_hat)"
      ]
     },
     "metadata": {},
     "output_type": "display_data"
    },
    {
     "name": "stdout",
     "output_type": "stream",
     "text": [
      "The numerically optimal labor supply choice is in the exam paper:\n",
      "15.30165022719559\n",
      "The numerically optimal labor supply choice analytically is:\n",
      "15.30165022719559\n"
     ]
    }
   ],
   "source": [
    "# We define symbols\n",
    "alpha =sm.symbols('alpha')\n",
    "kappa =sm.symbols('kappa')\n",
    "nu =sm.symbols('nu')\n",
    "w_hat =sm.symbols('w_hat')\n",
    "L=sm.symbols('L')\n",
    "G=sm.symbols('G')\n",
    "\n",
    "# We define some parameter values\n",
    "tau = 0.3\n",
    "w = 1\n",
    "\n",
    "# We define the consumption function\n",
    "C = kappa+w_hat*L\n",
    "\n",
    "# We define the utility function\n",
    "V = sm.log(C**alpha*G**(1-alpha))-nu*L**2/2\n",
    "\n",
    "# At first we differentiate the utility function with respect to L and put this expression equal to zero\n",
    "L_diff = sm.diff(V,L)\n",
    "L_diff_eq = sm.Eq(L_diff,0)\n",
    "\n",
    "# We solve the equation for L and display the solution\n",
    "L_solve=sm.solve(L_diff_eq,L)[1]\n",
    "print('The optimal labor supply choice is:')\n",
    "display(L_solve)\n",
    "\n",
    "# Since the expression we get is a bit more complicated than the one we got in the paper, we will try to make it clear that it is the same expression by plugging in the baseline parameter values\n",
    "L_solve_num = sm.lambdify(args=(alpha,kappa,nu,w_hat),expr=L_solve)\n",
    "L_solve_num(0.5, 1, 1/(2*16**2), (1-tau)*w)\n",
    "\n",
    "# We also plug in the parameter values in the expression we got in the paper\n",
    "L_test = (-1+(1**2+4*0.5/(1/(2*16**2))*((1-0.3)*1)**2)**0.5)/(2*(1-0.3)*1)\n",
    "print('The numerically optimal labor supply choice is in the exam paper:')\n",
    "print(L_test)\n",
    "print('The numerically optimal labor supply choice analytically is:')\n",
    "print(L_solve_num(0.5, 1, 1/(2*16**2), (1-tau)*w))"
   ]
  },
  {
   "attachments": {},
   "cell_type": "markdown",
   "metadata": {},
   "source": [
    "**Question 2:** Illustrate how $L^{\\star}(\\tilde{w})$ depends on $w$."
   ]
  },
  {
   "cell_type": "code",
   "execution_count": 8,
   "metadata": {},
   "outputs": [
    {
     "name": "stderr",
     "output_type": "stream",
     "text": [
      "<lambdifygenerated-2>:2: RuntimeWarning: invalid value encountered in double_scalars\n",
      "  return (1/2)*(-kappa*nu + sqrt(nu*(4*alpha*w_hat**2 + kappa**2*nu)))/(nu*w_hat)\n"
     ]
    },
    {
     "data": {
      "image/png": "[encoded data removed]",
      "text/plain": [
       "<Figure size 640x480 with 1 Axes>"
      ]
     },
     "metadata": {},
     "output_type": "display_data"
    }
   ],
   "source": [
    "#Define the range of w values\n",
    "w_values = np.linspace(0, 10, 100)  # Adjust the range and number of points as needed\n",
    "\n",
    "#Create an empty list to store the optimal labor supply choices\n",
    "L_optimal_values = []\n",
    "\n",
    "#Calculate the optimal labor supply choice for each w value\n",
    "for w_value in w_values:\n",
    "    L_optimal = L_solve_num(0.5, 1, 1/(2*16**2), (1-tau)*w_value)\n",
    "    L_optimal_values.append(L_optimal)\n",
    "\n",
    "#Plot the relationship between L* and w\n",
    "plt.plot(w_values, L_optimal_values)\n",
    "plt.xlabel('w')\n",
    "plt.ylabel('$L^*$')\n",
    "plt.title('Optimal Labor Supply')\n",
    "plt.grid(True)\n",
    "plt.show()"
   ]
  },
  {
   "attachments": {},
   "cell_type": "markdown",
   "metadata": {},
   "source": [
    "\n",
    "We now consider a government, who chooses $\\tau$ and spend all of the taxes on government consumption so:\n",
    "\n",
    "$$\n",
    "G = \\tau w L^{\\star}((1-\\tau)w)\n",
    "$$\n",
    "\n",
    "**Question 3:** Plot the implied $L$, $G$ and worker utility for a grid of $\\tau$-values.\n"
   ]
  },
  {
   "cell_type": "code",
   "execution_count": 9,
   "metadata": {},
   "outputs": [
    {
     "name": "stderr",
     "output_type": "stream",
     "text": [
      "/var/folders/qn/m3hbpy256cs_8mfcpffzgvzr0000gn/T/ipykernel_29381/1658181302.py:21: RuntimeWarning: divide by zero encountered in log\n",
      "  utility = np.log((1+(1-tau)*w*L)**0.5*G**0.5)-(1/(2*16**2))*L**2/2\n"
     ]
    },
    {
     "data": {
      "image/png": "[encoded data removed]",
      "text/plain": [
       "<Figure size 1000x600 with 3 Axes>"
      ]
     },
     "metadata": {},
     "output_type": "display_data"
    }
   ],
   "source": [
    "# We define the grid of tau-values\n",
    "tau_values = np.linspace(0, 1, 100)\n",
    "\n",
    "# We create empty lists to store the values of L, G, and worker utility\n",
    "L_values = []\n",
    "G_values = []\n",
    "utility_values = []\n",
    "\n",
    "# We calculate the values of L, G, and worker utility for each tau-value\n",
    "for tau in tau_values:\n",
    "\n",
    "    # We calculate L\n",
    "    L = L_solve_num(0.5, 1, 1/(2*16**2), (1-tau) * w)\n",
    "    L_values.append(L)\n",
    "\n",
    "    # We calculate G\n",
    "    G = tau * w * L\n",
    "    G_values.append(G)\n",
    "\n",
    "    # We calculate worker utility\n",
    "    utility = np.log((1+(1-tau)*w*L)**0.5*G**0.5)-(1/(2*16**2))*L**2/2\n",
    "    utility_values.append(utility)\n",
    "\n",
    "# We plot the values of L, G, and worker utility against tau\n",
    "plt.figure(figsize=(10, 6))\n",
    "\n",
    "plt.subplot(2, 2, 1)\n",
    "plt.plot(tau_values, L_values)\n",
    "plt.xlabel('tau')\n",
    "plt.ylabel('L')\n",
    "plt.title('Labor Supply')\n",
    "plt. grid(True)\n",
    "\n",
    "plt.subplot(2, 2, 2)\n",
    "plt.plot(tau_values, G_values)\n",
    "plt.xlabel('tau')\n",
    "plt.ylabel('G')\n",
    "plt.title('Government Consumption')\n",
    "plt.grid(True)\n",
    "\n",
    "plt.subplot(2, 2, 3)\n",
    "plt.plot(tau_values, utility_values)\n",
    "plt.xlabel('tau')\n",
    "plt.ylabel('Utility')\n",
    "plt.title('Worker Utility')\n",
    "plt.grid(True)\n",
    "\n",
    "plt.tight_layout()\n",
    "plt.show()\n"
   ]
  },
  {
   "attachments": {},
   "cell_type": "markdown",
   "metadata": {},
   "source": [
    "**Question 4:** Find the socially optimal tax rate $\\tau^{\\star}\\in(0,1)$ maximizing worker utility. Illustrate your result."
   ]
  },
  {
   "cell_type": "code",
   "execution_count": null,
   "metadata": {},
   "outputs": [],
   "source": []
  },
  {
   "attachments": {},
   "cell_type": "markdown",
   "metadata": {},
   "source": [
    "A more general preference formulation for the worker is:\n",
    "\n",
    "$$\n",
    "\\begin{align*}\n",
    "\\mathcal{V}(w,\\tau,G)&=\\max_{L\\in[0,24]}\\frac{\\left[ \\left( \\alpha C^{\\frac{\\sigma-1}{\\sigma}}+(1-\\alpha) G^{\\frac{\\sigma-1}{\\sigma}} \\right)^{\\frac{\\sigma}{1-\\sigma} }\\right]^{1-\\rho}-1}{1-\\rho}- \\nu\\frac{L^{1+\\varepsilon}}{1+\\varepsilon},\\,\\,\\,\\varepsilon,\\rho,\\sigma>0,\\,\\,\\,\\rho,\\sigma\\neq1\\\\&\\text{s.t.}\\\\&C=\\kappa+(1-\\tau)wL\n",
    "\\end{align*}    \n",
    "$$\n",
    "\n",
    "Optimal labor supply is now $L^{\\star}(\\tilde{w},G)$."
   ]
  },
  {
   "attachments": {},
   "cell_type": "markdown",
   "metadata": {},
   "source": [
    "Questions 5 and 6 must be answered with the general formulation, and for 2 different set of parameters:\n",
    "\n",
    "- Set 1:  $\\sigma = 1.001$, $\\rho = 1.001$ and $\\varepsilon = 1.0$.\n",
    "- Set 2:  $\\sigma = 1.5$, $\\rho = 1.5$ and $\\varepsilon = 1.0 $."
   ]
  },
  {
   "attachments": {},
   "cell_type": "markdown",
   "metadata": {},
   "source": [
    "**Question 5:** Find the $G$ that solves $G = \\tau w L^{\\star}((1-\\tau)w,G)$ using the $\\tau$ found in question 4.\n",
    "\n",
    "*Hint: First write code that solves the worker problem for given values of $G$ and $\\tau$. Then find the correct G based on this.*"
   ]
  },
  {
   "cell_type": "code",
   "execution_count": 10,
   "metadata": {},
   "outputs": [],
   "source": [
    "# write your code here"
   ]
  },
  {
   "attachments": {},
   "cell_type": "markdown",
   "metadata": {},
   "source": [
    "**Question 6:** Find the socially optimal tax rate, $\\tau^{\\star}$, maximizing worker utility, while keeping $G = \\tau w L^{\\star}((1-\\tau)w,G)$."
   ]
  },
  {
   "cell_type": "code",
   "execution_count": 11,
   "metadata": {},
   "outputs": [],
   "source": [
    "# write your code here  "
   ]
  },
  {
   "attachments": {},
   "cell_type": "markdown",
   "metadata": {},
   "source": [
    "## 2. <a id='toc2_'></a>[Problem 2: Labor adjustment costs](#toc0_)"
   ]
  },
  {
   "attachments": {},
   "cell_type": "markdown",
   "metadata": {},
   "source": [
    "You own a hair salon. You employ hairdressers, $\\ell_t$, to produce haircuts, $y_t = \\ell_t$.\n",
    "\n",
    "The wage for each haridresser is $w$.\n",
    "\n",
    "The demand for haircuts implies that the price of haircuts you can charge is $p_t = \\kappa_t y_t^{-\\eta}$, where $\\kappa_t$ is a demand-shock and $\\eta \\in (0,1)$ measures the elasticity of demand.\n",
    "\n",
    "Profits are:\n",
    "\n",
    "$$\n",
    "\\Pi_t = p_t y_t - w \\ell_t = \\kappa_t \\ell_t^{1-\\eta} - w \\ell_t\n",
    "$$"
   ]
  },
  {
   "attachments": {},
   "cell_type": "markdown",
   "metadata": {},
   "source": [
    "Baseline parameters are:\n",
    "- $\\eta = 0.5$\n",
    "- $w = 1.0$"
   ]
  },
  {
   "attachments": {},
   "cell_type": "markdown",
   "metadata": {},
   "source": [
    "**Question 1:** Verify numerically that $\\ell_{t}=\\left(\\frac{(1-\\eta)\\kappa_{t}}{w}\\right)^{\\frac{1}{\\eta}}$ maximises profits, for $\\kappa\\in\\left\\{1.0 , 2.0\\right\\}$."
   ]
  },
  {
   "cell_type": "code",
   "execution_count": 12,
   "metadata": {},
   "outputs": [
    {
     "name": "stdout",
     "output_type": "stream",
     "text": [
      "The first-order condition with respect to labor is:\n",
      "(kappa_t*(1 - eta)/omega)**(1/eta)\n",
      "Kappa = 1.0: Optimal l_t = 0.250, Maximum Profit = 0.250\n",
      "Kappa = 2.0: Optimal l_t = 1.000, Maximum Profit = 1.000\n"
     ]
    }
   ],
   "source": [
    "# First we define the parameters of the model using sympy\n",
    "l_t = sm.symbols('l_t')\n",
    "y_t = sm.symbols('y_t')\n",
    "w = sm.symbols('omega')\n",
    "p_t = sm.symbols('p_t')\n",
    "k_t = sm.symbols('kappa_t')\n",
    "k = sm.symbols('kappa')\n",
    "eta = sm.symbols('eta')\n",
    "Pi_t = sm.symbols('Pi_t')\n",
    "\n",
    "# Next we define the production function, the price demand function, and the profit function\n",
    "y_t = l_t\n",
    "p_t = k_t * y_t**-eta\n",
    "Pi_t = p_t * y_t - w * l_t\n",
    "\n",
    "# Now we find the first-order condition of the profit function with respect to labor\n",
    "FOC_l = sm.solve(sm.diff(Pi_t, l_t), l_t)[0]\n",
    "print('The first-order condition with respect to labor is:')\n",
    "print(FOC_l)\n",
    "\n",
    "# Now we want to define the profit function as a Python function\n",
    "def profit_func(l_val, kappa_val, eta_val, w_val):\n",
    "    return kappa_val * l_val**(1 - eta_val) - w_val * l_val\n",
    "\n",
    "# next we define a function for the negative of the profit function in order to minimize it\n",
    "def neg_profit_func(l_val, kappa_val, eta_val, w_val):\n",
    "    return -profit_func(l_val, kappa_val, eta_val, w_val)\n",
    "\n",
    "# We set the baseline parameter values\n",
    "eta_val = 0.5\n",
    "w_val = 1.0\n",
    "\n",
    "# We set the values of kappa_t to evaluate\n",
    "kappa_values = [1.0, 2.0]\n",
    "\n",
    "# Create a loop that finds the optimal l_t and maximum profit for each value of kappa_t\n",
    "for kappa_val in kappa_values:\n",
    "    # Set the bounds for the optimization problem\n",
    "    bounds = (0, 100)  # l_t >= 0\n",
    "\n",
    "    # Find the value of l_t that maximizes profits\n",
    "    result = optimize.minimize_scalar(neg_profit_func, bounds=bounds, args=(kappa_val, eta_val, w_val), method='bounded')\n",
    "\n",
    "    # Retrieve the optimal l_t and maximum profit\n",
    "    optimal_l_t = result.x\n",
    "    max_profit = -result.fun\n",
    "\n",
    "    print(f\"Kappa = {kappa_val:.1f}: Optimal l_t = {optimal_l_t:.3f}, Maximum Profit = {max_profit:.3f}\")\n"
   ]
  },
  {
   "attachments": {},
   "cell_type": "markdown",
   "metadata": {},
   "source": [
    "We now consider a *dynamic* version of the model.\n",
    "\n",
    "* The demand-shock is a so-called AR(1) in logs, \n",
    "\n",
    "$$\n",
    "\\log \\kappa_{t} = \\rho \\log \\kappa_{t-1} + \\epsilon_{t},\\,\\,\\, \\epsilon_{t+1} \\sim \\mathcal{N}(-0.5\\sigma_{\\epsilon}^2,\\sigma_{\\epsilon})\n",
    "$$\n",
    "\n",
    "* Any hiring or firing implies a fixed adjustment cost, $\\iota > 0 $.\n",
    "* Future profits are discounted with a monthly factor of $R \\in (0,1)$.\n",
    "\n",
    "The initial demand shock is $\\kappa_{-1} = 1$ and the planning horizon is 10 years, i.e. 120 months so $t \\in \\{0,1,2,\\dots,119\\}$. Initially you don't have any employees, $\\ell_{-1}=0$"
   ]
  },
  {
   "attachments": {},
   "cell_type": "markdown",
   "metadata": {},
   "source": [
    "\n",
    "The *ex post* value of the salon is *conditional* on the shock series is:\n",
    "\n",
    "$$\n",
    "h(\\epsilon_0,\\epsilon_1,\\dots,\\epsilon_{119}) = \\left[\\sum_{t=0}^{119}R^{-t}\\left[\\kappa_{t}\\ell_{t}^{1-\\eta}-w\\ell_{t}-\\boldsymbol{1}_{\\ell_{t}\\neq\\ell_{t-1}}\\iota\\right]\\right]\n",
    "$$\n",
    "\n",
    "The *ex ante* expected value of the salon can be approximated by\n",
    "\n",
    "$$\n",
    "H = \\mathbb{E}[h(\\epsilon_0,\\epsilon_1,\\dots,\\epsilon_{119})] \\approx \\frac{1}{K}\\sum_{k=0}^{K} h(\\epsilon_0^k,\\epsilon_1^k,\\dots,\\epsilon_{119}^k)\n",
    "$$\n",
    "\n",
    "where each $k\\in\\{0,1,\\dots,K-1\\}$ is a random shock series. Maximizing profitability means maximizing $H$.\n"
   ]
  },
  {
   "attachments": {},
   "cell_type": "markdown",
   "metadata": {},
   "source": [
    "Baseline parameters are: \n",
    "\n",
    "- $\\rho = 0.90$\n",
    "- $\\iota = 0.01$\n",
    "- $\\sigma_{\\epsilon} = 0.10$\n",
    "- $R = \\left(1+0.01\\right)^{1/12}$"
   ]
  },
  {
   "attachments": {},
   "cell_type": "markdown",
   "metadata": {},
   "source": [
    "**Question 2:** Calculate $H$ if the policy  $\\ell_{t}=\\left(\\frac{(1-\\eta)\\kappa_{t}}{w}\\right)^{\\frac{1}{\\eta}}$ from question 1 is followed. Choose $K$ so the approximation is good enough to not affect your results substantially."
   ]
  },
  {
   "cell_type": "code",
   "execution_count": 13,
   "metadata": {},
   "outputs": [
    {
     "name": "stdout",
     "output_type": "stream",
     "text": [
      "The ex ante expected value of the salon is, H = -1.4081\n"
     ]
    }
   ],
   "source": [
    "# Set the baseline parameter values\n",
    "rho = 0.90\n",
    "iota = 0.01\n",
    "sigma_eps = 0.10\n",
    "R = (1 + 0.01) ** (1 / 12)\n",
    "\n",
    "# Define the policy function\n",
    "def policy_function(kappa_t, eta_val, w_val):\n",
    "    return ((1 - eta_val) * kappa_t / w_val) ** (1 / eta_val)\n",
    "\n",
    "# Define the ex-post value function\n",
    "def ex_post_value(kappa_values, eta_val, w_val, rng):\n",
    "    l_tm1 = 0  # Initial labor input\n",
    "    h_values = []\n",
    "\n",
    "    for kappa_t in kappa_values:\n",
    "        eps_values = rng.normal(-0.5 * sigma_eps ** 2, sigma_eps, size=120)  # Generate shock series\n",
    "        l_values = policy_function(kappa_t, eta_val, w_val)  # Calculate labor input based on policy function\n",
    "        h_t = sum(R ** -(t+1) * (kappa_t * l_t ** (1 - eta_val) - w_val * l_t - (l_t != l_tm1) * iota) for t, (kappa_t, l_t, l_tm1) in enumerate(zip(kappa_values[1:], l_values[1:], l_values[:-1])))  # Calculate ex-post value for each period starting from t=1\n",
    "        h_values.append(h_t)\n",
    "\n",
    "    return np.mean(h_values)  # Calculate the average ex-post value\n",
    "\n",
    "# Set the number of shock series to simulate\n",
    "K = 1000  # Adjust this value if needed to ensure a good approximation\n",
    "\n",
    "# Simulate K random shock series and calculate the expected ex-post value\n",
    "rng = np.random.default_rng()\n",
    "kappa_values = rng.normal(0, sigma_eps, size=(K, 120))  # Generate K shock series\n",
    "H = ex_post_value(kappa_values, eta_val, w_val, rng)\n",
    "\n",
    "print(f\"The ex ante expected value of the salon is, H = {H:.4f}\")\n"
   ]
  },
  {
   "attachments": {},
   "cell_type": "markdown",
   "metadata": {},
   "source": [
    "Next, we consider policies on the form:\n",
    "\n",
    "$$\n",
    "\n",
    "\\ell_{t}=\\begin{cases}\n",
    "\\ell_t^{\\ast}  & \\text{if }\\left|\\ell_{t-1}-\\ell_t^{\\ast} \\right|>\\Delta\\\\\n",
    "\\ell_{t-1} & \\text{else }\n",
    "\\end{cases}\n",
    "\\\\\n",
    "\\text{where}\\,\\,\\ell_t^{\\ast} = \\left(\\frac{(1-\\eta)\\kappa_{t}}{w}\\right)^{\\frac{1}{\\eta}} \\\\\n",
    "\n",
    "$$\n",
    "With $\\Delta \\geq 0$ and $\\Delta = 0$ being the previous policy.\n"
   ]
  },
  {
   "attachments": {},
   "cell_type": "markdown",
   "metadata": {},
   "source": [
    "\n",
    "**Question 3:** Calculate $H$ if the policy above was followed with $\\Delta = 0.05$. Does it improve profitability?"
   ]
  },
  {
   "cell_type": "code",
   "execution_count": 14,
   "metadata": {},
   "outputs": [
    {
     "name": "stdout",
     "output_type": "stream",
     "text": [
      "H = -0.0001\n"
     ]
    }
   ],
   "source": [
    "# Set the baseline parameter values\n",
    "rho = 0.90\n",
    "iota = 0.01\n",
    "sigma_eps = 0.10\n",
    "R = (1 + 0.01) ** (1 / 12)\n",
    "\n",
    "# Define the policy function\n",
    "def policy_function(kappa_t, eta_val, w_val, delta_val, l_tm1):\n",
    "    ell_ast = ((1 - eta_val) * kappa_t / w_val) ** (1 / eta_val)\n",
    "    if abs(l_tm1 - ell_ast) > delta_val:\n",
    "        return ell_ast\n",
    "    else:\n",
    "        return l_tm1\n",
    "\n",
    "# Define the ex-post value function\n",
    "def ex_post_value(kappa_values, eta_val, w_val, delta_val, rng):\n",
    "    l_tm1 = 0  # Initial labor input\n",
    "    h_values = []\n",
    "\n",
    "    for kappa_t in kappa_values:\n",
    "        eps_values = rng.normal(-0.5 * sigma_eps ** 2, sigma_eps, size=120)  # Generate shock series\n",
    "        l_values = [policy_function(kappa_t[t], eta_val, w_val, delta_val, l_tm1) for t in range(120)]  # Calculate labor input based on policy function\n",
    "        l_values = np.array(l_values)  # Convert l_values to a NumPy array\n",
    "        h_t = sum(R ** -t * (kappa_t[t] * l_values[t] ** (1 - eta_val) - w_val * l_values[t] - (l_values[t] != l_values[t-1]) * iota) for t in range(120))  # Calculate ex-post value for each period\n",
    "        h_values.append(h_t)\n",
    "\n",
    "    return np.mean(h_values)  # Calculate the average ex-post value\n",
    "\n",
    "# Set the number of shock series to simulate\n",
    "K = 1000\n",
    "\n",
    "# Set the value of delta\n",
    "delta_val = 0.05\n",
    "\n",
    "# Simulate K random shock series and calculate the expected ex-post value\n",
    "rng = np.random.default_rng()\n",
    "kappa_values = rng.normal(0, sigma_eps, size=(K, 120))  # Generate K shock series\n",
    "H = ex_post_value(kappa_values, eta_val, w_val, delta_val, rng)\n",
    "\n",
    "print(f\"H = {H:.4f}\")\n"
   ]
  },
  {
   "attachments": {},
   "cell_type": "markdown",
   "metadata": {},
   "source": [
    "**Question 4:** Find the optimal $\\Delta$ maximizing $H$. Illustrate your result."
   ]
  },
  {
   "cell_type": "code",
   "execution_count": 15,
   "metadata": {},
   "outputs": [
    {
     "data": {
      "image/png": "[encoded data removed]",
      "text/plain": [
       "<Figure size 640x480 with 1 Axes>"
      ]
     },
     "metadata": {},
     "output_type": "display_data"
    },
    {
     "name": "stdout",
     "output_type": "stream",
     "text": [
      "Optimal Delta = 0.0612, Maximum Ex-post Value (H) = 0.0000\n"
     ]
    }
   ],
   "source": [
    "# Set the range of delta values to evaluate\n",
    "delta_values = np.linspace(0, 0.2, 50)\n",
    "\n",
    "# Calculate H for each delta value\n",
    "H_values = []\n",
    "for delta_val in delta_values:\n",
    "    H = ex_post_value(kappa_values, eta_val, w_val, delta_val, rng)\n",
    "    H_values.append(H)\n",
    "\n",
    "# Find the optimal delta that maximizes H\n",
    "optimal_delta = delta_values[np.argmax(H_values)]\n",
    "max_H = np.max(H_values)\n",
    "\n",
    "# Plot the results\n",
    "plt.plot(delta_values, H_values, label='Ex-post Value')\n",
    "plt.xlabel(\"Delta\")\n",
    "plt.ylabel(\"Ex-post Value (H)\")\n",
    "plt.title(\"Optimal Delta for Maximizing Ex-post Value\")\n",
    "plt.axvline(x=optimal_delta, color='r', linestyle='-', label='Optimal Delta')\n",
    "plt.legend()\n",
    "plt.grid(True)\n",
    "plt.show()\n",
    "\n",
    "print(f\"Optimal Delta = {optimal_delta:.4f}, Maximum Ex-post Value (H) = {max_H:.4f}\")\n"
   ]
  },
  {
   "attachments": {},
   "cell_type": "markdown",
   "metadata": {},
   "source": [
    "\n",
    "**Question 5:** Suggest an alternative policy you believe might improve profitability. Implement and test your policy.\n",
    "\n"
   ]
  },
  {
   "cell_type": "code",
   "execution_count": 16,
   "metadata": {},
   "outputs": [],
   "source": [
    "# write your code here"
   ]
  },
  {
   "attachments": {},
   "cell_type": "markdown",
   "metadata": {},
   "source": [
    "## 3. <a id='toc3_'></a>[Problem 3: Global optimizer with refined multi-start](#toc0_)"
   ]
  },
  {
   "attachments": {},
   "cell_type": "markdown",
   "metadata": {},
   "source": [
    "We consider the Griewank function:\n",
    "\n",
    "$$ f(\\boldsymbol{x}) = \\sum^n_{i=1} \\frac{x^2_i}{4000}-\\prod^n_{i=1}\\cos\\left(\\frac{x_i}{\\sqrt{i}}\\right)+1$$\n",
    "\n",
    "The **global minimum** of this function is $f(0,0) = 0$ (remember: $\\cos(0)=1$).<br>\n",
    "But the function also have a lot of **local minima**."
   ]
  },
  {
   "cell_type": "code",
   "execution_count": 17,
   "metadata": {},
   "outputs": [],
   "source": [
    "def griewank(x):\n",
    "    return griewank_(x[0],x[1])\n",
    "    \n",
    "def griewank_(x1,x2):\n",
    "    A = x1**2/4000 + x2**2/4000\n",
    "    B = np.cos(x1/np.sqrt(1))*np.cos(x2/np.sqrt(2))\n",
    "    return A-B+1"
   ]
  },
  {
   "attachments": {},
   "cell_type": "markdown",
   "metadata": {},
   "source": [
    "A **refined global optimizer with multi-start** is:\n",
    "\n",
    "1. Choose *bounds* for $\\mathbf{x}$ and *tolerance* $\\tau > 0$.\n",
    "2. Choose number of *warm-up iterations*, $\\underline{K} > 0$ and *maximum number of iterations*, $K > \\underline{K}$.\n",
    "3. In each iteration for $k \\in \\{0,1,\\dots,K-1\\}$:\n",
    "\n",
    "    A. Draw random $\\mathbf{x}^k$ uniformly within chosen bounds.\n",
    "\n",
    "    B. If $k < \\underline{K}$ go to step E.\n",
    "\n",
    "    C. Calculate $\\chi^k = 0.50\\cdot\\frac{2}{1+\\exp((k-\\underline{K})/100)}$  \n",
    "\n",
    "    D. Set $\\mathbf{x}^{k0} = \\chi^k \\mathbf{x}^k + (1-\\chi^k)\\mathbf{x}^{\\ast} $\n",
    "\n",
    "    E. Run optimizer with $\\mathbf{x}^{k0}$ as initial guess and $\\mathbf{x}^{k\\ast}$ as result.\n",
    "\n",
    "    F. Set $\\mathbf{x}^{\\ast} = \\mathbf{x}^{k\\ast}$ if $k = 0$ or $f(\\mathbf{x}^{k\\ast}) < f(\\mathbf{x}^{\\ast})$\n",
    "\n",
    "    G. If $f(\\mathbf{x}^{\\ast}) < \\tau$ go to step 4.\n",
    "\n",
    "4. Return the result $\\mathbf{x}^{\\ast}$."
   ]
  },
  {
   "attachments": {},
   "cell_type": "markdown",
   "metadata": {},
   "source": [
    "As settings we choose:\n",
    "\n",
    "* $x_1,x_2 \\in  [-600,600]$\n",
    "* $\\tau = 10^{-8}$\n",
    "* $\\underline{K}=10$\n",
    "* $K=1000$\n",
    "\n",
    "The optimizer in Step 3.E is `BFGS` with a tolerance of $\\tau$."
   ]
  },
  {
   "attachments": {},
   "cell_type": "markdown",
   "metadata": {},
   "source": [
    "**Question 1:** Implement the refined global optimizer with multi-start. Illustrate how the effective initial guesses $\\mathbf{x}^{k0}$ vary with the iteration counter $k$."
   ]
  },
  {
   "cell_type": "code",
   "execution_count": 18,
   "metadata": {},
   "outputs": [
    {
     "name": "stdout",
     "output_type": "stream",
     "text": [
      "x_1 is: -3.618982089520095e-09\n",
      "x_1 is: -1.2674041779975534e-08\n",
      "Best Value: 0.0\n"
     ]
    },
    {
     "ename": "NameError",
     "evalue": "name 'ss_k_FF' is not defined",
     "output_type": "error",
     "traceback": [
      "\u001b[0;31m---------------------------------------------------------------------------\u001b[0m",
      "\u001b[0;31mNameError\u001b[0m                                 Traceback (most recent call last)",
      "\u001b[0;32m/var/folders/qn/m3hbpy256cs_8mfcpffzgvzr0000gn/T/ipykernel_29381/3700350302.py\u001b[0m in \u001b[0;36m<module>\u001b[0;34m\u001b[0m\n\u001b[1;32m     42\u001b[0m \u001b[0mprint\u001b[0m\u001b[0;34m(\u001b[0m\u001b[0;34m\"x_1 is:\"\u001b[0m\u001b[0;34m,\u001b[0m \u001b[0mbest_solution\u001b[0m\u001b[0;34m[\u001b[0m\u001b[0;36m1\u001b[0m\u001b[0;34m]\u001b[0m\u001b[0;34m)\u001b[0m\u001b[0;34m\u001b[0m\u001b[0;34m\u001b[0m\u001b[0m\n\u001b[1;32m     43\u001b[0m \u001b[0mprint\u001b[0m\u001b[0;34m(\u001b[0m\u001b[0;34m\"Best Value:\"\u001b[0m\u001b[0;34m,\u001b[0m \u001b[0mgriewank\u001b[0m\u001b[0;34m(\u001b[0m\u001b[0mbest_solution\u001b[0m\u001b[0;34m)\u001b[0m\u001b[0;34m)\u001b[0m\u001b[0;34m\u001b[0m\u001b[0;34m\u001b[0m\u001b[0m\n\u001b[0;32m---> 44\u001b[0;31m \u001b[0mprint\u001b[0m\u001b[0;34m(\u001b[0m\u001b[0;34mf'steady state in the FF system = {ss_k_FF:.3f}'\u001b[0m\u001b[0;34m)\u001b[0m\u001b[0;34m\u001b[0m\u001b[0;34m\u001b[0m\u001b[0m\n\u001b[0m",
      "\u001b[0;31mNameError\u001b[0m: name 'ss_k_FF' is not defined"
     ]
    }
   ],
   "source": [
    "def global_optimizer(obj_func, tau, K_warmup, K_max):\n",
    "\n",
    "    #Define x_star at the start to be 0\n",
    "    x_star = 0\n",
    "\n",
    "    #Define the settings bounds for x1 and x2 \n",
    "    bounds = np.array([[-600, 600], [-600, 600]])\n",
    "\n",
    "    #Define a loop, where k goes from 0 to 499\n",
    "    for k in range(K_max):\n",
    "\n",
    "        #Step A: x_k (x1, x2) are drawn random uniformly within the given bounds [-600, 600]\n",
    "        x_k = np.random.uniform(bounds[:, 0], bounds[:, 1])\n",
    "\n",
    "        #Step B, C, D & E: \n",
    "        if k < K_warmup: #If k is lower than \n",
    "            x_k0 = x_k\n",
    "        else:\n",
    "            chi_k = 0.5 * (2 / (1 + np.exp((k - K_warmup) / 100)))\n",
    "            x_k0 = chi_k * x_k + (1 - chi_k) * x_star\n",
    "\n",
    "        result = optimize.minimize(obj_func, x_k0, method='BFGS', tol=tau)\n",
    "\n",
    "        if k == 0 or result.fun < obj_func(x_star):\n",
    "            x_star = result.x\n",
    "\n",
    "        if result.fun < tau:\n",
    "            break\n",
    "                \n",
    "    return x_star\n",
    "\n",
    "\n",
    "#Define rest of the settings\n",
    "tau = 1e-8\n",
    "K_warmup = 10\n",
    "K_max = 1000 \n",
    "\n",
    "# Call the global optimizer function\n",
    "best_solution = global_optimizer(griewank, tau, K_warmup, K_max)\n",
    "\n",
    "print(\"x_1 is:\", best_solution[0])\n",
    "print(\"x_1 is:\", best_solution[1])\n",
    "print(\"Best Value:\", griewank(best_solution))\n",
    "print(f'steady state in the FF system = {ss_k_FF:.3f}')"
   ]
  },
  {
   "attachments": {},
   "cell_type": "markdown",
   "metadata": {},
   "source": [
    "**Question 2:** Is it a better idea to set $\\underline{K} = 100$? Is the convergence faster?"
   ]
  }
 ],
 "metadata": {
  "kernelspec": {
   "display_name": "base",
   "language": "python",
   "name": "python3"
  },
  "language_info": {
   "codemirror_mode": {
    "name": "ipython",
    "version": 3
   },
   "file_extension": ".py",
   "mimetype": "text/x-python",
   "name": "python",
   "nbconvert_exporter": "python",
   "pygments_lexer": "ipython3",
   "version": "3.9.13"
  },
  "orig_nbformat": 4,
  "vscode": {
   "interpreter": {
    "hash": "bf9ec1e79c80caa0642abbab8a4c5603f6d3099ed0ddfbaecc490b9c20566038"
   }
  }
 },
 "nbformat": 4,
 "nbformat_minor": 2
}
